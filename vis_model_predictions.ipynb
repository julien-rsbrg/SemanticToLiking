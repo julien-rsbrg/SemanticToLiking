{
 "cells": [
  {
   "cell_type": "code",
   "execution_count": 1,
   "id": "434dabe8",
   "metadata": {},
   "outputs": [],
   "source": [
    "import os\n",
    "import matplotlib.pyplot\n",
    "import seaborn as sns\n",
    "import plotly.graph_objects as go\n",
    "import numpy as np\n",
    "import pandas as pd\n",
    "\n",
    "import statsmodels.formula.api as smf\n",
    "\n",
    "import sklearn \n",
    "from sklearn.cluster import KMeans\n",
    "import matplotlib.pyplot as plt"
   ]
  },
  {
   "cell_type": "markdown",
   "id": "40099c64",
   "metadata": {},
   "source": [
    "# See pred"
   ]
  },
  {
   "cell_type": "code",
   "execution_count": 2,
   "id": "37363767",
   "metadata": {},
   "outputs": [
    {
     "data": {
      "text/plain": [
       "['study_2025-05-16_1NN_mean',\n",
       " '2025-06-25_07-58__GAT_liking_sim_amp_3NN_3ExpNN_no_val_bias-False_att-liking-True_amp-liking-True',\n",
       " 'study_2025-05-29_GAT_liking_3NN',\n",
       " '2025-06-23_00-58__GAT_liking_sim_amp_3NN_3ExpNN',\n",
       " '2025-06-25_05-01__GAT_liking_sim_amp_3NN_3ExpNN_no_val_bias-False_att-liking-False_amp-liking-False',\n",
       " '2025-06-25_02-17__GAT_liking_sim_amp_3NN_3ExpNN_no_val_bias-True_att-liking-True_amp-liking-False',\n",
       " '2025-06-07_15-31__GAT_LR-1.0_bias-True_att-liking-True_amp-liking-True_diss-liking-False_liking2d-False',\n",
       " '2025-06-06_09-29__GAT_LR-1.0_bias-False_att-liking-True_amp-liking-False_diss-liking-False_liking2d-False',\n",
       " '2025-06-06_08-32__GAT_LR-1.0_bias-False_att-liking-False_amp-liking-False_diss-liking-False_liking2d-False',\n",
       " '2025-06-07_11-12__GAT_LR-1.0_bias-True_att-liking-False_amp-liking-False_diss-liking-False_liking2d-False',\n",
       " 'study_2025-05-29_baseline_randn01',\n",
       " '2025-06-07_12-35__GAT_LR-1.0_bias-False_att-liking-False_amp-liking-False_diss-liking-True_liking2d-False',\n",
       " '2025-06-07_00-12__GAT_LR-1.0_bias-False_att-liking-True_amp-liking-True_diss-liking-False_liking2d-False',\n",
       " 'study_2025-05-16_2NN_mean',\n",
       " '2025-06-23_23-21__GAT_liking_sim_amp_3NN_3ExpNN_no_val',\n",
       " '2025-06-25_03-29__GAT_liking_sim_amp_3NN_3ExpNN_no_val_bias-False_att-liking-True_amp-liking-False',\n",
       " '2025-06-07_16-51__GAT_LR-1.0_bias-False_att-liking-True_amp-liking-False_diss-liking-True_liking2d-False',\n",
       " '2025-06-07_08-00__GAT_LR-1.0_bias-True_att-liking-False_amp-liking-True_diss-liking-True_liking2d-False',\n",
       " 'study_2025-05-29_baseline_mean',\n",
       " 'study_2025-05-16_4NN_mean',\n",
       " '2025-06-06_22-09__GAT_LR-1.0_bias-False_att-liking-False_amp-liking-True_diss-liking-True_liking2d-False',\n",
       " '2025-06-25_06-09__GAT_liking_sim_amp_3NN_3ExpNN_no_val_bias-True_att-liking-False_amp-liking-False',\n",
       " '2025-06-25_07-05__GAT_liking_sim_amp_3NN_3ExpNN_no_val_bias-False_att-liking-False_amp-liking-True',\n",
       " '2025-06-07_09-33__GAT_LR-1.0_bias-False_att-liking-True_amp-liking-True_diss-liking-True_liking2d-False',\n",
       " '2025-06-07_01-50__GAT_LR-1.0_bias-True_att-liking-True_amp-liking-True_diss-liking-True_liking2d-False',\n",
       " '2025-06-25_01-10__GAT_liking_sim_amp_3NN_3ExpNN_no_val_bias-True_att-liking-False_amp-liking-True',\n",
       " 'study_2025-05-29_GAT_liking_bias',\n",
       " '2025-06-07_06-06__GAT_LR-1.0_bias-True_att-liking-True_amp-liking-False_diss-liking-True_liking2d-False',\n",
       " 'study_2025-05-16_6NN_mean',\n",
       " '2025-06-07_03-09__GAT_LR-1.0_bias-True_att-liking-False_amp-liking-False_diss-liking-True_liking2d-False',\n",
       " 'study_2025-05-16_3NN_mean',\n",
       " '2025-06-07_13-35__GAT_LR-1.0_bias-False_att-liking-False_amp-liking-True_diss-liking-False_liking2d-False',\n",
       " '2025-06-07_04-34__GAT_LR-1.0_bias-True_att-liking-False_amp-liking-True_diss-liking-False_liking2d-False',\n",
       " 'study_2025-05-16_5NN_mean',\n",
       " '2025-06-06_20-24__GAT_LR-1.0_bias-True_att-liking-True_amp-liking-False_diss-liking-False_liking2d-False']"
      ]
     },
     "execution_count": 2,
     "metadata": {},
     "output_type": "execute_result"
    }
   ],
   "source": [
    "model_names = os.listdir(\"experiments_results/3-fold_cross_validation\")\n",
    "model_names"
   ]
  },
  {
   "cell_type": "code",
   "execution_count": 19,
   "id": "39a15dd1",
   "metadata": {},
   "outputs": [
    {
     "data": {
      "text/html": [
       "<div>\n",
       "<style scoped>\n",
       "    .dataframe tbody tr th:only-of-type {\n",
       "        vertical-align: middle;\n",
       "    }\n",
       "\n",
       "    .dataframe tbody tr th {\n",
       "        vertical-align: top;\n",
       "    }\n",
       "\n",
       "    .dataframe thead th {\n",
       "        text-align: right;\n",
       "    }\n",
       "</style>\n",
       "<table border=\"1\" class=\"dataframe\">\n",
       "  <thead>\n",
       "    <tr style=\"text-align: right;\">\n",
       "      <th></th>\n",
       "      <th>src_content_0</th>\n",
       "      <th>att_src_edge_0</th>\n",
       "      <th>src_edge_0</th>\n",
       "      <th>full_src_edge_0</th>\n",
       "      <th>dst_content_0</th>\n",
       "      <th>att_dst_edge_0</th>\n",
       "      <th>dst_edge_0</th>\n",
       "      <th>full_dst_edge_0</th>\n",
       "      <th>att_edge_0</th>\n",
       "      <th>edge_0</th>\n",
       "      <th>full_edge_0</th>\n",
       "      <th>bias_0</th>\n",
       "    </tr>\n",
       "  </thead>\n",
       "  <tbody>\n",
       "    <tr>\n",
       "      <th>0</th>\n",
       "      <td>-0.417033</td>\n",
       "      <td>1.0</td>\n",
       "      <td>NaN</td>\n",
       "      <td>NaN</td>\n",
       "      <td>NaN</td>\n",
       "      <td>1.0</td>\n",
       "      <td>NaN</td>\n",
       "      <td>NaN</td>\n",
       "      <td>1.0</td>\n",
       "      <td>0.207396</td>\n",
       "      <td>0.207396</td>\n",
       "      <td>NaN</td>\n",
       "    </tr>\n",
       "  </tbody>\n",
       "</table>\n",
       "</div>"
      ],
      "text/plain": [
       "   src_content_0  att_src_edge_0  src_edge_0  full_src_edge_0  dst_content_0  \\\n",
       "0      -0.417033             1.0         NaN              NaN            NaN   \n",
       "\n",
       "   att_dst_edge_0  dst_edge_0  full_dst_edge_0  att_edge_0    edge_0  \\\n",
       "0             1.0         NaN              NaN         1.0  0.207396   \n",
       "\n",
       "   full_edge_0  bias_0  \n",
       "0     0.207396     NaN  "
      ]
     },
     "execution_count": 19,
     "metadata": {},
     "output_type": "execute_result"
    }
   ],
   "source": [
    "pd.read_csv(\"experiments_results/3-fold_cross_validation/2025-06-25_07-05__GAT_liking_sim_amp_3NN_3ExpNN_no_val_bias-False_att-liking-False_amp-liking-True/raw/participant_15/graph_0/model_params_trained.csv\",index_col=0)"
   ]
  },
  {
   "cell_type": "code",
   "execution_count": 20,
   "id": "1562bf66",
   "metadata": {},
   "outputs": [
    {
     "name": "stdout",
     "output_type": "stream",
     "text": [
      "experiments_results/3-fold_cross_validation/2025-06-25_07-05__GAT_liking_sim_amp_3NN_3ExpNN_no_val_bias-False_att-liking-False_amp-liking-True/raw/participant_17/graph_0/prediction_table.csv\n"
     ]
    },
    {
     "data": {
      "text/html": [
       "<div>\n",
       "<style scoped>\n",
       "    .dataframe tbody tr th:only-of-type {\n",
       "        vertical-align: middle;\n",
       "    }\n",
       "\n",
       "    .dataframe tbody tr th {\n",
       "        vertical-align: top;\n",
       "    }\n",
       "\n",
       "    .dataframe thead th {\n",
       "        text-align: right;\n",
       "    }\n",
       "</style>\n",
       "<table border=\"1\" class=\"dataframe\">\n",
       "  <thead>\n",
       "    <tr style=\"text-align: right;\">\n",
       "      <th></th>\n",
       "      <th>pred_values</th>\n",
       "      <th>true_values</th>\n",
       "      <th>train_mask</th>\n",
       "      <th>val_mask</th>\n",
       "    </tr>\n",
       "  </thead>\n",
       "  <tbody>\n",
       "    <tr>\n",
       "      <th>0</th>\n",
       "      <td>0.121002</td>\n",
       "      <td>0.121002</td>\n",
       "      <td>False</td>\n",
       "      <td>False</td>\n",
       "    </tr>\n",
       "    <tr>\n",
       "      <th>1</th>\n",
       "      <td>-0.151253</td>\n",
       "      <td>-0.151253</td>\n",
       "      <td>False</td>\n",
       "      <td>False</td>\n",
       "    </tr>\n",
       "    <tr>\n",
       "      <th>2</th>\n",
       "      <td>-0.605011</td>\n",
       "      <td>-0.605011</td>\n",
       "      <td>False</td>\n",
       "      <td>False</td>\n",
       "    </tr>\n",
       "    <tr>\n",
       "      <th>3</th>\n",
       "      <td>-0.574760</td>\n",
       "      <td>-0.574760</td>\n",
       "      <td>False</td>\n",
       "      <td>False</td>\n",
       "    </tr>\n",
       "    <tr>\n",
       "      <th>4</th>\n",
       "      <td>-0.877266</td>\n",
       "      <td>-0.877266</td>\n",
       "      <td>False</td>\n",
       "      <td>False</td>\n",
       "    </tr>\n",
       "  </tbody>\n",
       "</table>\n",
       "</div>"
      ],
      "text/plain": [
       "   pred_values  true_values  train_mask  val_mask\n",
       "0     0.121002     0.121002       False     False\n",
       "1    -0.151253    -0.151253       False     False\n",
       "2    -0.605011    -0.605011       False     False\n",
       "3    -0.574760    -0.574760       False     False\n",
       "4    -0.877266    -0.877266       False     False"
      ]
     },
     "execution_count": 20,
     "metadata": {},
     "output_type": "execute_result"
    }
   ],
   "source": [
    "model_name = \"2025-06-25_07-05__GAT_liking_sim_amp_3NN_3ExpNN_no_val_bias-False_att-liking-False_amp-liking-True\"\n",
    "# model_name = \"2025-06-23_00-58__GAT_liking_sim_amp_3NN_3ExpNN\"\n",
    "participant_id = 17\n",
    "graph_id = 0\n",
    "raw_folder_path = os.path.join(\"experiments_results/3-fold_cross_validation\",model_name,\"raw\")\n",
    "pred_table_path = os.path.join(raw_folder_path,f\"participant_{participant_id}\",f\"graph_{graph_id}\",\"prediction_table.csv\")\n",
    "print(pred_table_path)\n",
    "\n",
    "pred_table = pd.read_csv(pred_table_path,index_col = 0)\n",
    "pred_table.head()"
   ]
  },
  {
   "cell_type": "code",
   "execution_count": 21,
   "id": "3344b4e1",
   "metadata": {},
   "outputs": [
    {
     "data": {
      "application/vnd.plotly.v1+json": {
       "config": {
        "plotlyServerURL": "https://plot.ly"
       },
       "data": [
        {
         "mode": "lines",
         "name": "truth",
         "type": "scatter",
         "x": [
          -0.87726575,
          -0.36300653
         ],
         "y": [
          -0.87726575,
          -0.36300653
         ]
        },
        {
         "mode": "markers",
         "name": "training",
         "type": "scatter",
         "x": [
          -0.4840087,
          -0.87726575,
          -0.36300653,
          -0.54450977,
          -0.45375815
         ],
         "y": [
          -0.40191296,
          -0.15633102,
          -0.59830064,
          -0.10073431,
          -0.47597295
         ]
        },
        {
         "mode": "markers",
         "name": "validation",
         "type": "scatter",
         "x": [],
         "y": []
        }
       ],
       "layout": {
        "template": {
         "data": {
          "bar": [
           {
            "error_x": {
             "color": "#2a3f5f"
            },
            "error_y": {
             "color": "#2a3f5f"
            },
            "marker": {
             "line": {
              "color": "#E5ECF6",
              "width": 0.5
             },
             "pattern": {
              "fillmode": "overlay",
              "size": 10,
              "solidity": 0.2
             }
            },
            "type": "bar"
           }
          ],
          "barpolar": [
           {
            "marker": {
             "line": {
              "color": "#E5ECF6",
              "width": 0.5
             },
             "pattern": {
              "fillmode": "overlay",
              "size": 10,
              "solidity": 0.2
             }
            },
            "type": "barpolar"
           }
          ],
          "carpet": [
           {
            "aaxis": {
             "endlinecolor": "#2a3f5f",
             "gridcolor": "white",
             "linecolor": "white",
             "minorgridcolor": "white",
             "startlinecolor": "#2a3f5f"
            },
            "baxis": {
             "endlinecolor": "#2a3f5f",
             "gridcolor": "white",
             "linecolor": "white",
             "minorgridcolor": "white",
             "startlinecolor": "#2a3f5f"
            },
            "type": "carpet"
           }
          ],
          "choropleth": [
           {
            "colorbar": {
             "outlinewidth": 0,
             "ticks": ""
            },
            "type": "choropleth"
           }
          ],
          "contour": [
           {
            "colorbar": {
             "outlinewidth": 0,
             "ticks": ""
            },
            "colorscale": [
             [
              0,
              "#0d0887"
             ],
             [
              0.1111111111111111,
              "#46039f"
             ],
             [
              0.2222222222222222,
              "#7201a8"
             ],
             [
              0.3333333333333333,
              "#9c179e"
             ],
             [
              0.4444444444444444,
              "#bd3786"
             ],
             [
              0.5555555555555556,
              "#d8576b"
             ],
             [
              0.6666666666666666,
              "#ed7953"
             ],
             [
              0.7777777777777778,
              "#fb9f3a"
             ],
             [
              0.8888888888888888,
              "#fdca26"
             ],
             [
              1,
              "#f0f921"
             ]
            ],
            "type": "contour"
           }
          ],
          "contourcarpet": [
           {
            "colorbar": {
             "outlinewidth": 0,
             "ticks": ""
            },
            "type": "contourcarpet"
           }
          ],
          "heatmap": [
           {
            "colorbar": {
             "outlinewidth": 0,
             "ticks": ""
            },
            "colorscale": [
             [
              0,
              "#0d0887"
             ],
             [
              0.1111111111111111,
              "#46039f"
             ],
             [
              0.2222222222222222,
              "#7201a8"
             ],
             [
              0.3333333333333333,
              "#9c179e"
             ],
             [
              0.4444444444444444,
              "#bd3786"
             ],
             [
              0.5555555555555556,
              "#d8576b"
             ],
             [
              0.6666666666666666,
              "#ed7953"
             ],
             [
              0.7777777777777778,
              "#fb9f3a"
             ],
             [
              0.8888888888888888,
              "#fdca26"
             ],
             [
              1,
              "#f0f921"
             ]
            ],
            "type": "heatmap"
           }
          ],
          "heatmapgl": [
           {
            "colorbar": {
             "outlinewidth": 0,
             "ticks": ""
            },
            "colorscale": [
             [
              0,
              "#0d0887"
             ],
             [
              0.1111111111111111,
              "#46039f"
             ],
             [
              0.2222222222222222,
              "#7201a8"
             ],
             [
              0.3333333333333333,
              "#9c179e"
             ],
             [
              0.4444444444444444,
              "#bd3786"
             ],
             [
              0.5555555555555556,
              "#d8576b"
             ],
             [
              0.6666666666666666,
              "#ed7953"
             ],
             [
              0.7777777777777778,
              "#fb9f3a"
             ],
             [
              0.8888888888888888,
              "#fdca26"
             ],
             [
              1,
              "#f0f921"
             ]
            ],
            "type": "heatmapgl"
           }
          ],
          "histogram": [
           {
            "marker": {
             "pattern": {
              "fillmode": "overlay",
              "size": 10,
              "solidity": 0.2
             }
            },
            "type": "histogram"
           }
          ],
          "histogram2d": [
           {
            "colorbar": {
             "outlinewidth": 0,
             "ticks": ""
            },
            "colorscale": [
             [
              0,
              "#0d0887"
             ],
             [
              0.1111111111111111,
              "#46039f"
             ],
             [
              0.2222222222222222,
              "#7201a8"
             ],
             [
              0.3333333333333333,
              "#9c179e"
             ],
             [
              0.4444444444444444,
              "#bd3786"
             ],
             [
              0.5555555555555556,
              "#d8576b"
             ],
             [
              0.6666666666666666,
              "#ed7953"
             ],
             [
              0.7777777777777778,
              "#fb9f3a"
             ],
             [
              0.8888888888888888,
              "#fdca26"
             ],
             [
              1,
              "#f0f921"
             ]
            ],
            "type": "histogram2d"
           }
          ],
          "histogram2dcontour": [
           {
            "colorbar": {
             "outlinewidth": 0,
             "ticks": ""
            },
            "colorscale": [
             [
              0,
              "#0d0887"
             ],
             [
              0.1111111111111111,
              "#46039f"
             ],
             [
              0.2222222222222222,
              "#7201a8"
             ],
             [
              0.3333333333333333,
              "#9c179e"
             ],
             [
              0.4444444444444444,
              "#bd3786"
             ],
             [
              0.5555555555555556,
              "#d8576b"
             ],
             [
              0.6666666666666666,
              "#ed7953"
             ],
             [
              0.7777777777777778,
              "#fb9f3a"
             ],
             [
              0.8888888888888888,
              "#fdca26"
             ],
             [
              1,
              "#f0f921"
             ]
            ],
            "type": "histogram2dcontour"
           }
          ],
          "mesh3d": [
           {
            "colorbar": {
             "outlinewidth": 0,
             "ticks": ""
            },
            "type": "mesh3d"
           }
          ],
          "parcoords": [
           {
            "line": {
             "colorbar": {
              "outlinewidth": 0,
              "ticks": ""
             }
            },
            "type": "parcoords"
           }
          ],
          "pie": [
           {
            "automargin": true,
            "type": "pie"
           }
          ],
          "scatter": [
           {
            "fillpattern": {
             "fillmode": "overlay",
             "size": 10,
             "solidity": 0.2
            },
            "type": "scatter"
           }
          ],
          "scatter3d": [
           {
            "line": {
             "colorbar": {
              "outlinewidth": 0,
              "ticks": ""
             }
            },
            "marker": {
             "colorbar": {
              "outlinewidth": 0,
              "ticks": ""
             }
            },
            "type": "scatter3d"
           }
          ],
          "scattercarpet": [
           {
            "marker": {
             "colorbar": {
              "outlinewidth": 0,
              "ticks": ""
             }
            },
            "type": "scattercarpet"
           }
          ],
          "scattergeo": [
           {
            "marker": {
             "colorbar": {
              "outlinewidth": 0,
              "ticks": ""
             }
            },
            "type": "scattergeo"
           }
          ],
          "scattergl": [
           {
            "marker": {
             "colorbar": {
              "outlinewidth": 0,
              "ticks": ""
             }
            },
            "type": "scattergl"
           }
          ],
          "scattermapbox": [
           {
            "marker": {
             "colorbar": {
              "outlinewidth": 0,
              "ticks": ""
             }
            },
            "type": "scattermapbox"
           }
          ],
          "scatterpolar": [
           {
            "marker": {
             "colorbar": {
              "outlinewidth": 0,
              "ticks": ""
             }
            },
            "type": "scatterpolar"
           }
          ],
          "scatterpolargl": [
           {
            "marker": {
             "colorbar": {
              "outlinewidth": 0,
              "ticks": ""
             }
            },
            "type": "scatterpolargl"
           }
          ],
          "scatterternary": [
           {
            "marker": {
             "colorbar": {
              "outlinewidth": 0,
              "ticks": ""
             }
            },
            "type": "scatterternary"
           }
          ],
          "surface": [
           {
            "colorbar": {
             "outlinewidth": 0,
             "ticks": ""
            },
            "colorscale": [
             [
              0,
              "#0d0887"
             ],
             [
              0.1111111111111111,
              "#46039f"
             ],
             [
              0.2222222222222222,
              "#7201a8"
             ],
             [
              0.3333333333333333,
              "#9c179e"
             ],
             [
              0.4444444444444444,
              "#bd3786"
             ],
             [
              0.5555555555555556,
              "#d8576b"
             ],
             [
              0.6666666666666666,
              "#ed7953"
             ],
             [
              0.7777777777777778,
              "#fb9f3a"
             ],
             [
              0.8888888888888888,
              "#fdca26"
             ],
             [
              1,
              "#f0f921"
             ]
            ],
            "type": "surface"
           }
          ],
          "table": [
           {
            "cells": {
             "fill": {
              "color": "#EBF0F8"
             },
             "line": {
              "color": "white"
             }
            },
            "header": {
             "fill": {
              "color": "#C8D4E3"
             },
             "line": {
              "color": "white"
             }
            },
            "type": "table"
           }
          ]
         },
         "layout": {
          "annotationdefaults": {
           "arrowcolor": "#2a3f5f",
           "arrowhead": 0,
           "arrowwidth": 1
          },
          "autotypenumbers": "strict",
          "coloraxis": {
           "colorbar": {
            "outlinewidth": 0,
            "ticks": ""
           }
          },
          "colorscale": {
           "diverging": [
            [
             0,
             "#8e0152"
            ],
            [
             0.1,
             "#c51b7d"
            ],
            [
             0.2,
             "#de77ae"
            ],
            [
             0.3,
             "#f1b6da"
            ],
            [
             0.4,
             "#fde0ef"
            ],
            [
             0.5,
             "#f7f7f7"
            ],
            [
             0.6,
             "#e6f5d0"
            ],
            [
             0.7,
             "#b8e186"
            ],
            [
             0.8,
             "#7fbc41"
            ],
            [
             0.9,
             "#4d9221"
            ],
            [
             1,
             "#276419"
            ]
           ],
           "sequential": [
            [
             0,
             "#0d0887"
            ],
            [
             0.1111111111111111,
             "#46039f"
            ],
            [
             0.2222222222222222,
             "#7201a8"
            ],
            [
             0.3333333333333333,
             "#9c179e"
            ],
            [
             0.4444444444444444,
             "#bd3786"
            ],
            [
             0.5555555555555556,
             "#d8576b"
            ],
            [
             0.6666666666666666,
             "#ed7953"
            ],
            [
             0.7777777777777778,
             "#fb9f3a"
            ],
            [
             0.8888888888888888,
             "#fdca26"
            ],
            [
             1,
             "#f0f921"
            ]
           ],
           "sequentialminus": [
            [
             0,
             "#0d0887"
            ],
            [
             0.1111111111111111,
             "#46039f"
            ],
            [
             0.2222222222222222,
             "#7201a8"
            ],
            [
             0.3333333333333333,
             "#9c179e"
            ],
            [
             0.4444444444444444,
             "#bd3786"
            ],
            [
             0.5555555555555556,
             "#d8576b"
            ],
            [
             0.6666666666666666,
             "#ed7953"
            ],
            [
             0.7777777777777778,
             "#fb9f3a"
            ],
            [
             0.8888888888888888,
             "#fdca26"
            ],
            [
             1,
             "#f0f921"
            ]
           ]
          },
          "colorway": [
           "#636efa",
           "#EF553B",
           "#00cc96",
           "#ab63fa",
           "#FFA15A",
           "#19d3f3",
           "#FF6692",
           "#B6E880",
           "#FF97FF",
           "#FECB52"
          ],
          "font": {
           "color": "#2a3f5f"
          },
          "geo": {
           "bgcolor": "white",
           "lakecolor": "white",
           "landcolor": "#E5ECF6",
           "showlakes": true,
           "showland": true,
           "subunitcolor": "white"
          },
          "hoverlabel": {
           "align": "left"
          },
          "hovermode": "closest",
          "mapbox": {
           "style": "light"
          },
          "paper_bgcolor": "white",
          "plot_bgcolor": "#E5ECF6",
          "polar": {
           "angularaxis": {
            "gridcolor": "white",
            "linecolor": "white",
            "ticks": ""
           },
           "bgcolor": "#E5ECF6",
           "radialaxis": {
            "gridcolor": "white",
            "linecolor": "white",
            "ticks": ""
           }
          },
          "scene": {
           "xaxis": {
            "backgroundcolor": "#E5ECF6",
            "gridcolor": "white",
            "gridwidth": 2,
            "linecolor": "white",
            "showbackground": true,
            "ticks": "",
            "zerolinecolor": "white"
           },
           "yaxis": {
            "backgroundcolor": "#E5ECF6",
            "gridcolor": "white",
            "gridwidth": 2,
            "linecolor": "white",
            "showbackground": true,
            "ticks": "",
            "zerolinecolor": "white"
           },
           "zaxis": {
            "backgroundcolor": "#E5ECF6",
            "gridcolor": "white",
            "gridwidth": 2,
            "linecolor": "white",
            "showbackground": true,
            "ticks": "",
            "zerolinecolor": "white"
           }
          },
          "shapedefaults": {
           "line": {
            "color": "#2a3f5f"
           }
          },
          "ternary": {
           "aaxis": {
            "gridcolor": "white",
            "linecolor": "white",
            "ticks": ""
           },
           "baxis": {
            "gridcolor": "white",
            "linecolor": "white",
            "ticks": ""
           },
           "bgcolor": "#E5ECF6",
           "caxis": {
            "gridcolor": "white",
            "linecolor": "white",
            "ticks": ""
           }
          },
          "title": {
           "x": 0.05
          },
          "xaxis": {
           "automargin": true,
           "gridcolor": "white",
           "linecolor": "white",
           "ticks": "",
           "title": {
            "standoff": 15
           },
           "zerolinecolor": "white",
           "zerolinewidth": 2
          },
          "yaxis": {
           "automargin": true,
           "gridcolor": "white",
           "linecolor": "white",
           "ticks": "",
           "title": {
            "standoff": 15
           },
           "zerolinecolor": "white",
           "zerolinewidth": 2
          }
         }
        }
       }
      }
     },
     "metadata": {},
     "output_type": "display_data"
    }
   ],
   "source": [
    "fig = go.Figure()\n",
    "\n",
    "fig.add_trace(\n",
    "    go.Scatter(x = [pred_table[pred_table[\"train_mask\"]+pred_table[\"val_mask\"]][\"true_values\"].min(),pred_table[pred_table[\"train_mask\"]+pred_table[\"val_mask\"]][\"true_values\"].max()],\n",
    "               y = [pred_table[pred_table[\"train_mask\"]+pred_table[\"val_mask\"]][\"true_values\"].min(),pred_table[pred_table[\"train_mask\"]+pred_table[\"val_mask\"]][\"true_values\"].max()],\n",
    "               name = \"truth\",\n",
    "               mode = \"lines\")\n",
    ")\n",
    "\n",
    "fig.add_trace(\n",
    "    go.Scatter(x = pred_table[pred_table[\"train_mask\"]][\"true_values\"],\n",
    "               y = pred_table[pred_table[\"train_mask\"]][\"pred_values\"],\n",
    "               name = \"training\",\n",
    "               mode = \"markers\")\n",
    ")\n",
    "\n",
    "fig.add_trace(\n",
    "    go.Scatter(x = pred_table[pred_table[\"val_mask\"]][\"true_values\"],\n",
    "               y = pred_table[pred_table[\"val_mask\"]][\"pred_values\"],\n",
    "               name = \"validation\",\n",
    "               mode = \"markers\")\n",
    ")\n",
    "\n",
    "\n",
    "\n",
    "fig"
   ]
  },
  {
   "cell_type": "code",
   "execution_count": 22,
   "id": "9695a3a5",
   "metadata": {},
   "outputs": [
    {
     "data": {
      "text/plain": [
       "(nan, nan)"
      ]
     },
     "execution_count": 22,
     "metadata": {},
     "output_type": "execute_result"
    }
   ],
   "source": [
    "pred_table[pred_table[\"val_mask\"]][\"pred_values\"].std(), pred_table[pred_table[\"val_mask\"]][\"true_values\"].std()"
   ]
  },
  {
   "cell_type": "markdown",
   "id": "04f423ed",
   "metadata": {},
   "source": [
    "# History"
   ]
  },
  {
   "cell_type": "code",
   "execution_count": 23,
   "id": "2b40aca6",
   "metadata": {},
   "outputs": [
    {
     "name": "stdout",
     "output_type": "stream",
     "text": [
      "5 0\n"
     ]
    },
    {
     "data": {
      "image/png": "[encoded data removed]",
      "text/plain": [
       "<Figure size 640x480 with 1 Axes>"
      ]
     },
     "metadata": {},
     "output_type": "display_data"
    }
   ],
   "source": [
    "history_path = os.path.join(raw_folder_path,f\"participant_{29}\",f\"graph_{graph_id}\",\"history.csv\")\n",
    "history = pd.read_csv(history_path,index_col = 0)\n",
    "history\n",
    "\n",
    "plt.plot([float(x[len(\"tensor(\"):-1]) for x in history[\"train_mae\"]])\n",
    "plt.plot([float(x[len(\"tensor(\"):-1]) for x in history[\"val_mae\"]])\n",
    "\n",
    "print(pred_table[\"train_mask\"].sum(),pred_table[\"val_mask\"].sum())"
   ]
  },
  {
   "cell_type": "markdown",
   "id": "d44792ca",
   "metadata": {},
   "source": [
    "# Clustering for depression"
   ]
  },
  {
   "cell_type": "code",
   "execution_count": 25,
   "id": "7dea6055",
   "metadata": {},
   "outputs": [
    {
     "name": "stdout",
     "output_type": "stream",
     "text": [
      "experiments_results/3-fold_cross_validation/2025-06-25_07-05__GAT_liking_sim_amp_3NN_3ExpNN_no_val_bias-False_att-liking-False_amp-liking-True/processed/overall_summaries.csv\n"
     ]
    },
    {
     "data": {
      "text/html": [
       "<div>\n",
       "<style scoped>\n",
       "    .dataframe tbody tr th:only-of-type {\n",
       "        vertical-align: middle;\n",
       "    }\n",
       "\n",
       "    .dataframe tbody tr th {\n",
       "        vertical-align: top;\n",
       "    }\n",
       "\n",
       "    .dataframe thead th {\n",
       "        text-align: right;\n",
       "    }\n",
       "</style>\n",
       "<table border=\"1\" class=\"dataframe\">\n",
       "  <thead>\n",
       "    <tr style=\"text-align: right;\">\n",
       "      <th></th>\n",
       "      <th>model.device</th>\n",
       "      <th>model.update_node_module.name</th>\n",
       "      <th>model.update_node_module.parameters.add_self_loops</th>\n",
       "      <th>model.update_node_module.parameters.bias</th>\n",
       "      <th>model.update_node_module.parameters.concat</th>\n",
       "      <th>model.update_node_module.parameters.dropout</th>\n",
       "      <th>model.update_node_module.parameters.dst_content_mask.0</th>\n",
       "      <th>model.update_node_module.parameters.dst_content_require_grad</th>\n",
       "      <th>model.update_node_module.parameters.dst_content_weight_initializer</th>\n",
       "      <th>model.update_node_module.parameters.dst_edge_mask.0</th>\n",
       "      <th>...</th>\n",
       "      <th>src_edge_0_trained</th>\n",
       "      <th>full_src_edge_0_trained</th>\n",
       "      <th>dst_content_0_trained</th>\n",
       "      <th>att_dst_edge_0_trained</th>\n",
       "      <th>dst_edge_0_trained</th>\n",
       "      <th>full_dst_edge_0_trained</th>\n",
       "      <th>att_edge_0_trained</th>\n",
       "      <th>edge_0_trained</th>\n",
       "      <th>full_edge_0_trained</th>\n",
       "      <th>bias_0_trained</th>\n",
       "    </tr>\n",
       "  </thead>\n",
       "  <tbody>\n",
       "    <tr>\n",
       "      <th>0</th>\n",
       "      <td>cuda</td>\n",
       "      <td>MyGATConv</td>\n",
       "      <td>False</td>\n",
       "      <td>False</td>\n",
       "      <td>True</td>\n",
       "      <td>0.0</td>\n",
       "      <td>False</td>\n",
       "      <td>True</td>\n",
       "      <td>glorot</td>\n",
       "      <td>False</td>\n",
       "      <td>...</td>\n",
       "      <td>NaN</td>\n",
       "      <td>NaN</td>\n",
       "      <td>NaN</td>\n",
       "      <td>1.0</td>\n",
       "      <td>NaN</td>\n",
       "      <td>NaN</td>\n",
       "      <td>1.0</td>\n",
       "      <td>0.294976</td>\n",
       "      <td>0.294976</td>\n",
       "      <td>NaN</td>\n",
       "    </tr>\n",
       "    <tr>\n",
       "      <th>1</th>\n",
       "      <td>cuda</td>\n",
       "      <td>MyGATConv</td>\n",
       "      <td>False</td>\n",
       "      <td>False</td>\n",
       "      <td>True</td>\n",
       "      <td>0.0</td>\n",
       "      <td>False</td>\n",
       "      <td>True</td>\n",
       "      <td>glorot</td>\n",
       "      <td>False</td>\n",
       "      <td>...</td>\n",
       "      <td>NaN</td>\n",
       "      <td>NaN</td>\n",
       "      <td>NaN</td>\n",
       "      <td>1.0</td>\n",
       "      <td>NaN</td>\n",
       "      <td>NaN</td>\n",
       "      <td>1.0</td>\n",
       "      <td>-2.086369</td>\n",
       "      <td>-2.086369</td>\n",
       "      <td>NaN</td>\n",
       "    </tr>\n",
       "    <tr>\n",
       "      <th>2</th>\n",
       "      <td>cuda</td>\n",
       "      <td>MyGATConv</td>\n",
       "      <td>False</td>\n",
       "      <td>False</td>\n",
       "      <td>True</td>\n",
       "      <td>0.0</td>\n",
       "      <td>False</td>\n",
       "      <td>True</td>\n",
       "      <td>glorot</td>\n",
       "      <td>False</td>\n",
       "      <td>...</td>\n",
       "      <td>NaN</td>\n",
       "      <td>NaN</td>\n",
       "      <td>NaN</td>\n",
       "      <td>1.0</td>\n",
       "      <td>NaN</td>\n",
       "      <td>NaN</td>\n",
       "      <td>1.0</td>\n",
       "      <td>0.643253</td>\n",
       "      <td>0.643253</td>\n",
       "      <td>NaN</td>\n",
       "    </tr>\n",
       "    <tr>\n",
       "      <th>3</th>\n",
       "      <td>cuda</td>\n",
       "      <td>MyGATConv</td>\n",
       "      <td>False</td>\n",
       "      <td>False</td>\n",
       "      <td>True</td>\n",
       "      <td>0.0</td>\n",
       "      <td>False</td>\n",
       "      <td>True</td>\n",
       "      <td>glorot</td>\n",
       "      <td>False</td>\n",
       "      <td>...</td>\n",
       "      <td>NaN</td>\n",
       "      <td>NaN</td>\n",
       "      <td>NaN</td>\n",
       "      <td>1.0</td>\n",
       "      <td>NaN</td>\n",
       "      <td>NaN</td>\n",
       "      <td>1.0</td>\n",
       "      <td>0.789400</td>\n",
       "      <td>0.789400</td>\n",
       "      <td>NaN</td>\n",
       "    </tr>\n",
       "    <tr>\n",
       "      <th>4</th>\n",
       "      <td>cuda</td>\n",
       "      <td>MyGATConv</td>\n",
       "      <td>False</td>\n",
       "      <td>False</td>\n",
       "      <td>True</td>\n",
       "      <td>0.0</td>\n",
       "      <td>False</td>\n",
       "      <td>True</td>\n",
       "      <td>glorot</td>\n",
       "      <td>False</td>\n",
       "      <td>...</td>\n",
       "      <td>NaN</td>\n",
       "      <td>NaN</td>\n",
       "      <td>NaN</td>\n",
       "      <td>1.0</td>\n",
       "      <td>NaN</td>\n",
       "      <td>NaN</td>\n",
       "      <td>1.0</td>\n",
       "      <td>-1.509002</td>\n",
       "      <td>-1.509002</td>\n",
       "      <td>NaN</td>\n",
       "    </tr>\n",
       "  </tbody>\n",
       "</table>\n",
       "<p>5 rows × 119 columns</p>\n",
       "</div>"
      ],
      "text/plain": [
       "  model.device model.update_node_module.name  \\\n",
       "0         cuda                     MyGATConv   \n",
       "1         cuda                     MyGATConv   \n",
       "2         cuda                     MyGATConv   \n",
       "3         cuda                     MyGATConv   \n",
       "4         cuda                     MyGATConv   \n",
       "\n",
       "   model.update_node_module.parameters.add_self_loops  \\\n",
       "0                                              False    \n",
       "1                                              False    \n",
       "2                                              False    \n",
       "3                                              False    \n",
       "4                                              False    \n",
       "\n",
       "   model.update_node_module.parameters.bias  \\\n",
       "0                                     False   \n",
       "1                                     False   \n",
       "2                                     False   \n",
       "3                                     False   \n",
       "4                                     False   \n",
       "\n",
       "   model.update_node_module.parameters.concat  \\\n",
       "0                                        True   \n",
       "1                                        True   \n",
       "2                                        True   \n",
       "3                                        True   \n",
       "4                                        True   \n",
       "\n",
       "   model.update_node_module.parameters.dropout  \\\n",
       "0                                          0.0   \n",
       "1                                          0.0   \n",
       "2                                          0.0   \n",
       "3                                          0.0   \n",
       "4                                          0.0   \n",
       "\n",
       "   model.update_node_module.parameters.dst_content_mask.0  \\\n",
       "0                                              False        \n",
       "1                                              False        \n",
       "2                                              False        \n",
       "3                                              False        \n",
       "4                                              False        \n",
       "\n",
       "   model.update_node_module.parameters.dst_content_require_grad  \\\n",
       "0                                               True              \n",
       "1                                               True              \n",
       "2                                               True              \n",
       "3                                               True              \n",
       "4                                               True              \n",
       "\n",
       "  model.update_node_module.parameters.dst_content_weight_initializer  \\\n",
       "0                                             glorot                   \n",
       "1                                             glorot                   \n",
       "2                                             glorot                   \n",
       "3                                             glorot                   \n",
       "4                                             glorot                   \n",
       "\n",
       "   model.update_node_module.parameters.dst_edge_mask.0  ...  \\\n",
       "0                                              False    ...   \n",
       "1                                              False    ...   \n",
       "2                                              False    ...   \n",
       "3                                              False    ...   \n",
       "4                                              False    ...   \n",
       "\n",
       "   src_edge_0_trained full_src_edge_0_trained  dst_content_0_trained  \\\n",
       "0                 NaN                     NaN                    NaN   \n",
       "1                 NaN                     NaN                    NaN   \n",
       "2                 NaN                     NaN                    NaN   \n",
       "3                 NaN                     NaN                    NaN   \n",
       "4                 NaN                     NaN                    NaN   \n",
       "\n",
       "  att_dst_edge_0_trained dst_edge_0_trained  full_dst_edge_0_trained  \\\n",
       "0                    1.0                NaN                      NaN   \n",
       "1                    1.0                NaN                      NaN   \n",
       "2                    1.0                NaN                      NaN   \n",
       "3                    1.0                NaN                      NaN   \n",
       "4                    1.0                NaN                      NaN   \n",
       "\n",
       "   att_edge_0_trained  edge_0_trained  full_edge_0_trained  bias_0_trained  \n",
       "0                 1.0        0.294976             0.294976             NaN  \n",
       "1                 1.0       -2.086369            -2.086369             NaN  \n",
       "2                 1.0        0.643253             0.643253             NaN  \n",
       "3                 1.0        0.789400             0.789400             NaN  \n",
       "4                 1.0       -1.509002            -1.509002             NaN  \n",
       "\n",
       "[5 rows x 119 columns]"
      ]
     },
     "execution_count": 25,
     "metadata": {},
     "output_type": "execute_result"
    }
   ],
   "source": [
    "model_name = \"2025-06-25_07-05__GAT_liking_sim_amp_3NN_3ExpNN_no_val_bias-False_att-liking-False_amp-liking-True\"\n",
    "participant_id = 1\n",
    "graph_id = 0\n",
    "\n",
    "processed_folder_path = os.path.join(\"experiments_results/3-fold_cross_validation\",model_name,\"processed\")\n",
    "overall_summaries_path = os.path.join(processed_folder_path,\"overall_summaries.csv\")\n",
    "print(overall_summaries_path)\n",
    "\n",
    "overall_summaries = pd.read_csv(overall_summaries_path,index_col = 0)\n",
    "overall_summaries.head()"
   ]
  },
  {
   "cell_type": "code",
   "execution_count": 26,
   "id": "71ad3a47",
   "metadata": {},
   "outputs": [
    {
     "data": {
      "text/html": [
       "<div>\n",
       "<style scoped>\n",
       "    .dataframe tbody tr th:only-of-type {\n",
       "        vertical-align: middle;\n",
       "    }\n",
       "\n",
       "    .dataframe tbody tr th {\n",
       "        vertical-align: top;\n",
       "    }\n",
       "\n",
       "    .dataframe thead th {\n",
       "        text-align: right;\n",
       "    }\n",
       "</style>\n",
       "<table border=\"1\" class=\"dataframe\">\n",
       "  <thead>\n",
       "    <tr style=\"text-align: right;\">\n",
       "      <th></th>\n",
       "      <th>depression</th>\n",
       "      <th>depressionCont</th>\n",
       "      <th>src_edge_0_trained</th>\n",
       "      <th>src_content_0_trained</th>\n",
       "      <th>edge_0_trained</th>\n",
       "      <th>bias_0_trained</th>\n",
       "    </tr>\n",
       "  </thead>\n",
       "  <tbody>\n",
       "    <tr>\n",
       "      <th>0</th>\n",
       "      <td>1</td>\n",
       "      <td>37</td>\n",
       "      <td>NaN</td>\n",
       "      <td>-0.111075</td>\n",
       "      <td>0.294976</td>\n",
       "      <td>NaN</td>\n",
       "    </tr>\n",
       "    <tr>\n",
       "      <th>1</th>\n",
       "      <td>1</td>\n",
       "      <td>15</td>\n",
       "      <td>NaN</td>\n",
       "      <td>2.209804</td>\n",
       "      <td>-2.086369</td>\n",
       "      <td>NaN</td>\n",
       "    </tr>\n",
       "    <tr>\n",
       "      <th>2</th>\n",
       "      <td>1</td>\n",
       "      <td>45</td>\n",
       "      <td>NaN</td>\n",
       "      <td>-0.055096</td>\n",
       "      <td>0.643253</td>\n",
       "      <td>NaN</td>\n",
       "    </tr>\n",
       "    <tr>\n",
       "      <th>3</th>\n",
       "      <td>1</td>\n",
       "      <td>21</td>\n",
       "      <td>NaN</td>\n",
       "      <td>-0.029481</td>\n",
       "      <td>0.789400</td>\n",
       "      <td>NaN</td>\n",
       "    </tr>\n",
       "    <tr>\n",
       "      <th>4</th>\n",
       "      <td>1</td>\n",
       "      <td>36</td>\n",
       "      <td>NaN</td>\n",
       "      <td>-0.733492</td>\n",
       "      <td>-1.509002</td>\n",
       "      <td>NaN</td>\n",
       "    </tr>\n",
       "    <tr>\n",
       "      <th>...</th>\n",
       "      <td>...</td>\n",
       "      <td>...</td>\n",
       "      <td>...</td>\n",
       "      <td>...</td>\n",
       "      <td>...</td>\n",
       "      <td>...</td>\n",
       "    </tr>\n",
       "    <tr>\n",
       "      <th>99</th>\n",
       "      <td>0</td>\n",
       "      <td>7</td>\n",
       "      <td>NaN</td>\n",
       "      <td>0.860850</td>\n",
       "      <td>0.855573</td>\n",
       "      <td>NaN</td>\n",
       "    </tr>\n",
       "    <tr>\n",
       "      <th>100</th>\n",
       "      <td>0</td>\n",
       "      <td>12</td>\n",
       "      <td>NaN</td>\n",
       "      <td>-0.373109</td>\n",
       "      <td>-0.963878</td>\n",
       "      <td>NaN</td>\n",
       "    </tr>\n",
       "    <tr>\n",
       "      <th>101</th>\n",
       "      <td>1</td>\n",
       "      <td>31</td>\n",
       "      <td>NaN</td>\n",
       "      <td>-0.471264</td>\n",
       "      <td>-0.378190</td>\n",
       "      <td>NaN</td>\n",
       "    </tr>\n",
       "    <tr>\n",
       "      <th>102</th>\n",
       "      <td>1</td>\n",
       "      <td>42</td>\n",
       "      <td>NaN</td>\n",
       "      <td>-0.916778</td>\n",
       "      <td>1.347253</td>\n",
       "      <td>NaN</td>\n",
       "    </tr>\n",
       "    <tr>\n",
       "      <th>103</th>\n",
       "      <td>1</td>\n",
       "      <td>28</td>\n",
       "      <td>NaN</td>\n",
       "      <td>-0.698738</td>\n",
       "      <td>-1.270419</td>\n",
       "      <td>NaN</td>\n",
       "    </tr>\n",
       "  </tbody>\n",
       "</table>\n",
       "<p>104 rows × 6 columns</p>\n",
       "</div>"
      ],
      "text/plain": [
       "     depression  depressionCont  src_edge_0_trained  src_content_0_trained  \\\n",
       "0             1              37                 NaN              -0.111075   \n",
       "1             1              15                 NaN               2.209804   \n",
       "2             1              45                 NaN              -0.055096   \n",
       "3             1              21                 NaN              -0.029481   \n",
       "4             1              36                 NaN              -0.733492   \n",
       "..          ...             ...                 ...                    ...   \n",
       "99            0               7                 NaN               0.860850   \n",
       "100           0              12                 NaN              -0.373109   \n",
       "101           1              31                 NaN              -0.471264   \n",
       "102           1              42                 NaN              -0.916778   \n",
       "103           1              28                 NaN              -0.698738   \n",
       "\n",
       "     edge_0_trained  bias_0_trained  \n",
       "0          0.294976             NaN  \n",
       "1         -2.086369             NaN  \n",
       "2          0.643253             NaN  \n",
       "3          0.789400             NaN  \n",
       "4         -1.509002             NaN  \n",
       "..              ...             ...  \n",
       "99         0.855573             NaN  \n",
       "100       -0.963878             NaN  \n",
       "101       -0.378190             NaN  \n",
       "102        1.347253             NaN  \n",
       "103       -1.270419             NaN  \n",
       "\n",
       "[104 rows x 6 columns]"
      ]
     },
     "execution_count": 26,
     "metadata": {},
     "output_type": "execute_result"
    }
   ],
   "source": [
    "folder_path = f\"experiments_results/3-fold_cross_validation/{model_name}/processed\"\n",
    "overall_summaries = pd.read_csv(os.path.join(folder_path,\"overall_summaries.csv\"),index_col=0)\n",
    "overall_summaries[\"participant_id\"] = overall_summaries[\"participant_folder_name\"].apply(lambda x: int(x.split(\"_\")[1]))\n",
    "\n",
    "participant_data = pd.read_csv(\"data/processed/participant_data.csv\",index_col=0)\n",
    "participant_data[\"participant_id\"] = participant_data[\"participant\"]\n",
    "participant_data.drop([\"participant\"],axis=1,inplace=True)\n",
    "participant_data\n",
    "\n",
    "data = pd.merge(participant_data,overall_summaries,on=\"participant_id\",how=\"right\")\n",
    "data[[\"depression\",\"depressionCont\",\"src_edge_0_trained\", \"src_content_0_trained\", \"edge_0_trained\", \"bias_0_trained\"]]"
   ]
  },
  {
   "cell_type": "code",
   "execution_count": 28,
   "id": "cc8ceba1",
   "metadata": {},
   "outputs": [
    {
     "data": {
      "application/vnd.plotly.v1+json": {
       "config": {
        "plotlyServerURL": "https://plot.ly"
       },
       "data": [
        {
         "name": "src_edge_0_trained",
         "type": "histogram",
         "x": [
          null,
          null,
          null,
          null,
          null,
          null,
          null,
          null,
          null,
          null,
          null,
          null,
          null,
          null,
          null,
          null,
          null,
          null,
          null,
          null,
          null,
          null,
          null,
          null,
          null,
          null,
          null,
          null,
          null,
          null,
          null,
          null,
          null,
          null,
          null,
          null,
          null,
          null,
          null,
          null,
          null,
          null,
          null,
          null,
          null,
          null,
          null,
          null,
          null,
          null,
          null,
          null,
          null,
          null,
          null,
          null,
          null,
          null,
          null,
          null,
          null,
          null,
          null,
          null,
          null,
          null,
          null,
          null,
          null,
          null,
          null,
          null,
          null,
          null,
          null,
          null,
          null,
          null,
          null,
          null,
          null,
          null,
          null,
          null,
          null,
          null,
          null,
          null,
          null,
          null,
          null,
          null,
          null,
          null,
          null,
          null,
          null,
          null,
          null,
          null,
          null,
          null,
          null,
          null
         ]
        },
        {
         "name": "src_content_0_trained",
         "type": "histogram",
         "x": [
          -0.1110749542713165,
          2.209803581237793,
          -0.0550958178937435,
          -0.0294813141226768,
          -0.7334920763969421,
          0.6751953363418579,
          0.0719203129410743,
          0.8714790344238281,
          -0.4728034734725952,
          0.5359877347946167,
          -1.2791668176651,
          -0.154874250292778,
          -1.6068028211593628,
          -0.2224516421556472,
          3.23518705368042,
          -3.0353472232818604,
          0.5771703124046326,
          -0.0167876686900854,
          -1.42983078956604,
          -0.9669301509857178,
          -0.2168923616409301,
          -1.5528631210327148,
          -1.0988050699234009,
          1.581650972366333,
          1.3886491060256958,
          -1.3099167346954346,
          -0.8107007145881653,
          1.1360082626342771,
          -0.6053676009178162,
          0.528475284576416,
          -1.0705881118774414,
          1.479480504989624,
          -1.4241737127304075,
          -0.1806153953075409,
          -0.209576666355133,
          -0.4170325398445129,
          0.4504972398281097,
          -3.5143558979034424,
          -1.047282576560974,
          -1.4984241724014282,
          -1.9544883966445925,
          1.2372978925704956,
          2.1939074993133545,
          -1.8893181085586548,
          -1.262847065925598,
          -0.7718793153762817,
          0.4099585711956024,
          -0.9190150499343872,
          0.2635263204574585,
          -1.7554092407226562,
          1.6086252927780151,
          0.1195353269577026,
          -0.6876606345176697,
          -0.6992153525352478,
          3.162224292755127,
          -0.3294433355331421,
          1.2693166732788086,
          -0.1080825850367546,
          0.6777724027633667,
          -0.0808189660310745,
          0.7193995714187622,
          0.3496271073818207,
          -1.46460223197937,
          -1.954817295074463,
          0.9015315175056458,
          -1.7844690084457395,
          -1.0966663360595703,
          -0.763379693031311,
          -0.0090851532295346,
          1.006608009338379,
          0.7289345860481262,
          1.4568356275558472,
          1.5148135423660278,
          -0.7949977517127991,
          0.466453343629837,
          -1.58998441696167,
          0.212816372513771,
          3.0353872776031494,
          -0.1212426647543907,
          2.3928048610687256,
          -1.033048391342163,
          -1.5231285095214844,
          0.4875777661800384,
          0.4809955060482025,
          -0.7447476387023926,
          -0.5833592414855957,
          0.7268015742301941,
          -2.671617031097412,
          0.1474775224924087,
          -0.4545538127422333,
          -2.2812588214874268,
          0.652988076210022,
          -0.9905501008033752,
          -2.46811842918396,
          0.4335398972034454,
          -0.0813251137733459,
          -2.884894132614136,
          0.2369443029165268,
          1.258656620979309,
          0.8608495593070984,
          -0.3731089234352112,
          -0.4712637364864349,
          -0.916777729988098,
          -0.6987375617027283
         ]
        },
        {
         "name": "edge_0_trained",
         "type": "histogram",
         "x": [
          0.2949755489826202,
          -2.0863687992095947,
          0.6432528495788574,
          0.7893998622894287,
          -1.5090022087097168,
          -0.0984576493501663,
          -0.5775309205055237,
          -0.9659790992736816,
          1.1378282308578491,
          0.8220882415771484,
          -0.4734486639499664,
          0.9983479380607604,
          1.632381796836853,
          0.1074885949492454,
          4.300290584564209,
          -5.7420573234558105,
          -0.1826327294111251,
          0.033336341381073,
          -1.558558225631714,
          3.2399561405181885,
          -0.0259157083928585,
          -0.6427685618400574,
          0.012746806256473,
          2.1014058589935303,
          1.0020033121109009,
          -0.8379030823707581,
          -1.5737236738204956,
          0.063032366335392,
          -1.097663640975952,
          3.559646844863892,
          -0.0483154207468032,
          0.0709979087114334,
          -1.5337681770324707,
          -0.1668865531682968,
          1.1991610527038574,
          0.2073957026004791,
          1.8010640144348145,
          -2.9265341758728027,
          -0.7748624682426453,
          -0.52235347032547,
          -2.7612409591674805,
          0.6862005591392517,
          -0.5388711094856262,
          -3.162933826446533,
          -2.0255141258239746,
          -0.8454194664955139,
          -0.8190097808837891,
          0.8843498229980469,
          -0.9732598662376404,
          -3.107471227645874,
          2.409252166748047,
          -0.0636044591665268,
          1.2616642713546753,
          0.1572888493537902,
          1.855003237724304,
          -1.0572713613510132,
          0.5054759383201599,
          0.3640057742595672,
          0.9096418619155884,
          0.1193758472800254,
          0.1440973281860351,
          -0.0369762144982814,
          -1.2539337873458862,
          -1.4978623390197754,
          -1.415068745613098,
          -0.4969799816608429,
          2.805626392364502,
          -0.7943935394287109,
          0.0637155473232269,
          0.0305834803730249,
          1.507526159286499,
          1.9013727903366089,
          0.5767173767089844,
          -1.1496645212173462,
          0.9772881269454956,
          -0.3650006949901581,
          0.9102632403373718,
          -0.8199029564857483,
          0.1198165565729141,
          2.317798614501953,
          -0.6935504674911499,
          1.1160069704055786,
          0.2869350612163543,
          -0.0330331251025199,
          -1.1298589706420898,
          0.7720151543617249,
          3.1065902709960938,
          -1.888532996177673,
          0.1600850224494934,
          0.0060565462335944,
          -2.7825942039489746,
          -1.0429236888885498,
          -0.9462307691574096,
          -1.9375191926956177,
          0.2033621668815612,
          0.8182560205459595,
          -2.429707765579224,
          0.6684033274650574,
          3.374056100845337,
          0.8555725812911987,
          -0.9638778567314148,
          -0.3781899511814117,
          1.3472528457641602,
          -1.2704187631607056
         ]
        },
        {
         "name": "bias_0_trained",
         "type": "histogram",
         "x": [
          null,
          null,
          null,
          null,
          null,
          null,
          null,
          null,
          null,
          null,
          null,
          null,
          null,
          null,
          null,
          null,
          null,
          null,
          null,
          null,
          null,
          null,
          null,
          null,
          null,
          null,
          null,
          null,
          null,
          null,
          null,
          null,
          null,
          null,
          null,
          null,
          null,
          null,
          null,
          null,
          null,
          null,
          null,
          null,
          null,
          null,
          null,
          null,
          null,
          null,
          null,
          null,
          null,
          null,
          null,
          null,
          null,
          null,
          null,
          null,
          null,
          null,
          null,
          null,
          null,
          null,
          null,
          null,
          null,
          null,
          null,
          null,
          null,
          null,
          null,
          null,
          null,
          null,
          null,
          null,
          null,
          null,
          null,
          null,
          null,
          null,
          null,
          null,
          null,
          null,
          null,
          null,
          null,
          null,
          null,
          null,
          null,
          null,
          null,
          null,
          null,
          null,
          null,
          null
         ]
        }
       ],
       "layout": {
        "template": {
         "data": {
          "bar": [
           {
            "error_x": {
             "color": "#2a3f5f"
            },
            "error_y": {
             "color": "#2a3f5f"
            },
            "marker": {
             "line": {
              "color": "#E5ECF6",
              "width": 0.5
             },
             "pattern": {
              "fillmode": "overlay",
              "size": 10,
              "solidity": 0.2
             }
            },
            "type": "bar"
           }
          ],
          "barpolar": [
           {
            "marker": {
             "line": {
              "color": "#E5ECF6",
              "width": 0.5
             },
             "pattern": {
              "fillmode": "overlay",
              "size": 10,
              "solidity": 0.2
             }
            },
            "type": "barpolar"
           }
          ],
          "carpet": [
           {
            "aaxis": {
             "endlinecolor": "#2a3f5f",
             "gridcolor": "white",
             "linecolor": "white",
             "minorgridcolor": "white",
             "startlinecolor": "#2a3f5f"
            },
            "baxis": {
             "endlinecolor": "#2a3f5f",
             "gridcolor": "white",
             "linecolor": "white",
             "minorgridcolor": "white",
             "startlinecolor": "#2a3f5f"
            },
            "type": "carpet"
           }
          ],
          "choropleth": [
           {
            "colorbar": {
             "outlinewidth": 0,
             "ticks": ""
            },
            "type": "choropleth"
           }
          ],
          "contour": [
           {
            "colorbar": {
             "outlinewidth": 0,
             "ticks": ""
            },
            "colorscale": [
             [
              0,
              "#0d0887"
             ],
             [
              0.1111111111111111,
              "#46039f"
             ],
             [
              0.2222222222222222,
              "#7201a8"
             ],
             [
              0.3333333333333333,
              "#9c179e"
             ],
             [
              0.4444444444444444,
              "#bd3786"
             ],
             [
              0.5555555555555556,
              "#d8576b"
             ],
             [
              0.6666666666666666,
              "#ed7953"
             ],
             [
              0.7777777777777778,
              "#fb9f3a"
             ],
             [
              0.8888888888888888,
              "#fdca26"
             ],
             [
              1,
              "#f0f921"
             ]
            ],
            "type": "contour"
           }
          ],
          "contourcarpet": [
           {
            "colorbar": {
             "outlinewidth": 0,
             "ticks": ""
            },
            "type": "contourcarpet"
           }
          ],
          "heatmap": [
           {
            "colorbar": {
             "outlinewidth": 0,
             "ticks": ""
            },
            "colorscale": [
             [
              0,
              "#0d0887"
             ],
             [
              0.1111111111111111,
              "#46039f"
             ],
             [
              0.2222222222222222,
              "#7201a8"
             ],
             [
              0.3333333333333333,
              "#9c179e"
             ],
             [
              0.4444444444444444,
              "#bd3786"
             ],
             [
              0.5555555555555556,
              "#d8576b"
             ],
             [
              0.6666666666666666,
              "#ed7953"
             ],
             [
              0.7777777777777778,
              "#fb9f3a"
             ],
             [
              0.8888888888888888,
              "#fdca26"
             ],
             [
              1,
              "#f0f921"
             ]
            ],
            "type": "heatmap"
           }
          ],
          "heatmapgl": [
           {
            "colorbar": {
             "outlinewidth": 0,
             "ticks": ""
            },
            "colorscale": [
             [
              0,
              "#0d0887"
             ],
             [
              0.1111111111111111,
              "#46039f"
             ],
             [
              0.2222222222222222,
              "#7201a8"
             ],
             [
              0.3333333333333333,
              "#9c179e"
             ],
             [
              0.4444444444444444,
              "#bd3786"
             ],
             [
              0.5555555555555556,
              "#d8576b"
             ],
             [
              0.6666666666666666,
              "#ed7953"
             ],
             [
              0.7777777777777778,
              "#fb9f3a"
             ],
             [
              0.8888888888888888,
              "#fdca26"
             ],
             [
              1,
              "#f0f921"
             ]
            ],
            "type": "heatmapgl"
           }
          ],
          "histogram": [
           {
            "marker": {
             "pattern": {
              "fillmode": "overlay",
              "size": 10,
              "solidity": 0.2
             }
            },
            "type": "histogram"
           }
          ],
          "histogram2d": [
           {
            "colorbar": {
             "outlinewidth": 0,
             "ticks": ""
            },
            "colorscale": [
             [
              0,
              "#0d0887"
             ],
             [
              0.1111111111111111,
              "#46039f"
             ],
             [
              0.2222222222222222,
              "#7201a8"
             ],
             [
              0.3333333333333333,
              "#9c179e"
             ],
             [
              0.4444444444444444,
              "#bd3786"
             ],
             [
              0.5555555555555556,
              "#d8576b"
             ],
             [
              0.6666666666666666,
              "#ed7953"
             ],
             [
              0.7777777777777778,
              "#fb9f3a"
             ],
             [
              0.8888888888888888,
              "#fdca26"
             ],
             [
              1,
              "#f0f921"
             ]
            ],
            "type": "histogram2d"
           }
          ],
          "histogram2dcontour": [
           {
            "colorbar": {
             "outlinewidth": 0,
             "ticks": ""
            },
            "colorscale": [
             [
              0,
              "#0d0887"
             ],
             [
              0.1111111111111111,
              "#46039f"
             ],
             [
              0.2222222222222222,
              "#7201a8"
             ],
             [
              0.3333333333333333,
              "#9c179e"
             ],
             [
              0.4444444444444444,
              "#bd3786"
             ],
             [
              0.5555555555555556,
              "#d8576b"
             ],
             [
              0.6666666666666666,
              "#ed7953"
             ],
             [
              0.7777777777777778,
              "#fb9f3a"
             ],
             [
              0.8888888888888888,
              "#fdca26"
             ],
             [
              1,
              "#f0f921"
             ]
            ],
            "type": "histogram2dcontour"
           }
          ],
          "mesh3d": [
           {
            "colorbar": {
             "outlinewidth": 0,
             "ticks": ""
            },
            "type": "mesh3d"
           }
          ],
          "parcoords": [
           {
            "line": {
             "colorbar": {
              "outlinewidth": 0,
              "ticks": ""
             }
            },
            "type": "parcoords"
           }
          ],
          "pie": [
           {
            "automargin": true,
            "type": "pie"
           }
          ],
          "scatter": [
           {
            "fillpattern": {
             "fillmode": "overlay",
             "size": 10,
             "solidity": 0.2
            },
            "type": "scatter"
           }
          ],
          "scatter3d": [
           {
            "line": {
             "colorbar": {
              "outlinewidth": 0,
              "ticks": ""
             }
            },
            "marker": {
             "colorbar": {
              "outlinewidth": 0,
              "ticks": ""
             }
            },
            "type": "scatter3d"
           }
          ],
          "scattercarpet": [
           {
            "marker": {
             "colorbar": {
              "outlinewidth": 0,
              "ticks": ""
             }
            },
            "type": "scattercarpet"
           }
          ],
          "scattergeo": [
           {
            "marker": {
             "colorbar": {
              "outlinewidth": 0,
              "ticks": ""
             }
            },
            "type": "scattergeo"
           }
          ],
          "scattergl": [
           {
            "marker": {
             "colorbar": {
              "outlinewidth": 0,
              "ticks": ""
             }
            },
            "type": "scattergl"
           }
          ],
          "scattermapbox": [
           {
            "marker": {
             "colorbar": {
              "outlinewidth": 0,
              "ticks": ""
             }
            },
            "type": "scattermapbox"
           }
          ],
          "scatterpolar": [
           {
            "marker": {
             "colorbar": {
              "outlinewidth": 0,
              "ticks": ""
             }
            },
            "type": "scatterpolar"
           }
          ],
          "scatterpolargl": [
           {
            "marker": {
             "colorbar": {
              "outlinewidth": 0,
              "ticks": ""
             }
            },
            "type": "scatterpolargl"
           }
          ],
          "scatterternary": [
           {
            "marker": {
             "colorbar": {
              "outlinewidth": 0,
              "ticks": ""
             }
            },
            "type": "scatterternary"
           }
          ],
          "surface": [
           {
            "colorbar": {
             "outlinewidth": 0,
             "ticks": ""
            },
            "colorscale": [
             [
              0,
              "#0d0887"
             ],
             [
              0.1111111111111111,
              "#46039f"
             ],
             [
              0.2222222222222222,
              "#7201a8"
             ],
             [
              0.3333333333333333,
              "#9c179e"
             ],
             [
              0.4444444444444444,
              "#bd3786"
             ],
             [
              0.5555555555555556,
              "#d8576b"
             ],
             [
              0.6666666666666666,
              "#ed7953"
             ],
             [
              0.7777777777777778,
              "#fb9f3a"
             ],
             [
              0.8888888888888888,
              "#fdca26"
             ],
             [
              1,
              "#f0f921"
             ]
            ],
            "type": "surface"
           }
          ],
          "table": [
           {
            "cells": {
             "fill": {
              "color": "#EBF0F8"
             },
             "line": {
              "color": "white"
             }
            },
            "header": {
             "fill": {
              "color": "#C8D4E3"
             },
             "line": {
              "color": "white"
             }
            },
            "type": "table"
           }
          ]
         },
         "layout": {
          "annotationdefaults": {
           "arrowcolor": "#2a3f5f",
           "arrowhead": 0,
           "arrowwidth": 1
          },
          "autotypenumbers": "strict",
          "coloraxis": {
           "colorbar": {
            "outlinewidth": 0,
            "ticks": ""
           }
          },
          "colorscale": {
           "diverging": [
            [
             0,
             "#8e0152"
            ],
            [
             0.1,
             "#c51b7d"
            ],
            [
             0.2,
             "#de77ae"
            ],
            [
             0.3,
             "#f1b6da"
            ],
            [
             0.4,
             "#fde0ef"
            ],
            [
             0.5,
             "#f7f7f7"
            ],
            [
             0.6,
             "#e6f5d0"
            ],
            [
             0.7,
             "#b8e186"
            ],
            [
             0.8,
             "#7fbc41"
            ],
            [
             0.9,
             "#4d9221"
            ],
            [
             1,
             "#276419"
            ]
           ],
           "sequential": [
            [
             0,
             "#0d0887"
            ],
            [
             0.1111111111111111,
             "#46039f"
            ],
            [
             0.2222222222222222,
             "#7201a8"
            ],
            [
             0.3333333333333333,
             "#9c179e"
            ],
            [
             0.4444444444444444,
             "#bd3786"
            ],
            [
             0.5555555555555556,
             "#d8576b"
            ],
            [
             0.6666666666666666,
             "#ed7953"
            ],
            [
             0.7777777777777778,
             "#fb9f3a"
            ],
            [
             0.8888888888888888,
             "#fdca26"
            ],
            [
             1,
             "#f0f921"
            ]
           ],
           "sequentialminus": [
            [
             0,
             "#0d0887"
            ],
            [
             0.1111111111111111,
             "#46039f"
            ],
            [
             0.2222222222222222,
             "#7201a8"
            ],
            [
             0.3333333333333333,
             "#9c179e"
            ],
            [
             0.4444444444444444,
             "#bd3786"
            ],
            [
             0.5555555555555556,
             "#d8576b"
            ],
            [
             0.6666666666666666,
             "#ed7953"
            ],
            [
             0.7777777777777778,
             "#fb9f3a"
            ],
            [
             0.8888888888888888,
             "#fdca26"
            ],
            [
             1,
             "#f0f921"
            ]
           ]
          },
          "colorway": [
           "#636efa",
           "#EF553B",
           "#00cc96",
           "#ab63fa",
           "#FFA15A",
           "#19d3f3",
           "#FF6692",
           "#B6E880",
           "#FF97FF",
           "#FECB52"
          ],
          "font": {
           "color": "#2a3f5f"
          },
          "geo": {
           "bgcolor": "white",
           "lakecolor": "white",
           "landcolor": "#E5ECF6",
           "showlakes": true,
           "showland": true,
           "subunitcolor": "white"
          },
          "hoverlabel": {
           "align": "left"
          },
          "hovermode": "closest",
          "mapbox": {
           "style": "light"
          },
          "paper_bgcolor": "white",
          "plot_bgcolor": "#E5ECF6",
          "polar": {
           "angularaxis": {
            "gridcolor": "white",
            "linecolor": "white",
            "ticks": ""
           },
           "bgcolor": "#E5ECF6",
           "radialaxis": {
            "gridcolor": "white",
            "linecolor": "white",
            "ticks": ""
           }
          },
          "scene": {
           "xaxis": {
            "backgroundcolor": "#E5ECF6",
            "gridcolor": "white",
            "gridwidth": 2,
            "linecolor": "white",
            "showbackground": true,
            "ticks": "",
            "zerolinecolor": "white"
           },
           "yaxis": {
            "backgroundcolor": "#E5ECF6",
            "gridcolor": "white",
            "gridwidth": 2,
            "linecolor": "white",
            "showbackground": true,
            "ticks": "",
            "zerolinecolor": "white"
           },
           "zaxis": {
            "backgroundcolor": "#E5ECF6",
            "gridcolor": "white",
            "gridwidth": 2,
            "linecolor": "white",
            "showbackground": true,
            "ticks": "",
            "zerolinecolor": "white"
           }
          },
          "shapedefaults": {
           "line": {
            "color": "#2a3f5f"
           }
          },
          "ternary": {
           "aaxis": {
            "gridcolor": "white",
            "linecolor": "white",
            "ticks": ""
           },
           "baxis": {
            "gridcolor": "white",
            "linecolor": "white",
            "ticks": ""
           },
           "bgcolor": "#E5ECF6",
           "caxis": {
            "gridcolor": "white",
            "linecolor": "white",
            "ticks": ""
           }
          },
          "title": {
           "x": 0.05
          },
          "xaxis": {
           "automargin": true,
           "gridcolor": "white",
           "linecolor": "white",
           "ticks": "",
           "title": {
            "standoff": 15
           },
           "zerolinecolor": "white",
           "zerolinewidth": 2
          },
          "yaxis": {
           "automargin": true,
           "gridcolor": "white",
           "linecolor": "white",
           "ticks": "",
           "title": {
            "standoff": 15
           },
           "zerolinecolor": "white",
           "zerolinewidth": 2
          }
         }
        }
       }
      }
     },
     "metadata": {},
     "output_type": "display_data"
    }
   ],
   "source": [
    "fig = go.Figure()\n",
    "\n",
    "fig.add_trace(\n",
    "    go.Histogram(\n",
    "        x = data[\"src_edge_0_trained\"],\n",
    "        name=\"src_edge_0_trained\"\n",
    "    )\n",
    ")\n",
    "\n",
    "fig.add_trace(\n",
    "    go.Histogram(\n",
    "        x = data[\"src_content_0_trained\"],\n",
    "        name=\"src_content_0_trained\"\n",
    "    )\n",
    ")\n",
    "\n",
    "fig.add_trace(\n",
    "    go.Histogram(\n",
    "        x = data[\"edge_0_trained\"],\n",
    "        name=\"edge_0_trained\"\n",
    "    )\n",
    ")\n",
    "\n",
    "fig.add_trace(\n",
    "    go.Histogram(\n",
    "        x = data[\"bias_0_trained\"],\n",
    "        name=\"bias_0_trained\"\n",
    "    )\n",
    ")"
   ]
  },
  {
   "cell_type": "code",
   "execution_count": 29,
   "id": "565b0811",
   "metadata": {},
   "outputs": [
    {
     "data": {
      "text/plain": [
       "<seaborn.axisgrid.PairGrid at 0x76fa9ef4b130>"
      ]
     },
     "execution_count": 29,
     "metadata": {},
     "output_type": "execute_result"
    },
    {
     "data": {
      "image/png": "[encoded data removed]",
      "text/plain": [
       "<Figure size 1500x1500 with 42 Axes>"
      ]
     },
     "metadata": {},
     "output_type": "display_data"
    }
   ],
   "source": [
    "sns.pairplot(data[[\"depressionCont\",\"src_edge_0_trained\",\"src_content_0_trained\",\"bias_0_trained\",\"edge_0_trained\",\"train_avg_MAE\"]])"
   ]
  },
  {
   "cell_type": "code",
   "execution_count": 30,
   "id": "3e0eb586",
   "metadata": {},
   "outputs": [],
   "source": [
    "data[[\"depressionCont\",\"src_edge_0_trained\",\"src_content_0_trained\",\"bias_0_trained\",\"edge_0_trained\"]].corr()\n",
    "\n",
    "from scipy.stats import pearsonr, spearmanr"
   ]
  },
  {
   "cell_type": "code",
   "execution_count": 32,
   "id": "b9e5a45a",
   "metadata": {},
   "outputs": [
    {
     "data": {
      "application/vnd.plotly.v1+json": {
       "config": {
        "plotlyServerURL": "https://plot.ly"
       },
       "data": [
        {
         "text": [
          [
           "1.0 - p:0.0",
           "0.276 - p:0.005",
           "0.284 - p:0.003",
           "nan - p:nan",
           "-0.099 - p:0.317",
           "nan - p:nan",
           "-0.16 - p:0.106"
          ],
          [
           "0.276 - p:0.005",
           "1.0 - p:0.0",
           "0.609 - p:0.0",
           "nan - p:nan",
           "0.034 - p:0.73",
           "nan - p:nan",
           "0.025 - p:0.799"
          ],
          [
           "0.284 - p:0.003",
           "0.609 - p:0.0",
           "1.0 - p:0.0",
           "nan - p:nan",
           "0.143 - p:0.147",
           "nan - p:nan",
           "0.064 - p:0.52"
          ],
          [
           "nan - p:nan",
           "nan - p:nan",
           "nan - p:nan",
           "nan - p:nan",
           "nan - p:nan",
           "nan - p:nan",
           "nan - p:nan"
          ],
          [
           "-0.099 - p:0.317",
           "0.034 - p:0.73",
           "0.143 - p:0.147",
           "nan - p:nan",
           "1.0 - p:0.0",
           "nan - p:nan",
           "0.568 - p:0.0"
          ],
          [
           "nan - p:nan",
           "nan - p:nan",
           "nan - p:nan",
           "nan - p:nan",
           "nan - p:nan",
           "nan - p:nan",
           "nan - p:nan"
          ],
          [
           "-0.16 - p:0.106",
           "0.025 - p:0.799",
           "0.064 - p:0.52",
           "nan - p:nan",
           "0.568 - p:0.0",
           "nan - p:nan",
           "1.0 - p:0.0"
          ]
         ],
         "textfont": {
          "size": 20
         },
         "texttemplate": "%{text}",
         "type": "heatmap",
         "x": [
          "depressionCont",
          "n_not_experienced",
          "train_avg_MAE",
          "src_edge_0_trained",
          "src_content_0_trained",
          "bias_0_trained",
          "edge_0_trained"
         ],
         "y": [
          "depressionCont",
          "n_not_experienced",
          "train_avg_MAE",
          "src_edge_0_trained",
          "src_content_0_trained",
          "bias_0_trained",
          "edge_0_trained"
         ],
         "z": [
          [
           1,
           0.27633463283814225,
           0.28440395166133814,
           null,
           -0.09914023141362702,
           null,
           -0.15961597883533005
          ],
          [
           0.27633463283814225,
           0.9999999999999998,
           0.6089837947132568,
           null,
           0.03419063656718337,
           null,
           0.025214241473463656
          ],
          [
           0.28440395166133814,
           0.6089837947132568,
           1,
           null,
           0.14317665787246878,
           null,
           0.0637330801009549
          ],
          [
           null,
           null,
           null,
           null,
           null,
           null,
           null
          ],
          [
           -0.099140231413627,
           0.03419063656718335,
           0.14317665787246878,
           null,
           1,
           null,
           0.5680958646529106
          ],
          [
           null,
           null,
           null,
           null,
           null,
           null,
           null
          ],
          [
           -0.15961597883533002,
           0.025214241473463628,
           0.06373308010095491,
           null,
           0.5680958646529107,
           null,
           1
          ]
         ]
        }
       ],
       "layout": {
        "template": {
         "data": {
          "bar": [
           {
            "error_x": {
             "color": "#2a3f5f"
            },
            "error_y": {
             "color": "#2a3f5f"
            },
            "marker": {
             "line": {
              "color": "#E5ECF6",
              "width": 0.5
             },
             "pattern": {
              "fillmode": "overlay",
              "size": 10,
              "solidity": 0.2
             }
            },
            "type": "bar"
           }
          ],
          "barpolar": [
           {
            "marker": {
             "line": {
              "color": "#E5ECF6",
              "width": 0.5
             },
             "pattern": {
              "fillmode": "overlay",
              "size": 10,
              "solidity": 0.2
             }
            },
            "type": "barpolar"
           }
          ],
          "carpet": [
           {
            "aaxis": {
             "endlinecolor": "#2a3f5f",
             "gridcolor": "white",
             "linecolor": "white",
             "minorgridcolor": "white",
             "startlinecolor": "#2a3f5f"
            },
            "baxis": {
             "endlinecolor": "#2a3f5f",
             "gridcolor": "white",
             "linecolor": "white",
             "minorgridcolor": "white",
             "startlinecolor": "#2a3f5f"
            },
            "type": "carpet"
           }
          ],
          "choropleth": [
           {
            "colorbar": {
             "outlinewidth": 0,
             "ticks": ""
            },
            "type": "choropleth"
           }
          ],
          "contour": [
           {
            "colorbar": {
             "outlinewidth": 0,
             "ticks": ""
            },
            "colorscale": [
             [
              0,
              "#0d0887"
             ],
             [
              0.1111111111111111,
              "#46039f"
             ],
             [
              0.2222222222222222,
              "#7201a8"
             ],
             [
              0.3333333333333333,
              "#9c179e"
             ],
             [
              0.4444444444444444,
              "#bd3786"
             ],
             [
              0.5555555555555556,
              "#d8576b"
             ],
             [
              0.6666666666666666,
              "#ed7953"
             ],
             [
              0.7777777777777778,
              "#fb9f3a"
             ],
             [
              0.8888888888888888,
              "#fdca26"
             ],
             [
              1,
              "#f0f921"
             ]
            ],
            "type": "contour"
           }
          ],
          "contourcarpet": [
           {
            "colorbar": {
             "outlinewidth": 0,
             "ticks": ""
            },
            "type": "contourcarpet"
           }
          ],
          "heatmap": [
           {
            "colorbar": {
             "outlinewidth": 0,
             "ticks": ""
            },
            "colorscale": [
             [
              0,
              "#0d0887"
             ],
             [
              0.1111111111111111,
              "#46039f"
             ],
             [
              0.2222222222222222,
              "#7201a8"
             ],
             [
              0.3333333333333333,
              "#9c179e"
             ],
             [
              0.4444444444444444,
              "#bd3786"
             ],
             [
              0.5555555555555556,
              "#d8576b"
             ],
             [
              0.6666666666666666,
              "#ed7953"
             ],
             [
              0.7777777777777778,
              "#fb9f3a"
             ],
             [
              0.8888888888888888,
              "#fdca26"
             ],
             [
              1,
              "#f0f921"
             ]
            ],
            "type": "heatmap"
           }
          ],
          "heatmapgl": [
           {
            "colorbar": {
             "outlinewidth": 0,
             "ticks": ""
            },
            "colorscale": [
             [
              0,
              "#0d0887"
             ],
             [
              0.1111111111111111,
              "#46039f"
             ],
             [
              0.2222222222222222,
              "#7201a8"
             ],
             [
              0.3333333333333333,
              "#9c179e"
             ],
             [
              0.4444444444444444,
              "#bd3786"
             ],
             [
              0.5555555555555556,
              "#d8576b"
             ],
             [
              0.6666666666666666,
              "#ed7953"
             ],
             [
              0.7777777777777778,
              "#fb9f3a"
             ],
             [
              0.8888888888888888,
              "#fdca26"
             ],
             [
              1,
              "#f0f921"
             ]
            ],
            "type": "heatmapgl"
           }
          ],
          "histogram": [
           {
            "marker": {
             "pattern": {
              "fillmode": "overlay",
              "size": 10,
              "solidity": 0.2
             }
            },
            "type": "histogram"
           }
          ],
          "histogram2d": [
           {
            "colorbar": {
             "outlinewidth": 0,
             "ticks": ""
            },
            "colorscale": [
             [
              0,
              "#0d0887"
             ],
             [
              0.1111111111111111,
              "#46039f"
             ],
             [
              0.2222222222222222,
              "#7201a8"
             ],
             [
              0.3333333333333333,
              "#9c179e"
             ],
             [
              0.4444444444444444,
              "#bd3786"
             ],
             [
              0.5555555555555556,
              "#d8576b"
             ],
             [
              0.6666666666666666,
              "#ed7953"
             ],
             [
              0.7777777777777778,
              "#fb9f3a"
             ],
             [
              0.8888888888888888,
              "#fdca26"
             ],
             [
              1,
              "#f0f921"
             ]
            ],
            "type": "histogram2d"
           }
          ],
          "histogram2dcontour": [
           {
            "colorbar": {
             "outlinewidth": 0,
             "ticks": ""
            },
            "colorscale": [
             [
              0,
              "#0d0887"
             ],
             [
              0.1111111111111111,
              "#46039f"
             ],
             [
              0.2222222222222222,
              "#7201a8"
             ],
             [
              0.3333333333333333,
              "#9c179e"
             ],
             [
              0.4444444444444444,
              "#bd3786"
             ],
             [
              0.5555555555555556,
              "#d8576b"
             ],
             [
              0.6666666666666666,
              "#ed7953"
             ],
             [
              0.7777777777777778,
              "#fb9f3a"
             ],
             [
              0.8888888888888888,
              "#fdca26"
             ],
             [
              1,
              "#f0f921"
             ]
            ],
            "type": "histogram2dcontour"
           }
          ],
          "mesh3d": [
           {
            "colorbar": {
             "outlinewidth": 0,
             "ticks": ""
            },
            "type": "mesh3d"
           }
          ],
          "parcoords": [
           {
            "line": {
             "colorbar": {
              "outlinewidth": 0,
              "ticks": ""
             }
            },
            "type": "parcoords"
           }
          ],
          "pie": [
           {
            "automargin": true,
            "type": "pie"
           }
          ],
          "scatter": [
           {
            "fillpattern": {
             "fillmode": "overlay",
             "size": 10,
             "solidity": 0.2
            },
            "type": "scatter"
           }
          ],
          "scatter3d": [
           {
            "line": {
             "colorbar": {
              "outlinewidth": 0,
              "ticks": ""
             }
            },
            "marker": {
             "colorbar": {
              "outlinewidth": 0,
              "ticks": ""
             }
            },
            "type": "scatter3d"
           }
          ],
          "scattercarpet": [
           {
            "marker": {
             "colorbar": {
              "outlinewidth": 0,
              "ticks": ""
             }
            },
            "type": "scattercarpet"
           }
          ],
          "scattergeo": [
           {
            "marker": {
             "colorbar": {
              "outlinewidth": 0,
              "ticks": ""
             }
            },
            "type": "scattergeo"
           }
          ],
          "scattergl": [
           {
            "marker": {
             "colorbar": {
              "outlinewidth": 0,
              "ticks": ""
             }
            },
            "type": "scattergl"
           }
          ],
          "scattermapbox": [
           {
            "marker": {
             "colorbar": {
              "outlinewidth": 0,
              "ticks": ""
             }
            },
            "type": "scattermapbox"
           }
          ],
          "scatterpolar": [
           {
            "marker": {
             "colorbar": {
              "outlinewidth": 0,
              "ticks": ""
             }
            },
            "type": "scatterpolar"
           }
          ],
          "scatterpolargl": [
           {
            "marker": {
             "colorbar": {
              "outlinewidth": 0,
              "ticks": ""
             }
            },
            "type": "scatterpolargl"
           }
          ],
          "scatterternary": [
           {
            "marker": {
             "colorbar": {
              "outlinewidth": 0,
              "ticks": ""
             }
            },
            "type": "scatterternary"
           }
          ],
          "surface": [
           {
            "colorbar": {
             "outlinewidth": 0,
             "ticks": ""
            },
            "colorscale": [
             [
              0,
              "#0d0887"
             ],
             [
              0.1111111111111111,
              "#46039f"
             ],
             [
              0.2222222222222222,
              "#7201a8"
             ],
             [
              0.3333333333333333,
              "#9c179e"
             ],
             [
              0.4444444444444444,
              "#bd3786"
             ],
             [
              0.5555555555555556,
              "#d8576b"
             ],
             [
              0.6666666666666666,
              "#ed7953"
             ],
             [
              0.7777777777777778,
              "#fb9f3a"
             ],
             [
              0.8888888888888888,
              "#fdca26"
             ],
             [
              1,
              "#f0f921"
             ]
            ],
            "type": "surface"
           }
          ],
          "table": [
           {
            "cells": {
             "fill": {
              "color": "#EBF0F8"
             },
             "line": {
              "color": "white"
             }
            },
            "header": {
             "fill": {
              "color": "#C8D4E3"
             },
             "line": {
              "color": "white"
             }
            },
            "type": "table"
           }
          ]
         },
         "layout": {
          "annotationdefaults": {
           "arrowcolor": "#2a3f5f",
           "arrowhead": 0,
           "arrowwidth": 1
          },
          "autotypenumbers": "strict",
          "coloraxis": {
           "colorbar": {
            "outlinewidth": 0,
            "ticks": ""
           }
          },
          "colorscale": {
           "diverging": [
            [
             0,
             "#8e0152"
            ],
            [
             0.1,
             "#c51b7d"
            ],
            [
             0.2,
             "#de77ae"
            ],
            [
             0.3,
             "#f1b6da"
            ],
            [
             0.4,
             "#fde0ef"
            ],
            [
             0.5,
             "#f7f7f7"
            ],
            [
             0.6,
             "#e6f5d0"
            ],
            [
             0.7,
             "#b8e186"
            ],
            [
             0.8,
             "#7fbc41"
            ],
            [
             0.9,
             "#4d9221"
            ],
            [
             1,
             "#276419"
            ]
           ],
           "sequential": [
            [
             0,
             "#0d0887"
            ],
            [
             0.1111111111111111,
             "#46039f"
            ],
            [
             0.2222222222222222,
             "#7201a8"
            ],
            [
             0.3333333333333333,
             "#9c179e"
            ],
            [
             0.4444444444444444,
             "#bd3786"
            ],
            [
             0.5555555555555556,
             "#d8576b"
            ],
            [
             0.6666666666666666,
             "#ed7953"
            ],
            [
             0.7777777777777778,
             "#fb9f3a"
            ],
            [
             0.8888888888888888,
             "#fdca26"
            ],
            [
             1,
             "#f0f921"
            ]
           ],
           "sequentialminus": [
            [
             0,
             "#0d0887"
            ],
            [
             0.1111111111111111,
             "#46039f"
            ],
            [
             0.2222222222222222,
             "#7201a8"
            ],
            [
             0.3333333333333333,
             "#9c179e"
            ],
            [
             0.4444444444444444,
             "#bd3786"
            ],
            [
             0.5555555555555556,
             "#d8576b"
            ],
            [
             0.6666666666666666,
             "#ed7953"
            ],
            [
             0.7777777777777778,
             "#fb9f3a"
            ],
            [
             0.8888888888888888,
             "#fdca26"
            ],
            [
             1,
             "#f0f921"
            ]
           ]
          },
          "colorway": [
           "#636efa",
           "#EF553B",
           "#00cc96",
           "#ab63fa",
           "#FFA15A",
           "#19d3f3",
           "#FF6692",
           "#B6E880",
           "#FF97FF",
           "#FECB52"
          ],
          "font": {
           "color": "#2a3f5f"
          },
          "geo": {
           "bgcolor": "white",
           "lakecolor": "white",
           "landcolor": "#E5ECF6",
           "showlakes": true,
           "showland": true,
           "subunitcolor": "white"
          },
          "hoverlabel": {
           "align": "left"
          },
          "hovermode": "closest",
          "mapbox": {
           "style": "light"
          },
          "paper_bgcolor": "white",
          "plot_bgcolor": "#E5ECF6",
          "polar": {
           "angularaxis": {
            "gridcolor": "white",
            "linecolor": "white",
            "ticks": ""
           },
           "bgcolor": "#E5ECF6",
           "radialaxis": {
            "gridcolor": "white",
            "linecolor": "white",
            "ticks": ""
           }
          },
          "scene": {
           "xaxis": {
            "backgroundcolor": "#E5ECF6",
            "gridcolor": "white",
            "gridwidth": 2,
            "linecolor": "white",
            "showbackground": true,
            "ticks": "",
            "zerolinecolor": "white"
           },
           "yaxis": {
            "backgroundcolor": "#E5ECF6",
            "gridcolor": "white",
            "gridwidth": 2,
            "linecolor": "white",
            "showbackground": true,
            "ticks": "",
            "zerolinecolor": "white"
           },
           "zaxis": {
            "backgroundcolor": "#E5ECF6",
            "gridcolor": "white",
            "gridwidth": 2,
            "linecolor": "white",
            "showbackground": true,
            "ticks": "",
            "zerolinecolor": "white"
           }
          },
          "shapedefaults": {
           "line": {
            "color": "#2a3f5f"
           }
          },
          "ternary": {
           "aaxis": {
            "gridcolor": "white",
            "linecolor": "white",
            "ticks": ""
           },
           "baxis": {
            "gridcolor": "white",
            "linecolor": "white",
            "ticks": ""
           },
           "bgcolor": "#E5ECF6",
           "caxis": {
            "gridcolor": "white",
            "linecolor": "white",
            "ticks": ""
           }
          },
          "title": {
           "x": 0.05
          },
          "xaxis": {
           "automargin": true,
           "gridcolor": "white",
           "linecolor": "white",
           "ticks": "",
           "title": {
            "standoff": 15
           },
           "zerolinecolor": "white",
           "zerolinewidth": 2
          },
          "yaxis": {
           "automargin": true,
           "gridcolor": "white",
           "linecolor": "white",
           "ticks": "",
           "title": {
            "standoff": 15
           },
           "zerolinecolor": "white",
           "zerolinewidth": 2
          }
         }
        }
       }
      }
     },
     "metadata": {},
     "output_type": "display_data"
    }
   ],
   "source": [
    "var_names = [\"depressionCont\",\"n_not_experienced\",\"train_avg_MAE\",\"src_edge_0_trained\",\"src_content_0_trained\",\"bias_0_trained\",\"edge_0_trained\"]\n",
    "\n",
    "corr = []\n",
    "p_values = []\n",
    "for v_name in var_names:\n",
    "    r,p = pearsonr(data[var_names].values,data[[v_name]].values)\n",
    "    corr.append(r)\n",
    "    p_values.append(p)\n",
    "\n",
    "text = np.round(corr,3).astype(str)\n",
    "p_values = np.round(p_values,3).astype(str)\n",
    "\n",
    "for i in range(text.shape[0]):\n",
    "    for j in range(text.shape[1]):\n",
    "        text[i,j] = text[i,j] + \" - p:\" + p_values[i,j]\n",
    "\n",
    "\n",
    "fig = go.Figure(data=go.Heatmap(\n",
    "                    z= corr,\n",
    "                    x = var_names,\n",
    "                    y = var_names,\n",
    "                    text= text,\n",
    "                    texttemplate=\"%{text}\",\n",
    "                    textfont={\"size\":20}))\n",
    "fig.update\n",
    "fig.show()"
   ]
  },
  {
   "cell_type": "code",
   "execution_count": 33,
   "id": "be9861af",
   "metadata": {},
   "outputs": [
    {
     "data": {
      "application/vnd.plotly.v1+json": {
       "config": {
        "plotlyServerURL": "https://plot.ly"
       },
       "data": [
        {
         "text": [
          [
           "1.0 - p:0.0",
           "0.196 - p:0.046",
           "0.263 - p:0.007",
           "nan - p:nan",
           "-0.088 - p:0.375",
           "nan - p:nan",
           "-0.116 - p:0.242"
          ],
          [
           "0.196 - p:0.046",
           "1.0 - p:0.0",
           "0.587 - p:0.0",
           "nan - p:nan",
           "0.061 - p:0.541",
           "nan - p:nan",
           "0.012 - p:0.902"
          ],
          [
           "0.263 - p:0.007",
           "0.587 - p:0.0",
           "1.0 - p:0.0",
           "nan - p:nan",
           "0.157 - p:0.112",
           "nan - p:nan",
           "0.105 - p:0.29"
          ],
          [
           "nan - p:nan",
           "nan - p:nan",
           "nan - p:nan",
           "nan - p:nan",
           "nan - p:nan",
           "nan - p:nan",
           "nan - p:nan"
          ],
          [
           "-0.088 - p:0.375",
           "0.061 - p:0.541",
           "0.157 - p:0.112",
           "nan - p:nan",
           "1.0 - p:0.0",
           "nan - p:nan",
           "0.514 - p:0.0"
          ],
          [
           "nan - p:nan",
           "nan - p:nan",
           "nan - p:nan",
           "nan - p:nan",
           "nan - p:nan",
           "nan - p:nan",
           "nan - p:nan"
          ],
          [
           "-0.116 - p:0.242",
           "0.012 - p:0.902",
           "0.105 - p:0.29",
           "nan - p:nan",
           "0.514 - p:0.0",
           "nan - p:nan",
           "1.0 - p:0.0"
          ]
         ],
         "textfont": {
          "size": 20
         },
         "texttemplate": "%{text}",
         "type": "heatmap",
         "x": [
          "depressionCont",
          "n_not_experienced",
          "train_avg_MAE",
          "src_edge_0_trained",
          "src_content_0_trained",
          "bias_0_trained",
          "edge_0_trained"
         ],
         "y": [
          "depressionCont",
          "n_not_experienced",
          "train_avg_MAE",
          "src_edge_0_trained",
          "src_content_0_trained",
          "bias_0_trained",
          "edge_0_trained"
         ],
         "z": [
          [
           1,
           0.19603373502450852,
           0.2634865008373689,
           null,
           -0.08790183586635601,
           null,
           -0.11571035297380917
          ],
          [
           0.19603373502450852,
           0.9999999999999999,
           0.5871394851141492,
           null,
           0.060599565334846804,
           null,
           0.012168029175307571
          ],
          [
           0.2634865008373689,
           0.5871394851141492,
           1,
           null,
           0.1568441267470394,
           null,
           0.10465165902059106
          ],
          [
           null,
           null,
           null,
           null,
           null,
           null,
           null
          ],
          [
           -0.08790183586635601,
           0.0605995653348468,
           0.1568441267470394,
           null,
           1,
           null,
           0.5144777552544543
          ],
          [
           null,
           null,
           null,
           null,
           null,
           null,
           null
          ],
          [
           -0.11571035297380917,
           0.012168029175307573,
           0.10465165902059106,
           null,
           0.5144777552544543,
           null,
           1
          ]
         ]
        }
       ],
       "layout": {
        "template": {
         "data": {
          "bar": [
           {
            "error_x": {
             "color": "#2a3f5f"
            },
            "error_y": {
             "color": "#2a3f5f"
            },
            "marker": {
             "line": {
              "color": "#E5ECF6",
              "width": 0.5
             },
             "pattern": {
              "fillmode": "overlay",
              "size": 10,
              "solidity": 0.2
             }
            },
            "type": "bar"
           }
          ],
          "barpolar": [
           {
            "marker": {
             "line": {
              "color": "#E5ECF6",
              "width": 0.5
             },
             "pattern": {
              "fillmode": "overlay",
              "size": 10,
              "solidity": 0.2
             }
            },
            "type": "barpolar"
           }
          ],
          "carpet": [
           {
            "aaxis": {
             "endlinecolor": "#2a3f5f",
             "gridcolor": "white",
             "linecolor": "white",
             "minorgridcolor": "white",
             "startlinecolor": "#2a3f5f"
            },
            "baxis": {
             "endlinecolor": "#2a3f5f",
             "gridcolor": "white",
             "linecolor": "white",
             "minorgridcolor": "white",
             "startlinecolor": "#2a3f5f"
            },
            "type": "carpet"
           }
          ],
          "choropleth": [
           {
            "colorbar": {
             "outlinewidth": 0,
             "ticks": ""
            },
            "type": "choropleth"
           }
          ],
          "contour": [
           {
            "colorbar": {
             "outlinewidth": 0,
             "ticks": ""
            },
            "colorscale": [
             [
              0,
              "#0d0887"
             ],
             [
              0.1111111111111111,
              "#46039f"
             ],
             [
              0.2222222222222222,
              "#7201a8"
             ],
             [
              0.3333333333333333,
              "#9c179e"
             ],
             [
              0.4444444444444444,
              "#bd3786"
             ],
             [
              0.5555555555555556,
              "#d8576b"
             ],
             [
              0.6666666666666666,
              "#ed7953"
             ],
             [
              0.7777777777777778,
              "#fb9f3a"
             ],
             [
              0.8888888888888888,
              "#fdca26"
             ],
             [
              1,
              "#f0f921"
             ]
            ],
            "type": "contour"
           }
          ],
          "contourcarpet": [
           {
            "colorbar": {
             "outlinewidth": 0,
             "ticks": ""
            },
            "type": "contourcarpet"
           }
          ],
          "heatmap": [
           {
            "colorbar": {
             "outlinewidth": 0,
             "ticks": ""
            },
            "colorscale": [
             [
              0,
              "#0d0887"
             ],
             [
              0.1111111111111111,
              "#46039f"
             ],
             [
              0.2222222222222222,
              "#7201a8"
             ],
             [
              0.3333333333333333,
              "#9c179e"
             ],
             [
              0.4444444444444444,
              "#bd3786"
             ],
             [
              0.5555555555555556,
              "#d8576b"
             ],
             [
              0.6666666666666666,
              "#ed7953"
             ],
             [
              0.7777777777777778,
              "#fb9f3a"
             ],
             [
              0.8888888888888888,
              "#fdca26"
             ],
             [
              1,
              "#f0f921"
             ]
            ],
            "type": "heatmap"
           }
          ],
          "heatmapgl": [
           {
            "colorbar": {
             "outlinewidth": 0,
             "ticks": ""
            },
            "colorscale": [
             [
              0,
              "#0d0887"
             ],
             [
              0.1111111111111111,
              "#46039f"
             ],
             [
              0.2222222222222222,
              "#7201a8"
             ],
             [
              0.3333333333333333,
              "#9c179e"
             ],
             [
              0.4444444444444444,
              "#bd3786"
             ],
             [
              0.5555555555555556,
              "#d8576b"
             ],
             [
              0.6666666666666666,
              "#ed7953"
             ],
             [
              0.7777777777777778,
              "#fb9f3a"
             ],
             [
              0.8888888888888888,
              "#fdca26"
             ],
             [
              1,
              "#f0f921"
             ]
            ],
            "type": "heatmapgl"
           }
          ],
          "histogram": [
           {
            "marker": {
             "pattern": {
              "fillmode": "overlay",
              "size": 10,
              "solidity": 0.2
             }
            },
            "type": "histogram"
           }
          ],
          "histogram2d": [
           {
            "colorbar": {
             "outlinewidth": 0,
             "ticks": ""
            },
            "colorscale": [
             [
              0,
              "#0d0887"
             ],
             [
              0.1111111111111111,
              "#46039f"
             ],
             [
              0.2222222222222222,
              "#7201a8"
             ],
             [
              0.3333333333333333,
              "#9c179e"
             ],
             [
              0.4444444444444444,
              "#bd3786"
             ],
             [
              0.5555555555555556,
              "#d8576b"
             ],
             [
              0.6666666666666666,
              "#ed7953"
             ],
             [
              0.7777777777777778,
              "#fb9f3a"
             ],
             [
              0.8888888888888888,
              "#fdca26"
             ],
             [
              1,
              "#f0f921"
             ]
            ],
            "type": "histogram2d"
           }
          ],
          "histogram2dcontour": [
           {
            "colorbar": {
             "outlinewidth": 0,
             "ticks": ""
            },
            "colorscale": [
             [
              0,
              "#0d0887"
             ],
             [
              0.1111111111111111,
              "#46039f"
             ],
             [
              0.2222222222222222,
              "#7201a8"
             ],
             [
              0.3333333333333333,
              "#9c179e"
             ],
             [
              0.4444444444444444,
              "#bd3786"
             ],
             [
              0.5555555555555556,
              "#d8576b"
             ],
             [
              0.6666666666666666,
              "#ed7953"
             ],
             [
              0.7777777777777778,
              "#fb9f3a"
             ],
             [
              0.8888888888888888,
              "#fdca26"
             ],
             [
              1,
              "#f0f921"
             ]
            ],
            "type": "histogram2dcontour"
           }
          ],
          "mesh3d": [
           {
            "colorbar": {
             "outlinewidth": 0,
             "ticks": ""
            },
            "type": "mesh3d"
           }
          ],
          "parcoords": [
           {
            "line": {
             "colorbar": {
              "outlinewidth": 0,
              "ticks": ""
             }
            },
            "type": "parcoords"
           }
          ],
          "pie": [
           {
            "automargin": true,
            "type": "pie"
           }
          ],
          "scatter": [
           {
            "fillpattern": {
             "fillmode": "overlay",
             "size": 10,
             "solidity": 0.2
            },
            "type": "scatter"
           }
          ],
          "scatter3d": [
           {
            "line": {
             "colorbar": {
              "outlinewidth": 0,
              "ticks": ""
             }
            },
            "marker": {
             "colorbar": {
              "outlinewidth": 0,
              "ticks": ""
             }
            },
            "type": "scatter3d"
           }
          ],
          "scattercarpet": [
           {
            "marker": {
             "colorbar": {
              "outlinewidth": 0,
              "ticks": ""
             }
            },
            "type": "scattercarpet"
           }
          ],
          "scattergeo": [
           {
            "marker": {
             "colorbar": {
              "outlinewidth": 0,
              "ticks": ""
             }
            },
            "type": "scattergeo"
           }
          ],
          "scattergl": [
           {
            "marker": {
             "colorbar": {
              "outlinewidth": 0,
              "ticks": ""
             }
            },
            "type": "scattergl"
           }
          ],
          "scattermapbox": [
           {
            "marker": {
             "colorbar": {
              "outlinewidth": 0,
              "ticks": ""
             }
            },
            "type": "scattermapbox"
           }
          ],
          "scatterpolar": [
           {
            "marker": {
             "colorbar": {
              "outlinewidth": 0,
              "ticks": ""
             }
            },
            "type": "scatterpolar"
           }
          ],
          "scatterpolargl": [
           {
            "marker": {
             "colorbar": {
              "outlinewidth": 0,
              "ticks": ""
             }
            },
            "type": "scatterpolargl"
           }
          ],
          "scatterternary": [
           {
            "marker": {
             "colorbar": {
              "outlinewidth": 0,
              "ticks": ""
             }
            },
            "type": "scatterternary"
           }
          ],
          "surface": [
           {
            "colorbar": {
             "outlinewidth": 0,
             "ticks": ""
            },
            "colorscale": [
             [
              0,
              "#0d0887"
             ],
             [
              0.1111111111111111,
              "#46039f"
             ],
             [
              0.2222222222222222,
              "#7201a8"
             ],
             [
              0.3333333333333333,
              "#9c179e"
             ],
             [
              0.4444444444444444,
              "#bd3786"
             ],
             [
              0.5555555555555556,
              "#d8576b"
             ],
             [
              0.6666666666666666,
              "#ed7953"
             ],
             [
              0.7777777777777778,
              "#fb9f3a"
             ],
             [
              0.8888888888888888,
              "#fdca26"
             ],
             [
              1,
              "#f0f921"
             ]
            ],
            "type": "surface"
           }
          ],
          "table": [
           {
            "cells": {
             "fill": {
              "color": "#EBF0F8"
             },
             "line": {
              "color": "white"
             }
            },
            "header": {
             "fill": {
              "color": "#C8D4E3"
             },
             "line": {
              "color": "white"
             }
            },
            "type": "table"
           }
          ]
         },
         "layout": {
          "annotationdefaults": {
           "arrowcolor": "#2a3f5f",
           "arrowhead": 0,
           "arrowwidth": 1
          },
          "autotypenumbers": "strict",
          "coloraxis": {
           "colorbar": {
            "outlinewidth": 0,
            "ticks": ""
           }
          },
          "colorscale": {
           "diverging": [
            [
             0,
             "#8e0152"
            ],
            [
             0.1,
             "#c51b7d"
            ],
            [
             0.2,
             "#de77ae"
            ],
            [
             0.3,
             "#f1b6da"
            ],
            [
             0.4,
             "#fde0ef"
            ],
            [
             0.5,
             "#f7f7f7"
            ],
            [
             0.6,
             "#e6f5d0"
            ],
            [
             0.7,
             "#b8e186"
            ],
            [
             0.8,
             "#7fbc41"
            ],
            [
             0.9,
             "#4d9221"
            ],
            [
             1,
             "#276419"
            ]
           ],
           "sequential": [
            [
             0,
             "#0d0887"
            ],
            [
             0.1111111111111111,
             "#46039f"
            ],
            [
             0.2222222222222222,
             "#7201a8"
            ],
            [
             0.3333333333333333,
             "#9c179e"
            ],
            [
             0.4444444444444444,
             "#bd3786"
            ],
            [
             0.5555555555555556,
             "#d8576b"
            ],
            [
             0.6666666666666666,
             "#ed7953"
            ],
            [
             0.7777777777777778,
             "#fb9f3a"
            ],
            [
             0.8888888888888888,
             "#fdca26"
            ],
            [
             1,
             "#f0f921"
            ]
           ],
           "sequentialminus": [
            [
             0,
             "#0d0887"
            ],
            [
             0.1111111111111111,
             "#46039f"
            ],
            [
             0.2222222222222222,
             "#7201a8"
            ],
            [
             0.3333333333333333,
             "#9c179e"
            ],
            [
             0.4444444444444444,
             "#bd3786"
            ],
            [
             0.5555555555555556,
             "#d8576b"
            ],
            [
             0.6666666666666666,
             "#ed7953"
            ],
            [
             0.7777777777777778,
             "#fb9f3a"
            ],
            [
             0.8888888888888888,
             "#fdca26"
            ],
            [
             1,
             "#f0f921"
            ]
           ]
          },
          "colorway": [
           "#636efa",
           "#EF553B",
           "#00cc96",
           "#ab63fa",
           "#FFA15A",
           "#19d3f3",
           "#FF6692",
           "#B6E880",
           "#FF97FF",
           "#FECB52"
          ],
          "font": {
           "color": "#2a3f5f"
          },
          "geo": {
           "bgcolor": "white",
           "lakecolor": "white",
           "landcolor": "#E5ECF6",
           "showlakes": true,
           "showland": true,
           "subunitcolor": "white"
          },
          "hoverlabel": {
           "align": "left"
          },
          "hovermode": "closest",
          "mapbox": {
           "style": "light"
          },
          "paper_bgcolor": "white",
          "plot_bgcolor": "#E5ECF6",
          "polar": {
           "angularaxis": {
            "gridcolor": "white",
            "linecolor": "white",
            "ticks": ""
           },
           "bgcolor": "#E5ECF6",
           "radialaxis": {
            "gridcolor": "white",
            "linecolor": "white",
            "ticks": ""
           }
          },
          "scene": {
           "xaxis": {
            "backgroundcolor": "#E5ECF6",
            "gridcolor": "white",
            "gridwidth": 2,
            "linecolor": "white",
            "showbackground": true,
            "ticks": "",
            "zerolinecolor": "white"
           },
           "yaxis": {
            "backgroundcolor": "#E5ECF6",
            "gridcolor": "white",
            "gridwidth": 2,
            "linecolor": "white",
            "showbackground": true,
            "ticks": "",
            "zerolinecolor": "white"
           },
           "zaxis": {
            "backgroundcolor": "#E5ECF6",
            "gridcolor": "white",
            "gridwidth": 2,
            "linecolor": "white",
            "showbackground": true,
            "ticks": "",
            "zerolinecolor": "white"
           }
          },
          "shapedefaults": {
           "line": {
            "color": "#2a3f5f"
           }
          },
          "ternary": {
           "aaxis": {
            "gridcolor": "white",
            "linecolor": "white",
            "ticks": ""
           },
           "baxis": {
            "gridcolor": "white",
            "linecolor": "white",
            "ticks": ""
           },
           "bgcolor": "#E5ECF6",
           "caxis": {
            "gridcolor": "white",
            "linecolor": "white",
            "ticks": ""
           }
          },
          "title": {
           "x": 0.05
          },
          "xaxis": {
           "automargin": true,
           "gridcolor": "white",
           "linecolor": "white",
           "ticks": "",
           "title": {
            "standoff": 15
           },
           "zerolinecolor": "white",
           "zerolinewidth": 2
          },
          "yaxis": {
           "automargin": true,
           "gridcolor": "white",
           "linecolor": "white",
           "ticks": "",
           "title": {
            "standoff": 15
           },
           "zerolinecolor": "white",
           "zerolinewidth": 2
          }
         }
        }
       }
      }
     },
     "metadata": {},
     "output_type": "display_data"
    }
   ],
   "source": [
    "var_names = [\"depressionCont\",\"n_not_experienced\",\"train_avg_MAE\",\"src_edge_0_trained\",\"src_content_0_trained\",\"bias_0_trained\",\"edge_0_trained\"]\n",
    "r,p = spearmanr(data[var_names])\n",
    "\n",
    "\n",
    "text = np.round(r,3).astype(str)\n",
    "p_values = np.round(p,3).astype(str)\n",
    "\n",
    "for i in range(text.shape[0]):\n",
    "    for j in range(text.shape[1]):\n",
    "        text[i,j] = text[i,j] + \" - p:\" + p_values[i,j]\n",
    "\n",
    "fig = go.Figure(data=go.Heatmap(\n",
    "                    z=r,\n",
    "                    x = var_names,\n",
    "                    y = var_names,\n",
    "                    text=text,\n",
    "                    texttemplate=\"%{text}\",\n",
    "                    textfont={\"size\":20}))\n",
    "fig.update\n",
    "fig.show()"
   ]
  },
  {
   "cell_type": "markdown",
   "id": "ecd753b8",
   "metadata": {},
   "source": [
    "\"2025-06-23_23-21__GAT_liking_sim_amp_3NN_3ExpNN_no_val\" doesn't show clear trend between depressionCont and any of src_edge_0_trained, src_content_0_trained, bias_0_trained and edge_trained. There may be one with src_edge_0_trained (spearman = -0.0876, p = 0.0672; pearson = -0.0875, p = 0.0964). Some correlations appears between src_content_0_trained, edge_0_trained and bias_0_trained. This argues for removing some parameters - maybe one by one - maybe src_content_0_trained which is \"correlating\" the most.\n",
    "\n",
    "Alternatively, dimensionality reduction applied to src_edge_0_trained, src_content_0_trained, bias_0_trained and edge_traine before classification could help."
   ]
  },
  {
   "cell_type": "code",
   "execution_count": 34,
   "id": "9117e4bc",
   "metadata": {},
   "outputs": [
    {
     "data": {
      "text/html": [
       "<div>\n",
       "<style scoped>\n",
       "    .dataframe tbody tr th:only-of-type {\n",
       "        vertical-align: middle;\n",
       "    }\n",
       "\n",
       "    .dataframe tbody tr th {\n",
       "        vertical-align: top;\n",
       "    }\n",
       "\n",
       "    .dataframe thead th {\n",
       "        text-align: right;\n",
       "    }\n",
       "</style>\n",
       "<table border=\"1\" class=\"dataframe\">\n",
       "  <thead>\n",
       "    <tr style=\"text-align: right;\">\n",
       "      <th></th>\n",
       "      <th>depression</th>\n",
       "      <th>depressionCont</th>\n",
       "      <th>female</th>\n",
       "      <th>age</th>\n",
       "      <th>n_not_experienced</th>\n",
       "      <th>participant_id</th>\n",
       "      <th>model.device</th>\n",
       "      <th>model.update_node_module.name</th>\n",
       "      <th>model.update_node_module.parameters.add_self_loops</th>\n",
       "      <th>model.update_node_module.parameters.bias</th>\n",
       "      <th>...</th>\n",
       "      <th>src_edge_0_trained</th>\n",
       "      <th>full_src_edge_0_trained</th>\n",
       "      <th>dst_content_0_trained</th>\n",
       "      <th>att_dst_edge_0_trained</th>\n",
       "      <th>dst_edge_0_trained</th>\n",
       "      <th>full_dst_edge_0_trained</th>\n",
       "      <th>att_edge_0_trained</th>\n",
       "      <th>edge_0_trained</th>\n",
       "      <th>full_edge_0_trained</th>\n",
       "      <th>bias_0_trained</th>\n",
       "    </tr>\n",
       "  </thead>\n",
       "  <tbody>\n",
       "    <tr>\n",
       "      <th>0</th>\n",
       "      <td>1</td>\n",
       "      <td>37</td>\n",
       "      <td>0</td>\n",
       "      <td>32</td>\n",
       "      <td>4</td>\n",
       "      <td>88</td>\n",
       "      <td>cuda</td>\n",
       "      <td>MyGATConv</td>\n",
       "      <td>False</td>\n",
       "      <td>False</td>\n",
       "      <td>...</td>\n",
       "      <td>NaN</td>\n",
       "      <td>NaN</td>\n",
       "      <td>NaN</td>\n",
       "      <td>1.0</td>\n",
       "      <td>NaN</td>\n",
       "      <td>NaN</td>\n",
       "      <td>1.0</td>\n",
       "      <td>0.294976</td>\n",
       "      <td>0.294976</td>\n",
       "      <td>NaN</td>\n",
       "    </tr>\n",
       "    <tr>\n",
       "      <th>1</th>\n",
       "      <td>1</td>\n",
       "      <td>15</td>\n",
       "      <td>0</td>\n",
       "      <td>39</td>\n",
       "      <td>2</td>\n",
       "      <td>50</td>\n",
       "      <td>cuda</td>\n",
       "      <td>MyGATConv</td>\n",
       "      <td>False</td>\n",
       "      <td>False</td>\n",
       "      <td>...</td>\n",
       "      <td>NaN</td>\n",
       "      <td>NaN</td>\n",
       "      <td>NaN</td>\n",
       "      <td>1.0</td>\n",
       "      <td>NaN</td>\n",
       "      <td>NaN</td>\n",
       "      <td>1.0</td>\n",
       "      <td>-2.086369</td>\n",
       "      <td>-2.086369</td>\n",
       "      <td>NaN</td>\n",
       "    </tr>\n",
       "    <tr>\n",
       "      <th>2</th>\n",
       "      <td>1</td>\n",
       "      <td>45</td>\n",
       "      <td>1</td>\n",
       "      <td>31</td>\n",
       "      <td>12</td>\n",
       "      <td>49</td>\n",
       "      <td>cuda</td>\n",
       "      <td>MyGATConv</td>\n",
       "      <td>False</td>\n",
       "      <td>False</td>\n",
       "      <td>...</td>\n",
       "      <td>NaN</td>\n",
       "      <td>NaN</td>\n",
       "      <td>NaN</td>\n",
       "      <td>1.0</td>\n",
       "      <td>NaN</td>\n",
       "      <td>NaN</td>\n",
       "      <td>1.0</td>\n",
       "      <td>0.643253</td>\n",
       "      <td>0.643253</td>\n",
       "      <td>NaN</td>\n",
       "    </tr>\n",
       "    <tr>\n",
       "      <th>3</th>\n",
       "      <td>1</td>\n",
       "      <td>21</td>\n",
       "      <td>0</td>\n",
       "      <td>27</td>\n",
       "      <td>4</td>\n",
       "      <td>35</td>\n",
       "      <td>cuda</td>\n",
       "      <td>MyGATConv</td>\n",
       "      <td>False</td>\n",
       "      <td>False</td>\n",
       "      <td>...</td>\n",
       "      <td>NaN</td>\n",
       "      <td>NaN</td>\n",
       "      <td>NaN</td>\n",
       "      <td>1.0</td>\n",
       "      <td>NaN</td>\n",
       "      <td>NaN</td>\n",
       "      <td>1.0</td>\n",
       "      <td>0.789400</td>\n",
       "      <td>0.789400</td>\n",
       "      <td>NaN</td>\n",
       "    </tr>\n",
       "    <tr>\n",
       "      <th>4</th>\n",
       "      <td>1</td>\n",
       "      <td>36</td>\n",
       "      <td>1</td>\n",
       "      <td>23</td>\n",
       "      <td>20</td>\n",
       "      <td>26</td>\n",
       "      <td>cuda</td>\n",
       "      <td>MyGATConv</td>\n",
       "      <td>False</td>\n",
       "      <td>False</td>\n",
       "      <td>...</td>\n",
       "      <td>NaN</td>\n",
       "      <td>NaN</td>\n",
       "      <td>NaN</td>\n",
       "      <td>1.0</td>\n",
       "      <td>NaN</td>\n",
       "      <td>NaN</td>\n",
       "      <td>1.0</td>\n",
       "      <td>-1.509002</td>\n",
       "      <td>-1.509002</td>\n",
       "      <td>NaN</td>\n",
       "    </tr>\n",
       "    <tr>\n",
       "      <th>...</th>\n",
       "      <td>...</td>\n",
       "      <td>...</td>\n",
       "      <td>...</td>\n",
       "      <td>...</td>\n",
       "      <td>...</td>\n",
       "      <td>...</td>\n",
       "      <td>...</td>\n",
       "      <td>...</td>\n",
       "      <td>...</td>\n",
       "      <td>...</td>\n",
       "      <td>...</td>\n",
       "      <td>...</td>\n",
       "      <td>...</td>\n",
       "      <td>...</td>\n",
       "      <td>...</td>\n",
       "      <td>...</td>\n",
       "      <td>...</td>\n",
       "      <td>...</td>\n",
       "      <td>...</td>\n",
       "      <td>...</td>\n",
       "      <td>...</td>\n",
       "    </tr>\n",
       "    <tr>\n",
       "      <th>99</th>\n",
       "      <td>0</td>\n",
       "      <td>7</td>\n",
       "      <td>0</td>\n",
       "      <td>48</td>\n",
       "      <td>4</td>\n",
       "      <td>71</td>\n",
       "      <td>cuda</td>\n",
       "      <td>MyGATConv</td>\n",
       "      <td>False</td>\n",
       "      <td>False</td>\n",
       "      <td>...</td>\n",
       "      <td>NaN</td>\n",
       "      <td>NaN</td>\n",
       "      <td>NaN</td>\n",
       "      <td>1.0</td>\n",
       "      <td>NaN</td>\n",
       "      <td>NaN</td>\n",
       "      <td>1.0</td>\n",
       "      <td>0.855573</td>\n",
       "      <td>0.855573</td>\n",
       "      <td>NaN</td>\n",
       "    </tr>\n",
       "    <tr>\n",
       "      <th>100</th>\n",
       "      <td>0</td>\n",
       "      <td>12</td>\n",
       "      <td>1</td>\n",
       "      <td>29</td>\n",
       "      <td>9</td>\n",
       "      <td>1</td>\n",
       "      <td>cuda</td>\n",
       "      <td>MyGATConv</td>\n",
       "      <td>False</td>\n",
       "      <td>False</td>\n",
       "      <td>...</td>\n",
       "      <td>NaN</td>\n",
       "      <td>NaN</td>\n",
       "      <td>NaN</td>\n",
       "      <td>1.0</td>\n",
       "      <td>NaN</td>\n",
       "      <td>NaN</td>\n",
       "      <td>1.0</td>\n",
       "      <td>-0.963878</td>\n",
       "      <td>-0.963878</td>\n",
       "      <td>NaN</td>\n",
       "    </tr>\n",
       "    <tr>\n",
       "      <th>101</th>\n",
       "      <td>1</td>\n",
       "      <td>31</td>\n",
       "      <td>1</td>\n",
       "      <td>33</td>\n",
       "      <td>8</td>\n",
       "      <td>22</td>\n",
       "      <td>cuda</td>\n",
       "      <td>MyGATConv</td>\n",
       "      <td>False</td>\n",
       "      <td>False</td>\n",
       "      <td>...</td>\n",
       "      <td>NaN</td>\n",
       "      <td>NaN</td>\n",
       "      <td>NaN</td>\n",
       "      <td>1.0</td>\n",
       "      <td>NaN</td>\n",
       "      <td>NaN</td>\n",
       "      <td>1.0</td>\n",
       "      <td>-0.378190</td>\n",
       "      <td>-0.378190</td>\n",
       "      <td>NaN</td>\n",
       "    </tr>\n",
       "    <tr>\n",
       "      <th>102</th>\n",
       "      <td>1</td>\n",
       "      <td>42</td>\n",
       "      <td>1</td>\n",
       "      <td>39</td>\n",
       "      <td>9</td>\n",
       "      <td>25</td>\n",
       "      <td>cuda</td>\n",
       "      <td>MyGATConv</td>\n",
       "      <td>False</td>\n",
       "      <td>False</td>\n",
       "      <td>...</td>\n",
       "      <td>NaN</td>\n",
       "      <td>NaN</td>\n",
       "      <td>NaN</td>\n",
       "      <td>1.0</td>\n",
       "      <td>NaN</td>\n",
       "      <td>NaN</td>\n",
       "      <td>1.0</td>\n",
       "      <td>1.347253</td>\n",
       "      <td>1.347253</td>\n",
       "      <td>NaN</td>\n",
       "    </tr>\n",
       "    <tr>\n",
       "      <th>103</th>\n",
       "      <td>1</td>\n",
       "      <td>28</td>\n",
       "      <td>1</td>\n",
       "      <td>21</td>\n",
       "      <td>6</td>\n",
       "      <td>62</td>\n",
       "      <td>cuda</td>\n",
       "      <td>MyGATConv</td>\n",
       "      <td>False</td>\n",
       "      <td>False</td>\n",
       "      <td>...</td>\n",
       "      <td>NaN</td>\n",
       "      <td>NaN</td>\n",
       "      <td>NaN</td>\n",
       "      <td>1.0</td>\n",
       "      <td>NaN</td>\n",
       "      <td>NaN</td>\n",
       "      <td>1.0</td>\n",
       "      <td>-1.270419</td>\n",
       "      <td>-1.270419</td>\n",
       "      <td>NaN</td>\n",
       "    </tr>\n",
       "  </tbody>\n",
       "</table>\n",
       "<p>104 rows × 125 columns</p>\n",
       "</div>"
      ],
      "text/plain": [
       "     depression  depressionCont  female  age  n_not_experienced  \\\n",
       "0             1              37       0   32                  4   \n",
       "1             1              15       0   39                  2   \n",
       "2             1              45       1   31                 12   \n",
       "3             1              21       0   27                  4   \n",
       "4             1              36       1   23                 20   \n",
       "..          ...             ...     ...  ...                ...   \n",
       "99            0               7       0   48                  4   \n",
       "100           0              12       1   29                  9   \n",
       "101           1              31       1   33                  8   \n",
       "102           1              42       1   39                  9   \n",
       "103           1              28       1   21                  6   \n",
       "\n",
       "     participant_id model.device model.update_node_module.name  \\\n",
       "0                88         cuda                     MyGATConv   \n",
       "1                50         cuda                     MyGATConv   \n",
       "2                49         cuda                     MyGATConv   \n",
       "3                35         cuda                     MyGATConv   \n",
       "4                26         cuda                     MyGATConv   \n",
       "..              ...          ...                           ...   \n",
       "99               71         cuda                     MyGATConv   \n",
       "100               1         cuda                     MyGATConv   \n",
       "101              22         cuda                     MyGATConv   \n",
       "102              25         cuda                     MyGATConv   \n",
       "103              62         cuda                     MyGATConv   \n",
       "\n",
       "     model.update_node_module.parameters.add_self_loops  \\\n",
       "0                                                False    \n",
       "1                                                False    \n",
       "2                                                False    \n",
       "3                                                False    \n",
       "4                                                False    \n",
       "..                                                 ...    \n",
       "99                                               False    \n",
       "100                                              False    \n",
       "101                                              False    \n",
       "102                                              False    \n",
       "103                                              False    \n",
       "\n",
       "     model.update_node_module.parameters.bias  ...  src_edge_0_trained  \\\n",
       "0                                       False  ...                 NaN   \n",
       "1                                       False  ...                 NaN   \n",
       "2                                       False  ...                 NaN   \n",
       "3                                       False  ...                 NaN   \n",
       "4                                       False  ...                 NaN   \n",
       "..                                        ...  ...                 ...   \n",
       "99                                      False  ...                 NaN   \n",
       "100                                     False  ...                 NaN   \n",
       "101                                     False  ...                 NaN   \n",
       "102                                     False  ...                 NaN   \n",
       "103                                     False  ...                 NaN   \n",
       "\n",
       "     full_src_edge_0_trained  dst_content_0_trained  att_dst_edge_0_trained  \\\n",
       "0                        NaN                    NaN                     1.0   \n",
       "1                        NaN                    NaN                     1.0   \n",
       "2                        NaN                    NaN                     1.0   \n",
       "3                        NaN                    NaN                     1.0   \n",
       "4                        NaN                    NaN                     1.0   \n",
       "..                       ...                    ...                     ...   \n",
       "99                       NaN                    NaN                     1.0   \n",
       "100                      NaN                    NaN                     1.0   \n",
       "101                      NaN                    NaN                     1.0   \n",
       "102                      NaN                    NaN                     1.0   \n",
       "103                      NaN                    NaN                     1.0   \n",
       "\n",
       "    dst_edge_0_trained  full_dst_edge_0_trained  att_edge_0_trained  \\\n",
       "0                  NaN                      NaN                 1.0   \n",
       "1                  NaN                      NaN                 1.0   \n",
       "2                  NaN                      NaN                 1.0   \n",
       "3                  NaN                      NaN                 1.0   \n",
       "4                  NaN                      NaN                 1.0   \n",
       "..                 ...                      ...                 ...   \n",
       "99                 NaN                      NaN                 1.0   \n",
       "100                NaN                      NaN                 1.0   \n",
       "101                NaN                      NaN                 1.0   \n",
       "102                NaN                      NaN                 1.0   \n",
       "103                NaN                      NaN                 1.0   \n",
       "\n",
       "    edge_0_trained  full_edge_0_trained bias_0_trained  \n",
       "0         0.294976             0.294976            NaN  \n",
       "1        -2.086369            -2.086369            NaN  \n",
       "2         0.643253             0.643253            NaN  \n",
       "3         0.789400             0.789400            NaN  \n",
       "4        -1.509002            -1.509002            NaN  \n",
       "..             ...                  ...            ...  \n",
       "99        0.855573             0.855573            NaN  \n",
       "100      -0.963878            -0.963878            NaN  \n",
       "101      -0.378190            -0.378190            NaN  \n",
       "102       1.347253             1.347253            NaN  \n",
       "103      -1.270419            -1.270419            NaN  \n",
       "\n",
       "[104 rows x 125 columns]"
      ]
     },
     "execution_count": 34,
     "metadata": {},
     "output_type": "execute_result"
    }
   ],
   "source": [
    "data"
   ]
  },
  {
   "cell_type": "code",
   "execution_count": null,
   "id": "d9a8cab5",
   "metadata": {},
   "outputs": [
    {
     "name": "stdout",
     "output_type": "stream",
     "text": [
      "== results.summary() ==\n",
      "\n",
      "                             OLS Regression Results                            \n",
      "==============================================================================\n",
      "Dep. Variable:         depressionCont   R-squared:                       0.219\n",
      "Model:                            OLS   Adj. R-squared:                  0.086\n",
      "Method:                 Least Squares   F-statistic:                     1.646\n",
      "Date:                Wed, 25 Jun 2025   Prob (F-statistic):             0.0777\n",
      "Time:                        11:07:32   Log-Likelihood:                -397.49\n",
      "No. Observations:                 104   AIC:                             827.0\n",
      "Df Residuals:                      88   BIC:                             869.3\n",
      "Df Model:                          15                                         \n",
      "Covariance Type:            nonrobust                                         \n",
      "========================================================================================================================================\n",
      "                                                                           coef    std err          t      P>|t|      [0.025      0.975]\n",
      "----------------------------------------------------------------------------------------------------------------------------------------\n",
      "Intercept                                                                8.0148      5.526      1.450      0.151      -2.968      18.997\n",
      "train_avg_MAE                                                            2.7133      7.959      0.341      0.734     -13.103      18.530\n",
      "n_not_experienced                                                        0.0951      0.648      0.147      0.884      -1.192       1.382\n",
      "train_avg_MAE:n_not_experienced                                          0.4409      0.688      0.641      0.523      -0.926       1.808\n",
      "src_content_0_trained                                                   -1.6561      3.927     -0.422      0.674      -9.461       6.149\n",
      "train_avg_MAE:src_content_0_trained                                      3.3406      5.490      0.608      0.544      -7.570      14.252\n",
      "n_not_experienced:src_content_0_trained                                  0.5744      0.597      0.962      0.339      -0.612       1.761\n",
      "train_avg_MAE:n_not_experienced:src_content_0_trained                   -0.8952      0.647     -1.385      0.170      -2.180       0.390\n",
      "edge_0_trained                                                          -2.7251      4.604     -0.592      0.555     -11.875       6.425\n",
      "train_avg_MAE:edge_0_trained                                             3.1149      6.245      0.499      0.619      -9.297      15.526\n",
      "n_not_experienced:edge_0_trained                                         0.3740      0.719      0.520      0.604      -1.054       1.802\n",
      "train_avg_MAE:n_not_experienced:edge_0_trained                          -0.5508      0.696     -0.791      0.431      -1.934       0.833\n",
      "src_content_0_trained:edge_0_trained                                    -1.8293      1.903     -0.961      0.339      -5.612       1.953\n",
      "train_avg_MAE:src_content_0_trained:edge_0_trained                       4.5198      2.952      1.531      0.129      -1.347      10.387\n",
      "n_not_experienced:src_content_0_trained:edge_0_trained                   0.2360      0.476      0.495      0.622      -0.711       1.183\n",
      "train_avg_MAE:n_not_experienced:src_content_0_trained:edge_0_trained    -0.4178      0.536     -0.779      0.438      -1.483       0.648\n",
      "==============================================================================\n",
      "Omnibus:                        7.074   Durbin-Watson:                   1.686\n",
      "Prob(Omnibus):                  0.029   Jarque-Bera (JB):                7.204\n",
      "Skew:                           0.644   Prob(JB):                       0.0273\n",
      "Kurtosis:                       2.958   Cond. No.                         244.\n",
      "==============================================================================\n",
      "\n",
      "Notes:\n",
      "[1] Standard Errors assume that the covariance matrix of the errors is correctly specified. \n",
      "\n",
      " == end summary ==\n"
     ]
    }
   ],
   "source": [
    "results = smf.ols(\"depressionCont ~ n_not_experienced * src_content_0_trained * edge_0_trained\", data=data).fit()\n",
    "print(\"== results.summary() ==\\n\\n\",results.summary(),\"\\n\\n == end summary ==\")"
   ]
  },
  {
   "cell_type": "markdown",
   "id": "14a953e1",
   "metadata": {},
   "source": [
    "\"2025-06-23_23-21__GAT_liking_sim_amp_3NN_3ExpNN_no_val\" r2 = 0.187 with depressionCont ~ n_not_experienced * src_edge_0_trained * src_content_0_trained * edge_0_trained * bias_0_trained\n",
    "\n",
    "src_content_0_trained                                                                       -7.5368      2.778     -2.713      0.007 \n",
    "\n",
    "n_not_experienced:src_content_0_trained                                                      0.7426      0.312      2.378      0.018 \n",
    "\n",
    "n_not_experienced:bias_0_trained                                                            -0.5171      0.263     -1.964      0.050 \n",
    "\n",
    "The higher the bias the less likely depressed. The highest the src_content param, the less likely depressed.\n",
    "\n",
    "The parameter n_not_experienced is a moderator. Hard to tell from this what happens when n_not_experienced increases. But we know that it correlates with depressionCont (spearman 0.18, pearson 0.274).\n",
    "\n",
    "\n",
    "\n",
    "depressionCont ~ train_avg_MAE * n_not_experienced * src_edge_0_trained * src_content_0_trained * edge_0_trained * bias_0_trained\n",
    "\n",
    "reaches r2 = 0.338\n",
    "\n",
    "Likewise, train_avg_MAE should be studied as a moderator. This vouches for some structural equation modelling. Additionally check the best model for each participant so that train_avg_MAE is not required: just take the best model. "
   ]
  },
  {
   "cell_type": "code",
   "execution_count": 84,
   "id": "c3849797",
   "metadata": {},
   "outputs": [
    {
     "data": {
      "text/plain": [
       "Text(0, 0.5, 'Within Cluster Sum of Squares')"
      ]
     },
     "execution_count": 84,
     "metadata": {},
     "output_type": "execute_result"
    },
    {
     "data": {
      "image/png": "[encoded data removed]",
      "text/plain": [
       "<Figure size 640x480 with 1 Axes>"
      ]
     },
     "metadata": {},
     "output_type": "display_data"
    }
   ],
   "source": [
    "\n",
    "X = data[[\"src_edge_0_trained\", \"src_content_0_trained\", \"edge_0_trained\", \"bias_0_trained\"]]\n",
    "kmeans = KMeans(n_clusters=2, random_state=0, n_init=\"auto\").fit(X)\n",
    "\n",
    "wcss = []\n",
    "\n",
    "for i in range(1,11):\n",
    "    kmeans = KMeans(n_clusters=i,max_iter=300,n_init=10,random_state=0)\n",
    "    km=kmeans.fit(X)\n",
    "    wcss.append(kmeans.inertia_)\n",
    "\n",
    "plt.figure()\n",
    "plt.plot(range(1,11),wcss, marker=\"o\")\n",
    "\n",
    "plt.title('The Elbow Method')\n",
    "plt.xlabel('Number of clusters')\n",
    "plt.ylabel('Within Cluster Sum of Squares')"
   ]
  },
  {
   "cell_type": "code",
   "execution_count": 73,
   "id": "7c94d97f",
   "metadata": {},
   "outputs": [],
   "source": [
    "from sklearn.decomposition import PCA\n",
    "\n",
    "\n",
    "#visualizing the 6 clusters in 2 dimensions with 2 principal componenets\n",
    "#reducing data to 2 prinicipal components\n",
    "pca_2comp=PCA(n_components=2)\n",
    "df_reduced_2comp=pca_2comp.fit_transform(X)\n",
    "\n",
    "# running Kmeans for 6 clusters on 2 PC's\n",
    "kmeans_pca_2comp=KMeans(n_clusters=4)\n",
    "reduced_cluster_labels_2comp=kmeans_pca_2comp.fit_predict(df_reduced_2comp)\n",
    "centers_2comp=kmeans_pca_2comp.cluster_centers_\n",
    "\n",
    "#creating dataframes for cluster labels and 2 PC's\n",
    "predictions=pd.DataFrame(reduced_cluster_labels_2comp,columns=['cluster_pred'])\n",
    "reduced_df_2comp=pd.DataFrame(np.round(df_reduced_2comp,4),columns=['Dimension 1','Dimension 2'])\n",
    "\n",
    "# concatanete the above two dfs\n",
    "to_plot=pd.concat([predictions,reduced_df_2comp,data[[\"depression\"]]], axis=1)"
   ]
  },
  {
   "cell_type": "code",
   "execution_count": 74,
   "id": "35072eb3",
   "metadata": {},
   "outputs": [
    {
     "data": {
      "text/html": [
       "<div>\n",
       "<style scoped>\n",
       "    .dataframe tbody tr th:only-of-type {\n",
       "        vertical-align: middle;\n",
       "    }\n",
       "\n",
       "    .dataframe tbody tr th {\n",
       "        vertical-align: top;\n",
       "    }\n",
       "\n",
       "    .dataframe thead th {\n",
       "        text-align: right;\n",
       "    }\n",
       "</style>\n",
       "<table border=\"1\" class=\"dataframe\">\n",
       "  <thead>\n",
       "    <tr style=\"text-align: right;\">\n",
       "      <th></th>\n",
       "      <th>cluster_pred</th>\n",
       "      <th>Dimension 1</th>\n",
       "      <th>Dimension 2</th>\n",
       "      <th>depression</th>\n",
       "    </tr>\n",
       "  </thead>\n",
       "  <tbody>\n",
       "    <tr>\n",
       "      <th>0</th>\n",
       "      <td>0</td>\n",
       "      <td>-1.8254</td>\n",
       "      <td>-1.4497</td>\n",
       "      <td>1</td>\n",
       "    </tr>\n",
       "    <tr>\n",
       "      <th>1</th>\n",
       "      <td>2</td>\n",
       "      <td>-1.0130</td>\n",
       "      <td>0.3030</td>\n",
       "      <td>1</td>\n",
       "    </tr>\n",
       "    <tr>\n",
       "      <th>2</th>\n",
       "      <td>2</td>\n",
       "      <td>-0.1817</td>\n",
       "      <td>0.1925</td>\n",
       "      <td>1</td>\n",
       "    </tr>\n",
       "    <tr>\n",
       "      <th>3</th>\n",
       "      <td>3</td>\n",
       "      <td>0.4808</td>\n",
       "      <td>-0.6984</td>\n",
       "      <td>1</td>\n",
       "    </tr>\n",
       "    <tr>\n",
       "      <th>4</th>\n",
       "      <td>0</td>\n",
       "      <td>-2.4086</td>\n",
       "      <td>-0.2209</td>\n",
       "      <td>1</td>\n",
       "    </tr>\n",
       "    <tr>\n",
       "      <th>...</th>\n",
       "      <td>...</td>\n",
       "      <td>...</td>\n",
       "      <td>...</td>\n",
       "      <td>...</td>\n",
       "    </tr>\n",
       "    <tr>\n",
       "      <th>357</th>\n",
       "      <td>0</td>\n",
       "      <td>-1.8739</td>\n",
       "      <td>0.4003</td>\n",
       "      <td>1</td>\n",
       "    </tr>\n",
       "    <tr>\n",
       "      <th>358</th>\n",
       "      <td>0</td>\n",
       "      <td>-1.1449</td>\n",
       "      <td>-0.1038</td>\n",
       "      <td>1</td>\n",
       "    </tr>\n",
       "    <tr>\n",
       "      <th>359</th>\n",
       "      <td>2</td>\n",
       "      <td>-0.3177</td>\n",
       "      <td>1.2282</td>\n",
       "      <td>1</td>\n",
       "    </tr>\n",
       "    <tr>\n",
       "      <th>360</th>\n",
       "      <td>2</td>\n",
       "      <td>-0.1845</td>\n",
       "      <td>0.4437</td>\n",
       "      <td>1</td>\n",
       "    </tr>\n",
       "    <tr>\n",
       "      <th>361</th>\n",
       "      <td>2</td>\n",
       "      <td>-0.3865</td>\n",
       "      <td>0.0275</td>\n",
       "      <td>1</td>\n",
       "    </tr>\n",
       "  </tbody>\n",
       "</table>\n",
       "<p>362 rows × 4 columns</p>\n",
       "</div>"
      ],
      "text/plain": [
       "     cluster_pred  Dimension 1  Dimension 2  depression\n",
       "0               0      -1.8254      -1.4497           1\n",
       "1               2      -1.0130       0.3030           1\n",
       "2               2      -0.1817       0.1925           1\n",
       "3               3       0.4808      -0.6984           1\n",
       "4               0      -2.4086      -0.2209           1\n",
       "..            ...          ...          ...         ...\n",
       "357             0      -1.8739       0.4003           1\n",
       "358             0      -1.1449      -0.1038           1\n",
       "359             2      -0.3177       1.2282           1\n",
       "360             2      -0.1845       0.4437           1\n",
       "361             2      -0.3865       0.0275           1\n",
       "\n",
       "[362 rows x 4 columns]"
      ]
     },
     "execution_count": 74,
     "metadata": {},
     "output_type": "execute_result"
    }
   ],
   "source": [
    "to_plot"
   ]
  },
  {
   "cell_type": "code",
   "execution_count": 76,
   "id": "54f25412",
   "metadata": {},
   "outputs": [
    {
     "data": {
      "image/png": "[encoded data removed]",
      "text/plain": [
       "<Figure size 1500x800 with 1 Axes>"
      ]
     },
     "metadata": {},
     "output_type": "display_data"
    }
   ],
   "source": [
    "plt.figure(figsize=(15,8))\n",
    "ax=plt.subplot()\n",
    "\n",
    "colors=['red','green','blue','orange','yellow','purple']\n",
    "n_clusters = 4\n",
    "centers = centers_2comp\n",
    "for n_clusters in range(n_clusters):\n",
    "        \n",
    "    # colors = cm.nipy_spectral((to_plot['Cluster_pred']== n_clusters).astype(float) / n_clusters)\n",
    "        #colors=['red','green','blue','orange','yellow','purple']\n",
    "    \n",
    "\n",
    "    # not depression\n",
    "    cluster_mask = to_plot['cluster_pred'] == n_clusters\n",
    "    depression_mask  = to_plot['depression'] == 1\n",
    "    ax.scatter(to_plot[cluster_mask*depression_mask][\"Dimension 1\"],to_plot[cluster_mask*depression_mask][\"Dimension 2\"],\n",
    "        marker='.', \n",
    "        s=80, lw=0, alpha=0.7,\n",
    "        c=colors[n_clusters], \n",
    "        edgecolor='black', \n",
    "        label='Cluster %d - depression'%n_clusters)\n",
    "\n",
    "    ax.scatter(to_plot[cluster_mask*(~depression_mask)][\"Dimension 1\"],to_plot[cluster_mask*(~depression_mask)][\"Dimension 2\"],\n",
    "        marker='v', \n",
    "        s=80, lw=0, alpha=0.7,\n",
    "        c=colors[n_clusters], \n",
    "        edgecolor='black', \n",
    "        label='Cluster %d - no depression'%n_clusters)\n",
    "            \n",
    "    # Draw white circles at cluster centers\n",
    "        \n",
    "\n",
    "    for i, c in enumerate(centers):\n",
    "           \n",
    "        ax.scatter(c[0], c[1], marker='o',\n",
    "                        c=\"white\", alpha=1, s=200, edgecolor='k')\n",
    "        ax.scatter(c[0], c[1], marker='$%d$' % i, alpha=1,\n",
    "                            s=80, edgecolor='k')\n",
    "\n",
    "ax.set_title(\"The visualization of the clustered data.\")\n",
    "ax.set_xlabel(\"Dimension 1\")\n",
    "ax.set_ylabel(\"Dimension 2\")\n",
    "\n",
    "plt.legend()    \n",
    "plt.show()"
   ]
  },
  {
   "cell_type": "code",
   "execution_count": 114,
   "id": "d10c6e32",
   "metadata": {},
   "outputs": [
    {
     "name": "stdout",
     "output_type": "stream",
     "text": [
      "[0.92960973 0.02864859 0.02043299 0.01349978 0.0078089 ]\n"
     ]
    },
    {
     "data": {
      "text/plain": [
       "[<matplotlib.lines.Line2D at 0x7cfd918c8490>]"
      ]
     },
     "execution_count": 114,
     "metadata": {},
     "output_type": "execute_result"
    },
    {
     "data": {
      "image/png": "[encoded data removed]",
      "text/plain": [
       "<Figure size 640x480 with 1 Axes>"
      ]
     },
     "metadata": {},
     "output_type": "display_data"
    }
   ],
   "source": [
    "param_names = [\"src_edge_0_trained\", \"src_content_0_trained\", \"edge_0_trained\", \"bias_0_trained\", \"n_not_experienced\"]\n",
    "\n",
    "pca = PCA(n_components=len(param_names), svd_solver='full')\n",
    "pca.fit(data[param_names])\n",
    "print(pca.explained_variance_ratio_)\n",
    "plt.plot(np.arange(1,len(param_names)+1),pca.explained_variance_ratio_)"
   ]
  },
  {
   "cell_type": "code",
   "execution_count": 104,
   "id": "f6dc0139",
   "metadata": {},
   "outputs": [
    {
     "name": "stdout",
     "output_type": "stream",
     "text": [
      "[0.92960973 0.02864859 0.02043299 0.01349978 0.0078089 ]\n",
      "== results.summary() ==\n",
      "\n",
      "                             OLS Regression Results                            \n",
      "==============================================================================\n",
      "Dep. Variable:         depressionCont   R-squared:                       0.177\n",
      "Model:                            OLS   Adj. R-squared:                  0.099\n",
      "Method:                 Least Squares   F-statistic:                     2.284\n",
      "Date:                Tue, 24 Jun 2025   Prob (F-statistic):           0.000193\n",
      "Time:                        12:38:34   Log-Likelihood:                -1394.3\n",
      "No. Observations:                 362   AIC:                             2853.\n",
      "Df Residuals:                     330   BIC:                             2977.\n",
      "Df Model:                          31                                         \n",
      "Covariance Type:            nonrobust                                         \n",
      "=================================================================================================\n",
      "                                    coef    std err          t      P>|t|      [0.025      0.975]\n",
      "-------------------------------------------------------------------------------------------------\n",
      "Intercept                        14.7661      0.659     22.397      0.000      13.469      16.063\n",
      "dim_0                             0.7415      0.127      5.838      0.000       0.492       0.991\n",
      "dim_1                            -0.2755      0.751     -0.367      0.714      -1.753       1.202\n",
      "dim_0:dim_1                       0.0803      0.169      0.474      0.636      -0.253       0.414\n",
      "dim_2                            -0.2573      0.911     -0.282      0.778      -2.050       1.536\n",
      "dim_0:dim_2                       0.0215      0.191      0.113      0.910      -0.354       0.397\n",
      "dim_1:dim_2                       0.5656      0.805      0.702      0.483      -1.018       2.150\n",
      "dim_0:dim_1:dim_2                -0.0991      0.169     -0.585      0.559      -0.432       0.234\n",
      "dim_3                            -1.9648      1.143     -1.718      0.087      -4.214       0.285\n",
      "dim_0:dim_3                       0.2658      0.239      1.112      0.267      -0.204       0.736\n",
      "dim_1:dim_3                      -1.5492      1.567     -0.989      0.324      -4.632       1.533\n",
      "dim_0:dim_1:dim_3                -0.0865      0.341     -0.254      0.800      -0.757       0.584\n",
      "dim_2:dim_3                       0.0919      1.456      0.063      0.950      -2.773       2.956\n",
      "dim_0:dim_2:dim_3                -0.1850      0.338     -0.547      0.585      -0.851       0.480\n",
      "dim_1:dim_2:dim_3                 1.7990      1.738      1.035      0.302      -1.621       5.219\n",
      "dim_0:dim_1:dim_2:dim_3          -0.4186      0.326     -1.284      0.200      -1.060       0.223\n",
      "dim_4                            -1.7456      1.423     -1.226      0.221      -4.546       1.055\n",
      "dim_0:dim_4                      -0.1118      0.272     -0.410      0.682      -0.648       0.424\n",
      "dim_1:dim_4                      -1.3501      2.017     -0.669      0.504      -5.318       2.618\n",
      "dim_0:dim_1:dim_4                -0.9051      0.462     -1.960      0.051      -1.813       0.003\n",
      "dim_2:dim_4                      -1.9415      2.145     -0.905      0.366      -6.161       2.278\n",
      "dim_0:dim_2:dim_4                -0.0617      0.400     -0.154      0.877      -0.848       0.725\n",
      "dim_1:dim_2:dim_4                 3.9056      2.358      1.656      0.099      -0.733       8.545\n",
      "dim_0:dim_1:dim_2:dim_4          -0.2157      0.501     -0.430      0.667      -1.202       0.770\n",
      "dim_3:dim_4                      -1.2025      2.897     -0.415      0.678      -6.901       4.496\n",
      "dim_0:dim_3:dim_4                -0.4205      0.572     -0.736      0.462      -1.545       0.704\n",
      "dim_1:dim_3:dim_4               -11.3303      4.579     -2.475      0.014     -20.338      -2.323\n",
      "dim_0:dim_1:dim_3:dim_4          -0.9281      0.961     -0.966      0.335      -2.819       0.963\n",
      "dim_2:dim_3:dim_4                -1.7500      3.884     -0.451      0.653      -9.391       5.891\n",
      "dim_0:dim_2:dim_3:dim_4          -0.3247      0.785     -0.414      0.679      -1.869       1.219\n",
      "dim_1:dim_2:dim_3:dim_4         -10.2174      5.957     -1.715      0.087     -21.936       1.501\n",
      "dim_0:dim_1:dim_2:dim_3:dim_4     0.0475      0.903      0.053      0.958      -1.728       1.823\n",
      "==============================================================================\n",
      "Omnibus:                       22.824   Durbin-Watson:                   0.650\n",
      "Prob(Omnibus):                  0.000   Jarque-Bera (JB):               16.016\n",
      "Skew:                           0.399   Prob(JB):                     0.000333\n",
      "Kurtosis:                       2.348   Cond. No.                         59.6\n",
      "==============================================================================\n",
      "\n",
      "Notes:\n",
      "[1] Standard Errors assume that the covariance matrix of the errors is correctly specified. \n",
      "\n",
      " == end summary ==\n"
     ]
    }
   ],
   "source": [
    "pca = PCA(n_components=5, svd_solver='full')\n",
    "pca.fit(data[param_names])\n",
    "print(pca.explained_variance_ratio_)\n",
    "new_X = pca.transform(data[param_names])\n",
    "new_X = pd.DataFrame(new_X,columns=[f\"dim_{i}\" for i in range(new_X.shape[-1])])\n",
    "new_data = new_X.copy()\n",
    "new_data[\"depressionCont\"] = data[\"depressionCont\"].copy()\n",
    "new_data[\"n_not_experienced\"] = data[\"n_not_experienced\"].copy()\n",
    "\n",
    "results = smf.ols(\"depressionCont ~ dim_0 * dim_1 * dim_2 * dim_3 * dim_4\", data=new_data).fit()\n",
    "print(\"== results.summary() ==\\n\\n\",results.summary(),\"\\n\\n == end summary ==\")"
   ]
  },
  {
   "cell_type": "markdown",
   "id": "73478f66",
   "metadata": {},
   "source": [
    "\"2025-06-23_23-21__GAT_liking_sim_amp_3NN_3ExpNN_no_val\" r2 = 0.199 with depressionCont ~ n_not_experienced * dim_0 * dim_1 * dim_2 * dim_3\n",
    "\n",
    "a bit of improvement but no dimension reduction... Maybe because PCA decorrelate the variables."
   ]
  },
  {
   "cell_type": "code",
   "execution_count": 90,
   "id": "7d007230",
   "metadata": {},
   "outputs": [
    {
     "data": {
      "application/vnd.plotly.v1+json": {
       "config": {
        "plotlyServerURL": "https://plot.ly"
       },
       "data": [
        {
         "link": {
          "hovercolor": [
           "midnightblue",
           "lightskyblue",
           "gold",
           "mediumturquoise",
           "lightgreen",
           "cyan"
          ],
          "source": [
           0,
           1,
           0,
           2,
           3,
           3
          ],
          "target": [
           2,
           3,
           3,
           4,
           4,
           5
          ],
          "value": [
           8,
           4,
           2,
           8,
           4,
           3
          ]
         },
         "node": {
          "color": "blue",
          "label": [
           "A1",
           "A2",
           "B1",
           "B2",
           "C1",
           "C2"
          ],
          "line": {
           "color": "black",
           "width": 0.5
          },
          "pad": 15,
          "thickness": 20
         },
         "type": "sankey"
        }
       ],
       "layout": {
        "font": {
         "size": 10
        },
        "template": {
         "data": {
          "bar": [
           {
            "error_x": {
             "color": "#2a3f5f"
            },
            "error_y": {
             "color": "#2a3f5f"
            },
            "marker": {
             "line": {
              "color": "#E5ECF6",
              "width": 0.5
             },
             "pattern": {
              "fillmode": "overlay",
              "size": 10,
              "solidity": 0.2
             }
            },
            "type": "bar"
           }
          ],
          "barpolar": [
           {
            "marker": {
             "line": {
              "color": "#E5ECF6",
              "width": 0.5
             },
             "pattern": {
              "fillmode": "overlay",
              "size": 10,
              "solidity": 0.2
             }
            },
            "type": "barpolar"
           }
          ],
          "carpet": [
           {
            "aaxis": {
             "endlinecolor": "#2a3f5f",
             "gridcolor": "white",
             "linecolor": "white",
             "minorgridcolor": "white",
             "startlinecolor": "#2a3f5f"
            },
            "baxis": {
             "endlinecolor": "#2a3f5f",
             "gridcolor": "white",
             "linecolor": "white",
             "minorgridcolor": "white",
             "startlinecolor": "#2a3f5f"
            },
            "type": "carpet"
           }
          ],
          "choropleth": [
           {
            "colorbar": {
             "outlinewidth": 0,
             "ticks": ""
            },
            "type": "choropleth"
           }
          ],
          "contour": [
           {
            "colorbar": {
             "outlinewidth": 0,
             "ticks": ""
            },
            "colorscale": [
             [
              0,
              "#0d0887"
             ],
             [
              0.1111111111111111,
              "#46039f"
             ],
             [
              0.2222222222222222,
              "#7201a8"
             ],
             [
              0.3333333333333333,
              "#9c179e"
             ],
             [
              0.4444444444444444,
              "#bd3786"
             ],
             [
              0.5555555555555556,
              "#d8576b"
             ],
             [
              0.6666666666666666,
              "#ed7953"
             ],
             [
              0.7777777777777778,
              "#fb9f3a"
             ],
             [
              0.8888888888888888,
              "#fdca26"
             ],
             [
              1,
              "#f0f921"
             ]
            ],
            "type": "contour"
           }
          ],
          "contourcarpet": [
           {
            "colorbar": {
             "outlinewidth": 0,
             "ticks": ""
            },
            "type": "contourcarpet"
           }
          ],
          "heatmap": [
           {
            "colorbar": {
             "outlinewidth": 0,
             "ticks": ""
            },
            "colorscale": [
             [
              0,
              "#0d0887"
             ],
             [
              0.1111111111111111,
              "#46039f"
             ],
             [
              0.2222222222222222,
              "#7201a8"
             ],
             [
              0.3333333333333333,
              "#9c179e"
             ],
             [
              0.4444444444444444,
              "#bd3786"
             ],
             [
              0.5555555555555556,
              "#d8576b"
             ],
             [
              0.6666666666666666,
              "#ed7953"
             ],
             [
              0.7777777777777778,
              "#fb9f3a"
             ],
             [
              0.8888888888888888,
              "#fdca26"
             ],
             [
              1,
              "#f0f921"
             ]
            ],
            "type": "heatmap"
           }
          ],
          "heatmapgl": [
           {
            "colorbar": {
             "outlinewidth": 0,
             "ticks": ""
            },
            "colorscale": [
             [
              0,
              "#0d0887"
             ],
             [
              0.1111111111111111,
              "#46039f"
             ],
             [
              0.2222222222222222,
              "#7201a8"
             ],
             [
              0.3333333333333333,
              "#9c179e"
             ],
             [
              0.4444444444444444,
              "#bd3786"
             ],
             [
              0.5555555555555556,
              "#d8576b"
             ],
             [
              0.6666666666666666,
              "#ed7953"
             ],
             [
              0.7777777777777778,
              "#fb9f3a"
             ],
             [
              0.8888888888888888,
              "#fdca26"
             ],
             [
              1,
              "#f0f921"
             ]
            ],
            "type": "heatmapgl"
           }
          ],
          "histogram": [
           {
            "marker": {
             "pattern": {
              "fillmode": "overlay",
              "size": 10,
              "solidity": 0.2
             }
            },
            "type": "histogram"
           }
          ],
          "histogram2d": [
           {
            "colorbar": {
             "outlinewidth": 0,
             "ticks": ""
            },
            "colorscale": [
             [
              0,
              "#0d0887"
             ],
             [
              0.1111111111111111,
              "#46039f"
             ],
             [
              0.2222222222222222,
              "#7201a8"
             ],
             [
              0.3333333333333333,
              "#9c179e"
             ],
             [
              0.4444444444444444,
              "#bd3786"
             ],
             [
              0.5555555555555556,
              "#d8576b"
             ],
             [
              0.6666666666666666,
              "#ed7953"
             ],
             [
              0.7777777777777778,
              "#fb9f3a"
             ],
             [
              0.8888888888888888,
              "#fdca26"
             ],
             [
              1,
              "#f0f921"
             ]
            ],
            "type": "histogram2d"
           }
          ],
          "histogram2dcontour": [
           {
            "colorbar": {
             "outlinewidth": 0,
             "ticks": ""
            },
            "colorscale": [
             [
              0,
              "#0d0887"
             ],
             [
              0.1111111111111111,
              "#46039f"
             ],
             [
              0.2222222222222222,
              "#7201a8"
             ],
             [
              0.3333333333333333,
              "#9c179e"
             ],
             [
              0.4444444444444444,
              "#bd3786"
             ],
             [
              0.5555555555555556,
              "#d8576b"
             ],
             [
              0.6666666666666666,
              "#ed7953"
             ],
             [
              0.7777777777777778,
              "#fb9f3a"
             ],
             [
              0.8888888888888888,
              "#fdca26"
             ],
             [
              1,
              "#f0f921"
             ]
            ],
            "type": "histogram2dcontour"
           }
          ],
          "mesh3d": [
           {
            "colorbar": {
             "outlinewidth": 0,
             "ticks": ""
            },
            "type": "mesh3d"
           }
          ],
          "parcoords": [
           {
            "line": {
             "colorbar": {
              "outlinewidth": 0,
              "ticks": ""
             }
            },
            "type": "parcoords"
           }
          ],
          "pie": [
           {
            "automargin": true,
            "type": "pie"
           }
          ],
          "scatter": [
           {
            "fillpattern": {
             "fillmode": "overlay",
             "size": 10,
             "solidity": 0.2
            },
            "type": "scatter"
           }
          ],
          "scatter3d": [
           {
            "line": {
             "colorbar": {
              "outlinewidth": 0,
              "ticks": ""
             }
            },
            "marker": {
             "colorbar": {
              "outlinewidth": 0,
              "ticks": ""
             }
            },
            "type": "scatter3d"
           }
          ],
          "scattercarpet": [
           {
            "marker": {
             "colorbar": {
              "outlinewidth": 0,
              "ticks": ""
             }
            },
            "type": "scattercarpet"
           }
          ],
          "scattergeo": [
           {
            "marker": {
             "colorbar": {
              "outlinewidth": 0,
              "ticks": ""
             }
            },
            "type": "scattergeo"
           }
          ],
          "scattergl": [
           {
            "marker": {
             "colorbar": {
              "outlinewidth": 0,
              "ticks": ""
             }
            },
            "type": "scattergl"
           }
          ],
          "scattermapbox": [
           {
            "marker": {
             "colorbar": {
              "outlinewidth": 0,
              "ticks": ""
             }
            },
            "type": "scattermapbox"
           }
          ],
          "scatterpolar": [
           {
            "marker": {
             "colorbar": {
              "outlinewidth": 0,
              "ticks": ""
             }
            },
            "type": "scatterpolar"
           }
          ],
          "scatterpolargl": [
           {
            "marker": {
             "colorbar": {
              "outlinewidth": 0,
              "ticks": ""
             }
            },
            "type": "scatterpolargl"
           }
          ],
          "scatterternary": [
           {
            "marker": {
             "colorbar": {
              "outlinewidth": 0,
              "ticks": ""
             }
            },
            "type": "scatterternary"
           }
          ],
          "surface": [
           {
            "colorbar": {
             "outlinewidth": 0,
             "ticks": ""
            },
            "colorscale": [
             [
              0,
              "#0d0887"
             ],
             [
              0.1111111111111111,
              "#46039f"
             ],
             [
              0.2222222222222222,
              "#7201a8"
             ],
             [
              0.3333333333333333,
              "#9c179e"
             ],
             [
              0.4444444444444444,
              "#bd3786"
             ],
             [
              0.5555555555555556,
              "#d8576b"
             ],
             [
              0.6666666666666666,
              "#ed7953"
             ],
             [
              0.7777777777777778,
              "#fb9f3a"
             ],
             [
              0.8888888888888888,
              "#fdca26"
             ],
             [
              1,
              "#f0f921"
             ]
            ],
            "type": "surface"
           }
          ],
          "table": [
           {
            "cells": {
             "fill": {
              "color": "#EBF0F8"
             },
             "line": {
              "color": "white"
             }
            },
            "header": {
             "fill": {
              "color": "#C8D4E3"
             },
             "line": {
              "color": "white"
             }
            },
            "type": "table"
           }
          ]
         },
         "layout": {
          "annotationdefaults": {
           "arrowcolor": "#2a3f5f",
           "arrowhead": 0,
           "arrowwidth": 1
          },
          "autotypenumbers": "strict",
          "coloraxis": {
           "colorbar": {
            "outlinewidth": 0,
            "ticks": ""
           }
          },
          "colorscale": {
           "diverging": [
            [
             0,
             "#8e0152"
            ],
            [
             0.1,
             "#c51b7d"
            ],
            [
             0.2,
             "#de77ae"
            ],
            [
             0.3,
             "#f1b6da"
            ],
            [
             0.4,
             "#fde0ef"
            ],
            [
             0.5,
             "#f7f7f7"
            ],
            [
             0.6,
             "#e6f5d0"
            ],
            [
             0.7,
             "#b8e186"
            ],
            [
             0.8,
             "#7fbc41"
            ],
            [
             0.9,
             "#4d9221"
            ],
            [
             1,
             "#276419"
            ]
           ],
           "sequential": [
            [
             0,
             "#0d0887"
            ],
            [
             0.1111111111111111,
             "#46039f"
            ],
            [
             0.2222222222222222,
             "#7201a8"
            ],
            [
             0.3333333333333333,
             "#9c179e"
            ],
            [
             0.4444444444444444,
             "#bd3786"
            ],
            [
             0.5555555555555556,
             "#d8576b"
            ],
            [
             0.6666666666666666,
             "#ed7953"
            ],
            [
             0.7777777777777778,
             "#fb9f3a"
            ],
            [
             0.8888888888888888,
             "#fdca26"
            ],
            [
             1,
             "#f0f921"
            ]
           ],
           "sequentialminus": [
            [
             0,
             "#0d0887"
            ],
            [
             0.1111111111111111,
             "#46039f"
            ],
            [
             0.2222222222222222,
             "#7201a8"
            ],
            [
             0.3333333333333333,
             "#9c179e"
            ],
            [
             0.4444444444444444,
             "#bd3786"
            ],
            [
             0.5555555555555556,
             "#d8576b"
            ],
            [
             0.6666666666666666,
             "#ed7953"
            ],
            [
             0.7777777777777778,
             "#fb9f3a"
            ],
            [
             0.8888888888888888,
             "#fdca26"
            ],
            [
             1,
             "#f0f921"
            ]
           ]
          },
          "colorway": [
           "#636efa",
           "#EF553B",
           "#00cc96",
           "#ab63fa",
           "#FFA15A",
           "#19d3f3",
           "#FF6692",
           "#B6E880",
           "#FF97FF",
           "#FECB52"
          ],
          "font": {
           "color": "#2a3f5f"
          },
          "geo": {
           "bgcolor": "white",
           "lakecolor": "white",
           "landcolor": "#E5ECF6",
           "showlakes": true,
           "showland": true,
           "subunitcolor": "white"
          },
          "hoverlabel": {
           "align": "left"
          },
          "hovermode": "closest",
          "mapbox": {
           "style": "light"
          },
          "paper_bgcolor": "white",
          "plot_bgcolor": "#E5ECF6",
          "polar": {
           "angularaxis": {
            "gridcolor": "white",
            "linecolor": "white",
            "ticks": ""
           },
           "bgcolor": "#E5ECF6",
           "radialaxis": {
            "gridcolor": "white",
            "linecolor": "white",
            "ticks": ""
           }
          },
          "scene": {
           "xaxis": {
            "backgroundcolor": "#E5ECF6",
            "gridcolor": "white",
            "gridwidth": 2,
            "linecolor": "white",
            "showbackground": true,
            "ticks": "",
            "zerolinecolor": "white"
           },
           "yaxis": {
            "backgroundcolor": "#E5ECF6",
            "gridcolor": "white",
            "gridwidth": 2,
            "linecolor": "white",
            "showbackground": true,
            "ticks": "",
            "zerolinecolor": "white"
           },
           "zaxis": {
            "backgroundcolor": "#E5ECF6",
            "gridcolor": "white",
            "gridwidth": 2,
            "linecolor": "white",
            "showbackground": true,
            "ticks": "",
            "zerolinecolor": "white"
           }
          },
          "shapedefaults": {
           "line": {
            "color": "#2a3f5f"
           }
          },
          "ternary": {
           "aaxis": {
            "gridcolor": "white",
            "linecolor": "white",
            "ticks": ""
           },
           "baxis": {
            "gridcolor": "white",
            "linecolor": "white",
            "ticks": ""
           },
           "bgcolor": "#E5ECF6",
           "caxis": {
            "gridcolor": "white",
            "linecolor": "white",
            "ticks": ""
           }
          },
          "title": {
           "x": 0.05
          },
          "xaxis": {
           "automargin": true,
           "gridcolor": "white",
           "linecolor": "white",
           "ticks": "",
           "title": {
            "standoff": 15
           },
           "zerolinecolor": "white",
           "zerolinewidth": 2
          },
          "yaxis": {
           "automargin": true,
           "gridcolor": "white",
           "linecolor": "white",
           "ticks": "",
           "title": {
            "standoff": 15
           },
           "zerolinecolor": "white",
           "zerolinewidth": 2
          }
         }
        },
        "title": {
         "text": "Basic Sankey Diagram"
        }
       }
      }
     },
     "metadata": {},
     "output_type": "display_data"
    }
   ],
   "source": [
    "import plotly.graph_objects as go\n",
    "\n",
    "fig = go.Figure(data=[go.Sankey(\n",
    "    node = dict(\n",
    "      pad = 15,\n",
    "      thickness = 20,\n",
    "      line = dict(color = \"black\", width = 0.5),\n",
    "      label = [\"A1\", \"A2\", \"B1\", \"B2\", \"C1\", \"C2\"],\n",
    "      color = \"blue\"\n",
    "    ),\n",
    "    link = dict(\n",
    "      source = [0, 1, 0, 2, 3, 3],\n",
    "      target = [2, 3, 3, 4, 4, 5],\n",
    "      value = [8, 4, 2, 8, 4, 3],\n",
    "      hovercolor=[\"midnightblue\", \"lightskyblue\", \"gold\", \"mediumturquoise\", \"lightgreen\", \"cyan\"],\n",
    "  ))])\n",
    "\n",
    "fig.update_layout(title_text=\"Basic Sankey Diagram\", font_size=10)\n",
    "fig.show()"
   ]
  },
  {
   "cell_type": "markdown",
   "id": "82ae8214",
   "metadata": {},
   "source": [
    "# Next steps"
   ]
  },
  {
   "cell_type": "markdown",
   "id": "1369b64b",
   "metadata": {},
   "source": [
    "Hyp:\n",
    "\n",
    "0 - underestimation: low bias x depression\n",
    "\n",
    "1 - narrow generalization in depth (vertical) (neg src_content x depression)\n",
    "\n",
    "2 - narrow generalization across (horizontal) (use of high edge_0_trained x depression = stick to similar, and high src_edge_0_trained -x depression = attention to negative stimuli)\n",
    "\n",
    "## \"2025-06-23_23-21__GAT_liking_sim_amp_3NN_3ExpNN_no_val\" \n",
    "\n",
    "Some preliminary results for src_content_0_trained (hyp 1) and bias_0_trained (hyp 0). Both negative, which foster India's first hypothesis.\n",
    "\n",
    "There is no use for edge_0_trained and src_edge_0_trained... This contradict hypothesis 2... It may not work for edge_0_trained because similarity is already low predictor of liking AND the graph structure is already constrained by similarity. Increasing the number of connections in the graph may change that pattern for both parameters.\n",
    "\n",
    "- (TODO): Do without leap and only 1st degree \n",
    "\n",
    "- (TODO): Increase number of connections not exp to exp\n",
    "\n",
    "It may not work for src_edge_0_trained because the other parameters are already doing the work... See without it.\n",
    "\n",
    "- TODO: n_not_experienced is used as moderator... Do a full mediation x moderation analysis to check the underlying structure\n",
    "\n",
    "depression => +n_not_experienced => +bias vs depression, (n_not_experienced) => +bias\n",
    "\n",
    "CAREFUL: even for those parameters, should check whether I can retrieve them on a same participant_graph from new initializations .\n",
    "\n",
    "- TODO: There are a lot of correlations between parameters. This is unwanted because it shows overidentification (two params that counteract / thwart each other). TODO: factor design to see which parameters are more essential.\n",
    "\n",
    "PCA didn't contradict the use of those 4 though.\n",
    "\n",
    "\n",
    "train_avg_MAE correlates with train_avg_MAE \"2025-06-07_15-31__GAT_LR-1.0_bias-True_att-liking-True_amp-liking-True_diss-liking-False_liking2d-False\" - (pearson 0.849 p<1e-3; spearman 0.856 p<1e-3)\n",
    "\n",
    "On average train_avg_MAE is improved of 0.051 compared to \"2025-06-07_15-31__GAT_LR-1.0_bias-True_att-liking-True_amp-liking-True_diss-liking-False_liking2d-False\"\n",
    "\n",
    "\n",
    "- TODO: check BIC (well same number of params)\n",
    "\n",
    "- TODO: train_avg_MAE as moderator + the fact that it increases the prediction of depressionCont may insist that for some participants that model is not good at all and those participants should be removed from the analysis.\n",
    "\n",
    "- TODO: check per participant which is the best model + detect outliers (come together because if baseline work, it's that they don't do anything and should be removed...) This will also clean the regression analysis.\n",
    "\n",
    "\n",
    "## Next model"
   ]
  },
  {
   "cell_type": "markdown",
   "id": "4c7ee243",
   "metadata": {},
   "source": []
  }
 ],
 "metadata": {
  "kernelspec": {
   "display_name": "venv_semantic_to_liking",
   "language": "python",
   "name": "python3"
  },
  "language_info": {
   "codemirror_mode": {
    "name": "ipython",
    "version": 3
   },
   "file_extension": ".py",
   "mimetype": "text/x-python",
   "name": "python",
   "nbconvert_exporter": "python",
   "pygments_lexer": "ipython3",
   "version": "3.10.12"
  }
 },
 "nbformat": 4,
 "nbformat_minor": 5
}
