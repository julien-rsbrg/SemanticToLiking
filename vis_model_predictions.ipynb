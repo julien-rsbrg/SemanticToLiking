{
 "cells": [
  {
   "cell_type": "code",
   "execution_count": 66,
   "id": "434dabe8",
   "metadata": {},
   "outputs": [],
   "source": [
    "import os\n",
    "import matplotlib.pyplot\n",
    "import seaborn as sns\n",
    "import plotly.graph_objects as go\n",
    "import numpy as np\n",
    "import pandas as pd\n",
    "\n",
    "import statsmodels.formula.api as smf\n",
    "\n",
    "import sklearn \n",
    "from sklearn.cluster import KMeans\n",
    "import matplotlib.pyplot as plt"
   ]
  },
  {
   "cell_type": "markdown",
   "id": "40099c64",
   "metadata": {},
   "source": [
    "# See pred"
   ]
  },
  {
   "cell_type": "code",
   "execution_count": 67,
   "id": "37363767",
   "metadata": {},
   "outputs": [
    {
     "data": {
      "text/plain": [
       "['2025-06-25_07-58__GAT_liking_sim_amp_3NN_3ExpNN_no_val_bias-False_att-liking-True_amp-liking-True',\n",
       " '2025-06-25_05-01__GAT_liking_sim_amp_3NN_3ExpNN_no_val_bias-False_att-liking-False_amp-liking-False',\n",
       " '2025-06-25_02-17__GAT_liking_sim_amp_3NN_3ExpNN_no_val_bias-True_att-liking-True_amp-liking-False',\n",
       " '2025-06-27_23-15__3NN_3ExpNN_mean',\n",
       " '2025-06-23_23-21__GAT_liking_sim_amp_3NN_3ExpNN_no_val',\n",
       " '2025-06-27_13-02__GAT_liking_sim_amp_3NN_3ExpNN_no_val_bias-False_att-liking-False_amp-liking-True_sim-Zeros',\n",
       " '2025-06-25_03-29__GAT_liking_sim_amp_3NN_3ExpNN_no_val_bias-False_att-liking-True_amp-liking-False',\n",
       " '2025-06-25_06-09__GAT_liking_sim_amp_3NN_3ExpNN_no_val_bias-True_att-liking-False_amp-liking-False',\n",
       " '2025-06-25_07-05__GAT_liking_sim_amp_3NN_3ExpNN_no_val_bias-False_att-liking-False_amp-liking-True',\n",
       " '2025-06-25_01-10__GAT_liking_sim_amp_3NN_3ExpNN_no_val_bias-True_att-liking-False_amp-liking-True']"
      ]
     },
     "execution_count": 67,
     "metadata": {},
     "output_type": "execute_result"
    }
   ],
   "source": [
    "model_names = os.listdir(\"experiments_results/no_validation\")\n",
    "model_names"
   ]
  },
  {
   "cell_type": "code",
   "execution_count": 68,
   "id": "39a15dd1",
   "metadata": {},
   "outputs": [
    {
     "data": {
      "text/html": [
       "<div>\n",
       "<style scoped>\n",
       "    .dataframe tbody tr th:only-of-type {\n",
       "        vertical-align: middle;\n",
       "    }\n",
       "\n",
       "    .dataframe tbody tr th {\n",
       "        vertical-align: top;\n",
       "    }\n",
       "\n",
       "    .dataframe thead th {\n",
       "        text-align: right;\n",
       "    }\n",
       "</style>\n",
       "<table border=\"1\" class=\"dataframe\">\n",
       "  <thead>\n",
       "    <tr style=\"text-align: right;\">\n",
       "      <th></th>\n",
       "      <th>src_content_0</th>\n",
       "      <th>att_src_edge_0</th>\n",
       "      <th>src_edge_0</th>\n",
       "      <th>full_src_edge_0</th>\n",
       "      <th>dst_content_0</th>\n",
       "      <th>att_dst_edge_0</th>\n",
       "      <th>dst_edge_0</th>\n",
       "      <th>full_dst_edge_0</th>\n",
       "      <th>att_edge_0</th>\n",
       "      <th>edge_0</th>\n",
       "      <th>full_edge_0</th>\n",
       "      <th>bias_0</th>\n",
       "    </tr>\n",
       "  </thead>\n",
       "  <tbody>\n",
       "    <tr>\n",
       "      <th>0</th>\n",
       "      <td>0.861218</td>\n",
       "      <td>1.0</td>\n",
       "      <td>1.016936</td>\n",
       "      <td>1.016936</td>\n",
       "      <td>NaN</td>\n",
       "      <td>1.0</td>\n",
       "      <td>NaN</td>\n",
       "      <td>NaN</td>\n",
       "      <td>1.0</td>\n",
       "      <td>0.310336</td>\n",
       "      <td>0.310336</td>\n",
       "      <td>-1.533535</td>\n",
       "    </tr>\n",
       "  </tbody>\n",
       "</table>\n",
       "</div>"
      ],
      "text/plain": [
       "   src_content_0  att_src_edge_0  src_edge_0  full_src_edge_0  dst_content_0  \\\n",
       "0       0.861218             1.0    1.016936         1.016936            NaN   \n",
       "\n",
       "   att_dst_edge_0  dst_edge_0  full_dst_edge_0  att_edge_0    edge_0  \\\n",
       "0             1.0         NaN              NaN         1.0  0.310336   \n",
       "\n",
       "   full_edge_0    bias_0  \n",
       "0     0.310336 -1.533535  "
      ]
     },
     "execution_count": 68,
     "metadata": {},
     "output_type": "execute_result"
    }
   ],
   "source": [
    "pd.read_csv(\"experiments_results/no_validation/2025-06-23_23-21__GAT_liking_sim_amp_3NN_3ExpNN_no_val/raw/participant_15/graph_0/model_params_trained.csv\",index_col=0)"
   ]
  },
  {
   "cell_type": "code",
   "execution_count": 69,
   "id": "1562bf66",
   "metadata": {},
   "outputs": [
    {
     "name": "stdout",
     "output_type": "stream",
     "text": [
      "experiments_results/no_validation/2025-06-23_23-21__GAT_liking_sim_amp_3NN_3ExpNN_no_val/raw/participant_26/graph_0/prediction_table.csv\n"
     ]
    },
    {
     "data": {
      "text/html": [
       "<div>\n",
       "<style scoped>\n",
       "    .dataframe tbody tr th:only-of-type {\n",
       "        vertical-align: middle;\n",
       "    }\n",
       "\n",
       "    .dataframe tbody tr th {\n",
       "        vertical-align: top;\n",
       "    }\n",
       "\n",
       "    .dataframe thead th {\n",
       "        text-align: right;\n",
       "    }\n",
       "</style>\n",
       "<table border=\"1\" class=\"dataframe\">\n",
       "  <thead>\n",
       "    <tr style=\"text-align: right;\">\n",
       "      <th></th>\n",
       "      <th>pred_values</th>\n",
       "      <th>true_values</th>\n",
       "      <th>train_mask</th>\n",
       "      <th>val_mask</th>\n",
       "    </tr>\n",
       "  </thead>\n",
       "  <tbody>\n",
       "    <tr>\n",
       "      <th>0</th>\n",
       "      <td>-1.026939</td>\n",
       "      <td>0.030251</td>\n",
       "      <td>True</td>\n",
       "      <td>False</td>\n",
       "    </tr>\n",
       "    <tr>\n",
       "      <th>1</th>\n",
       "      <td>-1.009157</td>\n",
       "      <td>-0.877266</td>\n",
       "      <td>True</td>\n",
       "      <td>False</td>\n",
       "    </tr>\n",
       "    <tr>\n",
       "      <th>2</th>\n",
       "      <td>-0.363007</td>\n",
       "      <td>-0.363007</td>\n",
       "      <td>False</td>\n",
       "      <td>False</td>\n",
       "    </tr>\n",
       "    <tr>\n",
       "      <th>3</th>\n",
       "      <td>1.119270</td>\n",
       "      <td>1.119270</td>\n",
       "      <td>False</td>\n",
       "      <td>False</td>\n",
       "    </tr>\n",
       "    <tr>\n",
       "      <th>4</th>\n",
       "      <td>-1.004843</td>\n",
       "      <td>-1.512527</td>\n",
       "      <td>True</td>\n",
       "      <td>False</td>\n",
       "    </tr>\n",
       "  </tbody>\n",
       "</table>\n",
       "</div>"
      ],
      "text/plain": [
       "   pred_values  true_values  train_mask  val_mask\n",
       "0    -1.026939     0.030251        True     False\n",
       "1    -1.009157    -0.877266        True     False\n",
       "2    -0.363007    -0.363007       False     False\n",
       "3     1.119270     1.119270       False     False\n",
       "4    -1.004843    -1.512527        True     False"
      ]
     },
     "execution_count": 69,
     "metadata": {},
     "output_type": "execute_result"
    }
   ],
   "source": [
    "model_name = \"2025-06-23_23-21__GAT_liking_sim_amp_3NN_3ExpNN_no_val\"\n",
    "# model_name = \"2025-06-23_00-58__GAT_liking_sim_amp_3NN_3ExpNN\"\n",
    "participant_id = 26\n",
    "graph_id = 0\n",
    "raw_folder_path = os.path.join(\"experiments_results/no_validation\",model_name,\"raw\")\n",
    "pred_table_path = os.path.join(raw_folder_path,f\"participant_{participant_id}\",f\"graph_{graph_id}\",\"prediction_table.csv\")\n",
    "print(pred_table_path)\n",
    "\n",
    "pred_table = pd.read_csv(pred_table_path,index_col = 0)\n",
    "pred_table.head()"
   ]
  },
  {
   "cell_type": "code",
   "execution_count": 70,
   "id": "c745eb47",
   "metadata": {},
   "outputs": [
    {
     "data": {
      "text/plain": [
       "0.6124081332"
      ]
     },
     "execution_count": 70,
     "metadata": {},
     "output_type": "execute_result"
    }
   ],
   "source": [
    "(pred_table[pred_table[\"train_mask\"]][\"pred_values\"] - pred_table[pred_table[\"train_mask\"]][\"true_values\"]).abs().mean()"
   ]
  },
  {
   "cell_type": "code",
   "execution_count": 71,
   "id": "3344b4e1",
   "metadata": {},
   "outputs": [
    {
     "data": {
      "application/vnd.plotly.v1+json": {
       "config": {
        "plotlyServerURL": "https://plot.ly"
       },
       "data": [
        {
         "mode": "lines",
         "name": "truth",
         "type": "scatter",
         "x": [
          -1.5125272,
          0.81676465
         ],
         "y": [
          -1.5125272,
          0.81676465
         ]
        },
        {
         "mode": "markers",
         "name": "training",
         "type": "scatter",
         "x": [
          0.030250544,
          -0.87726575,
          -1.5125272,
          -1.5125272,
          -1.5125272,
          0.6957625,
          -1.5125272,
          -1.5125272,
          -1.5125272,
          -1.2100217,
          -1.5125272,
          -1.5125272,
          -1.4822767,
          -1.5125272,
          -1.5125272,
          -0.36300653,
          -0.36300653,
          -1.1192701,
          -1.5125272,
          0.81676465
         ],
         "y": [
          -1.0269394,
          -1.0091573,
          -1.0048432,
          -1.0660424,
          -1.0491596,
          -1.0279477,
          -1.0065583,
          -1.0207852,
          -1.0042586,
          -1.0251143,
          -1.0026318,
          -1.0590452,
          -0.99139696,
          -1.0127705,
          -1.0241085,
          -1.0249436,
          -1.0037785,
          -0.98790526,
          -0.9880673,
          -1.0092167
         ]
        },
        {
         "mode": "markers",
         "name": "validation",
         "type": "scatter",
         "x": [],
         "y": []
        }
       ],
       "layout": {
        "template": {
         "data": {
          "bar": [
           {
            "error_x": {
             "color": "#2a3f5f"
            },
            "error_y": {
             "color": "#2a3f5f"
            },
            "marker": {
             "line": {
              "color": "#E5ECF6",
              "width": 0.5
             },
             "pattern": {
              "fillmode": "overlay",
              "size": 10,
              "solidity": 0.2
             }
            },
            "type": "bar"
           }
          ],
          "barpolar": [
           {
            "marker": {
             "line": {
              "color": "#E5ECF6",
              "width": 0.5
             },
             "pattern": {
              "fillmode": "overlay",
              "size": 10,
              "solidity": 0.2
             }
            },
            "type": "barpolar"
           }
          ],
          "carpet": [
           {
            "aaxis": {
             "endlinecolor": "#2a3f5f",
             "gridcolor": "white",
             "linecolor": "white",
             "minorgridcolor": "white",
             "startlinecolor": "#2a3f5f"
            },
            "baxis": {
             "endlinecolor": "#2a3f5f",
             "gridcolor": "white",
             "linecolor": "white",
             "minorgridcolor": "white",
             "startlinecolor": "#2a3f5f"
            },
            "type": "carpet"
           }
          ],
          "choropleth": [
           {
            "colorbar": {
             "outlinewidth": 0,
             "ticks": ""
            },
            "type": "choropleth"
           }
          ],
          "contour": [
           {
            "colorbar": {
             "outlinewidth": 0,
             "ticks": ""
            },
            "colorscale": [
             [
              0,
              "#0d0887"
             ],
             [
              0.1111111111111111,
              "#46039f"
             ],
             [
              0.2222222222222222,
              "#7201a8"
             ],
             [
              0.3333333333333333,
              "#9c179e"
             ],
             [
              0.4444444444444444,
              "#bd3786"
             ],
             [
              0.5555555555555556,
              "#d8576b"
             ],
             [
              0.6666666666666666,
              "#ed7953"
             ],
             [
              0.7777777777777778,
              "#fb9f3a"
             ],
             [
              0.8888888888888888,
              "#fdca26"
             ],
             [
              1,
              "#f0f921"
             ]
            ],
            "type": "contour"
           }
          ],
          "contourcarpet": [
           {
            "colorbar": {
             "outlinewidth": 0,
             "ticks": ""
            },
            "type": "contourcarpet"
           }
          ],
          "heatmap": [
           {
            "colorbar": {
             "outlinewidth": 0,
             "ticks": ""
            },
            "colorscale": [
             [
              0,
              "#0d0887"
             ],
             [
              0.1111111111111111,
              "#46039f"
             ],
             [
              0.2222222222222222,
              "#7201a8"
             ],
             [
              0.3333333333333333,
              "#9c179e"
             ],
             [
              0.4444444444444444,
              "#bd3786"
             ],
             [
              0.5555555555555556,
              "#d8576b"
             ],
             [
              0.6666666666666666,
              "#ed7953"
             ],
             [
              0.7777777777777778,
              "#fb9f3a"
             ],
             [
              0.8888888888888888,
              "#fdca26"
             ],
             [
              1,
              "#f0f921"
             ]
            ],
            "type": "heatmap"
           }
          ],
          "heatmapgl": [
           {
            "colorbar": {
             "outlinewidth": 0,
             "ticks": ""
            },
            "colorscale": [
             [
              0,
              "#0d0887"
             ],
             [
              0.1111111111111111,
              "#46039f"
             ],
             [
              0.2222222222222222,
              "#7201a8"
             ],
             [
              0.3333333333333333,
              "#9c179e"
             ],
             [
              0.4444444444444444,
              "#bd3786"
             ],
             [
              0.5555555555555556,
              "#d8576b"
             ],
             [
              0.6666666666666666,
              "#ed7953"
             ],
             [
              0.7777777777777778,
              "#fb9f3a"
             ],
             [
              0.8888888888888888,
              "#fdca26"
             ],
             [
              1,
              "#f0f921"
             ]
            ],
            "type": "heatmapgl"
           }
          ],
          "histogram": [
           {
            "marker": {
             "pattern": {
              "fillmode": "overlay",
              "size": 10,
              "solidity": 0.2
             }
            },
            "type": "histogram"
           }
          ],
          "histogram2d": [
           {
            "colorbar": {
             "outlinewidth": 0,
             "ticks": ""
            },
            "colorscale": [
             [
              0,
              "#0d0887"
             ],
             [
              0.1111111111111111,
              "#46039f"
             ],
             [
              0.2222222222222222,
              "#7201a8"
             ],
             [
              0.3333333333333333,
              "#9c179e"
             ],
             [
              0.4444444444444444,
              "#bd3786"
             ],
             [
              0.5555555555555556,
              "#d8576b"
             ],
             [
              0.6666666666666666,
              "#ed7953"
             ],
             [
              0.7777777777777778,
              "#fb9f3a"
             ],
             [
              0.8888888888888888,
              "#fdca26"
             ],
             [
              1,
              "#f0f921"
             ]
            ],
            "type": "histogram2d"
           }
          ],
          "histogram2dcontour": [
           {
            "colorbar": {
             "outlinewidth": 0,
             "ticks": ""
            },
            "colorscale": [
             [
              0,
              "#0d0887"
             ],
             [
              0.1111111111111111,
              "#46039f"
             ],
             [
              0.2222222222222222,
              "#7201a8"
             ],
             [
              0.3333333333333333,
              "#9c179e"
             ],
             [
              0.4444444444444444,
              "#bd3786"
             ],
             [
              0.5555555555555556,
              "#d8576b"
             ],
             [
              0.6666666666666666,
              "#ed7953"
             ],
             [
              0.7777777777777778,
              "#fb9f3a"
             ],
             [
              0.8888888888888888,
              "#fdca26"
             ],
             [
              1,
              "#f0f921"
             ]
            ],
            "type": "histogram2dcontour"
           }
          ],
          "mesh3d": [
           {
            "colorbar": {
             "outlinewidth": 0,
             "ticks": ""
            },
            "type": "mesh3d"
           }
          ],
          "parcoords": [
           {
            "line": {
             "colorbar": {
              "outlinewidth": 0,
              "ticks": ""
             }
            },
            "type": "parcoords"
           }
          ],
          "pie": [
           {
            "automargin": true,
            "type": "pie"
           }
          ],
          "scatter": [
           {
            "fillpattern": {
             "fillmode": "overlay",
             "size": 10,
             "solidity": 0.2
            },
            "type": "scatter"
           }
          ],
          "scatter3d": [
           {
            "line": {
             "colorbar": {
              "outlinewidth": 0,
              "ticks": ""
             }
            },
            "marker": {
             "colorbar": {
              "outlinewidth": 0,
              "ticks": ""
             }
            },
            "type": "scatter3d"
           }
          ],
          "scattercarpet": [
           {
            "marker": {
             "colorbar": {
              "outlinewidth": 0,
              "ticks": ""
             }
            },
            "type": "scattercarpet"
           }
          ],
          "scattergeo": [
           {
            "marker": {
             "colorbar": {
              "outlinewidth": 0,
              "ticks": ""
             }
            },
            "type": "scattergeo"
           }
          ],
          "scattergl": [
           {
            "marker": {
             "colorbar": {
              "outlinewidth": 0,
              "ticks": ""
             }
            },
            "type": "scattergl"
           }
          ],
          "scattermapbox": [
           {
            "marker": {
             "colorbar": {
              "outlinewidth": 0,
              "ticks": ""
             }
            },
            "type": "scattermapbox"
           }
          ],
          "scatterpolar": [
           {
            "marker": {
             "colorbar": {
              "outlinewidth": 0,
              "ticks": ""
             }
            },
            "type": "scatterpolar"
           }
          ],
          "scatterpolargl": [
           {
            "marker": {
             "colorbar": {
              "outlinewidth": 0,
              "ticks": ""
             }
            },
            "type": "scatterpolargl"
           }
          ],
          "scatterternary": [
           {
            "marker": {
             "colorbar": {
              "outlinewidth": 0,
              "ticks": ""
             }
            },
            "type": "scatterternary"
           }
          ],
          "surface": [
           {
            "colorbar": {
             "outlinewidth": 0,
             "ticks": ""
            },
            "colorscale": [
             [
              0,
              "#0d0887"
             ],
             [
              0.1111111111111111,
              "#46039f"
             ],
             [
              0.2222222222222222,
              "#7201a8"
             ],
             [
              0.3333333333333333,
              "#9c179e"
             ],
             [
              0.4444444444444444,
              "#bd3786"
             ],
             [
              0.5555555555555556,
              "#d8576b"
             ],
             [
              0.6666666666666666,
              "#ed7953"
             ],
             [
              0.7777777777777778,
              "#fb9f3a"
             ],
             [
              0.8888888888888888,
              "#fdca26"
             ],
             [
              1,
              "#f0f921"
             ]
            ],
            "type": "surface"
           }
          ],
          "table": [
           {
            "cells": {
             "fill": {
              "color": "#EBF0F8"
             },
             "line": {
              "color": "white"
             }
            },
            "header": {
             "fill": {
              "color": "#C8D4E3"
             },
             "line": {
              "color": "white"
             }
            },
            "type": "table"
           }
          ]
         },
         "layout": {
          "annotationdefaults": {
           "arrowcolor": "#2a3f5f",
           "arrowhead": 0,
           "arrowwidth": 1
          },
          "autotypenumbers": "strict",
          "coloraxis": {
           "colorbar": {
            "outlinewidth": 0,
            "ticks": ""
           }
          },
          "colorscale": {
           "diverging": [
            [
             0,
             "#8e0152"
            ],
            [
             0.1,
             "#c51b7d"
            ],
            [
             0.2,
             "#de77ae"
            ],
            [
             0.3,
             "#f1b6da"
            ],
            [
             0.4,
             "#fde0ef"
            ],
            [
             0.5,
             "#f7f7f7"
            ],
            [
             0.6,
             "#e6f5d0"
            ],
            [
             0.7,
             "#b8e186"
            ],
            [
             0.8,
             "#7fbc41"
            ],
            [
             0.9,
             "#4d9221"
            ],
            [
             1,
             "#276419"
            ]
           ],
           "sequential": [
            [
             0,
             "#0d0887"
            ],
            [
             0.1111111111111111,
             "#46039f"
            ],
            [
             0.2222222222222222,
             "#7201a8"
            ],
            [
             0.3333333333333333,
             "#9c179e"
            ],
            [
             0.4444444444444444,
             "#bd3786"
            ],
            [
             0.5555555555555556,
             "#d8576b"
            ],
            [
             0.6666666666666666,
             "#ed7953"
            ],
            [
             0.7777777777777778,
             "#fb9f3a"
            ],
            [
             0.8888888888888888,
             "#fdca26"
            ],
            [
             1,
             "#f0f921"
            ]
           ],
           "sequentialminus": [
            [
             0,
             "#0d0887"
            ],
            [
             0.1111111111111111,
             "#46039f"
            ],
            [
             0.2222222222222222,
             "#7201a8"
            ],
            [
             0.3333333333333333,
             "#9c179e"
            ],
            [
             0.4444444444444444,
             "#bd3786"
            ],
            [
             0.5555555555555556,
             "#d8576b"
            ],
            [
             0.6666666666666666,
             "#ed7953"
            ],
            [
             0.7777777777777778,
             "#fb9f3a"
            ],
            [
             0.8888888888888888,
             "#fdca26"
            ],
            [
             1,
             "#f0f921"
            ]
           ]
          },
          "colorway": [
           "#636efa",
           "#EF553B",
           "#00cc96",
           "#ab63fa",
           "#FFA15A",
           "#19d3f3",
           "#FF6692",
           "#B6E880",
           "#FF97FF",
           "#FECB52"
          ],
          "font": {
           "color": "#2a3f5f"
          },
          "geo": {
           "bgcolor": "white",
           "lakecolor": "white",
           "landcolor": "#E5ECF6",
           "showlakes": true,
           "showland": true,
           "subunitcolor": "white"
          },
          "hoverlabel": {
           "align": "left"
          },
          "hovermode": "closest",
          "mapbox": {
           "style": "light"
          },
          "paper_bgcolor": "white",
          "plot_bgcolor": "#E5ECF6",
          "polar": {
           "angularaxis": {
            "gridcolor": "white",
            "linecolor": "white",
            "ticks": ""
           },
           "bgcolor": "#E5ECF6",
           "radialaxis": {
            "gridcolor": "white",
            "linecolor": "white",
            "ticks": ""
           }
          },
          "scene": {
           "xaxis": {
            "backgroundcolor": "#E5ECF6",
            "gridcolor": "white",
            "gridwidth": 2,
            "linecolor": "white",
            "showbackground": true,
            "ticks": "",
            "zerolinecolor": "white"
           },
           "yaxis": {
            "backgroundcolor": "#E5ECF6",
            "gridcolor": "white",
            "gridwidth": 2,
            "linecolor": "white",
            "showbackground": true,
            "ticks": "",
            "zerolinecolor": "white"
           },
           "zaxis": {
            "backgroundcolor": "#E5ECF6",
            "gridcolor": "white",
            "gridwidth": 2,
            "linecolor": "white",
            "showbackground": true,
            "ticks": "",
            "zerolinecolor": "white"
           }
          },
          "shapedefaults": {
           "line": {
            "color": "#2a3f5f"
           }
          },
          "ternary": {
           "aaxis": {
            "gridcolor": "white",
            "linecolor": "white",
            "ticks": ""
           },
           "baxis": {
            "gridcolor": "white",
            "linecolor": "white",
            "ticks": ""
           },
           "bgcolor": "#E5ECF6",
           "caxis": {
            "gridcolor": "white",
            "linecolor": "white",
            "ticks": ""
           }
          },
          "title": {
           "x": 0.05
          },
          "xaxis": {
           "automargin": true,
           "gridcolor": "white",
           "linecolor": "white",
           "ticks": "",
           "title": {
            "standoff": 15
           },
           "zerolinecolor": "white",
           "zerolinewidth": 2
          },
          "yaxis": {
           "automargin": true,
           "gridcolor": "white",
           "linecolor": "white",
           "ticks": "",
           "title": {
            "standoff": 15
           },
           "zerolinecolor": "white",
           "zerolinewidth": 2
          }
         }
        }
       }
      }
     },
     "metadata": {},
     "output_type": "display_data"
    }
   ],
   "source": [
    "fig = go.Figure()\n",
    "\n",
    "fig.add_trace(\n",
    "    go.Scatter(x = [pred_table[pred_table[\"train_mask\"]+pred_table[\"val_mask\"]][\"true_values\"].min(),pred_table[pred_table[\"train_mask\"]+pred_table[\"val_mask\"]][\"true_values\"].max()],\n",
    "               y = [pred_table[pred_table[\"train_mask\"]+pred_table[\"val_mask\"]][\"true_values\"].min(),pred_table[pred_table[\"train_mask\"]+pred_table[\"val_mask\"]][\"true_values\"].max()],\n",
    "               name = \"truth\",\n",
    "               mode = \"lines\")\n",
    ")\n",
    "\n",
    "fig.add_trace(\n",
    "    go.Scatter(x = pred_table[pred_table[\"train_mask\"]][\"true_values\"],\n",
    "               y = pred_table[pred_table[\"train_mask\"]][\"pred_values\"],\n",
    "               name = \"training\",\n",
    "               mode = \"markers\")\n",
    ")\n",
    "\n",
    "fig.add_trace(\n",
    "    go.Scatter(x = pred_table[pred_table[\"val_mask\"]][\"true_values\"],\n",
    "               y = pred_table[pred_table[\"val_mask\"]][\"pred_values\"],\n",
    "               name = \"validation\",\n",
    "               mode = \"markers\")\n",
    ")\n",
    "\n",
    "\n",
    "\n",
    "fig"
   ]
  },
  {
   "cell_type": "code",
   "execution_count": 72,
   "id": "9695a3a5",
   "metadata": {},
   "outputs": [
    {
     "data": {
      "text/plain": [
       "(nan, nan)"
      ]
     },
     "execution_count": 72,
     "metadata": {},
     "output_type": "execute_result"
    }
   ],
   "source": [
    "pred_table[pred_table[\"val_mask\"]][\"pred_values\"].std(), pred_table[pred_table[\"val_mask\"]][\"true_values\"].std()"
   ]
  },
  {
   "cell_type": "markdown",
   "id": "04f423ed",
   "metadata": {},
   "source": [
    "# History"
   ]
  },
  {
   "cell_type": "code",
   "execution_count": 73,
   "id": "2b40aca6",
   "metadata": {},
   "outputs": [
    {
     "name": "stdout",
     "output_type": "stream",
     "text": [
      "20 0\n"
     ]
    },
    {
     "data": {
      "image/png": "[encoded data removed]",
      "text/plain": [
       "<Figure size 640x480 with 1 Axes>"
      ]
     },
     "metadata": {},
     "output_type": "display_data"
    }
   ],
   "source": [
    "history_path = os.path.join(raw_folder_path,f\"participant_{29}\",f\"graph_{graph_id}\",\"history.csv\")\n",
    "history = pd.read_csv(history_path,index_col = 0)\n",
    "history\n",
    "\n",
    "plt.plot([float(x[len(\"tensor(\"):-1]) for x in history[\"train_mae\"]])\n",
    "plt.plot([float(x[len(\"tensor(\"):-1]) for x in history[\"val_mae\"]])\n",
    "\n",
    "print(pred_table[\"train_mask\"].sum(),pred_table[\"val_mask\"].sum())"
   ]
  },
  {
   "cell_type": "markdown",
   "id": "d44792ca",
   "metadata": {},
   "source": [
    "# Clustering for depression"
   ]
  },
  {
   "cell_type": "code",
   "execution_count": 74,
   "id": "7dea6055",
   "metadata": {},
   "outputs": [
    {
     "name": "stdout",
     "output_type": "stream",
     "text": [
      "experiments_results/no_validation/2025-06-23_23-21__GAT_liking_sim_amp_3NN_3ExpNN_no_val/processed/overall_summaries.csv\n"
     ]
    },
    {
     "data": {
      "text/html": [
       "<div>\n",
       "<style scoped>\n",
       "    .dataframe tbody tr th:only-of-type {\n",
       "        vertical-align: middle;\n",
       "    }\n",
       "\n",
       "    .dataframe tbody tr th {\n",
       "        vertical-align: top;\n",
       "    }\n",
       "\n",
       "    .dataframe thead th {\n",
       "        text-align: right;\n",
       "    }\n",
       "</style>\n",
       "<table border=\"1\" class=\"dataframe\">\n",
       "  <thead>\n",
       "    <tr style=\"text-align: right;\">\n",
       "      <th></th>\n",
       "      <th>model.device</th>\n",
       "      <th>model.n_free_params</th>\n",
       "      <th>model.update_node_module.name</th>\n",
       "      <th>model.update_node_module.parameters.add_self_loops</th>\n",
       "      <th>model.update_node_module.parameters.bias</th>\n",
       "      <th>model.update_node_module.parameters.concat</th>\n",
       "      <th>model.update_node_module.parameters.dropout</th>\n",
       "      <th>model.update_node_module.parameters.dst_content_mask.0</th>\n",
       "      <th>model.update_node_module.parameters.dst_content_require_grad</th>\n",
       "      <th>model.update_node_module.parameters.dst_content_weight_initializer</th>\n",
       "      <th>...</th>\n",
       "      <th>src_edge_0_trained</th>\n",
       "      <th>full_src_edge_0_trained</th>\n",
       "      <th>dst_content_0_trained</th>\n",
       "      <th>att_dst_edge_0_trained</th>\n",
       "      <th>dst_edge_0_trained</th>\n",
       "      <th>full_dst_edge_0_trained</th>\n",
       "      <th>att_edge_0_trained</th>\n",
       "      <th>edge_0_trained</th>\n",
       "      <th>full_edge_0_trained</th>\n",
       "      <th>bias_0_trained</th>\n",
       "    </tr>\n",
       "  </thead>\n",
       "  <tbody>\n",
       "    <tr>\n",
       "      <th>0</th>\n",
       "      <td>cuda</td>\n",
       "      <td>4</td>\n",
       "      <td>MyGATConv</td>\n",
       "      <td>False</td>\n",
       "      <td>True</td>\n",
       "      <td>True</td>\n",
       "      <td>0.0</td>\n",
       "      <td>False</td>\n",
       "      <td>True</td>\n",
       "      <td>glorot</td>\n",
       "      <td>...</td>\n",
       "      <td>0.263365</td>\n",
       "      <td>0.263365</td>\n",
       "      <td>NaN</td>\n",
       "      <td>1.0</td>\n",
       "      <td>NaN</td>\n",
       "      <td>NaN</td>\n",
       "      <td>1.0</td>\n",
       "      <td>1.967580</td>\n",
       "      <td>1.967580</td>\n",
       "      <td>-0.608210</td>\n",
       "    </tr>\n",
       "    <tr>\n",
       "      <th>1</th>\n",
       "      <td>cuda</td>\n",
       "      <td>4</td>\n",
       "      <td>MyGATConv</td>\n",
       "      <td>False</td>\n",
       "      <td>True</td>\n",
       "      <td>True</td>\n",
       "      <td>0.0</td>\n",
       "      <td>False</td>\n",
       "      <td>True</td>\n",
       "      <td>glorot</td>\n",
       "      <td>...</td>\n",
       "      <td>-0.841104</td>\n",
       "      <td>-0.841104</td>\n",
       "      <td>NaN</td>\n",
       "      <td>1.0</td>\n",
       "      <td>NaN</td>\n",
       "      <td>NaN</td>\n",
       "      <td>1.0</td>\n",
       "      <td>0.491972</td>\n",
       "      <td>0.491972</td>\n",
       "      <td>0.140942</td>\n",
       "    </tr>\n",
       "    <tr>\n",
       "      <th>2</th>\n",
       "      <td>cuda</td>\n",
       "      <td>4</td>\n",
       "      <td>MyGATConv</td>\n",
       "      <td>False</td>\n",
       "      <td>True</td>\n",
       "      <td>True</td>\n",
       "      <td>0.0</td>\n",
       "      <td>False</td>\n",
       "      <td>True</td>\n",
       "      <td>glorot</td>\n",
       "      <td>...</td>\n",
       "      <td>-0.481252</td>\n",
       "      <td>-0.481252</td>\n",
       "      <td>NaN</td>\n",
       "      <td>1.0</td>\n",
       "      <td>NaN</td>\n",
       "      <td>NaN</td>\n",
       "      <td>1.0</td>\n",
       "      <td>2.082179</td>\n",
       "      <td>2.082179</td>\n",
       "      <td>-0.637914</td>\n",
       "    </tr>\n",
       "    <tr>\n",
       "      <th>3</th>\n",
       "      <td>cuda</td>\n",
       "      <td>4</td>\n",
       "      <td>MyGATConv</td>\n",
       "      <td>False</td>\n",
       "      <td>True</td>\n",
       "      <td>True</td>\n",
       "      <td>0.0</td>\n",
       "      <td>False</td>\n",
       "      <td>True</td>\n",
       "      <td>glorot</td>\n",
       "      <td>...</td>\n",
       "      <td>-1.187043</td>\n",
       "      <td>-1.187043</td>\n",
       "      <td>NaN</td>\n",
       "      <td>1.0</td>\n",
       "      <td>NaN</td>\n",
       "      <td>NaN</td>\n",
       "      <td>1.0</td>\n",
       "      <td>0.161951</td>\n",
       "      <td>0.161951</td>\n",
       "      <td>-0.250646</td>\n",
       "    </tr>\n",
       "    <tr>\n",
       "      <th>4</th>\n",
       "      <td>cuda</td>\n",
       "      <td>4</td>\n",
       "      <td>MyGATConv</td>\n",
       "      <td>False</td>\n",
       "      <td>True</td>\n",
       "      <td>True</td>\n",
       "      <td>0.0</td>\n",
       "      <td>False</td>\n",
       "      <td>True</td>\n",
       "      <td>glorot</td>\n",
       "      <td>...</td>\n",
       "      <td>-0.847369</td>\n",
       "      <td>-0.847369</td>\n",
       "      <td>NaN</td>\n",
       "      <td>1.0</td>\n",
       "      <td>NaN</td>\n",
       "      <td>NaN</td>\n",
       "      <td>1.0</td>\n",
       "      <td>-0.066702</td>\n",
       "      <td>-0.066702</td>\n",
       "      <td>-1.025425</td>\n",
       "    </tr>\n",
       "  </tbody>\n",
       "</table>\n",
       "<p>5 rows × 74 columns</p>\n",
       "</div>"
      ],
      "text/plain": [
       "  model.device  model.n_free_params model.update_node_module.name  \\\n",
       "0         cuda                    4                     MyGATConv   \n",
       "1         cuda                    4                     MyGATConv   \n",
       "2         cuda                    4                     MyGATConv   \n",
       "3         cuda                    4                     MyGATConv   \n",
       "4         cuda                    4                     MyGATConv   \n",
       "\n",
       "   model.update_node_module.parameters.add_self_loops  \\\n",
       "0                                              False    \n",
       "1                                              False    \n",
       "2                                              False    \n",
       "3                                              False    \n",
       "4                                              False    \n",
       "\n",
       "   model.update_node_module.parameters.bias  \\\n",
       "0                                      True   \n",
       "1                                      True   \n",
       "2                                      True   \n",
       "3                                      True   \n",
       "4                                      True   \n",
       "\n",
       "   model.update_node_module.parameters.concat  \\\n",
       "0                                        True   \n",
       "1                                        True   \n",
       "2                                        True   \n",
       "3                                        True   \n",
       "4                                        True   \n",
       "\n",
       "   model.update_node_module.parameters.dropout  \\\n",
       "0                                          0.0   \n",
       "1                                          0.0   \n",
       "2                                          0.0   \n",
       "3                                          0.0   \n",
       "4                                          0.0   \n",
       "\n",
       "   model.update_node_module.parameters.dst_content_mask.0  \\\n",
       "0                                              False        \n",
       "1                                              False        \n",
       "2                                              False        \n",
       "3                                              False        \n",
       "4                                              False        \n",
       "\n",
       "   model.update_node_module.parameters.dst_content_require_grad  \\\n",
       "0                                               True              \n",
       "1                                               True              \n",
       "2                                               True              \n",
       "3                                               True              \n",
       "4                                               True              \n",
       "\n",
       "  model.update_node_module.parameters.dst_content_weight_initializer  ...  \\\n",
       "0                                             glorot                  ...   \n",
       "1                                             glorot                  ...   \n",
       "2                                             glorot                  ...   \n",
       "3                                             glorot                  ...   \n",
       "4                                             glorot                  ...   \n",
       "\n",
       "   src_edge_0_trained  full_src_edge_0_trained dst_content_0_trained  \\\n",
       "0            0.263365                 0.263365                   NaN   \n",
       "1           -0.841104                -0.841104                   NaN   \n",
       "2           -0.481252                -0.481252                   NaN   \n",
       "3           -1.187043                -1.187043                   NaN   \n",
       "4           -0.847369                -0.847369                   NaN   \n",
       "\n",
       "   att_dst_edge_0_trained dst_edge_0_trained full_dst_edge_0_trained  \\\n",
       "0                     1.0                NaN                     NaN   \n",
       "1                     1.0                NaN                     NaN   \n",
       "2                     1.0                NaN                     NaN   \n",
       "3                     1.0                NaN                     NaN   \n",
       "4                     1.0                NaN                     NaN   \n",
       "\n",
       "   att_edge_0_trained  edge_0_trained  full_edge_0_trained  bias_0_trained  \n",
       "0                 1.0        1.967580             1.967580       -0.608210  \n",
       "1                 1.0        0.491972             0.491972        0.140942  \n",
       "2                 1.0        2.082179             2.082179       -0.637914  \n",
       "3                 1.0        0.161951             0.161951       -0.250646  \n",
       "4                 1.0       -0.066702            -0.066702       -1.025425  \n",
       "\n",
       "[5 rows x 74 columns]"
      ]
     },
     "execution_count": 74,
     "metadata": {},
     "output_type": "execute_result"
    }
   ],
   "source": [
    "model_name = \"2025-06-23_23-21__GAT_liking_sim_amp_3NN_3ExpNN_no_val\"\n",
    "participant_id = 1\n",
    "graph_id = 0\n",
    "\n",
    "processed_folder_path = os.path.join(\"experiments_results/no_validation\",model_name,\"processed\")\n",
    "overall_summaries_path = os.path.join(processed_folder_path,\"overall_summaries.csv\")\n",
    "print(overall_summaries_path)\n",
    "\n",
    "overall_summaries = pd.read_csv(overall_summaries_path,index_col = 0)\n",
    "overall_summaries.head()"
   ]
  },
  {
   "cell_type": "code",
   "execution_count": 75,
   "id": "71ad3a47",
   "metadata": {},
   "outputs": [
    {
     "data": {
      "text/html": [
       "<div>\n",
       "<style scoped>\n",
       "    .dataframe tbody tr th:only-of-type {\n",
       "        vertical-align: middle;\n",
       "    }\n",
       "\n",
       "    .dataframe tbody tr th {\n",
       "        vertical-align: top;\n",
       "    }\n",
       "\n",
       "    .dataframe thead th {\n",
       "        text-align: right;\n",
       "    }\n",
       "</style>\n",
       "<table border=\"1\" class=\"dataframe\">\n",
       "  <thead>\n",
       "    <tr style=\"text-align: right;\">\n",
       "      <th></th>\n",
       "      <th>participant_id</th>\n",
       "      <th>depression</th>\n",
       "      <th>depressionCont</th>\n",
       "      <th>src_edge_0_trained</th>\n",
       "      <th>src_content_0_trained</th>\n",
       "      <th>edge_0_trained</th>\n",
       "      <th>bias_0_trained</th>\n",
       "    </tr>\n",
       "  </thead>\n",
       "  <tbody>\n",
       "    <tr>\n",
       "      <th>0</th>\n",
       "      <td>88</td>\n",
       "      <td>1</td>\n",
       "      <td>37</td>\n",
       "      <td>0.263365</td>\n",
       "      <td>1.330784</td>\n",
       "      <td>1.967580</td>\n",
       "      <td>-0.608210</td>\n",
       "    </tr>\n",
       "    <tr>\n",
       "      <th>1</th>\n",
       "      <td>50</td>\n",
       "      <td>1</td>\n",
       "      <td>15</td>\n",
       "      <td>-0.841104</td>\n",
       "      <td>1.457718</td>\n",
       "      <td>0.491972</td>\n",
       "      <td>0.140942</td>\n",
       "    </tr>\n",
       "    <tr>\n",
       "      <th>2</th>\n",
       "      <td>49</td>\n",
       "      <td>1</td>\n",
       "      <td>45</td>\n",
       "      <td>-0.481252</td>\n",
       "      <td>0.939573</td>\n",
       "      <td>2.082179</td>\n",
       "      <td>-0.637914</td>\n",
       "    </tr>\n",
       "    <tr>\n",
       "      <th>3</th>\n",
       "      <td>35</td>\n",
       "      <td>1</td>\n",
       "      <td>21</td>\n",
       "      <td>-1.187043</td>\n",
       "      <td>-0.634900</td>\n",
       "      <td>0.161951</td>\n",
       "      <td>-0.250646</td>\n",
       "    </tr>\n",
       "    <tr>\n",
       "      <th>4</th>\n",
       "      <td>26</td>\n",
       "      <td>1</td>\n",
       "      <td>36</td>\n",
       "      <td>-0.847369</td>\n",
       "      <td>-0.036180</td>\n",
       "      <td>-0.066702</td>\n",
       "      <td>-1.025425</td>\n",
       "    </tr>\n",
       "    <tr>\n",
       "      <th>...</th>\n",
       "      <td>...</td>\n",
       "      <td>...</td>\n",
       "      <td>...</td>\n",
       "      <td>...</td>\n",
       "      <td>...</td>\n",
       "      <td>...</td>\n",
       "      <td>...</td>\n",
       "    </tr>\n",
       "    <tr>\n",
       "      <th>99</th>\n",
       "      <td>71</td>\n",
       "      <td>0</td>\n",
       "      <td>7</td>\n",
       "      <td>1.059354</td>\n",
       "      <td>1.102544</td>\n",
       "      <td>-0.051511</td>\n",
       "      <td>-0.452064</td>\n",
       "    </tr>\n",
       "    <tr>\n",
       "      <th>100</th>\n",
       "      <td>1</td>\n",
       "      <td>0</td>\n",
       "      <td>12</td>\n",
       "      <td>-1.503265</td>\n",
       "      <td>-0.290649</td>\n",
       "      <td>0.414384</td>\n",
       "      <td>-0.445530</td>\n",
       "    </tr>\n",
       "    <tr>\n",
       "      <th>101</th>\n",
       "      <td>22</td>\n",
       "      <td>1</td>\n",
       "      <td>31</td>\n",
       "      <td>-1.041984</td>\n",
       "      <td>0.277195</td>\n",
       "      <td>-0.077730</td>\n",
       "      <td>-0.842899</td>\n",
       "    </tr>\n",
       "    <tr>\n",
       "      <th>102</th>\n",
       "      <td>25</td>\n",
       "      <td>1</td>\n",
       "      <td>42</td>\n",
       "      <td>-0.697929</td>\n",
       "      <td>0.761837</td>\n",
       "      <td>-1.586519</td>\n",
       "      <td>-0.902246</td>\n",
       "    </tr>\n",
       "    <tr>\n",
       "      <th>103</th>\n",
       "      <td>62</td>\n",
       "      <td>1</td>\n",
       "      <td>28</td>\n",
       "      <td>0.070409</td>\n",
       "      <td>0.046936</td>\n",
       "      <td>0.080141</td>\n",
       "      <td>-0.599395</td>\n",
       "    </tr>\n",
       "  </tbody>\n",
       "</table>\n",
       "<p>104 rows × 7 columns</p>\n",
       "</div>"
      ],
      "text/plain": [
       "     participant_id  depression  depressionCont  src_edge_0_trained  \\\n",
       "0                88           1              37            0.263365   \n",
       "1                50           1              15           -0.841104   \n",
       "2                49           1              45           -0.481252   \n",
       "3                35           1              21           -1.187043   \n",
       "4                26           1              36           -0.847369   \n",
       "..              ...         ...             ...                 ...   \n",
       "99               71           0               7            1.059354   \n",
       "100               1           0              12           -1.503265   \n",
       "101              22           1              31           -1.041984   \n",
       "102              25           1              42           -0.697929   \n",
       "103              62           1              28            0.070409   \n",
       "\n",
       "     src_content_0_trained  edge_0_trained  bias_0_trained  \n",
       "0                 1.330784        1.967580       -0.608210  \n",
       "1                 1.457718        0.491972        0.140942  \n",
       "2                 0.939573        2.082179       -0.637914  \n",
       "3                -0.634900        0.161951       -0.250646  \n",
       "4                -0.036180       -0.066702       -1.025425  \n",
       "..                     ...             ...             ...  \n",
       "99                1.102544       -0.051511       -0.452064  \n",
       "100              -0.290649        0.414384       -0.445530  \n",
       "101               0.277195       -0.077730       -0.842899  \n",
       "102               0.761837       -1.586519       -0.902246  \n",
       "103               0.046936        0.080141       -0.599395  \n",
       "\n",
       "[104 rows x 7 columns]"
      ]
     },
     "execution_count": 75,
     "metadata": {},
     "output_type": "execute_result"
    }
   ],
   "source": [
    "folder_path = f\"experiments_results/no_validation/{model_name}/processed\"\n",
    "overall_summaries = pd.read_csv(os.path.join(folder_path,\"overall_summaries.csv\"),index_col=0)\n",
    "overall_summaries[\"participant_id\"] = overall_summaries[\"participant_folder_name\"].apply(lambda x: int(x.split(\"_\")[1]))\n",
    "\n",
    "participant_data = pd.read_csv(\"data/processed/participant_data.csv\",index_col=0)\n",
    "participant_data[\"participant_id\"] = participant_data[\"participant\"]\n",
    "participant_data.drop([\"participant\"],axis=1,inplace=True)\n",
    "participant_data\n",
    "\n",
    "data = pd.merge(participant_data,overall_summaries,on=\"participant_id\",how=\"right\")\n",
    "data[[\"participant_id\",\"depression\",\"depressionCont\",\"src_edge_0_trained\", \"src_content_0_trained\", \"edge_0_trained\", \"bias_0_trained\"]]"
   ]
  },
  {
   "cell_type": "code",
   "execution_count": 76,
   "id": "cc8ceba1",
   "metadata": {},
   "outputs": [
    {
     "data": {
      "application/vnd.plotly.v1+json": {
       "config": {
        "plotlyServerURL": "https://plot.ly"
       },
       "data": [
        {
         "name": "src_edge_0_trained",
         "type": "histogram",
         "x": [
          0.2633650302886963,
          -0.8411041498184204,
          -0.4812522828578949,
          -1.1870427131652832,
          -0.8473685383796692,
          -0.603354275226593,
          0.1835715621709823,
          0.9967414736747742,
          -0.7116270661354065,
          0.3123615086078644,
          1.546543002128601,
          0.043038472533226,
          -0.0085159465670585,
          -0.46327805519104,
          0.6481810808181763,
          -0.0080729583278298,
          0.5567747950553894,
          0.3798649907112121,
          1.1472134590148926,
          -0.218873843550682,
          -0.5432751774787903,
          -0.8808701038360596,
          -0.1338845640420913,
          -0.2799867689609527,
          0.2986493110656738,
          0.3416660130023956,
          0.0519044660031795,
          -0.313780814409256,
          1.2810138463974,
          -0.1161532029509544,
          -0.6858100295066833,
          -0.6372774839401245,
          -1.4876229763031006,
          0.7323850989341736,
          0.0020750248804688,
          1.0169360637664795,
          0.9438678622245787,
          0.8929714560508728,
          -1.6943423748016355,
          0.5129299163818359,
          0.2246852964162826,
          -1.1227315664291382,
          0.3230577111244201,
          -0.4030406773090362,
          0.1304309368133545,
          -0.7311940789222717,
          0.9403355717658995,
          -0.7271615266799927,
          -0.349562257528305,
          0.3721416890621185,
          -0.4567161798477173,
          -0.1500458568334579,
          1.2279106378555298,
          -1.5685685873031616,
          0.3562926948070526,
          0.8968287706375122,
          0.1419568210840225,
          -1.8259875774383545,
          1.2945637702941897,
          0.4472394287586212,
          0.4227067232131958,
          -0.1244737058877945,
          -0.8407908082008362,
          -0.1308297663927078,
          0.4591173529624939,
          0.4348239004611969,
          -0.8217633962631226,
          -0.3279960453510284,
          0.0013283056905493,
          0.6680886149406433,
          -1.5380136966705322,
          -1.038680076599121,
          -1.0120975971221924,
          1.25535249710083,
          0.4934408962726593,
          -0.0417995862662792,
          -0.4114256799221039,
          0.0812794640660286,
          0.6166174411773682,
          0.0106799667701125,
          0.7313762307167053,
          -0.6611641645431519,
          0.0822074338793754,
          0.0646775290369987,
          -0.8441289067268372,
          1.023759126663208,
          -0.3353960514068603,
          -1.634921908378601,
          0.60291987657547,
          0.2390979528427124,
          0.3542535901069641,
          0.3315638601779938,
          -0.3897865712642669,
          1.0276505947113037,
          0.0827482044696807,
          -0.0494494438171386,
          0.0069302059710025,
          -0.252370685338974,
          0.3382341861724853,
          1.059353947639465,
          -1.503265142440796,
          -1.0419844388961792,
          -0.6979292035102844,
          0.0704089179635047
         ]
        },
        {
         "name": "src_content_0_trained",
         "type": "histogram",
         "x": [
          1.3307839632034302,
          1.4577176570892334,
          0.9395734071731568,
          -0.6348999738693237,
          -0.0361797474324703,
          -0.2057000398635864,
          0.4280516505241394,
          1.1381986141204834,
          0.6876683831214905,
          0.7300410866737366,
          -1.1588094234466553,
          0.9063296914100648,
          0.0084918653592467,
          0.2118114233016967,
          -0.6211411356925964,
          -0.8147502541542053,
          0.6873165369033813,
          1.2882421016693115,
          -1.1108871698379517,
          0.0499017052352428,
          0.6131379008293152,
          0.0483832135796546,
          0.1333514750003814,
          0.7318364977836609,
          0.6448642611503601,
          0.0732952058315277,
          0.0597307495772838,
          1.1679185628890991,
          -0.649806559085846,
          -1.3652867078781128,
          -1.3772575855255127,
          0.2130107283592224,
          0.9606260061264038,
          -0.8968552350997925,
          1.957231044769287,
          0.8612175583839417,
          0.5951195955276489,
          -1.0165916681289673,
          -0.642396867275238,
          -0.9026647210121156,
          1.8994213342666624,
          -1.3221596479415894,
          1.5125559568405151,
          0.1326826810836792,
          0.815230667591095,
          1.0495035648345947,
          0.7612881660461426,
          0.939989984035492,
          1.7940425872802734,
          -0.3917635381221771,
          1.3641674518585205,
          0.5677785277366638,
          0.1506844758987426,
          0.7523171305656433,
          -0.0166629385203123,
          0.9332534670829772,
          0.6171900033950806,
          -1.748492956161499,
          -0.2097759544849395,
          0.37148317694664,
          0.3815286457538605,
          0.2587946653366089,
          0.8268908858299255,
          -0.0379339791834354,
          1.5814024209976196,
          -0.9104614853858948,
          0.5458080768585205,
          0.8926277160644531,
          0.2025213092565536,
          0.0186968091875314,
          1.0105284452438354,
          0.8697092533111572,
          0.8190568089485168,
          -0.2288259714841842,
          1.3178123235702517,
          -0.1485596448183059,
          1.3069021701812744,
          0.757906973361969,
          0.7516580820083618,
          -0.1903226673603058,
          0.6704913973808289,
          0.3732682466506958,
          2.4412920475006104,
          0.2697475254535675,
          -0.451217383146286,
          -1.1780942678451538,
          -1.890528440475464,
          2.308610439300537,
          1.1388808488845823,
          0.7340710163116455,
          1.1345195770263672,
          0.2885604798793793,
          0.7943732738494873,
          -0.1912739276885986,
          -0.8864789605140686,
          0.6210257411003113,
          -0.2535194456577301,
          -2.2717463970184326,
          0.935837984085083,
          1.1025440692901611,
          -0.2906492352485657,
          0.2771945595741272,
          0.7618367671966553,
          0.0469364263117313
         ]
        },
        {
         "name": "edge_0_trained",
         "type": "histogram",
         "x": [
          1.9675800800323489,
          0.4919715225696563,
          2.082179307937622,
          0.1619512289762497,
          -0.0667024776339531,
          -0.030469212681055,
          1.7859824895858765,
          -0.1488973349332809,
          -0.323553204536438,
          0.8196533918380737,
          1.3702415227890017,
          1.0227152109146118,
          -0.0004605662543326,
          -0.2442780286073684,
          -0.0172221213579177,
          -0.2542110681533813,
          0.1504751443862915,
          -2.075968027114868,
          1.081256628036499,
          -0.0043284082785248,
          -0.0668064057826995,
          0.0343296714127063,
          -0.0959686711430549,
          -0.7386561632156372,
          0.4274566769599914,
          0.0680301114916801,
          0.0822063982486724,
          1.3814175128936768,
          -0.7639279961585999,
          -2.4931657314300537,
          -2.976115465164185,
          0.0169591605663299,
          -0.835500955581665,
          0.6355612277984619,
          -2.1417815685272217,
          0.3103364109992981,
          -0.0834432169795036,
          0.1918775141239166,
          0.6149654984474182,
          -0.0250749643892049,
          1.7238494157791138,
          0.2500607669353485,
          -0.3672322630882263,
          0.0083040725439786,
          -0.105446919798851,
          -0.6068446040153503,
          -0.4137571156024933,
          -1.2339118719100952,
          -0.7905592322349548,
          -0.397136926651001,
          1.2502323389053345,
          -1.2389447689056396,
          -0.1142769530415535,
          0.893933117389679,
          0.0022279978729784,
          0.7584920525550842,
          0.6594122052192688,
          3.862989902496338,
          0.0750575736165046,
          0.6017621755599976,
          0.0217836257070302,
          0.3619706034660339,
          0.1692305356264114,
          -0.0011604405008256,
          -0.8369430899620056,
          -0.2972545921802521,
          0.4584831893444061,
          0.3843054473400116,
          0.2056089788675308,
          -0.0089076124131679,
          0.4777605235576629,
          -0.1694009155035019,
          0.138758972287178,
          -0.061212345957756,
          1.2643859386444092,
          -0.0662695541977882,
          0.7348369359970093,
          0.3978066742420196,
          0.0181138031184673,
          -0.0149486502632498,
          0.7434790134429932,
          -0.0690104961395263,
          1.3376870155334473,
          0.6152524948120117,
          -0.669109046459198,
          0.5311762690544128,
          -1.529394030570984,
          -1.1974248886108398,
          0.8609507083892822,
          0.1699017435312271,
          0.5014769434928894,
          0.5219123959541321,
          0.0386834181845188,
          0.0512522831559181,
          1.5363061428070068,
          -0.307499498128891,
          -0.0264018606394529,
          -3.283618688583374,
          0.8598012924194336,
          -0.0515107624232769,
          0.414383590221405,
          -0.0777295753359794,
          -1.5865190029144287,
          0.0801411345601081
         ]
        },
        {
         "name": "bias_0_trained",
         "type": "histogram",
         "x": [
          -0.6082099080085754,
          0.1409423351287841,
          -0.6379138231277466,
          -0.2506459653377533,
          -1.0254250764846802,
          -1.4387502670288086,
          -0.6473196148872375,
          -0.3566470146179199,
          -0.9008651375770568,
          -0.2718529105186462,
          0.1176997199654579,
          -1.103420615196228,
          0.6882563233375549,
          -1.1142816543579102,
          -1.184903621673584,
          -1.3840597867965698,
          -0.184098869562149,
          -0.9781173467636108,
          -0.0151718622073531,
          -1.4369410276412964,
          -0.3100387752056122,
          -1.241923451423645,
          -1.4814077615737915,
          -0.7078010439872742,
          -0.899245023727417,
          -1.401289939880371,
          -0.7245386242866516,
          -0.365692675113678,
          0.1126754283905029,
          -0.2135222852230072,
          -0.1058955937623977,
          1.2965255975723269,
          -0.083840824663639,
          0.5664156079292297,
          -1.9339051246643064,
          -1.533535122871399,
          -0.3164888918399811,
          -0.4222065210342407,
          -0.9525933265686036,
          -0.1666778326034546,
          -1.2345412969589231,
          -1.9394680261611936,
          -0.9639856815338136,
          -1.4010493755340576,
          -1.3752896785736084,
          -0.7439478635787964,
          -0.5728795528411865,
          -0.3428485095500946,
          -0.278394490480423,
          -0.8500767946243286,
          -0.1953857541084289,
          -0.3493414521217346,
          -0.3444835841655731,
          -0.5460627675056458,
          -1.489079475402832,
          -1.0846768617630005,
          -0.6054688692092896,
          0.6999181509017944,
          -0.9165589213371276,
          -0.6071215867996216,
          0.3148082196712494,
          -0.3577728867530823,
          -0.7805048823356628,
          -1.4422868490219116,
          -1.3554702997207642,
          -0.3499424457550049,
          -0.7999281287193298,
          -1.0261012315750122,
          -0.2148393988609314,
          -1.0377099514007568,
          0.0167642123997211,
          -0.5894468426704407,
          -0.5145097374916077,
          -0.4669709503650665,
          -1.1045758724212646,
          -0.5426547527313232,
          -0.7808152437210083,
          -1.1990104913711548,
          -0.8956997990608215,
          -0.8105657696723938,
          -0.916972279548645,
          -1.1643234491348269,
          -2.546764850616455,
          -0.1575285196304321,
          -0.3694891035556793,
          0.3755725622177124,
          -0.3709107637405395,
          0.8036303520202637,
          -1.039160132408142,
          -0.7851947546005249,
          -1.0154565572738647,
          -1.2039952278137207,
          -0.8899695873260498,
          -1.185890793800354,
          0.7882552146911621,
          -0.8177324533462524,
          -1.4030423164367676,
          2.4888923168182373,
          -0.9138302206993104,
          -0.4520640969276428,
          -0.445529967546463,
          -0.8428992629051208,
          -0.9022464752197266,
          -0.5993953943252563
         ]
        }
       ],
       "layout": {
        "template": {
         "data": {
          "bar": [
           {
            "error_x": {
             "color": "#2a3f5f"
            },
            "error_y": {
             "color": "#2a3f5f"
            },
            "marker": {
             "line": {
              "color": "#E5ECF6",
              "width": 0.5
             },
             "pattern": {
              "fillmode": "overlay",
              "size": 10,
              "solidity": 0.2
             }
            },
            "type": "bar"
           }
          ],
          "barpolar": [
           {
            "marker": {
             "line": {
              "color": "#E5ECF6",
              "width": 0.5
             },
             "pattern": {
              "fillmode": "overlay",
              "size": 10,
              "solidity": 0.2
             }
            },
            "type": "barpolar"
           }
          ],
          "carpet": [
           {
            "aaxis": {
             "endlinecolor": "#2a3f5f",
             "gridcolor": "white",
             "linecolor": "white",
             "minorgridcolor": "white",
             "startlinecolor": "#2a3f5f"
            },
            "baxis": {
             "endlinecolor": "#2a3f5f",
             "gridcolor": "white",
             "linecolor": "white",
             "minorgridcolor": "white",
             "startlinecolor": "#2a3f5f"
            },
            "type": "carpet"
           }
          ],
          "choropleth": [
           {
            "colorbar": {
             "outlinewidth": 0,
             "ticks": ""
            },
            "type": "choropleth"
           }
          ],
          "contour": [
           {
            "colorbar": {
             "outlinewidth": 0,
             "ticks": ""
            },
            "colorscale": [
             [
              0,
              "#0d0887"
             ],
             [
              0.1111111111111111,
              "#46039f"
             ],
             [
              0.2222222222222222,
              "#7201a8"
             ],
             [
              0.3333333333333333,
              "#9c179e"
             ],
             [
              0.4444444444444444,
              "#bd3786"
             ],
             [
              0.5555555555555556,
              "#d8576b"
             ],
             [
              0.6666666666666666,
              "#ed7953"
             ],
             [
              0.7777777777777778,
              "#fb9f3a"
             ],
             [
              0.8888888888888888,
              "#fdca26"
             ],
             [
              1,
              "#f0f921"
             ]
            ],
            "type": "contour"
           }
          ],
          "contourcarpet": [
           {
            "colorbar": {
             "outlinewidth": 0,
             "ticks": ""
            },
            "type": "contourcarpet"
           }
          ],
          "heatmap": [
           {
            "colorbar": {
             "outlinewidth": 0,
             "ticks": ""
            },
            "colorscale": [
             [
              0,
              "#0d0887"
             ],
             [
              0.1111111111111111,
              "#46039f"
             ],
             [
              0.2222222222222222,
              "#7201a8"
             ],
             [
              0.3333333333333333,
              "#9c179e"
             ],
             [
              0.4444444444444444,
              "#bd3786"
             ],
             [
              0.5555555555555556,
              "#d8576b"
             ],
             [
              0.6666666666666666,
              "#ed7953"
             ],
             [
              0.7777777777777778,
              "#fb9f3a"
             ],
             [
              0.8888888888888888,
              "#fdca26"
             ],
             [
              1,
              "#f0f921"
             ]
            ],
            "type": "heatmap"
           }
          ],
          "heatmapgl": [
           {
            "colorbar": {
             "outlinewidth": 0,
             "ticks": ""
            },
            "colorscale": [
             [
              0,
              "#0d0887"
             ],
             [
              0.1111111111111111,
              "#46039f"
             ],
             [
              0.2222222222222222,
              "#7201a8"
             ],
             [
              0.3333333333333333,
              "#9c179e"
             ],
             [
              0.4444444444444444,
              "#bd3786"
             ],
             [
              0.5555555555555556,
              "#d8576b"
             ],
             [
              0.6666666666666666,
              "#ed7953"
             ],
             [
              0.7777777777777778,
              "#fb9f3a"
             ],
             [
              0.8888888888888888,
              "#fdca26"
             ],
             [
              1,
              "#f0f921"
             ]
            ],
            "type": "heatmapgl"
           }
          ],
          "histogram": [
           {
            "marker": {
             "pattern": {
              "fillmode": "overlay",
              "size": 10,
              "solidity": 0.2
             }
            },
            "type": "histogram"
           }
          ],
          "histogram2d": [
           {
            "colorbar": {
             "outlinewidth": 0,
             "ticks": ""
            },
            "colorscale": [
             [
              0,
              "#0d0887"
             ],
             [
              0.1111111111111111,
              "#46039f"
             ],
             [
              0.2222222222222222,
              "#7201a8"
             ],
             [
              0.3333333333333333,
              "#9c179e"
             ],
             [
              0.4444444444444444,
              "#bd3786"
             ],
             [
              0.5555555555555556,
              "#d8576b"
             ],
             [
              0.6666666666666666,
              "#ed7953"
             ],
             [
              0.7777777777777778,
              "#fb9f3a"
             ],
             [
              0.8888888888888888,
              "#fdca26"
             ],
             [
              1,
              "#f0f921"
             ]
            ],
            "type": "histogram2d"
           }
          ],
          "histogram2dcontour": [
           {
            "colorbar": {
             "outlinewidth": 0,
             "ticks": ""
            },
            "colorscale": [
             [
              0,
              "#0d0887"
             ],
             [
              0.1111111111111111,
              "#46039f"
             ],
             [
              0.2222222222222222,
              "#7201a8"
             ],
             [
              0.3333333333333333,
              "#9c179e"
             ],
             [
              0.4444444444444444,
              "#bd3786"
             ],
             [
              0.5555555555555556,
              "#d8576b"
             ],
             [
              0.6666666666666666,
              "#ed7953"
             ],
             [
              0.7777777777777778,
              "#fb9f3a"
             ],
             [
              0.8888888888888888,
              "#fdca26"
             ],
             [
              1,
              "#f0f921"
             ]
            ],
            "type": "histogram2dcontour"
           }
          ],
          "mesh3d": [
           {
            "colorbar": {
             "outlinewidth": 0,
             "ticks": ""
            },
            "type": "mesh3d"
           }
          ],
          "parcoords": [
           {
            "line": {
             "colorbar": {
              "outlinewidth": 0,
              "ticks": ""
             }
            },
            "type": "parcoords"
           }
          ],
          "pie": [
           {
            "automargin": true,
            "type": "pie"
           }
          ],
          "scatter": [
           {
            "fillpattern": {
             "fillmode": "overlay",
             "size": 10,
             "solidity": 0.2
            },
            "type": "scatter"
           }
          ],
          "scatter3d": [
           {
            "line": {
             "colorbar": {
              "outlinewidth": 0,
              "ticks": ""
             }
            },
            "marker": {
             "colorbar": {
              "outlinewidth": 0,
              "ticks": ""
             }
            },
            "type": "scatter3d"
           }
          ],
          "scattercarpet": [
           {
            "marker": {
             "colorbar": {
              "outlinewidth": 0,
              "ticks": ""
             }
            },
            "type": "scattercarpet"
           }
          ],
          "scattergeo": [
           {
            "marker": {
             "colorbar": {
              "outlinewidth": 0,
              "ticks": ""
             }
            },
            "type": "scattergeo"
           }
          ],
          "scattergl": [
           {
            "marker": {
             "colorbar": {
              "outlinewidth": 0,
              "ticks": ""
             }
            },
            "type": "scattergl"
           }
          ],
          "scattermapbox": [
           {
            "marker": {
             "colorbar": {
              "outlinewidth": 0,
              "ticks": ""
             }
            },
            "type": "scattermapbox"
           }
          ],
          "scatterpolar": [
           {
            "marker": {
             "colorbar": {
              "outlinewidth": 0,
              "ticks": ""
             }
            },
            "type": "scatterpolar"
           }
          ],
          "scatterpolargl": [
           {
            "marker": {
             "colorbar": {
              "outlinewidth": 0,
              "ticks": ""
             }
            },
            "type": "scatterpolargl"
           }
          ],
          "scatterternary": [
           {
            "marker": {
             "colorbar": {
              "outlinewidth": 0,
              "ticks": ""
             }
            },
            "type": "scatterternary"
           }
          ],
          "surface": [
           {
            "colorbar": {
             "outlinewidth": 0,
             "ticks": ""
            },
            "colorscale": [
             [
              0,
              "#0d0887"
             ],
             [
              0.1111111111111111,
              "#46039f"
             ],
             [
              0.2222222222222222,
              "#7201a8"
             ],
             [
              0.3333333333333333,
              "#9c179e"
             ],
             [
              0.4444444444444444,
              "#bd3786"
             ],
             [
              0.5555555555555556,
              "#d8576b"
             ],
             [
              0.6666666666666666,
              "#ed7953"
             ],
             [
              0.7777777777777778,
              "#fb9f3a"
             ],
             [
              0.8888888888888888,
              "#fdca26"
             ],
             [
              1,
              "#f0f921"
             ]
            ],
            "type": "surface"
           }
          ],
          "table": [
           {
            "cells": {
             "fill": {
              "color": "#EBF0F8"
             },
             "line": {
              "color": "white"
             }
            },
            "header": {
             "fill": {
              "color": "#C8D4E3"
             },
             "line": {
              "color": "white"
             }
            },
            "type": "table"
           }
          ]
         },
         "layout": {
          "annotationdefaults": {
           "arrowcolor": "#2a3f5f",
           "arrowhead": 0,
           "arrowwidth": 1
          },
          "autotypenumbers": "strict",
          "coloraxis": {
           "colorbar": {
            "outlinewidth": 0,
            "ticks": ""
           }
          },
          "colorscale": {
           "diverging": [
            [
             0,
             "#8e0152"
            ],
            [
             0.1,
             "#c51b7d"
            ],
            [
             0.2,
             "#de77ae"
            ],
            [
             0.3,
             "#f1b6da"
            ],
            [
             0.4,
             "#fde0ef"
            ],
            [
             0.5,
             "#f7f7f7"
            ],
            [
             0.6,
             "#e6f5d0"
            ],
            [
             0.7,
             "#b8e186"
            ],
            [
             0.8,
             "#7fbc41"
            ],
            [
             0.9,
             "#4d9221"
            ],
            [
             1,
             "#276419"
            ]
           ],
           "sequential": [
            [
             0,
             "#0d0887"
            ],
            [
             0.1111111111111111,
             "#46039f"
            ],
            [
             0.2222222222222222,
             "#7201a8"
            ],
            [
             0.3333333333333333,
             "#9c179e"
            ],
            [
             0.4444444444444444,
             "#bd3786"
            ],
            [
             0.5555555555555556,
             "#d8576b"
            ],
            [
             0.6666666666666666,
             "#ed7953"
            ],
            [
             0.7777777777777778,
             "#fb9f3a"
            ],
            [
             0.8888888888888888,
             "#fdca26"
            ],
            [
             1,
             "#f0f921"
            ]
           ],
           "sequentialminus": [
            [
             0,
             "#0d0887"
            ],
            [
             0.1111111111111111,
             "#46039f"
            ],
            [
             0.2222222222222222,
             "#7201a8"
            ],
            [
             0.3333333333333333,
             "#9c179e"
            ],
            [
             0.4444444444444444,
             "#bd3786"
            ],
            [
             0.5555555555555556,
             "#d8576b"
            ],
            [
             0.6666666666666666,
             "#ed7953"
            ],
            [
             0.7777777777777778,
             "#fb9f3a"
            ],
            [
             0.8888888888888888,
             "#fdca26"
            ],
            [
             1,
             "#f0f921"
            ]
           ]
          },
          "colorway": [
           "#636efa",
           "#EF553B",
           "#00cc96",
           "#ab63fa",
           "#FFA15A",
           "#19d3f3",
           "#FF6692",
           "#B6E880",
           "#FF97FF",
           "#FECB52"
          ],
          "font": {
           "color": "#2a3f5f"
          },
          "geo": {
           "bgcolor": "white",
           "lakecolor": "white",
           "landcolor": "#E5ECF6",
           "showlakes": true,
           "showland": true,
           "subunitcolor": "white"
          },
          "hoverlabel": {
           "align": "left"
          },
          "hovermode": "closest",
          "mapbox": {
           "style": "light"
          },
          "paper_bgcolor": "white",
          "plot_bgcolor": "#E5ECF6",
          "polar": {
           "angularaxis": {
            "gridcolor": "white",
            "linecolor": "white",
            "ticks": ""
           },
           "bgcolor": "#E5ECF6",
           "radialaxis": {
            "gridcolor": "white",
            "linecolor": "white",
            "ticks": ""
           }
          },
          "scene": {
           "xaxis": {
            "backgroundcolor": "#E5ECF6",
            "gridcolor": "white",
            "gridwidth": 2,
            "linecolor": "white",
            "showbackground": true,
            "ticks": "",
            "zerolinecolor": "white"
           },
           "yaxis": {
            "backgroundcolor": "#E5ECF6",
            "gridcolor": "white",
            "gridwidth": 2,
            "linecolor": "white",
            "showbackground": true,
            "ticks": "",
            "zerolinecolor": "white"
           },
           "zaxis": {
            "backgroundcolor": "#E5ECF6",
            "gridcolor": "white",
            "gridwidth": 2,
            "linecolor": "white",
            "showbackground": true,
            "ticks": "",
            "zerolinecolor": "white"
           }
          },
          "shapedefaults": {
           "line": {
            "color": "#2a3f5f"
           }
          },
          "ternary": {
           "aaxis": {
            "gridcolor": "white",
            "linecolor": "white",
            "ticks": ""
           },
           "baxis": {
            "gridcolor": "white",
            "linecolor": "white",
            "ticks": ""
           },
           "bgcolor": "#E5ECF6",
           "caxis": {
            "gridcolor": "white",
            "linecolor": "white",
            "ticks": ""
           }
          },
          "title": {
           "x": 0.05
          },
          "xaxis": {
           "automargin": true,
           "gridcolor": "white",
           "linecolor": "white",
           "ticks": "",
           "title": {
            "standoff": 15
           },
           "zerolinecolor": "white",
           "zerolinewidth": 2
          },
          "yaxis": {
           "automargin": true,
           "gridcolor": "white",
           "linecolor": "white",
           "ticks": "",
           "title": {
            "standoff": 15
           },
           "zerolinecolor": "white",
           "zerolinewidth": 2
          }
         }
        }
       }
      }
     },
     "metadata": {},
     "output_type": "display_data"
    }
   ],
   "source": [
    "fig = go.Figure()\n",
    "\n",
    "fig.add_trace(\n",
    "    go.Histogram(\n",
    "        x = data[\"src_edge_0_trained\"],\n",
    "        name=\"src_edge_0_trained\"\n",
    "    )\n",
    ")\n",
    "\n",
    "fig.add_trace(\n",
    "    go.Histogram(\n",
    "        x = data[\"src_content_0_trained\"],\n",
    "        name=\"src_content_0_trained\"\n",
    "    )\n",
    ")\n",
    "\n",
    "fig.add_trace(\n",
    "    go.Histogram(\n",
    "        x = data[\"edge_0_trained\"],\n",
    "        name=\"edge_0_trained\"\n",
    "    )\n",
    ")\n",
    "\n",
    "fig.add_trace(\n",
    "    go.Histogram(\n",
    "        x = data[\"bias_0_trained\"],\n",
    "        name=\"bias_0_trained\"\n",
    "    )\n",
    ")"
   ]
  },
  {
   "cell_type": "code",
   "execution_count": 77,
   "id": "565b0811",
   "metadata": {},
   "outputs": [
    {
     "data": {
      "text/plain": [
       "<seaborn.axisgrid.PairGrid at 0x73f1efcbaa70>"
      ]
     },
     "execution_count": 77,
     "metadata": {},
     "output_type": "execute_result"
    },
    {
     "data": {
      "image/png": "[encoded data removed]",
      "text/plain": [
       "<Figure size 1500x1500 with 42 Axes>"
      ]
     },
     "metadata": {},
     "output_type": "display_data"
    }
   ],
   "source": [
    "sns.pairplot(data[[\"depressionCont\",\"src_edge_0_trained\",\"src_content_0_trained\",\"bias_0_trained\",\"edge_0_trained\",\"train_MAE\"]])"
   ]
  },
  {
   "cell_type": "code",
   "execution_count": 78,
   "id": "3e0eb586",
   "metadata": {},
   "outputs": [],
   "source": [
    "data[[\"depressionCont\",\"src_edge_0_trained\",\"src_content_0_trained\",\"bias_0_trained\",\"edge_0_trained\"]].corr()\n",
    "\n",
    "from scipy.stats import pearsonr, spearmanr"
   ]
  },
  {
   "cell_type": "code",
   "execution_count": 79,
   "id": "b9e5a45a",
   "metadata": {},
   "outputs": [
    {
     "data": {
      "application/vnd.plotly.v1+json": {
       "config": {
        "plotlyServerURL": "https://plot.ly"
       },
       "data": [
        {
         "text": [
          [
           "1.0 - p:0.0",
           "0.276 - p:0.005",
           "0.11 - p:0.268",
           "-0.066 - p:0.503",
           "-0.011 - p:0.914",
           "-0.009 - p:0.927",
           "0.094 - p:0.341"
          ],
          [
           "0.276 - p:0.005",
           "1.0 - p:0.0",
           "0.494 - p:0.0",
           "-0.083 - p:0.401",
           "0.121 - p:0.22",
           "-0.261 - p:0.008",
           "0.007 - p:0.947"
          ],
          [
           "0.11 - p:0.268",
           "0.494 - p:0.0",
           "1.0 - p:0.0",
           "0.108 - p:0.277",
           "0.102 - p:0.301",
           "-0.045 - p:0.649",
           "0.037 - p:0.712"
          ],
          [
           "-0.066 - p:0.503",
           "-0.083 - p:0.401",
           "0.108 - p:0.277",
           "1.0 - p:0.0",
           "-0.058 - p:0.56",
           "-0.081 - p:0.416",
           "0.05 - p:0.617"
          ],
          [
           "-0.011 - p:0.914",
           "0.121 - p:0.22",
           "0.102 - p:0.301",
           "-0.058 - p:0.56",
           "1.0 - p:0.0",
           "-0.34 - p:0.0",
           "0.128 - p:0.194"
          ],
          [
           "-0.009 - p:0.927",
           "-0.261 - p:0.008",
           "-0.045 - p:0.649",
           "-0.081 - p:0.416",
           "-0.34 - p:0.0",
           "1.0 - p:0.0",
           "-0.094 - p:0.343"
          ],
          [
           "0.094 - p:0.341",
           "0.007 - p:0.947",
           "0.037 - p:0.712",
           "0.05 - p:0.617",
           "0.128 - p:0.194",
           "-0.094 - p:0.343",
           "1.0 - p:0.0"
          ]
         ],
         "textfont": {
          "size": 20
         },
         "texttemplate": "%{text}",
         "type": "heatmap",
         "x": [
          "depressionCont",
          "n_not_experienced",
          "train_MAE",
          "src_edge_0_trained",
          "src_content_0_trained",
          "bias_0_trained",
          "edge_0_trained"
         ],
         "y": [
          "depressionCont",
          "n_not_experienced",
          "train_MAE",
          "src_edge_0_trained",
          "src_content_0_trained",
          "bias_0_trained",
          "edge_0_trained"
         ],
         "z": [
          [
           1,
           0.27633463283814225,
           0.10954428479351021,
           -0.06643310585987913,
           -0.010723980823076747,
           -0.00913256359217253,
           0.09423267442006351
          ],
          [
           0.27633463283814225,
           0.9999999999999998,
           0.4942824054978955,
           -0.08321114543923322,
           0.12136780111027926,
           -0.26070036216288295,
           0.006583478330998514
          ],
          [
           0.10954428479351017,
           0.4942824054978954,
           1,
           0.10769878374681853,
           0.10247150305126092,
           -0.04509802625698067,
           0.03663910161636033
          ],
          [
           -0.06643310585987913,
           -0.08321114543923322,
           0.10769878374681854,
           1,
           -0.05779260968443879,
           -0.08063449162596624,
           0.04966261606957888
          ],
          [
           -0.010723980823076736,
           0.1213678011102792,
           0.10247150305126093,
           -0.05779260968443879,
           1,
           -0.3400699407821946,
           0.1284008307857587
          ],
          [
           -0.009132563592172488,
           -0.26070036216288284,
           -0.04509802625698067,
           -0.08063449162596621,
           -0.34006994078219466,
           0.9999999999999999,
           -0.09394923608490825
          ],
          [
           0.09423267442006349,
           0.00658347833099851,
           0.03663910161636033,
           0.049662616069578905,
           0.12840083078575865,
           -0.09394923608490831,
           1
          ]
         ]
        }
       ],
       "layout": {
        "template": {
         "data": {
          "bar": [
           {
            "error_x": {
             "color": "#2a3f5f"
            },
            "error_y": {
             "color": "#2a3f5f"
            },
            "marker": {
             "line": {
              "color": "#E5ECF6",
              "width": 0.5
             },
             "pattern": {
              "fillmode": "overlay",
              "size": 10,
              "solidity": 0.2
             }
            },
            "type": "bar"
           }
          ],
          "barpolar": [
           {
            "marker": {
             "line": {
              "color": "#E5ECF6",
              "width": 0.5
             },
             "pattern": {
              "fillmode": "overlay",
              "size": 10,
              "solidity": 0.2
             }
            },
            "type": "barpolar"
           }
          ],
          "carpet": [
           {
            "aaxis": {
             "endlinecolor": "#2a3f5f",
             "gridcolor": "white",
             "linecolor": "white",
             "minorgridcolor": "white",
             "startlinecolor": "#2a3f5f"
            },
            "baxis": {
             "endlinecolor": "#2a3f5f",
             "gridcolor": "white",
             "linecolor": "white",
             "minorgridcolor": "white",
             "startlinecolor": "#2a3f5f"
            },
            "type": "carpet"
           }
          ],
          "choropleth": [
           {
            "colorbar": {
             "outlinewidth": 0,
             "ticks": ""
            },
            "type": "choropleth"
           }
          ],
          "contour": [
           {
            "colorbar": {
             "outlinewidth": 0,
             "ticks": ""
            },
            "colorscale": [
             [
              0,
              "#0d0887"
             ],
             [
              0.1111111111111111,
              "#46039f"
             ],
             [
              0.2222222222222222,
              "#7201a8"
             ],
             [
              0.3333333333333333,
              "#9c179e"
             ],
             [
              0.4444444444444444,
              "#bd3786"
             ],
             [
              0.5555555555555556,
              "#d8576b"
             ],
             [
              0.6666666666666666,
              "#ed7953"
             ],
             [
              0.7777777777777778,
              "#fb9f3a"
             ],
             [
              0.8888888888888888,
              "#fdca26"
             ],
             [
              1,
              "#f0f921"
             ]
            ],
            "type": "contour"
           }
          ],
          "contourcarpet": [
           {
            "colorbar": {
             "outlinewidth": 0,
             "ticks": ""
            },
            "type": "contourcarpet"
           }
          ],
          "heatmap": [
           {
            "colorbar": {
             "outlinewidth": 0,
             "ticks": ""
            },
            "colorscale": [
             [
              0,
              "#0d0887"
             ],
             [
              0.1111111111111111,
              "#46039f"
             ],
             [
              0.2222222222222222,
              "#7201a8"
             ],
             [
              0.3333333333333333,
              "#9c179e"
             ],
             [
              0.4444444444444444,
              "#bd3786"
             ],
             [
              0.5555555555555556,
              "#d8576b"
             ],
             [
              0.6666666666666666,
              "#ed7953"
             ],
             [
              0.7777777777777778,
              "#fb9f3a"
             ],
             [
              0.8888888888888888,
              "#fdca26"
             ],
             [
              1,
              "#f0f921"
             ]
            ],
            "type": "heatmap"
           }
          ],
          "heatmapgl": [
           {
            "colorbar": {
             "outlinewidth": 0,
             "ticks": ""
            },
            "colorscale": [
             [
              0,
              "#0d0887"
             ],
             [
              0.1111111111111111,
              "#46039f"
             ],
             [
              0.2222222222222222,
              "#7201a8"
             ],
             [
              0.3333333333333333,
              "#9c179e"
             ],
             [
              0.4444444444444444,
              "#bd3786"
             ],
             [
              0.5555555555555556,
              "#d8576b"
             ],
             [
              0.6666666666666666,
              "#ed7953"
             ],
             [
              0.7777777777777778,
              "#fb9f3a"
             ],
             [
              0.8888888888888888,
              "#fdca26"
             ],
             [
              1,
              "#f0f921"
             ]
            ],
            "type": "heatmapgl"
           }
          ],
          "histogram": [
           {
            "marker": {
             "pattern": {
              "fillmode": "overlay",
              "size": 10,
              "solidity": 0.2
             }
            },
            "type": "histogram"
           }
          ],
          "histogram2d": [
           {
            "colorbar": {
             "outlinewidth": 0,
             "ticks": ""
            },
            "colorscale": [
             [
              0,
              "#0d0887"
             ],
             [
              0.1111111111111111,
              "#46039f"
             ],
             [
              0.2222222222222222,
              "#7201a8"
             ],
             [
              0.3333333333333333,
              "#9c179e"
             ],
             [
              0.4444444444444444,
              "#bd3786"
             ],
             [
              0.5555555555555556,
              "#d8576b"
             ],
             [
              0.6666666666666666,
              "#ed7953"
             ],
             [
              0.7777777777777778,
              "#fb9f3a"
             ],
             [
              0.8888888888888888,
              "#fdca26"
             ],
             [
              1,
              "#f0f921"
             ]
            ],
            "type": "histogram2d"
           }
          ],
          "histogram2dcontour": [
           {
            "colorbar": {
             "outlinewidth": 0,
             "ticks": ""
            },
            "colorscale": [
             [
              0,
              "#0d0887"
             ],
             [
              0.1111111111111111,
              "#46039f"
             ],
             [
              0.2222222222222222,
              "#7201a8"
             ],
             [
              0.3333333333333333,
              "#9c179e"
             ],
             [
              0.4444444444444444,
              "#bd3786"
             ],
             [
              0.5555555555555556,
              "#d8576b"
             ],
             [
              0.6666666666666666,
              "#ed7953"
             ],
             [
              0.7777777777777778,
              "#fb9f3a"
             ],
             [
              0.8888888888888888,
              "#fdca26"
             ],
             [
              1,
              "#f0f921"
             ]
            ],
            "type": "histogram2dcontour"
           }
          ],
          "mesh3d": [
           {
            "colorbar": {
             "outlinewidth": 0,
             "ticks": ""
            },
            "type": "mesh3d"
           }
          ],
          "parcoords": [
           {
            "line": {
             "colorbar": {
              "outlinewidth": 0,
              "ticks": ""
             }
            },
            "type": "parcoords"
           }
          ],
          "pie": [
           {
            "automargin": true,
            "type": "pie"
           }
          ],
          "scatter": [
           {
            "fillpattern": {
             "fillmode": "overlay",
             "size": 10,
             "solidity": 0.2
            },
            "type": "scatter"
           }
          ],
          "scatter3d": [
           {
            "line": {
             "colorbar": {
              "outlinewidth": 0,
              "ticks": ""
             }
            },
            "marker": {
             "colorbar": {
              "outlinewidth": 0,
              "ticks": ""
             }
            },
            "type": "scatter3d"
           }
          ],
          "scattercarpet": [
           {
            "marker": {
             "colorbar": {
              "outlinewidth": 0,
              "ticks": ""
             }
            },
            "type": "scattercarpet"
           }
          ],
          "scattergeo": [
           {
            "marker": {
             "colorbar": {
              "outlinewidth": 0,
              "ticks": ""
             }
            },
            "type": "scattergeo"
           }
          ],
          "scattergl": [
           {
            "marker": {
             "colorbar": {
              "outlinewidth": 0,
              "ticks": ""
             }
            },
            "type": "scattergl"
           }
          ],
          "scattermapbox": [
           {
            "marker": {
             "colorbar": {
              "outlinewidth": 0,
              "ticks": ""
             }
            },
            "type": "scattermapbox"
           }
          ],
          "scatterpolar": [
           {
            "marker": {
             "colorbar": {
              "outlinewidth": 0,
              "ticks": ""
             }
            },
            "type": "scatterpolar"
           }
          ],
          "scatterpolargl": [
           {
            "marker": {
             "colorbar": {
              "outlinewidth": 0,
              "ticks": ""
             }
            },
            "type": "scatterpolargl"
           }
          ],
          "scatterternary": [
           {
            "marker": {
             "colorbar": {
              "outlinewidth": 0,
              "ticks": ""
             }
            },
            "type": "scatterternary"
           }
          ],
          "surface": [
           {
            "colorbar": {
             "outlinewidth": 0,
             "ticks": ""
            },
            "colorscale": [
             [
              0,
              "#0d0887"
             ],
             [
              0.1111111111111111,
              "#46039f"
             ],
             [
              0.2222222222222222,
              "#7201a8"
             ],
             [
              0.3333333333333333,
              "#9c179e"
             ],
             [
              0.4444444444444444,
              "#bd3786"
             ],
             [
              0.5555555555555556,
              "#d8576b"
             ],
             [
              0.6666666666666666,
              "#ed7953"
             ],
             [
              0.7777777777777778,
              "#fb9f3a"
             ],
             [
              0.8888888888888888,
              "#fdca26"
             ],
             [
              1,
              "#f0f921"
             ]
            ],
            "type": "surface"
           }
          ],
          "table": [
           {
            "cells": {
             "fill": {
              "color": "#EBF0F8"
             },
             "line": {
              "color": "white"
             }
            },
            "header": {
             "fill": {
              "color": "#C8D4E3"
             },
             "line": {
              "color": "white"
             }
            },
            "type": "table"
           }
          ]
         },
         "layout": {
          "annotationdefaults": {
           "arrowcolor": "#2a3f5f",
           "arrowhead": 0,
           "arrowwidth": 1
          },
          "autotypenumbers": "strict",
          "coloraxis": {
           "colorbar": {
            "outlinewidth": 0,
            "ticks": ""
           }
          },
          "colorscale": {
           "diverging": [
            [
             0,
             "#8e0152"
            ],
            [
             0.1,
             "#c51b7d"
            ],
            [
             0.2,
             "#de77ae"
            ],
            [
             0.3,
             "#f1b6da"
            ],
            [
             0.4,
             "#fde0ef"
            ],
            [
             0.5,
             "#f7f7f7"
            ],
            [
             0.6,
             "#e6f5d0"
            ],
            [
             0.7,
             "#b8e186"
            ],
            [
             0.8,
             "#7fbc41"
            ],
            [
             0.9,
             "#4d9221"
            ],
            [
             1,
             "#276419"
            ]
           ],
           "sequential": [
            [
             0,
             "#0d0887"
            ],
            [
             0.1111111111111111,
             "#46039f"
            ],
            [
             0.2222222222222222,
             "#7201a8"
            ],
            [
             0.3333333333333333,
             "#9c179e"
            ],
            [
             0.4444444444444444,
             "#bd3786"
            ],
            [
             0.5555555555555556,
             "#d8576b"
            ],
            [
             0.6666666666666666,
             "#ed7953"
            ],
            [
             0.7777777777777778,
             "#fb9f3a"
            ],
            [
             0.8888888888888888,
             "#fdca26"
            ],
            [
             1,
             "#f0f921"
            ]
           ],
           "sequentialminus": [
            [
             0,
             "#0d0887"
            ],
            [
             0.1111111111111111,
             "#46039f"
            ],
            [
             0.2222222222222222,
             "#7201a8"
            ],
            [
             0.3333333333333333,
             "#9c179e"
            ],
            [
             0.4444444444444444,
             "#bd3786"
            ],
            [
             0.5555555555555556,
             "#d8576b"
            ],
            [
             0.6666666666666666,
             "#ed7953"
            ],
            [
             0.7777777777777778,
             "#fb9f3a"
            ],
            [
             0.8888888888888888,
             "#fdca26"
            ],
            [
             1,
             "#f0f921"
            ]
           ]
          },
          "colorway": [
           "#636efa",
           "#EF553B",
           "#00cc96",
           "#ab63fa",
           "#FFA15A",
           "#19d3f3",
           "#FF6692",
           "#B6E880",
           "#FF97FF",
           "#FECB52"
          ],
          "font": {
           "color": "#2a3f5f"
          },
          "geo": {
           "bgcolor": "white",
           "lakecolor": "white",
           "landcolor": "#E5ECF6",
           "showlakes": true,
           "showland": true,
           "subunitcolor": "white"
          },
          "hoverlabel": {
           "align": "left"
          },
          "hovermode": "closest",
          "mapbox": {
           "style": "light"
          },
          "paper_bgcolor": "white",
          "plot_bgcolor": "#E5ECF6",
          "polar": {
           "angularaxis": {
            "gridcolor": "white",
            "linecolor": "white",
            "ticks": ""
           },
           "bgcolor": "#E5ECF6",
           "radialaxis": {
            "gridcolor": "white",
            "linecolor": "white",
            "ticks": ""
           }
          },
          "scene": {
           "xaxis": {
            "backgroundcolor": "#E5ECF6",
            "gridcolor": "white",
            "gridwidth": 2,
            "linecolor": "white",
            "showbackground": true,
            "ticks": "",
            "zerolinecolor": "white"
           },
           "yaxis": {
            "backgroundcolor": "#E5ECF6",
            "gridcolor": "white",
            "gridwidth": 2,
            "linecolor": "white",
            "showbackground": true,
            "ticks": "",
            "zerolinecolor": "white"
           },
           "zaxis": {
            "backgroundcolor": "#E5ECF6",
            "gridcolor": "white",
            "gridwidth": 2,
            "linecolor": "white",
            "showbackground": true,
            "ticks": "",
            "zerolinecolor": "white"
           }
          },
          "shapedefaults": {
           "line": {
            "color": "#2a3f5f"
           }
          },
          "ternary": {
           "aaxis": {
            "gridcolor": "white",
            "linecolor": "white",
            "ticks": ""
           },
           "baxis": {
            "gridcolor": "white",
            "linecolor": "white",
            "ticks": ""
           },
           "bgcolor": "#E5ECF6",
           "caxis": {
            "gridcolor": "white",
            "linecolor": "white",
            "ticks": ""
           }
          },
          "title": {
           "x": 0.05
          },
          "xaxis": {
           "automargin": true,
           "gridcolor": "white",
           "linecolor": "white",
           "ticks": "",
           "title": {
            "standoff": 15
           },
           "zerolinecolor": "white",
           "zerolinewidth": 2
          },
          "yaxis": {
           "automargin": true,
           "gridcolor": "white",
           "linecolor": "white",
           "ticks": "",
           "title": {
            "standoff": 15
           },
           "zerolinecolor": "white",
           "zerolinewidth": 2
          }
         }
        }
       }
      }
     },
     "metadata": {},
     "output_type": "display_data"
    }
   ],
   "source": [
    "var_names = [\"depressionCont\",\"n_not_experienced\",\"train_MAE\",\"src_edge_0_trained\",\"src_content_0_trained\",\"bias_0_trained\",\"edge_0_trained\"]\n",
    "\n",
    "corr = []\n",
    "p_values = []\n",
    "for v_name in var_names:\n",
    "    r,p = pearsonr(data[var_names].values,data[[v_name]].values)\n",
    "    corr.append(r)\n",
    "    p_values.append(p)\n",
    "\n",
    "text = np.round(corr,3).astype(str)\n",
    "p_values = np.round(p_values,3).astype(str)\n",
    "\n",
    "for i in range(text.shape[0]):\n",
    "    for j in range(text.shape[1]):\n",
    "        text[i,j] = text[i,j] + \" - p:\" + p_values[i,j]\n",
    "\n",
    "\n",
    "fig = go.Figure(data=go.Heatmap(\n",
    "                    z= corr,\n",
    "                    x = var_names,\n",
    "                    y = var_names,\n",
    "                    text= text,\n",
    "                    texttemplate=\"%{text}\",\n",
    "                    textfont={\"size\":20}))\n",
    "fig.update\n",
    "fig.show()"
   ]
  },
  {
   "cell_type": "code",
   "execution_count": 80,
   "id": "be9861af",
   "metadata": {},
   "outputs": [
    {
     "data": {
      "application/vnd.plotly.v1+json": {
       "config": {
        "plotlyServerURL": "https://plot.ly"
       },
       "data": [
        {
         "text": [
          [
           "1.0 - p:0.0",
           "0.863 - p:0.0",
           "0.212 - p:0.031",
           "0.09 - p:0.365",
           "-0.058 - p:0.557",
           "0.018 - p:0.853",
           "-0.108 - p:0.273",
           "0.072 - p:0.469"
          ],
          [
           "0.863 - p:0.0",
           "1.0 - p:0.0",
           "0.196 - p:0.046",
           "0.1 - p:0.315",
           "-0.05 - p:0.618",
           "-0.003 - p:0.975",
           "-0.041 - p:0.682",
           "0.076 - p:0.446"
          ],
          [
           "0.212 - p:0.031",
           "0.196 - p:0.046",
           "1.0 - p:0.0",
           "0.555 - p:0.0",
           "-0.086 - p:0.386",
           "0.15 - p:0.129",
           "-0.262 - p:0.007",
           "0.024 - p:0.808"
          ],
          [
           "0.09 - p:0.365",
           "0.1 - p:0.315",
           "0.555 - p:0.0",
           "1.0 - p:0.0",
           "0.103 - p:0.297",
           "0.171 - p:0.083",
           "0.026 - p:0.795",
           "0.079 - p:0.427"
          ],
          [
           "-0.058 - p:0.557",
           "-0.05 - p:0.618",
           "-0.086 - p:0.386",
           "0.103 - p:0.297",
           "1.0 - p:0.0",
           "-0.07 - p:0.479",
           "-0.059 - p:0.55",
           "0.126 - p:0.201"
          ],
          [
           "0.018 - p:0.853",
           "-0.003 - p:0.975",
           "0.15 - p:0.129",
           "0.171 - p:0.083",
           "-0.07 - p:0.479",
           "1.0 - p:0.0",
           "-0.182 - p:0.064",
           "0.108 - p:0.276"
          ],
          [
           "-0.108 - p:0.273",
           "-0.041 - p:0.682",
           "-0.262 - p:0.007",
           "0.026 - p:0.795",
           "-0.059 - p:0.55",
           "-0.182 - p:0.064",
           "1.0 - p:0.0",
           "-0.003 - p:0.98"
          ],
          [
           "0.072 - p:0.469",
           "0.076 - p:0.446",
           "0.024 - p:0.808",
           "0.079 - p:0.427",
           "0.126 - p:0.201",
           "0.108 - p:0.276",
           "-0.003 - p:0.98",
           "1.0 - p:0.0"
          ]
         ],
         "textfont": {
          "size": 20
         },
         "texttemplate": "%{text}",
         "type": "heatmap",
         "x": [
          "depression",
          "depressionCont",
          "n_not_experienced",
          "train_MAE",
          "src_edge_0_trained",
          "src_content_0_trained",
          "bias_0_trained",
          "edge_0_trained"
         ],
         "y": [
          "depression",
          "depressionCont",
          "n_not_experienced",
          "train_MAE",
          "src_edge_0_trained",
          "src_content_0_trained",
          "bias_0_trained",
          "edge_0_trained"
         ],
         "z": [
          [
           1,
           0.8632090837268349,
           0.21155409942648398,
           0.08977702544196701,
           -0.0582424430286596,
           0.01834154283222982,
           -0.10844034972739384,
           0.0717572640629342
          ],
          [
           0.8632090837268349,
           1,
           0.19603373502450852,
           0.09954658563474784,
           -0.049538261170672435,
           -0.003060753035453451,
           -0.04063910836602069,
           0.07556801604286209
          ],
          [
           0.211554099426484,
           0.19603373502450852,
           0.9999999999999999,
           0.5551048494294203,
           -0.08580705986980953,
           0.14987098500500753,
           -0.26162866597189216,
           0.024090131574664286
          ],
          [
           0.08977702544196701,
           0.09954658563474783,
           0.5551048494294202,
           1,
           0.10320068281233331,
           0.17060706284007254,
           0.025754827696575274,
           0.07874746612610692
          ],
          [
           -0.0582424430286596,
           -0.049538261170672435,
           -0.08580705986980955,
           0.10320068281233331,
           1,
           -0.0702123119598848,
           -0.05927664568441268,
           0.12639496425904195
          ],
          [
           0.01834154283222982,
           -0.003060753035453451,
           0.14987098500500753,
           0.17060706284007254,
           -0.0702123119598848,
           1,
           -0.18204416942281024,
           0.10780966606209326
          ],
          [
           -0.10844034972739383,
           -0.04063910836602069,
           -0.26162866597189216,
           0.025754827696575274,
           -0.05927664568441268,
           -0.18204416942281024,
           1,
           -0.0025392083644510833
          ],
          [
           0.07175726406293421,
           0.07556801604286209,
           0.02409013157466429,
           0.07874746612610692,
           0.12639496425904195,
           0.10780966606209326,
           -0.0025392083644510833,
           1
          ]
         ]
        }
       ],
       "layout": {
        "template": {
         "data": {
          "bar": [
           {
            "error_x": {
             "color": "#2a3f5f"
            },
            "error_y": {
             "color": "#2a3f5f"
            },
            "marker": {
             "line": {
              "color": "#E5ECF6",
              "width": 0.5
             },
             "pattern": {
              "fillmode": "overlay",
              "size": 10,
              "solidity": 0.2
             }
            },
            "type": "bar"
           }
          ],
          "barpolar": [
           {
            "marker": {
             "line": {
              "color": "#E5ECF6",
              "width": 0.5
             },
             "pattern": {
              "fillmode": "overlay",
              "size": 10,
              "solidity": 0.2
             }
            },
            "type": "barpolar"
           }
          ],
          "carpet": [
           {
            "aaxis": {
             "endlinecolor": "#2a3f5f",
             "gridcolor": "white",
             "linecolor": "white",
             "minorgridcolor": "white",
             "startlinecolor": "#2a3f5f"
            },
            "baxis": {
             "endlinecolor": "#2a3f5f",
             "gridcolor": "white",
             "linecolor": "white",
             "minorgridcolor": "white",
             "startlinecolor": "#2a3f5f"
            },
            "type": "carpet"
           }
          ],
          "choropleth": [
           {
            "colorbar": {
             "outlinewidth": 0,
             "ticks": ""
            },
            "type": "choropleth"
           }
          ],
          "contour": [
           {
            "colorbar": {
             "outlinewidth": 0,
             "ticks": ""
            },
            "colorscale": [
             [
              0,
              "#0d0887"
             ],
             [
              0.1111111111111111,
              "#46039f"
             ],
             [
              0.2222222222222222,
              "#7201a8"
             ],
             [
              0.3333333333333333,
              "#9c179e"
             ],
             [
              0.4444444444444444,
              "#bd3786"
             ],
             [
              0.5555555555555556,
              "#d8576b"
             ],
             [
              0.6666666666666666,
              "#ed7953"
             ],
             [
              0.7777777777777778,
              "#fb9f3a"
             ],
             [
              0.8888888888888888,
              "#fdca26"
             ],
             [
              1,
              "#f0f921"
             ]
            ],
            "type": "contour"
           }
          ],
          "contourcarpet": [
           {
            "colorbar": {
             "outlinewidth": 0,
             "ticks": ""
            },
            "type": "contourcarpet"
           }
          ],
          "heatmap": [
           {
            "colorbar": {
             "outlinewidth": 0,
             "ticks": ""
            },
            "colorscale": [
             [
              0,
              "#0d0887"
             ],
             [
              0.1111111111111111,
              "#46039f"
             ],
             [
              0.2222222222222222,
              "#7201a8"
             ],
             [
              0.3333333333333333,
              "#9c179e"
             ],
             [
              0.4444444444444444,
              "#bd3786"
             ],
             [
              0.5555555555555556,
              "#d8576b"
             ],
             [
              0.6666666666666666,
              "#ed7953"
             ],
             [
              0.7777777777777778,
              "#fb9f3a"
             ],
             [
              0.8888888888888888,
              "#fdca26"
             ],
             [
              1,
              "#f0f921"
             ]
            ],
            "type": "heatmap"
           }
          ],
          "heatmapgl": [
           {
            "colorbar": {
             "outlinewidth": 0,
             "ticks": ""
            },
            "colorscale": [
             [
              0,
              "#0d0887"
             ],
             [
              0.1111111111111111,
              "#46039f"
             ],
             [
              0.2222222222222222,
              "#7201a8"
             ],
             [
              0.3333333333333333,
              "#9c179e"
             ],
             [
              0.4444444444444444,
              "#bd3786"
             ],
             [
              0.5555555555555556,
              "#d8576b"
             ],
             [
              0.6666666666666666,
              "#ed7953"
             ],
             [
              0.7777777777777778,
              "#fb9f3a"
             ],
             [
              0.8888888888888888,
              "#fdca26"
             ],
             [
              1,
              "#f0f921"
             ]
            ],
            "type": "heatmapgl"
           }
          ],
          "histogram": [
           {
            "marker": {
             "pattern": {
              "fillmode": "overlay",
              "size": 10,
              "solidity": 0.2
             }
            },
            "type": "histogram"
           }
          ],
          "histogram2d": [
           {
            "colorbar": {
             "outlinewidth": 0,
             "ticks": ""
            },
            "colorscale": [
             [
              0,
              "#0d0887"
             ],
             [
              0.1111111111111111,
              "#46039f"
             ],
             [
              0.2222222222222222,
              "#7201a8"
             ],
             [
              0.3333333333333333,
              "#9c179e"
             ],
             [
              0.4444444444444444,
              "#bd3786"
             ],
             [
              0.5555555555555556,
              "#d8576b"
             ],
             [
              0.6666666666666666,
              "#ed7953"
             ],
             [
              0.7777777777777778,
              "#fb9f3a"
             ],
             [
              0.8888888888888888,
              "#fdca26"
             ],
             [
              1,
              "#f0f921"
             ]
            ],
            "type": "histogram2d"
           }
          ],
          "histogram2dcontour": [
           {
            "colorbar": {
             "outlinewidth": 0,
             "ticks": ""
            },
            "colorscale": [
             [
              0,
              "#0d0887"
             ],
             [
              0.1111111111111111,
              "#46039f"
             ],
             [
              0.2222222222222222,
              "#7201a8"
             ],
             [
              0.3333333333333333,
              "#9c179e"
             ],
             [
              0.4444444444444444,
              "#bd3786"
             ],
             [
              0.5555555555555556,
              "#d8576b"
             ],
             [
              0.6666666666666666,
              "#ed7953"
             ],
             [
              0.7777777777777778,
              "#fb9f3a"
             ],
             [
              0.8888888888888888,
              "#fdca26"
             ],
             [
              1,
              "#f0f921"
             ]
            ],
            "type": "histogram2dcontour"
           }
          ],
          "mesh3d": [
           {
            "colorbar": {
             "outlinewidth": 0,
             "ticks": ""
            },
            "type": "mesh3d"
           }
          ],
          "parcoords": [
           {
            "line": {
             "colorbar": {
              "outlinewidth": 0,
              "ticks": ""
             }
            },
            "type": "parcoords"
           }
          ],
          "pie": [
           {
            "automargin": true,
            "type": "pie"
           }
          ],
          "scatter": [
           {
            "fillpattern": {
             "fillmode": "overlay",
             "size": 10,
             "solidity": 0.2
            },
            "type": "scatter"
           }
          ],
          "scatter3d": [
           {
            "line": {
             "colorbar": {
              "outlinewidth": 0,
              "ticks": ""
             }
            },
            "marker": {
             "colorbar": {
              "outlinewidth": 0,
              "ticks": ""
             }
            },
            "type": "scatter3d"
           }
          ],
          "scattercarpet": [
           {
            "marker": {
             "colorbar": {
              "outlinewidth": 0,
              "ticks": ""
             }
            },
            "type": "scattercarpet"
           }
          ],
          "scattergeo": [
           {
            "marker": {
             "colorbar": {
              "outlinewidth": 0,
              "ticks": ""
             }
            },
            "type": "scattergeo"
           }
          ],
          "scattergl": [
           {
            "marker": {
             "colorbar": {
              "outlinewidth": 0,
              "ticks": ""
             }
            },
            "type": "scattergl"
           }
          ],
          "scattermapbox": [
           {
            "marker": {
             "colorbar": {
              "outlinewidth": 0,
              "ticks": ""
             }
            },
            "type": "scattermapbox"
           }
          ],
          "scatterpolar": [
           {
            "marker": {
             "colorbar": {
              "outlinewidth": 0,
              "ticks": ""
             }
            },
            "type": "scatterpolar"
           }
          ],
          "scatterpolargl": [
           {
            "marker": {
             "colorbar": {
              "outlinewidth": 0,
              "ticks": ""
             }
            },
            "type": "scatterpolargl"
           }
          ],
          "scatterternary": [
           {
            "marker": {
             "colorbar": {
              "outlinewidth": 0,
              "ticks": ""
             }
            },
            "type": "scatterternary"
           }
          ],
          "surface": [
           {
            "colorbar": {
             "outlinewidth": 0,
             "ticks": ""
            },
            "colorscale": [
             [
              0,
              "#0d0887"
             ],
             [
              0.1111111111111111,
              "#46039f"
             ],
             [
              0.2222222222222222,
              "#7201a8"
             ],
             [
              0.3333333333333333,
              "#9c179e"
             ],
             [
              0.4444444444444444,
              "#bd3786"
             ],
             [
              0.5555555555555556,
              "#d8576b"
             ],
             [
              0.6666666666666666,
              "#ed7953"
             ],
             [
              0.7777777777777778,
              "#fb9f3a"
             ],
             [
              0.8888888888888888,
              "#fdca26"
             ],
             [
              1,
              "#f0f921"
             ]
            ],
            "type": "surface"
           }
          ],
          "table": [
           {
            "cells": {
             "fill": {
              "color": "#EBF0F8"
             },
             "line": {
              "color": "white"
             }
            },
            "header": {
             "fill": {
              "color": "#C8D4E3"
             },
             "line": {
              "color": "white"
             }
            },
            "type": "table"
           }
          ]
         },
         "layout": {
          "annotationdefaults": {
           "arrowcolor": "#2a3f5f",
           "arrowhead": 0,
           "arrowwidth": 1
          },
          "autotypenumbers": "strict",
          "coloraxis": {
           "colorbar": {
            "outlinewidth": 0,
            "ticks": ""
           }
          },
          "colorscale": {
           "diverging": [
            [
             0,
             "#8e0152"
            ],
            [
             0.1,
             "#c51b7d"
            ],
            [
             0.2,
             "#de77ae"
            ],
            [
             0.3,
             "#f1b6da"
            ],
            [
             0.4,
             "#fde0ef"
            ],
            [
             0.5,
             "#f7f7f7"
            ],
            [
             0.6,
             "#e6f5d0"
            ],
            [
             0.7,
             "#b8e186"
            ],
            [
             0.8,
             "#7fbc41"
            ],
            [
             0.9,
             "#4d9221"
            ],
            [
             1,
             "#276419"
            ]
           ],
           "sequential": [
            [
             0,
             "#0d0887"
            ],
            [
             0.1111111111111111,
             "#46039f"
            ],
            [
             0.2222222222222222,
             "#7201a8"
            ],
            [
             0.3333333333333333,
             "#9c179e"
            ],
            [
             0.4444444444444444,
             "#bd3786"
            ],
            [
             0.5555555555555556,
             "#d8576b"
            ],
            [
             0.6666666666666666,
             "#ed7953"
            ],
            [
             0.7777777777777778,
             "#fb9f3a"
            ],
            [
             0.8888888888888888,
             "#fdca26"
            ],
            [
             1,
             "#f0f921"
            ]
           ],
           "sequentialminus": [
            [
             0,
             "#0d0887"
            ],
            [
             0.1111111111111111,
             "#46039f"
            ],
            [
             0.2222222222222222,
             "#7201a8"
            ],
            [
             0.3333333333333333,
             "#9c179e"
            ],
            [
             0.4444444444444444,
             "#bd3786"
            ],
            [
             0.5555555555555556,
             "#d8576b"
            ],
            [
             0.6666666666666666,
             "#ed7953"
            ],
            [
             0.7777777777777778,
             "#fb9f3a"
            ],
            [
             0.8888888888888888,
             "#fdca26"
            ],
            [
             1,
             "#f0f921"
            ]
           ]
          },
          "colorway": [
           "#636efa",
           "#EF553B",
           "#00cc96",
           "#ab63fa",
           "#FFA15A",
           "#19d3f3",
           "#FF6692",
           "#B6E880",
           "#FF97FF",
           "#FECB52"
          ],
          "font": {
           "color": "#2a3f5f"
          },
          "geo": {
           "bgcolor": "white",
           "lakecolor": "white",
           "landcolor": "#E5ECF6",
           "showlakes": true,
           "showland": true,
           "subunitcolor": "white"
          },
          "hoverlabel": {
           "align": "left"
          },
          "hovermode": "closest",
          "mapbox": {
           "style": "light"
          },
          "paper_bgcolor": "white",
          "plot_bgcolor": "#E5ECF6",
          "polar": {
           "angularaxis": {
            "gridcolor": "white",
            "linecolor": "white",
            "ticks": ""
           },
           "bgcolor": "#E5ECF6",
           "radialaxis": {
            "gridcolor": "white",
            "linecolor": "white",
            "ticks": ""
           }
          },
          "scene": {
           "xaxis": {
            "backgroundcolor": "#E5ECF6",
            "gridcolor": "white",
            "gridwidth": 2,
            "linecolor": "white",
            "showbackground": true,
            "ticks": "",
            "zerolinecolor": "white"
           },
           "yaxis": {
            "backgroundcolor": "#E5ECF6",
            "gridcolor": "white",
            "gridwidth": 2,
            "linecolor": "white",
            "showbackground": true,
            "ticks": "",
            "zerolinecolor": "white"
           },
           "zaxis": {
            "backgroundcolor": "#E5ECF6",
            "gridcolor": "white",
            "gridwidth": 2,
            "linecolor": "white",
            "showbackground": true,
            "ticks": "",
            "zerolinecolor": "white"
           }
          },
          "shapedefaults": {
           "line": {
            "color": "#2a3f5f"
           }
          },
          "ternary": {
           "aaxis": {
            "gridcolor": "white",
            "linecolor": "white",
            "ticks": ""
           },
           "baxis": {
            "gridcolor": "white",
            "linecolor": "white",
            "ticks": ""
           },
           "bgcolor": "#E5ECF6",
           "caxis": {
            "gridcolor": "white",
            "linecolor": "white",
            "ticks": ""
           }
          },
          "title": {
           "x": 0.05
          },
          "xaxis": {
           "automargin": true,
           "gridcolor": "white",
           "linecolor": "white",
           "ticks": "",
           "title": {
            "standoff": 15
           },
           "zerolinecolor": "white",
           "zerolinewidth": 2
          },
          "yaxis": {
           "automargin": true,
           "gridcolor": "white",
           "linecolor": "white",
           "ticks": "",
           "title": {
            "standoff": 15
           },
           "zerolinecolor": "white",
           "zerolinewidth": 2
          }
         }
        }
       }
      }
     },
     "metadata": {},
     "output_type": "display_data"
    }
   ],
   "source": [
    "var_names = [\"depression\",\"depressionCont\",\"n_not_experienced\",\"train_MAE\",\"src_edge_0_trained\",\"src_content_0_trained\",\"bias_0_trained\",\"edge_0_trained\"]\n",
    "r,p = spearmanr(data[var_names])\n",
    "\n",
    "\n",
    "text = np.round(r,3).astype(str)\n",
    "p_values = np.round(p,3).astype(str)\n",
    "\n",
    "for i in range(text.shape[0]):\n",
    "    for j in range(text.shape[1]):\n",
    "        text[i,j] = text[i,j] + \" - p:\" + p_values[i,j]\n",
    "\n",
    "fig = go.Figure(data=go.Heatmap(\n",
    "                    z=r,\n",
    "                    x = var_names,\n",
    "                    y = var_names,\n",
    "                    text=text,\n",
    "                    texttemplate=\"%{text}\",\n",
    "                    textfont={\"size\":20}))\n",
    "fig.update\n",
    "fig.show()"
   ]
  },
  {
   "cell_type": "markdown",
   "id": "ecd753b8",
   "metadata": {},
   "source": [
    "\"2025-06-23_23-21__GAT_liking_sim_amp_3NN_3ExpNN_no_val\" doesn't show clear trend between depressionCont and any of src_edge_0_trained, src_content_0_trained, bias_0_trained and edge_trained. There may be one with src_edge_0_trained (spearman = -0.0876, p = 0.0672; pearson = -0.0875, p = 0.0964). Some correlations appears between src_content_0_trained, edge_0_trained and bias_0_trained. This argues for removing some parameters - maybe one by one - maybe src_content_0_trained which is \"correlating\" the most.\n",
    "\n",
    "Alternatively, dimensionality reduction applied to src_edge_0_trained, src_content_0_trained, bias_0_trained and edge_traine before classification could help."
   ]
  },
  {
   "cell_type": "code",
   "execution_count": 81,
   "id": "9117e4bc",
   "metadata": {},
   "outputs": [
    {
     "data": {
      "text/html": [
       "<div>\n",
       "<style scoped>\n",
       "    .dataframe tbody tr th:only-of-type {\n",
       "        vertical-align: middle;\n",
       "    }\n",
       "\n",
       "    .dataframe tbody tr th {\n",
       "        vertical-align: top;\n",
       "    }\n",
       "\n",
       "    .dataframe thead th {\n",
       "        text-align: right;\n",
       "    }\n",
       "</style>\n",
       "<table border=\"1\" class=\"dataframe\">\n",
       "  <thead>\n",
       "    <tr style=\"text-align: right;\">\n",
       "      <th></th>\n",
       "      <th>depression</th>\n",
       "      <th>depressionCont</th>\n",
       "      <th>female</th>\n",
       "      <th>age</th>\n",
       "      <th>n_not_experienced</th>\n",
       "      <th>participant_id</th>\n",
       "      <th>model.device</th>\n",
       "      <th>model.n_free_params</th>\n",
       "      <th>model.update_node_module.name</th>\n",
       "      <th>model.update_node_module.parameters.add_self_loops</th>\n",
       "      <th>...</th>\n",
       "      <th>src_edge_0_trained</th>\n",
       "      <th>full_src_edge_0_trained</th>\n",
       "      <th>dst_content_0_trained</th>\n",
       "      <th>att_dst_edge_0_trained</th>\n",
       "      <th>dst_edge_0_trained</th>\n",
       "      <th>full_dst_edge_0_trained</th>\n",
       "      <th>att_edge_0_trained</th>\n",
       "      <th>edge_0_trained</th>\n",
       "      <th>full_edge_0_trained</th>\n",
       "      <th>bias_0_trained</th>\n",
       "    </tr>\n",
       "  </thead>\n",
       "  <tbody>\n",
       "    <tr>\n",
       "      <th>0</th>\n",
       "      <td>1</td>\n",
       "      <td>37</td>\n",
       "      <td>0</td>\n",
       "      <td>32</td>\n",
       "      <td>4</td>\n",
       "      <td>88</td>\n",
       "      <td>cuda</td>\n",
       "      <td>4</td>\n",
       "      <td>MyGATConv</td>\n",
       "      <td>False</td>\n",
       "      <td>...</td>\n",
       "      <td>0.263365</td>\n",
       "      <td>0.263365</td>\n",
       "      <td>NaN</td>\n",
       "      <td>1.0</td>\n",
       "      <td>NaN</td>\n",
       "      <td>NaN</td>\n",
       "      <td>1.0</td>\n",
       "      <td>1.967580</td>\n",
       "      <td>1.967580</td>\n",
       "      <td>-0.608210</td>\n",
       "    </tr>\n",
       "    <tr>\n",
       "      <th>1</th>\n",
       "      <td>1</td>\n",
       "      <td>15</td>\n",
       "      <td>0</td>\n",
       "      <td>39</td>\n",
       "      <td>2</td>\n",
       "      <td>50</td>\n",
       "      <td>cuda</td>\n",
       "      <td>4</td>\n",
       "      <td>MyGATConv</td>\n",
       "      <td>False</td>\n",
       "      <td>...</td>\n",
       "      <td>-0.841104</td>\n",
       "      <td>-0.841104</td>\n",
       "      <td>NaN</td>\n",
       "      <td>1.0</td>\n",
       "      <td>NaN</td>\n",
       "      <td>NaN</td>\n",
       "      <td>1.0</td>\n",
       "      <td>0.491972</td>\n",
       "      <td>0.491972</td>\n",
       "      <td>0.140942</td>\n",
       "    </tr>\n",
       "    <tr>\n",
       "      <th>2</th>\n",
       "      <td>1</td>\n",
       "      <td>45</td>\n",
       "      <td>1</td>\n",
       "      <td>31</td>\n",
       "      <td>12</td>\n",
       "      <td>49</td>\n",
       "      <td>cuda</td>\n",
       "      <td>4</td>\n",
       "      <td>MyGATConv</td>\n",
       "      <td>False</td>\n",
       "      <td>...</td>\n",
       "      <td>-0.481252</td>\n",
       "      <td>-0.481252</td>\n",
       "      <td>NaN</td>\n",
       "      <td>1.0</td>\n",
       "      <td>NaN</td>\n",
       "      <td>NaN</td>\n",
       "      <td>1.0</td>\n",
       "      <td>2.082179</td>\n",
       "      <td>2.082179</td>\n",
       "      <td>-0.637914</td>\n",
       "    </tr>\n",
       "    <tr>\n",
       "      <th>3</th>\n",
       "      <td>1</td>\n",
       "      <td>21</td>\n",
       "      <td>0</td>\n",
       "      <td>27</td>\n",
       "      <td>4</td>\n",
       "      <td>35</td>\n",
       "      <td>cuda</td>\n",
       "      <td>4</td>\n",
       "      <td>MyGATConv</td>\n",
       "      <td>False</td>\n",
       "      <td>...</td>\n",
       "      <td>-1.187043</td>\n",
       "      <td>-1.187043</td>\n",
       "      <td>NaN</td>\n",
       "      <td>1.0</td>\n",
       "      <td>NaN</td>\n",
       "      <td>NaN</td>\n",
       "      <td>1.0</td>\n",
       "      <td>0.161951</td>\n",
       "      <td>0.161951</td>\n",
       "      <td>-0.250646</td>\n",
       "    </tr>\n",
       "    <tr>\n",
       "      <th>4</th>\n",
       "      <td>1</td>\n",
       "      <td>36</td>\n",
       "      <td>1</td>\n",
       "      <td>23</td>\n",
       "      <td>20</td>\n",
       "      <td>26</td>\n",
       "      <td>cuda</td>\n",
       "      <td>4</td>\n",
       "      <td>MyGATConv</td>\n",
       "      <td>False</td>\n",
       "      <td>...</td>\n",
       "      <td>-0.847369</td>\n",
       "      <td>-0.847369</td>\n",
       "      <td>NaN</td>\n",
       "      <td>1.0</td>\n",
       "      <td>NaN</td>\n",
       "      <td>NaN</td>\n",
       "      <td>1.0</td>\n",
       "      <td>-0.066702</td>\n",
       "      <td>-0.066702</td>\n",
       "      <td>-1.025425</td>\n",
       "    </tr>\n",
       "    <tr>\n",
       "      <th>...</th>\n",
       "      <td>...</td>\n",
       "      <td>...</td>\n",
       "      <td>...</td>\n",
       "      <td>...</td>\n",
       "      <td>...</td>\n",
       "      <td>...</td>\n",
       "      <td>...</td>\n",
       "      <td>...</td>\n",
       "      <td>...</td>\n",
       "      <td>...</td>\n",
       "      <td>...</td>\n",
       "      <td>...</td>\n",
       "      <td>...</td>\n",
       "      <td>...</td>\n",
       "      <td>...</td>\n",
       "      <td>...</td>\n",
       "      <td>...</td>\n",
       "      <td>...</td>\n",
       "      <td>...</td>\n",
       "      <td>...</td>\n",
       "      <td>...</td>\n",
       "    </tr>\n",
       "    <tr>\n",
       "      <th>99</th>\n",
       "      <td>0</td>\n",
       "      <td>7</td>\n",
       "      <td>0</td>\n",
       "      <td>48</td>\n",
       "      <td>4</td>\n",
       "      <td>71</td>\n",
       "      <td>cuda</td>\n",
       "      <td>4</td>\n",
       "      <td>MyGATConv</td>\n",
       "      <td>False</td>\n",
       "      <td>...</td>\n",
       "      <td>1.059354</td>\n",
       "      <td>1.059354</td>\n",
       "      <td>NaN</td>\n",
       "      <td>1.0</td>\n",
       "      <td>NaN</td>\n",
       "      <td>NaN</td>\n",
       "      <td>1.0</td>\n",
       "      <td>-0.051511</td>\n",
       "      <td>-0.051511</td>\n",
       "      <td>-0.452064</td>\n",
       "    </tr>\n",
       "    <tr>\n",
       "      <th>100</th>\n",
       "      <td>0</td>\n",
       "      <td>12</td>\n",
       "      <td>1</td>\n",
       "      <td>29</td>\n",
       "      <td>9</td>\n",
       "      <td>1</td>\n",
       "      <td>cuda</td>\n",
       "      <td>4</td>\n",
       "      <td>MyGATConv</td>\n",
       "      <td>False</td>\n",
       "      <td>...</td>\n",
       "      <td>-1.503265</td>\n",
       "      <td>-1.503265</td>\n",
       "      <td>NaN</td>\n",
       "      <td>1.0</td>\n",
       "      <td>NaN</td>\n",
       "      <td>NaN</td>\n",
       "      <td>1.0</td>\n",
       "      <td>0.414384</td>\n",
       "      <td>0.414384</td>\n",
       "      <td>-0.445530</td>\n",
       "    </tr>\n",
       "    <tr>\n",
       "      <th>101</th>\n",
       "      <td>1</td>\n",
       "      <td>31</td>\n",
       "      <td>1</td>\n",
       "      <td>33</td>\n",
       "      <td>8</td>\n",
       "      <td>22</td>\n",
       "      <td>cuda</td>\n",
       "      <td>4</td>\n",
       "      <td>MyGATConv</td>\n",
       "      <td>False</td>\n",
       "      <td>...</td>\n",
       "      <td>-1.041984</td>\n",
       "      <td>-1.041984</td>\n",
       "      <td>NaN</td>\n",
       "      <td>1.0</td>\n",
       "      <td>NaN</td>\n",
       "      <td>NaN</td>\n",
       "      <td>1.0</td>\n",
       "      <td>-0.077730</td>\n",
       "      <td>-0.077730</td>\n",
       "      <td>-0.842899</td>\n",
       "    </tr>\n",
       "    <tr>\n",
       "      <th>102</th>\n",
       "      <td>1</td>\n",
       "      <td>42</td>\n",
       "      <td>1</td>\n",
       "      <td>39</td>\n",
       "      <td>9</td>\n",
       "      <td>25</td>\n",
       "      <td>cuda</td>\n",
       "      <td>4</td>\n",
       "      <td>MyGATConv</td>\n",
       "      <td>False</td>\n",
       "      <td>...</td>\n",
       "      <td>-0.697929</td>\n",
       "      <td>-0.697929</td>\n",
       "      <td>NaN</td>\n",
       "      <td>1.0</td>\n",
       "      <td>NaN</td>\n",
       "      <td>NaN</td>\n",
       "      <td>1.0</td>\n",
       "      <td>-1.586519</td>\n",
       "      <td>-1.586519</td>\n",
       "      <td>-0.902246</td>\n",
       "    </tr>\n",
       "    <tr>\n",
       "      <th>103</th>\n",
       "      <td>1</td>\n",
       "      <td>28</td>\n",
       "      <td>1</td>\n",
       "      <td>21</td>\n",
       "      <td>6</td>\n",
       "      <td>62</td>\n",
       "      <td>cuda</td>\n",
       "      <td>4</td>\n",
       "      <td>MyGATConv</td>\n",
       "      <td>False</td>\n",
       "      <td>...</td>\n",
       "      <td>0.070409</td>\n",
       "      <td>0.070409</td>\n",
       "      <td>NaN</td>\n",
       "      <td>1.0</td>\n",
       "      <td>NaN</td>\n",
       "      <td>NaN</td>\n",
       "      <td>1.0</td>\n",
       "      <td>0.080141</td>\n",
       "      <td>0.080141</td>\n",
       "      <td>-0.599395</td>\n",
       "    </tr>\n",
       "  </tbody>\n",
       "</table>\n",
       "<p>104 rows × 80 columns</p>\n",
       "</div>"
      ],
      "text/plain": [
       "     depression  depressionCont  female  age  n_not_experienced  \\\n",
       "0             1              37       0   32                  4   \n",
       "1             1              15       0   39                  2   \n",
       "2             1              45       1   31                 12   \n",
       "3             1              21       0   27                  4   \n",
       "4             1              36       1   23                 20   \n",
       "..          ...             ...     ...  ...                ...   \n",
       "99            0               7       0   48                  4   \n",
       "100           0              12       1   29                  9   \n",
       "101           1              31       1   33                  8   \n",
       "102           1              42       1   39                  9   \n",
       "103           1              28       1   21                  6   \n",
       "\n",
       "     participant_id model.device  model.n_free_params  \\\n",
       "0                88         cuda                    4   \n",
       "1                50         cuda                    4   \n",
       "2                49         cuda                    4   \n",
       "3                35         cuda                    4   \n",
       "4                26         cuda                    4   \n",
       "..              ...          ...                  ...   \n",
       "99               71         cuda                    4   \n",
       "100               1         cuda                    4   \n",
       "101              22         cuda                    4   \n",
       "102              25         cuda                    4   \n",
       "103              62         cuda                    4   \n",
       "\n",
       "    model.update_node_module.name  \\\n",
       "0                       MyGATConv   \n",
       "1                       MyGATConv   \n",
       "2                       MyGATConv   \n",
       "3                       MyGATConv   \n",
       "4                       MyGATConv   \n",
       "..                            ...   \n",
       "99                      MyGATConv   \n",
       "100                     MyGATConv   \n",
       "101                     MyGATConv   \n",
       "102                     MyGATConv   \n",
       "103                     MyGATConv   \n",
       "\n",
       "     model.update_node_module.parameters.add_self_loops  ...  \\\n",
       "0                                                False   ...   \n",
       "1                                                False   ...   \n",
       "2                                                False   ...   \n",
       "3                                                False   ...   \n",
       "4                                                False   ...   \n",
       "..                                                 ...   ...   \n",
       "99                                               False   ...   \n",
       "100                                              False   ...   \n",
       "101                                              False   ...   \n",
       "102                                              False   ...   \n",
       "103                                              False   ...   \n",
       "\n",
       "     src_edge_0_trained  full_src_edge_0_trained  dst_content_0_trained  \\\n",
       "0              0.263365                 0.263365                    NaN   \n",
       "1             -0.841104                -0.841104                    NaN   \n",
       "2             -0.481252                -0.481252                    NaN   \n",
       "3             -1.187043                -1.187043                    NaN   \n",
       "4             -0.847369                -0.847369                    NaN   \n",
       "..                  ...                      ...                    ...   \n",
       "99             1.059354                 1.059354                    NaN   \n",
       "100           -1.503265                -1.503265                    NaN   \n",
       "101           -1.041984                -1.041984                    NaN   \n",
       "102           -0.697929                -0.697929                    NaN   \n",
       "103            0.070409                 0.070409                    NaN   \n",
       "\n",
       "     att_dst_edge_0_trained  dst_edge_0_trained full_dst_edge_0_trained  \\\n",
       "0                       1.0                 NaN                     NaN   \n",
       "1                       1.0                 NaN                     NaN   \n",
       "2                       1.0                 NaN                     NaN   \n",
       "3                       1.0                 NaN                     NaN   \n",
       "4                       1.0                 NaN                     NaN   \n",
       "..                      ...                 ...                     ...   \n",
       "99                      1.0                 NaN                     NaN   \n",
       "100                     1.0                 NaN                     NaN   \n",
       "101                     1.0                 NaN                     NaN   \n",
       "102                     1.0                 NaN                     NaN   \n",
       "103                     1.0                 NaN                     NaN   \n",
       "\n",
       "     att_edge_0_trained  edge_0_trained full_edge_0_trained  bias_0_trained  \n",
       "0                   1.0        1.967580            1.967580       -0.608210  \n",
       "1                   1.0        0.491972            0.491972        0.140942  \n",
       "2                   1.0        2.082179            2.082179       -0.637914  \n",
       "3                   1.0        0.161951            0.161951       -0.250646  \n",
       "4                   1.0       -0.066702           -0.066702       -1.025425  \n",
       "..                  ...             ...                 ...             ...  \n",
       "99                  1.0       -0.051511           -0.051511       -0.452064  \n",
       "100                 1.0        0.414384            0.414384       -0.445530  \n",
       "101                 1.0       -0.077730           -0.077730       -0.842899  \n",
       "102                 1.0       -1.586519           -1.586519       -0.902246  \n",
       "103                 1.0        0.080141            0.080141       -0.599395  \n",
       "\n",
       "[104 rows x 80 columns]"
      ]
     },
     "execution_count": 81,
     "metadata": {},
     "output_type": "execute_result"
    }
   ],
   "source": [
    "data"
   ]
  },
  {
   "cell_type": "code",
   "execution_count": 82,
   "id": "b5cc4a2e",
   "metadata": {},
   "outputs": [
    {
     "data": {
      "text/plain": [
       "['depression',\n",
       " 'depressionCont',\n",
       " 'female',\n",
       " 'age',\n",
       " 'n_not_experienced',\n",
       " 'participant_id',\n",
       " 'model.device',\n",
       " 'model.n_free_params',\n",
       " 'model.update_node_module.name',\n",
       " 'model.update_node_module.parameters.add_self_loops',\n",
       " 'model.update_node_module.parameters.bias',\n",
       " 'model.update_node_module.parameters.concat',\n",
       " 'model.update_node_module.parameters.dropout',\n",
       " 'model.update_node_module.parameters.dst_content_mask.0',\n",
       " 'model.update_node_module.parameters.dst_content_require_grad',\n",
       " 'model.update_node_module.parameters.dst_content_weight_initializer',\n",
       " 'model.update_node_module.parameters.dst_edge_mask.0',\n",
       " 'model.update_node_module.parameters.dst_edge_require_grad',\n",
       " 'model.update_node_module.parameters.dst_edge_weight_initializer',\n",
       " 'model.update_node_module.parameters.edge_dim',\n",
       " 'model.update_node_module.parameters.edge_weight_initializer',\n",
       " 'model.update_node_module.parameters.fill_value',\n",
       " 'model.update_node_module.parameters.heads',\n",
       " 'model.update_node_module.parameters.in_channels.0',\n",
       " 'model.update_node_module.parameters.in_channels.1',\n",
       " 'model.update_node_module.parameters.negative_slope',\n",
       " 'model.update_node_module.parameters.out_channels',\n",
       " 'model.update_node_module.parameters.src_content_mask.0',\n",
       " 'model.update_node_module.parameters.src_content_require_grad',\n",
       " 'model.update_node_module.parameters.src_content_weight_initializer',\n",
       " 'model.update_node_module.parameters.src_edge_mask.0',\n",
       " 'model.update_node_module.parameters.src_edge_require_grad',\n",
       " 'model.update_node_module.parameters.src_edge_weight_initializer',\n",
       " 'other.model_fit_params.early_stopping_monitor',\n",
       " 'other.model_fit_params.epochs',\n",
       " 'other.model_fit_params.l2_reg',\n",
       " 'other.model_fit_params.patience',\n",
       " 'other.model_fit_params.report_epoch_steps',\n",
       " 'other.model_name',\n",
       " 'other.sim_used',\n",
       " 'preprocessing_pipeline.complete_train_mask_selector.name',\n",
       " 'preprocessing_pipeline.complete_train_mask_selector.parameters.feature_name',\n",
       " 'preprocessing_pipeline.complete_train_mask_selector.parameters.threshold',\n",
       " 'preprocessing_pipeline.complete_train_mask_selector.parameters.verbose',\n",
       " 'preprocessing_pipeline.validation_handler.name',\n",
       " 'preprocessing_pipeline.validation_handler.parameters.feature_name',\n",
       " 'preprocessing_pipeline.validation_handler.parameters.threshold',\n",
       " 'preprocessing_pipeline.validation_handler.parameters.verbose',\n",
       " 'participant_folder_name',\n",
       " 'graph',\n",
       " 'train_mean_pred-true',\n",
       " 'train_MAE',\n",
       " 'val_mean_pred-true',\n",
       " 'val_MAE',\n",
       " 'train_BIC_0',\n",
       " 'val_BIC_0',\n",
       " 'src_content_0_init',\n",
       " 'att_src_edge_0_init',\n",
       " 'src_edge_0_init',\n",
       " 'full_src_edge_0_init',\n",
       " 'dst_content_0_init',\n",
       " 'att_dst_edge_0_init',\n",
       " 'dst_edge_0_init',\n",
       " 'full_dst_edge_0_init',\n",
       " 'att_edge_0_init',\n",
       " 'edge_0_init',\n",
       " 'full_edge_0_init',\n",
       " 'bias_0_init',\n",
       " 'src_content_0_trained',\n",
       " 'att_src_edge_0_trained',\n",
       " 'src_edge_0_trained',\n",
       " 'full_src_edge_0_trained',\n",
       " 'dst_content_0_trained',\n",
       " 'att_dst_edge_0_trained',\n",
       " 'dst_edge_0_trained',\n",
       " 'full_dst_edge_0_trained',\n",
       " 'att_edge_0_trained',\n",
       " 'edge_0_trained',\n",
       " 'full_edge_0_trained',\n",
       " 'bias_0_trained']"
      ]
     },
     "execution_count": 82,
     "metadata": {},
     "output_type": "execute_result"
    }
   ],
   "source": [
    "data.columns.tolist()"
   ]
  },
  {
   "cell_type": "code",
   "execution_count": 83,
   "id": "ba5a668d",
   "metadata": {},
   "outputs": [
    {
     "data": {
      "text/html": [
       "<div>\n",
       "<style scoped>\n",
       "    .dataframe tbody tr th:only-of-type {\n",
       "        vertical-align: middle;\n",
       "    }\n",
       "\n",
       "    .dataframe tbody tr th {\n",
       "        vertical-align: top;\n",
       "    }\n",
       "\n",
       "    .dataframe thead th {\n",
       "        text-align: right;\n",
       "    }\n",
       "</style>\n",
       "<table border=\"1\" class=\"dataframe\">\n",
       "  <thead>\n",
       "    <tr style=\"text-align: right;\">\n",
       "      <th></th>\n",
       "      <th>depression</th>\n",
       "      <th>depressionCont</th>\n",
       "      <th>female</th>\n",
       "      <th>age</th>\n",
       "      <th>n_not_experienced</th>\n",
       "      <th>participant_id</th>\n",
       "      <th>model.device</th>\n",
       "      <th>model.n_free_params</th>\n",
       "      <th>model.update_node_module.name</th>\n",
       "      <th>model.update_node_module.parameters.add_self_loops</th>\n",
       "      <th>...</th>\n",
       "      <th>src_edge_0_trained</th>\n",
       "      <th>full_src_edge_0_trained</th>\n",
       "      <th>dst_content_0_trained</th>\n",
       "      <th>att_dst_edge_0_trained</th>\n",
       "      <th>dst_edge_0_trained</th>\n",
       "      <th>full_dst_edge_0_trained</th>\n",
       "      <th>att_edge_0_trained</th>\n",
       "      <th>edge_0_trained</th>\n",
       "      <th>full_edge_0_trained</th>\n",
       "      <th>bias_0_trained</th>\n",
       "    </tr>\n",
       "  </thead>\n",
       "  <tbody>\n",
       "    <tr>\n",
       "      <th>100</th>\n",
       "      <td>0</td>\n",
       "      <td>12</td>\n",
       "      <td>1</td>\n",
       "      <td>29</td>\n",
       "      <td>9</td>\n",
       "      <td>1</td>\n",
       "      <td>cuda</td>\n",
       "      <td>4</td>\n",
       "      <td>MyGATConv</td>\n",
       "      <td>False</td>\n",
       "      <td>...</td>\n",
       "      <td>-1.503265</td>\n",
       "      <td>-1.503265</td>\n",
       "      <td>NaN</td>\n",
       "      <td>1.0</td>\n",
       "      <td>NaN</td>\n",
       "      <td>NaN</td>\n",
       "      <td>1.0</td>\n",
       "      <td>0.414384</td>\n",
       "      <td>0.414384</td>\n",
       "      <td>-0.44553</td>\n",
       "    </tr>\n",
       "  </tbody>\n",
       "</table>\n",
       "<p>1 rows × 80 columns</p>\n",
       "</div>"
      ],
      "text/plain": [
       "     depression  depressionCont  female  age  n_not_experienced  \\\n",
       "100           0              12       1   29                  9   \n",
       "\n",
       "     participant_id model.device  model.n_free_params  \\\n",
       "100               1         cuda                    4   \n",
       "\n",
       "    model.update_node_module.name  \\\n",
       "100                     MyGATConv   \n",
       "\n",
       "     model.update_node_module.parameters.add_self_loops  ...  \\\n",
       "100                                              False   ...   \n",
       "\n",
       "     src_edge_0_trained  full_src_edge_0_trained  dst_content_0_trained  \\\n",
       "100           -1.503265                -1.503265                    NaN   \n",
       "\n",
       "     att_dst_edge_0_trained  dst_edge_0_trained full_dst_edge_0_trained  \\\n",
       "100                     1.0                 NaN                     NaN   \n",
       "\n",
       "     att_edge_0_trained  edge_0_trained full_edge_0_trained  bias_0_trained  \n",
       "100                 1.0        0.414384            0.414384        -0.44553  \n",
       "\n",
       "[1 rows x 80 columns]"
      ]
     },
     "execution_count": 83,
     "metadata": {},
     "output_type": "execute_result"
    }
   ],
   "source": [
    "data[data[\"participant_id\"] == 1]"
   ]
  },
  {
   "cell_type": "code",
   "execution_count": 84,
   "id": "d9a8cab5",
   "metadata": {},
   "outputs": [
    {
     "name": "stdout",
     "output_type": "stream",
     "text": [
      "== results.summary() ==\n",
      "\n",
      "                             OLS Regression Results                            \n",
      "==============================================================================\n",
      "Dep. Variable:         depressionCont   R-squared:                       0.712\n",
      "Model:                            OLS   Adj. R-squared:                  0.257\n",
      "Method:                 Least Squares   F-statistic:                     1.566\n",
      "Date:                Sun, 06 Jul 2025   Prob (F-statistic):             0.0656\n",
      "Time:                        18:16:07   Log-Likelihood:                -345.70\n",
      "No. Observations:                 104   AIC:                             819.4\n",
      "Df Residuals:                      40   BIC:                             988.6\n",
      "Df Model:                          63                                         \n",
      "Covariance Type:            nonrobust                                         \n",
      "======================================================================================================================================================================================================================\n",
      "                                                                                                                                                         coef    std err          t      P>|t|      [0.025      0.975]\n",
      "----------------------------------------------------------------------------------------------------------------------------------------------------------------------------------------------------------------------\n",
      "Intercept                                                                                                                                              9.8517      2.162      4.557      0.000       5.482      14.222\n",
      "center(train_MAE)                                                                                                                                    -10.1932     12.528     -0.814      0.421     -35.514      15.127\n",
      "center(n_not_experienced)                                                                                                                             -0.3002      0.540     -0.556      0.582      -1.392       0.792\n",
      "center(train_MAE):center(n_not_experienced)                                                                                                           -2.6544      2.060     -1.288      0.205      -6.818       1.509\n",
      "center(edge_0_trained)                                                                                                                                -8.1688      6.017     -1.358      0.182     -20.330       3.992\n",
      "center(train_MAE):center(edge_0_trained)                                                                                                               0.6223     17.813      0.035      0.972     -35.378      36.623\n",
      "center(n_not_experienced):center(edge_0_trained)                                                                                                      -0.0251      1.586     -0.016      0.987      -3.230       3.179\n",
      "center(train_MAE):center(n_not_experienced):center(edge_0_trained)                                                                                     2.0501      6.832      0.300      0.766     -11.757      15.857\n",
      "center(bias_0_trained)                                                                                                                                -6.7111      5.131     -1.308      0.198     -17.081       3.658\n",
      "center(train_MAE):center(bias_0_trained)                                                                                                             -45.5954     34.179     -1.334      0.190    -114.674      23.483\n",
      "center(n_not_experienced):center(bias_0_trained)                                                                                                      -0.9598      1.132     -0.848      0.402      -3.248       1.329\n",
      "center(train_MAE):center(n_not_experienced):center(bias_0_trained)                                                                                    -8.3931      4.998     -1.679      0.101     -18.495       1.709\n",
      "center(edge_0_trained):center(bias_0_trained)                                                                                                         31.7260     13.357      2.375      0.022       4.729      58.722\n",
      "center(train_MAE):center(edge_0_trained):center(bias_0_trained)                                                                                       -9.9659     98.614     -0.101      0.920    -209.272     189.340\n",
      "center(n_not_experienced):center(edge_0_trained):center(bias_0_trained)                                                                                4.9708      3.015      1.649      0.107      -1.123      11.065\n",
      "center(train_MAE):center(n_not_experienced):center(edge_0_trained):center(bias_0_trained)                                                            -20.1825     23.208     -0.870      0.390     -67.087      26.722\n",
      "center(src_content_0_trained)                                                                                                                          8.7395      4.363      2.003      0.052      -0.078      17.557\n",
      "center(train_MAE):center(src_content_0_trained)                                                                                                      -71.2610     22.978     -3.101      0.004    -117.701     -24.821\n",
      "center(n_not_experienced):center(src_content_0_trained)                                                                                                2.7013      1.013      2.666      0.011       0.653       4.749\n",
      "center(train_MAE):center(n_not_experienced):center(src_content_0_trained)                                                                             -4.4318      3.717     -1.192      0.240     -11.945       3.081\n",
      "center(edge_0_trained):center(src_content_0_trained)                                                                                                  33.5801      8.464      3.967      0.000      16.473      50.687\n",
      "center(train_MAE):center(edge_0_trained):center(src_content_0_trained)                                                                               -71.0109     37.211     -1.908      0.064    -146.218       4.196\n",
      "center(n_not_experienced):center(edge_0_trained):center(src_content_0_trained)                                                                         4.9740      2.072      2.400      0.021       0.786       9.162\n",
      "center(train_MAE):center(n_not_experienced):center(edge_0_trained):center(src_content_0_trained)                                                     -11.1927      9.491     -1.179      0.245     -30.375       7.990\n",
      "center(bias_0_trained):center(src_content_0_trained)                                                                                                  14.3126      6.282      2.278      0.028       1.617      27.008\n",
      "center(train_MAE):center(bias_0_trained):center(src_content_0_trained)                                                                               -91.1608     70.234     -1.298      0.202    -233.108      50.787\n",
      "center(n_not_experienced):center(bias_0_trained):center(src_content_0_trained)                                                                         3.4531      2.434      1.419      0.164      -1.466       8.372\n",
      "center(train_MAE):center(n_not_experienced):center(bias_0_trained):center(src_content_0_trained)                                                      -8.8620      9.135     -0.970      0.338     -27.324       9.600\n",
      "center(edge_0_trained):center(bias_0_trained):center(src_content_0_trained)                                                                           -4.6334     23.549     -0.197      0.845     -52.227      42.961\n",
      "center(train_MAE):center(edge_0_trained):center(bias_0_trained):center(src_content_0_trained)                                                         14.3793     76.228      0.189      0.851    -139.684     168.443\n",
      "center(n_not_experienced):center(edge_0_trained):center(bias_0_trained):center(src_content_0_trained)                                                 -1.6431      6.001     -0.274      0.786     -13.771      10.485\n",
      "center(train_MAE):center(n_not_experienced):center(edge_0_trained):center(bias_0_trained):center(src_content_0_trained)                               -6.9787     22.352     -0.312      0.756     -52.154      38.197\n",
      "center(src_edge_0_trained)                                                                                                                             9.6329      4.006      2.405      0.021       1.537      17.728\n",
      "center(train_MAE):center(src_edge_0_trained)                                                                                                         -16.8848     15.589     -1.083      0.285     -48.392      14.622\n",
      "center(n_not_experienced):center(src_edge_0_trained)                                                                                                   2.3410      0.801      2.921      0.006       0.721       3.961\n",
      "center(train_MAE):center(n_not_experienced):center(src_edge_0_trained)                                                                                -2.7656      2.943     -0.940      0.353      -8.713       3.182\n",
      "center(edge_0_trained):center(src_edge_0_trained)                                                                                                      6.9371     10.402      0.667      0.509     -14.086      27.961\n",
      "center(train_MAE):center(edge_0_trained):center(src_edge_0_trained)                                                                                   20.3940     60.631      0.336      0.738    -102.146     142.934\n",
      "center(n_not_experienced):center(edge_0_trained):center(src_edge_0_trained)                                                                            4.7985      1.942      2.471      0.018       0.873       8.724\n",
      "center(train_MAE):center(n_not_experienced):center(edge_0_trained):center(src_edge_0_trained)                                                         24.8475     13.662      1.819      0.076      -2.765      52.460\n",
      "center(bias_0_trained):center(src_edge_0_trained)                                                                                                     18.8835     12.622      1.496      0.142      -6.627      44.395\n",
      "center(train_MAE):center(bias_0_trained):center(src_edge_0_trained)                                                                                  -48.3204     48.237     -1.002      0.322    -145.811      49.170\n",
      "center(n_not_experienced):center(bias_0_trained):center(src_edge_0_trained)                                                                            4.7675      1.832      2.602      0.013       1.064       8.471\n",
      "center(train_MAE):center(n_not_experienced):center(bias_0_trained):center(src_edge_0_trained)                                                         -1.8295     10.180     -0.180      0.858     -22.403      18.744\n",
      "center(edge_0_trained):center(bias_0_trained):center(src_edge_0_trained)                                                                              -5.2831     38.013     -0.139      0.890     -82.111      71.545\n",
      "center(train_MAE):center(edge_0_trained):center(bias_0_trained):center(src_edge_0_trained)                                                            61.2084    177.657      0.345      0.732    -297.849     420.266\n",
      "center(n_not_experienced):center(edge_0_trained):center(bias_0_trained):center(src_edge_0_trained)                                                    -7.1855      5.626     -1.277      0.209     -18.555       4.184\n",
      "center(train_MAE):center(n_not_experienced):center(edge_0_trained):center(bias_0_trained):center(src_edge_0_trained)                                 -34.8511     38.879     -0.896      0.375    -113.429      43.727\n",
      "center(src_content_0_trained):center(src_edge_0_trained)                                                                                              -9.1064      7.437     -1.224      0.228     -24.137       5.925\n",
      "center(train_MAE):center(src_content_0_trained):center(src_edge_0_trained)                                                                            48.9674     28.911      1.694      0.098      -9.464     107.398\n",
      "center(n_not_experienced):center(src_content_0_trained):center(src_edge_0_trained)                                                                    -2.2441      1.512     -1.484      0.146      -5.300       0.812\n",
      "center(train_MAE):center(n_not_experienced):center(src_content_0_trained):center(src_edge_0_trained)                                                  -6.6483      5.290     -1.257      0.216     -17.339       4.043\n",
      "center(edge_0_trained):center(src_content_0_trained):center(src_edge_0_trained)                                                                      -23.4411     17.659     -1.327      0.192     -59.131      12.249\n",
      "center(train_MAE):center(edge_0_trained):center(src_content_0_trained):center(src_edge_0_trained)                                                    169.8191    107.049      1.586      0.121     -46.536     386.174\n",
      "center(n_not_experienced):center(edge_0_trained):center(src_content_0_trained):center(src_edge_0_trained)                                            -10.4613      4.036     -2.592      0.013     -18.617      -2.305\n",
      "center(train_MAE):center(n_not_experienced):center(edge_0_trained):center(src_content_0_trained):center(src_edge_0_trained)                          -25.3415     18.660     -1.358      0.182     -63.055      12.371\n",
      "center(bias_0_trained):center(src_content_0_trained):center(src_edge_0_trained)                                                                        2.1295     13.030      0.163      0.871     -24.205      28.464\n",
      "center(train_MAE):center(bias_0_trained):center(src_content_0_trained):center(src_edge_0_trained)                                                   -146.8817     72.239     -2.033      0.049    -292.883      -0.881\n",
      "center(n_not_experienced):center(bias_0_trained):center(src_content_0_trained):center(src_edge_0_trained)                                              1.3019      3.215      0.405      0.688      -5.196       7.800\n",
      "center(train_MAE):center(n_not_experienced):center(bias_0_trained):center(src_content_0_trained):center(src_edge_0_trained)                           -6.7705     13.189     -0.513      0.611     -33.426      19.885\n",
      "center(edge_0_trained):center(bias_0_trained):center(src_content_0_trained):center(src_edge_0_trained)                                                28.5945     30.190      0.947      0.349     -32.421      89.611\n",
      "center(train_MAE):center(edge_0_trained):center(bias_0_trained):center(src_content_0_trained):center(src_edge_0_trained)                             184.4086    271.207      0.680      0.500    -363.722     732.539\n",
      "center(n_not_experienced):center(edge_0_trained):center(bias_0_trained):center(src_content_0_trained):center(src_edge_0_trained)                       6.4841      9.675      0.670      0.507     -13.069      26.037\n",
      "center(train_MAE):center(n_not_experienced):center(edge_0_trained):center(bias_0_trained):center(src_content_0_trained):center(src_edge_0_trained)    50.0928     26.017      1.925      0.061      -2.490     102.676\n",
      "==============================================================================\n",
      "Omnibus:                        8.519   Durbin-Watson:                   1.817\n",
      "Prob(Omnibus):                  0.014   Jarque-Bera (JB):               10.193\n",
      "Skew:                           0.453   Prob(JB):                      0.00612\n",
      "Kurtosis:                       4.238   Cond. No.                     5.05e+03\n",
      "==============================================================================\n",
      "\n",
      "Notes:\n",
      "[1] Standard Errors assume that the covariance matrix of the errors is correctly specified.\n",
      "[2] The condition number is large, 5.05e+03. This might indicate that there are\n",
      "strong multicollinearity or other numerical problems. \n",
      "\n",
      " == end summary ==\n"
     ]
    }
   ],
   "source": [
    "results = smf.ols(\"depressionCont ~  center(train_MAE) * center(n_not_experienced) *  center(edge_0_trained) * center(bias_0_trained) * center(src_content_0_trained) * center(src_edge_0_trained)\", data=data).fit()\n",
    "print(\"== results.summary() ==\\n\\n\",results.summary(),\"\\n\\n == end summary ==\")"
   ]
  },
  {
   "cell_type": "code",
   "execution_count": 85,
   "id": "e9e54765",
   "metadata": {},
   "outputs": [
    {
     "data": {
      "text/plain": [
       "<matplotlib.collections.PathCollection at 0x73f1eec2b4c0>"
      ]
     },
     "execution_count": 85,
     "metadata": {},
     "output_type": "execute_result"
    },
    {
     "data": {
      "image/png": "[encoded data removed]",
      "text/plain": [
       "<Figure size 640x480 with 1 Axes>"
      ]
     },
     "metadata": {},
     "output_type": "display_data"
    }
   ],
   "source": [
    "y_pred = results.predict(exog = data)\n",
    "y_true = data[\"depressionCont\"]\n",
    "\n",
    "plt.scatter(y_true,y_pred,c=data[\"train_MAE\"])"
   ]
  },
  {
   "cell_type": "code",
   "execution_count": 86,
   "id": "19a5bcca",
   "metadata": {},
   "outputs": [
    {
     "data": {
      "application/vnd.plotly.v1+json": {
       "config": {
        "plotlyServerURL": "https://plot.ly"
       },
       "data": [
        {
         "marker": {
          "color": [
           37,
           15,
           45,
           21,
           36,
           28,
           23,
           26,
           6,
           0,
           6,
           2,
           12,
           27,
           17,
           33,
           22,
           2,
           8,
           0,
           12,
           1,
           7,
           6,
           31,
           0,
           3,
           37,
           12,
           13,
           18,
           6,
           36,
           1,
           0,
           26,
           1,
           16,
           0,
           10,
           26,
           20,
           4,
           19,
           28,
           10,
           0,
           4,
           3,
           13,
           4,
           0,
           19,
           3,
           30,
           26,
           26,
           13,
           23,
           39,
           2,
           0,
           35,
           2,
           11,
           16,
           15,
           6,
           1,
           0,
           5,
           18,
           17,
           14,
           10,
           5,
           14,
           0,
           13,
           4,
           10,
           45,
           0,
           10,
           7,
           6,
           1,
           21,
           6,
           18,
           23,
           37,
           17,
           37,
           35,
           5,
           0,
           31,
           13,
           7,
           12,
           31,
           42,
           28
          ],
          "colorbar": {
           "title": {
            "text": "depressionCont"
           }
          },
          "colorscale": [
           [
            0,
            "#440154"
           ],
           [
            0.1111111111111111,
            "#482878"
           ],
           [
            0.2222222222222222,
            "#3e4989"
           ],
           [
            0.3333333333333333,
            "#31688e"
           ],
           [
            0.4444444444444444,
            "#26828e"
           ],
           [
            0.5555555555555556,
            "#1f9e89"
           ],
           [
            0.6666666666666666,
            "#35b779"
           ],
           [
            0.7777777777777778,
            "#6ece58"
           ],
           [
            0.8888888888888888,
            "#b5de2b"
           ],
           [
            1,
            "#fde725"
           ]
          ]
         },
         "mode": "markers",
         "type": "scatter",
         "x": [
          1.3307839632034302,
          1.4577176570892334,
          0.9395734071731568,
          -0.6348999738693237,
          -0.0361797474324703,
          -0.2057000398635864,
          0.4280516505241394,
          1.1381986141204834,
          0.6876683831214905,
          0.7300410866737366,
          -1.1588094234466553,
          0.9063296914100648,
          0.0084918653592467,
          0.2118114233016967,
          -0.6211411356925964,
          -0.8147502541542053,
          0.6873165369033813,
          1.2882421016693115,
          -1.1108871698379517,
          0.0499017052352428,
          0.6131379008293152,
          0.0483832135796546,
          0.1333514750003814,
          0.7318364977836609,
          0.6448642611503601,
          0.0732952058315277,
          0.0597307495772838,
          1.1679185628890991,
          -0.649806559085846,
          -1.3652867078781128,
          -1.3772575855255127,
          0.2130107283592224,
          0.9606260061264038,
          -0.8968552350997925,
          1.957231044769287,
          0.8612175583839417,
          0.5951195955276489,
          -1.0165916681289673,
          -0.642396867275238,
          -0.9026647210121156,
          1.8994213342666624,
          -1.3221596479415894,
          1.5125559568405151,
          0.1326826810836792,
          0.815230667591095,
          1.0495035648345947,
          0.7612881660461426,
          0.939989984035492,
          1.7940425872802734,
          -0.3917635381221771,
          1.3641674518585205,
          0.5677785277366638,
          0.1506844758987426,
          0.7523171305656433,
          -0.0166629385203123,
          0.9332534670829772,
          0.6171900033950806,
          -1.748492956161499,
          -0.2097759544849395,
          0.37148317694664,
          0.3815286457538605,
          0.2587946653366089,
          0.8268908858299255,
          -0.0379339791834354,
          1.5814024209976196,
          -0.9104614853858948,
          0.5458080768585205,
          0.8926277160644531,
          0.2025213092565536,
          0.0186968091875314,
          1.0105284452438354,
          0.8697092533111572,
          0.8190568089485168,
          -0.2288259714841842,
          1.3178123235702517,
          -0.1485596448183059,
          1.3069021701812744,
          0.757906973361969,
          0.7516580820083618,
          -0.1903226673603058,
          0.6704913973808289,
          0.3732682466506958,
          2.4412920475006104,
          0.2697475254535675,
          -0.451217383146286,
          -1.1780942678451538,
          -1.890528440475464,
          2.308610439300537,
          1.1388808488845823,
          0.7340710163116455,
          1.1345195770263672,
          0.2885604798793793,
          0.7943732738494873,
          -0.1912739276885986,
          -0.8864789605140686,
          0.6210257411003113,
          -0.2535194456577301,
          -2.2717463970184326,
          0.935837984085083,
          1.1025440692901611,
          -0.2906492352485657,
          0.2771945595741272,
          0.7618367671966553,
          0.0469364263117313
         ],
         "y": [
          1.9675800800323489,
          0.4919715225696563,
          2.082179307937622,
          0.1619512289762497,
          -0.0667024776339531,
          -0.030469212681055,
          1.7859824895858765,
          -0.1488973349332809,
          -0.323553204536438,
          0.8196533918380737,
          1.3702415227890017,
          1.0227152109146118,
          -0.0004605662543326,
          -0.2442780286073684,
          -0.0172221213579177,
          -0.2542110681533813,
          0.1504751443862915,
          -2.075968027114868,
          1.081256628036499,
          -0.0043284082785248,
          -0.0668064057826995,
          0.0343296714127063,
          -0.0959686711430549,
          -0.7386561632156372,
          0.4274566769599914,
          0.0680301114916801,
          0.0822063982486724,
          1.3814175128936768,
          -0.7639279961585999,
          -2.4931657314300537,
          -2.976115465164185,
          0.0169591605663299,
          -0.835500955581665,
          0.6355612277984619,
          -2.1417815685272217,
          0.3103364109992981,
          -0.0834432169795036,
          0.1918775141239166,
          0.6149654984474182,
          -0.0250749643892049,
          1.7238494157791138,
          0.2500607669353485,
          -0.3672322630882263,
          0.0083040725439786,
          -0.105446919798851,
          -0.6068446040153503,
          -0.4137571156024933,
          -1.2339118719100952,
          -0.7905592322349548,
          -0.397136926651001,
          1.2502323389053345,
          -1.2389447689056396,
          -0.1142769530415535,
          0.893933117389679,
          0.0022279978729784,
          0.7584920525550842,
          0.6594122052192688,
          3.862989902496338,
          0.0750575736165046,
          0.6017621755599976,
          0.0217836257070302,
          0.3619706034660339,
          0.1692305356264114,
          -0.0011604405008256,
          -0.8369430899620056,
          -0.2972545921802521,
          0.4584831893444061,
          0.3843054473400116,
          0.2056089788675308,
          -0.0089076124131679,
          0.4777605235576629,
          -0.1694009155035019,
          0.138758972287178,
          -0.061212345957756,
          1.2643859386444092,
          -0.0662695541977882,
          0.7348369359970093,
          0.3978066742420196,
          0.0181138031184673,
          -0.0149486502632498,
          0.7434790134429932,
          -0.0690104961395263,
          1.3376870155334473,
          0.6152524948120117,
          -0.669109046459198,
          0.5311762690544128,
          -1.529394030570984,
          -1.1974248886108398,
          0.8609507083892822,
          0.1699017435312271,
          0.5014769434928894,
          0.5219123959541321,
          0.0386834181845188,
          0.0512522831559181,
          1.5363061428070068,
          -0.307499498128891,
          -0.0264018606394529,
          -3.283618688583374,
          0.8598012924194336,
          -0.0515107624232769,
          0.414383590221405,
          -0.0777295753359794,
          -1.5865190029144287,
          0.0801411345601081
         ]
        }
       ],
       "layout": {
        "height": 400,
        "template": {
         "data": {
          "bar": [
           {
            "error_x": {
             "color": "#2a3f5f"
            },
            "error_y": {
             "color": "#2a3f5f"
            },
            "marker": {
             "line": {
              "color": "#E5ECF6",
              "width": 0.5
             },
             "pattern": {
              "fillmode": "overlay",
              "size": 10,
              "solidity": 0.2
             }
            },
            "type": "bar"
           }
          ],
          "barpolar": [
           {
            "marker": {
             "line": {
              "color": "#E5ECF6",
              "width": 0.5
             },
             "pattern": {
              "fillmode": "overlay",
              "size": 10,
              "solidity": 0.2
             }
            },
            "type": "barpolar"
           }
          ],
          "carpet": [
           {
            "aaxis": {
             "endlinecolor": "#2a3f5f",
             "gridcolor": "white",
             "linecolor": "white",
             "minorgridcolor": "white",
             "startlinecolor": "#2a3f5f"
            },
            "baxis": {
             "endlinecolor": "#2a3f5f",
             "gridcolor": "white",
             "linecolor": "white",
             "minorgridcolor": "white",
             "startlinecolor": "#2a3f5f"
            },
            "type": "carpet"
           }
          ],
          "choropleth": [
           {
            "colorbar": {
             "outlinewidth": 0,
             "ticks": ""
            },
            "type": "choropleth"
           }
          ],
          "contour": [
           {
            "colorbar": {
             "outlinewidth": 0,
             "ticks": ""
            },
            "colorscale": [
             [
              0,
              "#0d0887"
             ],
             [
              0.1111111111111111,
              "#46039f"
             ],
             [
              0.2222222222222222,
              "#7201a8"
             ],
             [
              0.3333333333333333,
              "#9c179e"
             ],
             [
              0.4444444444444444,
              "#bd3786"
             ],
             [
              0.5555555555555556,
              "#d8576b"
             ],
             [
              0.6666666666666666,
              "#ed7953"
             ],
             [
              0.7777777777777778,
              "#fb9f3a"
             ],
             [
              0.8888888888888888,
              "#fdca26"
             ],
             [
              1,
              "#f0f921"
             ]
            ],
            "type": "contour"
           }
          ],
          "contourcarpet": [
           {
            "colorbar": {
             "outlinewidth": 0,
             "ticks": ""
            },
            "type": "contourcarpet"
           }
          ],
          "heatmap": [
           {
            "colorbar": {
             "outlinewidth": 0,
             "ticks": ""
            },
            "colorscale": [
             [
              0,
              "#0d0887"
             ],
             [
              0.1111111111111111,
              "#46039f"
             ],
             [
              0.2222222222222222,
              "#7201a8"
             ],
             [
              0.3333333333333333,
              "#9c179e"
             ],
             [
              0.4444444444444444,
              "#bd3786"
             ],
             [
              0.5555555555555556,
              "#d8576b"
             ],
             [
              0.6666666666666666,
              "#ed7953"
             ],
             [
              0.7777777777777778,
              "#fb9f3a"
             ],
             [
              0.8888888888888888,
              "#fdca26"
             ],
             [
              1,
              "#f0f921"
             ]
            ],
            "type": "heatmap"
           }
          ],
          "heatmapgl": [
           {
            "colorbar": {
             "outlinewidth": 0,
             "ticks": ""
            },
            "colorscale": [
             [
              0,
              "#0d0887"
             ],
             [
              0.1111111111111111,
              "#46039f"
             ],
             [
              0.2222222222222222,
              "#7201a8"
             ],
             [
              0.3333333333333333,
              "#9c179e"
             ],
             [
              0.4444444444444444,
              "#bd3786"
             ],
             [
              0.5555555555555556,
              "#d8576b"
             ],
             [
              0.6666666666666666,
              "#ed7953"
             ],
             [
              0.7777777777777778,
              "#fb9f3a"
             ],
             [
              0.8888888888888888,
              "#fdca26"
             ],
             [
              1,
              "#f0f921"
             ]
            ],
            "type": "heatmapgl"
           }
          ],
          "histogram": [
           {
            "marker": {
             "pattern": {
              "fillmode": "overlay",
              "size": 10,
              "solidity": 0.2
             }
            },
            "type": "histogram"
           }
          ],
          "histogram2d": [
           {
            "colorbar": {
             "outlinewidth": 0,
             "ticks": ""
            },
            "colorscale": [
             [
              0,
              "#0d0887"
             ],
             [
              0.1111111111111111,
              "#46039f"
             ],
             [
              0.2222222222222222,
              "#7201a8"
             ],
             [
              0.3333333333333333,
              "#9c179e"
             ],
             [
              0.4444444444444444,
              "#bd3786"
             ],
             [
              0.5555555555555556,
              "#d8576b"
             ],
             [
              0.6666666666666666,
              "#ed7953"
             ],
             [
              0.7777777777777778,
              "#fb9f3a"
             ],
             [
              0.8888888888888888,
              "#fdca26"
             ],
             [
              1,
              "#f0f921"
             ]
            ],
            "type": "histogram2d"
           }
          ],
          "histogram2dcontour": [
           {
            "colorbar": {
             "outlinewidth": 0,
             "ticks": ""
            },
            "colorscale": [
             [
              0,
              "#0d0887"
             ],
             [
              0.1111111111111111,
              "#46039f"
             ],
             [
              0.2222222222222222,
              "#7201a8"
             ],
             [
              0.3333333333333333,
              "#9c179e"
             ],
             [
              0.4444444444444444,
              "#bd3786"
             ],
             [
              0.5555555555555556,
              "#d8576b"
             ],
             [
              0.6666666666666666,
              "#ed7953"
             ],
             [
              0.7777777777777778,
              "#fb9f3a"
             ],
             [
              0.8888888888888888,
              "#fdca26"
             ],
             [
              1,
              "#f0f921"
             ]
            ],
            "type": "histogram2dcontour"
           }
          ],
          "mesh3d": [
           {
            "colorbar": {
             "outlinewidth": 0,
             "ticks": ""
            },
            "type": "mesh3d"
           }
          ],
          "parcoords": [
           {
            "line": {
             "colorbar": {
              "outlinewidth": 0,
              "ticks": ""
             }
            },
            "type": "parcoords"
           }
          ],
          "pie": [
           {
            "automargin": true,
            "type": "pie"
           }
          ],
          "scatter": [
           {
            "fillpattern": {
             "fillmode": "overlay",
             "size": 10,
             "solidity": 0.2
            },
            "type": "scatter"
           }
          ],
          "scatter3d": [
           {
            "line": {
             "colorbar": {
              "outlinewidth": 0,
              "ticks": ""
             }
            },
            "marker": {
             "colorbar": {
              "outlinewidth": 0,
              "ticks": ""
             }
            },
            "type": "scatter3d"
           }
          ],
          "scattercarpet": [
           {
            "marker": {
             "colorbar": {
              "outlinewidth": 0,
              "ticks": ""
             }
            },
            "type": "scattercarpet"
           }
          ],
          "scattergeo": [
           {
            "marker": {
             "colorbar": {
              "outlinewidth": 0,
              "ticks": ""
             }
            },
            "type": "scattergeo"
           }
          ],
          "scattergl": [
           {
            "marker": {
             "colorbar": {
              "outlinewidth": 0,
              "ticks": ""
             }
            },
            "type": "scattergl"
           }
          ],
          "scattermapbox": [
           {
            "marker": {
             "colorbar": {
              "outlinewidth": 0,
              "ticks": ""
             }
            },
            "type": "scattermapbox"
           }
          ],
          "scatterpolar": [
           {
            "marker": {
             "colorbar": {
              "outlinewidth": 0,
              "ticks": ""
             }
            },
            "type": "scatterpolar"
           }
          ],
          "scatterpolargl": [
           {
            "marker": {
             "colorbar": {
              "outlinewidth": 0,
              "ticks": ""
             }
            },
            "type": "scatterpolargl"
           }
          ],
          "scatterternary": [
           {
            "marker": {
             "colorbar": {
              "outlinewidth": 0,
              "ticks": ""
             }
            },
            "type": "scatterternary"
           }
          ],
          "surface": [
           {
            "colorbar": {
             "outlinewidth": 0,
             "ticks": ""
            },
            "colorscale": [
             [
              0,
              "#0d0887"
             ],
             [
              0.1111111111111111,
              "#46039f"
             ],
             [
              0.2222222222222222,
              "#7201a8"
             ],
             [
              0.3333333333333333,
              "#9c179e"
             ],
             [
              0.4444444444444444,
              "#bd3786"
             ],
             [
              0.5555555555555556,
              "#d8576b"
             ],
             [
              0.6666666666666666,
              "#ed7953"
             ],
             [
              0.7777777777777778,
              "#fb9f3a"
             ],
             [
              0.8888888888888888,
              "#fdca26"
             ],
             [
              1,
              "#f0f921"
             ]
            ],
            "type": "surface"
           }
          ],
          "table": [
           {
            "cells": {
             "fill": {
              "color": "#EBF0F8"
             },
             "line": {
              "color": "white"
             }
            },
            "header": {
             "fill": {
              "color": "#C8D4E3"
             },
             "line": {
              "color": "white"
             }
            },
            "type": "table"
           }
          ]
         },
         "layout": {
          "annotationdefaults": {
           "arrowcolor": "#2a3f5f",
           "arrowhead": 0,
           "arrowwidth": 1
          },
          "autotypenumbers": "strict",
          "coloraxis": {
           "colorbar": {
            "outlinewidth": 0,
            "ticks": ""
           }
          },
          "colorscale": {
           "diverging": [
            [
             0,
             "#8e0152"
            ],
            [
             0.1,
             "#c51b7d"
            ],
            [
             0.2,
             "#de77ae"
            ],
            [
             0.3,
             "#f1b6da"
            ],
            [
             0.4,
             "#fde0ef"
            ],
            [
             0.5,
             "#f7f7f7"
            ],
            [
             0.6,
             "#e6f5d0"
            ],
            [
             0.7,
             "#b8e186"
            ],
            [
             0.8,
             "#7fbc41"
            ],
            [
             0.9,
             "#4d9221"
            ],
            [
             1,
             "#276419"
            ]
           ],
           "sequential": [
            [
             0,
             "#0d0887"
            ],
            [
             0.1111111111111111,
             "#46039f"
            ],
            [
             0.2222222222222222,
             "#7201a8"
            ],
            [
             0.3333333333333333,
             "#9c179e"
            ],
            [
             0.4444444444444444,
             "#bd3786"
            ],
            [
             0.5555555555555556,
             "#d8576b"
            ],
            [
             0.6666666666666666,
             "#ed7953"
            ],
            [
             0.7777777777777778,
             "#fb9f3a"
            ],
            [
             0.8888888888888888,
             "#fdca26"
            ],
            [
             1,
             "#f0f921"
            ]
           ],
           "sequentialminus": [
            [
             0,
             "#0d0887"
            ],
            [
             0.1111111111111111,
             "#46039f"
            ],
            [
             0.2222222222222222,
             "#7201a8"
            ],
            [
             0.3333333333333333,
             "#9c179e"
            ],
            [
             0.4444444444444444,
             "#bd3786"
            ],
            [
             0.5555555555555556,
             "#d8576b"
            ],
            [
             0.6666666666666666,
             "#ed7953"
            ],
            [
             0.7777777777777778,
             "#fb9f3a"
            ],
            [
             0.8888888888888888,
             "#fdca26"
            ],
            [
             1,
             "#f0f921"
            ]
           ]
          },
          "colorway": [
           "#636efa",
           "#EF553B",
           "#00cc96",
           "#ab63fa",
           "#FFA15A",
           "#19d3f3",
           "#FF6692",
           "#B6E880",
           "#FF97FF",
           "#FECB52"
          ],
          "font": {
           "color": "#2a3f5f"
          },
          "geo": {
           "bgcolor": "white",
           "lakecolor": "white",
           "landcolor": "#E5ECF6",
           "showlakes": true,
           "showland": true,
           "subunitcolor": "white"
          },
          "hoverlabel": {
           "align": "left"
          },
          "hovermode": "closest",
          "mapbox": {
           "style": "light"
          },
          "paper_bgcolor": "white",
          "plot_bgcolor": "#E5ECF6",
          "polar": {
           "angularaxis": {
            "gridcolor": "white",
            "linecolor": "white",
            "ticks": ""
           },
           "bgcolor": "#E5ECF6",
           "radialaxis": {
            "gridcolor": "white",
            "linecolor": "white",
            "ticks": ""
           }
          },
          "scene": {
           "xaxis": {
            "backgroundcolor": "#E5ECF6",
            "gridcolor": "white",
            "gridwidth": 2,
            "linecolor": "white",
            "showbackground": true,
            "ticks": "",
            "zerolinecolor": "white"
           },
           "yaxis": {
            "backgroundcolor": "#E5ECF6",
            "gridcolor": "white",
            "gridwidth": 2,
            "linecolor": "white",
            "showbackground": true,
            "ticks": "",
            "zerolinecolor": "white"
           },
           "zaxis": {
            "backgroundcolor": "#E5ECF6",
            "gridcolor": "white",
            "gridwidth": 2,
            "linecolor": "white",
            "showbackground": true,
            "ticks": "",
            "zerolinecolor": "white"
           }
          },
          "shapedefaults": {
           "line": {
            "color": "#2a3f5f"
           }
          },
          "ternary": {
           "aaxis": {
            "gridcolor": "white",
            "linecolor": "white",
            "ticks": ""
           },
           "baxis": {
            "gridcolor": "white",
            "linecolor": "white",
            "ticks": ""
           },
           "bgcolor": "#E5ECF6",
           "caxis": {
            "gridcolor": "white",
            "linecolor": "white",
            "ticks": ""
           }
          },
          "title": {
           "x": 0.05
          },
          "xaxis": {
           "automargin": true,
           "gridcolor": "white",
           "linecolor": "white",
           "ticks": "",
           "title": {
            "standoff": 15
           },
           "zerolinecolor": "white",
           "zerolinewidth": 2
          },
          "yaxis": {
           "automargin": true,
           "gridcolor": "white",
           "linecolor": "white",
           "ticks": "",
           "title": {
            "standoff": 15
           },
           "zerolinecolor": "white",
           "zerolinewidth": 2
          }
         }
        },
        "width": 600,
        "xaxis": {
         "title": {
          "text": "src_content_0_trained"
         }
        },
        "yaxis": {
         "title": {
          "text": "edge_0_trained"
         }
        }
       }
      }
     },
     "metadata": {},
     "output_type": "display_data"
    }
   ],
   "source": [
    "original_radius = (data[[\"src_content_0_trained\",\"edge_0_trained\"]]**2).sum(axis=1).pow(1/2)\n",
    "\n",
    "epsilon = 0.1\n",
    "\n",
    "new_radius = 2 * epsilon * (data[\"depressionCont\"] - 1) / (data[\"depressionCont\"].max() - data[\"depressionCont\"].min()) + (1 + epsilon)\n",
    "_data = data.copy()\n",
    "_data[\"new_src_content_0_trained\"] = _data[\"src_content_0_trained\"]\n",
    "_data[\"new_edge_0_trained\"] = _data[\"edge_0_trained\"]\n",
    "\n",
    "fig = go.Figure()\n",
    "fig.add_trace(\n",
    "    go.Scatter(\n",
    "        x = _data[\"new_src_content_0_trained\"],\n",
    "        y = _data[\"new_edge_0_trained\"],\n",
    "        mode = \"markers\",\n",
    "        marker = {\n",
    "            \"color\": _data[\"depressionCont\"],\n",
    "            \"colorbar\": dict(\n",
    "                title=dict(text=\"depressionCont\")\n",
    "            ),\n",
    "            \"colorscale\": \"Viridis\"\n",
    "        },\n",
    "    )\n",
    ")\n",
    "fig.update_layout(\n",
    "    width=600, height=400,\n",
    "    xaxis_title=\"src_content_0_trained\",\n",
    "    yaxis_title = \"edge_0_trained\"\n",
    ")\n",
    "fig.show()"
   ]
  },
  {
   "cell_type": "code",
   "execution_count": 87,
   "id": "bd7f2047",
   "metadata": {},
   "outputs": [
    {
     "data": {
      "application/vnd.plotly.v1+json": {
       "config": {
        "plotlyServerURL": "https://plot.ly"
       },
       "data": [
        {
         "marker": {
          "color": [
           37,
           15,
           45,
           21,
           36,
           28,
           23,
           26,
           6,
           0,
           6,
           2,
           12,
           27,
           17,
           33,
           22,
           2,
           8,
           0,
           12,
           1,
           7,
           6,
           31,
           0,
           3,
           37,
           12,
           13,
           18,
           6,
           36,
           1,
           0,
           26,
           1,
           16,
           0,
           10,
           26,
           20,
           4,
           19,
           28,
           10,
           0,
           4,
           3,
           13,
           4,
           0,
           19,
           3,
           30,
           26,
           26,
           13,
           23,
           39,
           2,
           0,
           35,
           2,
           11,
           16,
           15,
           6,
           1,
           0,
           5,
           18,
           17,
           14,
           10,
           5,
           14,
           0,
           13,
           4,
           10,
           45,
           0,
           10,
           7,
           6,
           1,
           21,
           6,
           18,
           23,
           37,
           17,
           37,
           35,
           5,
           0,
           31,
           13,
           7,
           12,
           31,
           42,
           28
          ],
          "colorbar": {
           "title": {
            "text": "depressionCont"
           }
          },
          "colorscale": [
           [
            0,
            "#440154"
           ],
           [
            0.1111111111111111,
            "#482878"
           ],
           [
            0.2222222222222222,
            "#3e4989"
           ],
           [
            0.3333333333333333,
            "#31688e"
           ],
           [
            0.4444444444444444,
            "#26828e"
           ],
           [
            0.5555555555555556,
            "#1f9e89"
           ],
           [
            0.6666666666666666,
            "#35b779"
           ],
           [
            0.7777777777777778,
            "#6ece58"
           ],
           [
            0.8888888888888888,
            "#b5de2b"
           ],
           [
            1,
            "#fde725"
           ]
          ]
         },
         "mode": "markers",
         "type": "scatter",
         "x": [
          0.1671630072213108,
          -1.003213244188279,
          -0.29174928401231676,
          -1.1779761118394658,
          -1.251683579942306,
          -1.2184473347964844,
          0.12246793656285718,
          1.1978198121111665,
          -1.021586785159675,
          0.39013546605646904,
          0.839961971513866,
          0.04643674757343381,
          -1.1472123448573293,
          -1.0752389153280657,
          1.1706979505837138,
          -0.03942926362899953,
          1.1520026763839528,
          0.1987929284254342,
          0.8231283360287501,
          -1.095341391906537,
          -1.1402996846741418,
          -1.0991655816164474,
          -0.9157154518747845,
          -0.39776096265277217,
          0.7063645578124088,
          1.074463514834454,
          0.5920136157756481,
          -0.2790922867145874,
          0.986751054596505,
          -0.053674014308131734,
          -0.2639745539473074,
          -1.1218250582683675,
          -1.0947159487834461,
          0.8307932527564732,
          0.0010614079429103087,
          1.1583733807195973,
          1.0957264798606152,
          1.140631520180555,
          -1.0298219621958777,
          1.1386402411814533,
          0.1565313500123234,
          -1.1561160323578088,
          0.7353621934713657,
          -1.1797496207830365,
          0.9487366564126927,
          -0.8772360103775606,
          1.0027747484130045,
          -0.5652508986642313,
          -0.44843615971296275,
          0.7886156316598428,
          -0.38201474311734335,
          -0.1317178637601025,
          1.1749227825972048,
          -0.963417353935374,
          1.2288648626609393,
          0.9247301829356289,
          0.25488596165602173,
          -0.4928773799512145,
          1.1957696323992308,
          0.7569045503823769,
          1.1029808123329325,
          -0.35626148527643525,
          -1.226513622284209,
          -1.1044010013374213,
          0.5504231337704446,
          0.9631231661647428,
          -1.0149419784622538,
          -0.7285272670427646,
          0.00710623523125407,
          1.0954581909758407,
          -1.0674618185638785,
          -1.1602263010285152,
          -1.160257477106589,
          1.1564038361715092,
          0.4144544650131513,
          -0.5963258243636117,
          -0.5656072524311485,
          0.21931190000578868,
          1.1528360183385566,
          0.6472065295010587,
          0.7994598765680597,
          -1.2885554155286734,
          0.06720048837779236,
          0.11918411177628753,
          -0.8829303782624663,
          0.99612335375985,
          -0.2356304641742828,
          -0.9591504084014032,
          0.6437344563331527,
          0.9582589059653293,
          0.6910896544227173,
          0.6756474887142324,
          -1.1653861784331232,
          1.2584358918809881,
          0.06728955258841451,
          -0.17747139130537656,
          0.27814889968195033,
          -0.09451216824292957,
          0.4222111703747728,
          1.125337100549561,
          -1.1075789851949724,
          -1.229915958394687,
          -0.5163141511114137,
          0.8052227602367169
         ],
         "y": [
          1.2488620936743688,
          0.5867910024126042,
          1.2622783182837154,
          0.16071424970745957,
          -0.0985290251105353,
          -0.06153123050406193,
          1.1915004026236446,
          -0.17893524295331,
          -0.46448159967484515,
          1.023736437484543,
          0.7442087089385089,
          1.1034677880840014,
          -0.06204445840922682,
          -0.5669537755462088,
          -0.031105354313903447,
          -1.24159630417958,
          0.31134270193575203,
          -1.0864064168036924,
          0.7758041557671327,
          -0.02166126692722557,
          -0.140222352513426,
          0.04283718232770402,
          -0.6563863107770734,
          -1.0493659669719249,
          1.0110193977256774,
          0.2139395489343503,
          0.9376323621961212,
          1.2287015485855066,
          -0.5884454394971816,
          -1.1520837113534015,
          -1.1455340671782097,
          0.029853889035711102,
          -0.6148306633257477,
          0.7209594795647803,
          -1.0955550413930926,
          0.35349856335923246,
          -0.09686837116554184,
          0.2450935459813402,
          0.37377627196984325,
          -0.05566328378960524,
          1.2009529798955954,
          0.257496333373016,
          -0.8359148015940939,
          0.02430704141359365,
          -0.7670063603249093,
          -0.7280501233410106,
          -0.44123098174751707,
          -0.9591676249073415,
          -1.0141694032868105,
          -0.841583723273879,
          1.0457417688665311,
          -1.0876085599493583,
          -0.10934557574059336,
          0.5490551611973038,
          0.00768443569035048,
          0.7820896446217843,
          1.183986178131939,
          1.0427126479093864,
          0.06932958365719587,
          1.0184176520250081,
          0.05684064117849041,
          1.036011452358163,
          0.24686706280293547,
          -0.009795872043808258,
          -1.0033879908739574,
          -0.6584108731695676,
          0.5662625488077826,
          0.8535986979984114,
          1.0999770458608844,
          -0.014605722597008779,
          0.33159075138206784,
          -0.18922419136891566,
          0.15907174917676137,
          -0.056387502195665025,
          1.0619922299295146,
          -0.9454219543097601,
          1.0102167186863107,
          1.0733798329689697,
          0.033865802796933304,
          -0.9058889663100588,
          0.8126893045671163,
          -0.1344958684963687,
          1.0934926015618158,
          1.1337526835690832,
          -0.6998655048786703,
          0.5168374794300543,
          -1.0744665115083913,
          -0.7024865010709304,
          0.9192326505182696,
          0.6809337216907837,
          0.9782978557107036,
          1.063532073326494,
          0.1156559107220313,
          0.06276229780451203,
          1.2493002555263208,
          -1.1035991417910584,
          -1.0596580414994088,
          -1.2297066972108153,
          1.0732732668750034,
          -0.054719173097598044,
          0.30531044948841995,
          -0.09174882232045364,
          -1.1736752210567432,
          0.9165240348167434
         ]
        }
       ],
       "layout": {
        "height": 400,
        "template": {
         "data": {
          "bar": [
           {
            "error_x": {
             "color": "#2a3f5f"
            },
            "error_y": {
             "color": "#2a3f5f"
            },
            "marker": {
             "line": {
              "color": "#E5ECF6",
              "width": 0.5
             },
             "pattern": {
              "fillmode": "overlay",
              "size": 10,
              "solidity": 0.2
             }
            },
            "type": "bar"
           }
          ],
          "barpolar": [
           {
            "marker": {
             "line": {
              "color": "#E5ECF6",
              "width": 0.5
             },
             "pattern": {
              "fillmode": "overlay",
              "size": 10,
              "solidity": 0.2
             }
            },
            "type": "barpolar"
           }
          ],
          "carpet": [
           {
            "aaxis": {
             "endlinecolor": "#2a3f5f",
             "gridcolor": "white",
             "linecolor": "white",
             "minorgridcolor": "white",
             "startlinecolor": "#2a3f5f"
            },
            "baxis": {
             "endlinecolor": "#2a3f5f",
             "gridcolor": "white",
             "linecolor": "white",
             "minorgridcolor": "white",
             "startlinecolor": "#2a3f5f"
            },
            "type": "carpet"
           }
          ],
          "choropleth": [
           {
            "colorbar": {
             "outlinewidth": 0,
             "ticks": ""
            },
            "type": "choropleth"
           }
          ],
          "contour": [
           {
            "colorbar": {
             "outlinewidth": 0,
             "ticks": ""
            },
            "colorscale": [
             [
              0,
              "#0d0887"
             ],
             [
              0.1111111111111111,
              "#46039f"
             ],
             [
              0.2222222222222222,
              "#7201a8"
             ],
             [
              0.3333333333333333,
              "#9c179e"
             ],
             [
              0.4444444444444444,
              "#bd3786"
             ],
             [
              0.5555555555555556,
              "#d8576b"
             ],
             [
              0.6666666666666666,
              "#ed7953"
             ],
             [
              0.7777777777777778,
              "#fb9f3a"
             ],
             [
              0.8888888888888888,
              "#fdca26"
             ],
             [
              1,
              "#f0f921"
             ]
            ],
            "type": "contour"
           }
          ],
          "contourcarpet": [
           {
            "colorbar": {
             "outlinewidth": 0,
             "ticks": ""
            },
            "type": "contourcarpet"
           }
          ],
          "heatmap": [
           {
            "colorbar": {
             "outlinewidth": 0,
             "ticks": ""
            },
            "colorscale": [
             [
              0,
              "#0d0887"
             ],
             [
              0.1111111111111111,
              "#46039f"
             ],
             [
              0.2222222222222222,
              "#7201a8"
             ],
             [
              0.3333333333333333,
              "#9c179e"
             ],
             [
              0.4444444444444444,
              "#bd3786"
             ],
             [
              0.5555555555555556,
              "#d8576b"
             ],
             [
              0.6666666666666666,
              "#ed7953"
             ],
             [
              0.7777777777777778,
              "#fb9f3a"
             ],
             [
              0.8888888888888888,
              "#fdca26"
             ],
             [
              1,
              "#f0f921"
             ]
            ],
            "type": "heatmap"
           }
          ],
          "heatmapgl": [
           {
            "colorbar": {
             "outlinewidth": 0,
             "ticks": ""
            },
            "colorscale": [
             [
              0,
              "#0d0887"
             ],
             [
              0.1111111111111111,
              "#46039f"
             ],
             [
              0.2222222222222222,
              "#7201a8"
             ],
             [
              0.3333333333333333,
              "#9c179e"
             ],
             [
              0.4444444444444444,
              "#bd3786"
             ],
             [
              0.5555555555555556,
              "#d8576b"
             ],
             [
              0.6666666666666666,
              "#ed7953"
             ],
             [
              0.7777777777777778,
              "#fb9f3a"
             ],
             [
              0.8888888888888888,
              "#fdca26"
             ],
             [
              1,
              "#f0f921"
             ]
            ],
            "type": "heatmapgl"
           }
          ],
          "histogram": [
           {
            "marker": {
             "pattern": {
              "fillmode": "overlay",
              "size": 10,
              "solidity": 0.2
             }
            },
            "type": "histogram"
           }
          ],
          "histogram2d": [
           {
            "colorbar": {
             "outlinewidth": 0,
             "ticks": ""
            },
            "colorscale": [
             [
              0,
              "#0d0887"
             ],
             [
              0.1111111111111111,
              "#46039f"
             ],
             [
              0.2222222222222222,
              "#7201a8"
             ],
             [
              0.3333333333333333,
              "#9c179e"
             ],
             [
              0.4444444444444444,
              "#bd3786"
             ],
             [
              0.5555555555555556,
              "#d8576b"
             ],
             [
              0.6666666666666666,
              "#ed7953"
             ],
             [
              0.7777777777777778,
              "#fb9f3a"
             ],
             [
              0.8888888888888888,
              "#fdca26"
             ],
             [
              1,
              "#f0f921"
             ]
            ],
            "type": "histogram2d"
           }
          ],
          "histogram2dcontour": [
           {
            "colorbar": {
             "outlinewidth": 0,
             "ticks": ""
            },
            "colorscale": [
             [
              0,
              "#0d0887"
             ],
             [
              0.1111111111111111,
              "#46039f"
             ],
             [
              0.2222222222222222,
              "#7201a8"
             ],
             [
              0.3333333333333333,
              "#9c179e"
             ],
             [
              0.4444444444444444,
              "#bd3786"
             ],
             [
              0.5555555555555556,
              "#d8576b"
             ],
             [
              0.6666666666666666,
              "#ed7953"
             ],
             [
              0.7777777777777778,
              "#fb9f3a"
             ],
             [
              0.8888888888888888,
              "#fdca26"
             ],
             [
              1,
              "#f0f921"
             ]
            ],
            "type": "histogram2dcontour"
           }
          ],
          "mesh3d": [
           {
            "colorbar": {
             "outlinewidth": 0,
             "ticks": ""
            },
            "type": "mesh3d"
           }
          ],
          "parcoords": [
           {
            "line": {
             "colorbar": {
              "outlinewidth": 0,
              "ticks": ""
             }
            },
            "type": "parcoords"
           }
          ],
          "pie": [
           {
            "automargin": true,
            "type": "pie"
           }
          ],
          "scatter": [
           {
            "fillpattern": {
             "fillmode": "overlay",
             "size": 10,
             "solidity": 0.2
            },
            "type": "scatter"
           }
          ],
          "scatter3d": [
           {
            "line": {
             "colorbar": {
              "outlinewidth": 0,
              "ticks": ""
             }
            },
            "marker": {
             "colorbar": {
              "outlinewidth": 0,
              "ticks": ""
             }
            },
            "type": "scatter3d"
           }
          ],
          "scattercarpet": [
           {
            "marker": {
             "colorbar": {
              "outlinewidth": 0,
              "ticks": ""
             }
            },
            "type": "scattercarpet"
           }
          ],
          "scattergeo": [
           {
            "marker": {
             "colorbar": {
              "outlinewidth": 0,
              "ticks": ""
             }
            },
            "type": "scattergeo"
           }
          ],
          "scattergl": [
           {
            "marker": {
             "colorbar": {
              "outlinewidth": 0,
              "ticks": ""
             }
            },
            "type": "scattergl"
           }
          ],
          "scattermapbox": [
           {
            "marker": {
             "colorbar": {
              "outlinewidth": 0,
              "ticks": ""
             }
            },
            "type": "scattermapbox"
           }
          ],
          "scatterpolar": [
           {
            "marker": {
             "colorbar": {
              "outlinewidth": 0,
              "ticks": ""
             }
            },
            "type": "scatterpolar"
           }
          ],
          "scatterpolargl": [
           {
            "marker": {
             "colorbar": {
              "outlinewidth": 0,
              "ticks": ""
             }
            },
            "type": "scatterpolargl"
           }
          ],
          "scatterternary": [
           {
            "marker": {
             "colorbar": {
              "outlinewidth": 0,
              "ticks": ""
             }
            },
            "type": "scatterternary"
           }
          ],
          "surface": [
           {
            "colorbar": {
             "outlinewidth": 0,
             "ticks": ""
            },
            "colorscale": [
             [
              0,
              "#0d0887"
             ],
             [
              0.1111111111111111,
              "#46039f"
             ],
             [
              0.2222222222222222,
              "#7201a8"
             ],
             [
              0.3333333333333333,
              "#9c179e"
             ],
             [
              0.4444444444444444,
              "#bd3786"
             ],
             [
              0.5555555555555556,
              "#d8576b"
             ],
             [
              0.6666666666666666,
              "#ed7953"
             ],
             [
              0.7777777777777778,
              "#fb9f3a"
             ],
             [
              0.8888888888888888,
              "#fdca26"
             ],
             [
              1,
              "#f0f921"
             ]
            ],
            "type": "surface"
           }
          ],
          "table": [
           {
            "cells": {
             "fill": {
              "color": "#EBF0F8"
             },
             "line": {
              "color": "white"
             }
            },
            "header": {
             "fill": {
              "color": "#C8D4E3"
             },
             "line": {
              "color": "white"
             }
            },
            "type": "table"
           }
          ]
         },
         "layout": {
          "annotationdefaults": {
           "arrowcolor": "#2a3f5f",
           "arrowhead": 0,
           "arrowwidth": 1
          },
          "autotypenumbers": "strict",
          "coloraxis": {
           "colorbar": {
            "outlinewidth": 0,
            "ticks": ""
           }
          },
          "colorscale": {
           "diverging": [
            [
             0,
             "#8e0152"
            ],
            [
             0.1,
             "#c51b7d"
            ],
            [
             0.2,
             "#de77ae"
            ],
            [
             0.3,
             "#f1b6da"
            ],
            [
             0.4,
             "#fde0ef"
            ],
            [
             0.5,
             "#f7f7f7"
            ],
            [
             0.6,
             "#e6f5d0"
            ],
            [
             0.7,
             "#b8e186"
            ],
            [
             0.8,
             "#7fbc41"
            ],
            [
             0.9,
             "#4d9221"
            ],
            [
             1,
             "#276419"
            ]
           ],
           "sequential": [
            [
             0,
             "#0d0887"
            ],
            [
             0.1111111111111111,
             "#46039f"
            ],
            [
             0.2222222222222222,
             "#7201a8"
            ],
            [
             0.3333333333333333,
             "#9c179e"
            ],
            [
             0.4444444444444444,
             "#bd3786"
            ],
            [
             0.5555555555555556,
             "#d8576b"
            ],
            [
             0.6666666666666666,
             "#ed7953"
            ],
            [
             0.7777777777777778,
             "#fb9f3a"
            ],
            [
             0.8888888888888888,
             "#fdca26"
            ],
            [
             1,
             "#f0f921"
            ]
           ],
           "sequentialminus": [
            [
             0,
             "#0d0887"
            ],
            [
             0.1111111111111111,
             "#46039f"
            ],
            [
             0.2222222222222222,
             "#7201a8"
            ],
            [
             0.3333333333333333,
             "#9c179e"
            ],
            [
             0.4444444444444444,
             "#bd3786"
            ],
            [
             0.5555555555555556,
             "#d8576b"
            ],
            [
             0.6666666666666666,
             "#ed7953"
            ],
            [
             0.7777777777777778,
             "#fb9f3a"
            ],
            [
             0.8888888888888888,
             "#fdca26"
            ],
            [
             1,
             "#f0f921"
            ]
           ]
          },
          "colorway": [
           "#636efa",
           "#EF553B",
           "#00cc96",
           "#ab63fa",
           "#FFA15A",
           "#19d3f3",
           "#FF6692",
           "#B6E880",
           "#FF97FF",
           "#FECB52"
          ],
          "font": {
           "color": "#2a3f5f"
          },
          "geo": {
           "bgcolor": "white",
           "lakecolor": "white",
           "landcolor": "#E5ECF6",
           "showlakes": true,
           "showland": true,
           "subunitcolor": "white"
          },
          "hoverlabel": {
           "align": "left"
          },
          "hovermode": "closest",
          "mapbox": {
           "style": "light"
          },
          "paper_bgcolor": "white",
          "plot_bgcolor": "#E5ECF6",
          "polar": {
           "angularaxis": {
            "gridcolor": "white",
            "linecolor": "white",
            "ticks": ""
           },
           "bgcolor": "#E5ECF6",
           "radialaxis": {
            "gridcolor": "white",
            "linecolor": "white",
            "ticks": ""
           }
          },
          "scene": {
           "xaxis": {
            "backgroundcolor": "#E5ECF6",
            "gridcolor": "white",
            "gridwidth": 2,
            "linecolor": "white",
            "showbackground": true,
            "ticks": "",
            "zerolinecolor": "white"
           },
           "yaxis": {
            "backgroundcolor": "#E5ECF6",
            "gridcolor": "white",
            "gridwidth": 2,
            "linecolor": "white",
            "showbackground": true,
            "ticks": "",
            "zerolinecolor": "white"
           },
           "zaxis": {
            "backgroundcolor": "#E5ECF6",
            "gridcolor": "white",
            "gridwidth": 2,
            "linecolor": "white",
            "showbackground": true,
            "ticks": "",
            "zerolinecolor": "white"
           }
          },
          "shapedefaults": {
           "line": {
            "color": "#2a3f5f"
           }
          },
          "ternary": {
           "aaxis": {
            "gridcolor": "white",
            "linecolor": "white",
            "ticks": ""
           },
           "baxis": {
            "gridcolor": "white",
            "linecolor": "white",
            "ticks": ""
           },
           "bgcolor": "#E5ECF6",
           "caxis": {
            "gridcolor": "white",
            "linecolor": "white",
            "ticks": ""
           }
          },
          "title": {
           "x": 0.05
          },
          "xaxis": {
           "automargin": true,
           "gridcolor": "white",
           "linecolor": "white",
           "ticks": "",
           "title": {
            "standoff": 15
           },
           "zerolinecolor": "white",
           "zerolinewidth": 2
          },
          "yaxis": {
           "automargin": true,
           "gridcolor": "white",
           "linecolor": "white",
           "ticks": "",
           "title": {
            "standoff": 15
           },
           "zerolinecolor": "white",
           "zerolinewidth": 2
          }
         }
        },
        "width": 450,
        "xaxis": {
         "title": {
          "text": "src_edge_0_trained"
         }
        },
        "yaxis": {
         "title": {
          "text": "edge_0_trained"
         }
        }
       }
      }
     },
     "metadata": {},
     "output_type": "display_data"
    }
   ],
   "source": [
    "original_radius = (data[[\"src_edge_0_trained\",\"edge_0_trained\"]]**2).sum(axis=1).pow(1/2)\n",
    "\n",
    "epsilon = 0.1\n",
    "\n",
    "new_radius = 2 * epsilon * (data[\"depressionCont\"] - 1) / (data[\"depressionCont\"].max() - data[\"depressionCont\"].min()) + (1 + epsilon)\n",
    "_data = data.copy()\n",
    "_data[\"new_src_edge_0_trained\"] = _data[\"src_edge_0_trained\"]*new_radius/original_radius\n",
    "_data[\"new_edge_0_trained\"] = _data[\"edge_0_trained\"]*new_radius/original_radius\n",
    "\n",
    "fig = go.Figure()\n",
    "fig.add_trace(\n",
    "    go.Scatter(\n",
    "        x = _data[\"new_src_edge_0_trained\"],\n",
    "        y = _data[\"new_edge_0_trained\"],\n",
    "        mode = \"markers\",\n",
    "        marker = {\n",
    "            \"color\": _data[\"depressionCont\"],\n",
    "            \"colorbar\": dict(\n",
    "                title=dict(text=\"depressionCont\")\n",
    "            ),\n",
    "            \"colorscale\": \"Viridis\"\n",
    "        },\n",
    "        \n",
    "    )\n",
    ")\n",
    "fig.update_layout(\n",
    "    width=450, height=400,\n",
    "    xaxis_title=\"src_edge_0_trained\",\n",
    "    yaxis_title = \"edge_0_trained\"\n",
    ")\n",
    "fig.show()"
   ]
  },
  {
   "cell_type": "markdown",
   "id": "14a953e1",
   "metadata": {},
   "source": [
    "\"2025-06-23_23-21__GAT_liking_sim_amp_3NN_3ExpNN_no_val\" r2 = 0.187 with depressionCont ~ n_not_experienced * src_edge_0_trained * src_content_0_trained * edge_0_trained * bias_0_trained\n",
    "\n",
    "src_content_0_trained                                                                       -7.5368      2.778     -2.713      0.007 \n",
    "\n",
    "n_not_experienced:src_content_0_trained                                                      0.7426      0.312      2.378      0.018 \n",
    "\n",
    "n_not_experienced:bias_0_trained                                                            -0.5171      0.263     -1.964      0.050 \n",
    "\n",
    "The higher the bias the less likely depressed. The highest the src_content param, the less likely depressed.\n",
    "\n",
    "The parameter n_not_experienced is a moderator. Hard to tell from this what happens when n_not_experienced increases. But we know that it correlates with depressionCont (spearman 0.18, pearson 0.274).\n",
    "\n",
    "\n",
    "\n",
    "depressionCont ~ train_avg_MAE * n_not_experienced * src_edge_0_trained * src_content_0_trained * edge_0_trained * bias_0_trained\n",
    "\n",
    "reaches r2 = 0.338\n",
    "\n",
    "Likewise, train_avg_MAE should be studied as a moderator. This vouches for some structural equation modelling. Additionally check the best model for each participant so that train_avg_MAE is not required: just take the best model. \n",
    "\n",
    "\n",
    "\n",
    "June 27 \n",
    "Same model... weird\n",
    "\n",
    "\"2025-06-23_23-21__GAT_liking_sim_amp_3NN_3ExpNN_no_val\" r2 = 0.712 with depressionCont ~ train_avg_MAE * n_not_experienced * src_edge_0_trained * src_content_0_trained * edge_0_trained * bias_0_trained\n",
    "\n",
    "n_not_experienced:src_content_0_trained                                8.5898      3.912      2.196      0.034       0.683      16.496\n",
    "\n",
    "only significant\n",
    "\n",
    "\n",
    "\n",
    "depressionCont ~ n_not_experienced * src_edge_0_trained * src_content_0_trained * edge_0_trained * bias_0_trained\n",
    "\n",
    "reaches r2 = 0.38\n",
    "\n",
    "and nothing is significant\n",
    "\n",
    "\n",
    "\n",
    "\n",
    "\n",
    "\n",
    "\n",
    "\n",
    "\n",
    "For model \"2025-06-25_07-05__GAT_liking_sim_amp_3NN_3ExpNN_no_val_bias-False_att-liking-False_amp-liking-True\"\n",
    "\n",
    "with formula: \"depressionCont ~ train_MAE * n_not_experienced * src_content_0_trained * edge_0_trained\"\n",
    "\n",
    "R-squared:                       0.219\n",
    "\n",
    "nothing significiant\n",
    "\n",
    "if I keep the participants that are best fitted by that model, I reach \"R-squared: 0.727\" (and nothing significant). If in that case no parameter reaches significance, it may be because of the low number of samples (24, 17 depressed, 7 not depressed). If the R2 is so improved, it argues again that samples shouldn't be mixed when doing the statistical analysis because some samples may be ill-fitted.\n",
    "\n"
   ]
  },
  {
   "cell_type": "code",
   "execution_count": 88,
   "id": "c3849797",
   "metadata": {},
   "outputs": [
    {
     "data": {
      "text/plain": [
       "Text(0, 0.5, 'Within Cluster Sum of Squares')"
      ]
     },
     "execution_count": 88,
     "metadata": {},
     "output_type": "execute_result"
    },
    {
     "data": {
      "image/png": "[encoded data removed]",
      "text/plain": [
       "<Figure size 640x480 with 1 Axes>"
      ]
     },
     "metadata": {},
     "output_type": "display_data"
    }
   ],
   "source": [
    "\n",
    "X = data[[\"n_not_experienced\",\"train_MAE\",\"src_edge_0_trained\", \"src_content_0_trained\", \"edge_0_trained\", \"bias_0_trained\"]]\n",
    "kmeans = KMeans(n_clusters=2, random_state=0, n_init=\"auto\").fit(X)\n",
    "\n",
    "wcss = []\n",
    "\n",
    "for i in range(1,11):\n",
    "    kmeans = KMeans(n_clusters=i,max_iter=300,n_init=10,random_state=0)\n",
    "    km=kmeans.fit(X)\n",
    "    wcss.append(kmeans.inertia_)\n",
    "\n",
    "plt.figure()\n",
    "plt.plot(range(1,11),wcss, marker=\"o\")\n",
    "\n",
    "plt.title('The Elbow Method')\n",
    "plt.xlabel('Number of clusters')\n",
    "plt.ylabel('Within Cluster Sum of Squares')"
   ]
  },
  {
   "cell_type": "code",
   "execution_count": 89,
   "id": "7c94d97f",
   "metadata": {},
   "outputs": [],
   "source": [
    "from sklearn.decomposition import PCA\n",
    "\n",
    "\n",
    "#visualizing the 6 clusters in 2 dimensions with 2 principal componenets\n",
    "#reducing data to 2 prinicipal components\n",
    "pca_2comp=PCA(n_components=2)\n",
    "df_reduced_2comp=pca_2comp.fit_transform(X)\n",
    "\n",
    "# running Kmeans for 6 clusters on 2 PC's\n",
    "kmeans_pca_2comp=KMeans(n_clusters=4)\n",
    "reduced_cluster_labels_2comp=kmeans_pca_2comp.fit_predict(df_reduced_2comp)\n",
    "centers_2comp=kmeans_pca_2comp.cluster_centers_\n",
    "\n",
    "#creating dataframes for cluster labels and 2 PC's\n",
    "predictions=pd.DataFrame(reduced_cluster_labels_2comp,columns=['cluster_pred'])\n",
    "reduced_df_2comp=pd.DataFrame(np.round(df_reduced_2comp,4),columns=['Dimension 1','Dimension 2'])\n",
    "\n",
    "# concatanete the above two dfs\n",
    "to_plot=pd.concat([predictions,reduced_df_2comp,data[[\"depression\"]]], axis=1)"
   ]
  },
  {
   "cell_type": "code",
   "execution_count": 90,
   "id": "35072eb3",
   "metadata": {},
   "outputs": [
    {
     "data": {
      "text/html": [
       "<div>\n",
       "<style scoped>\n",
       "    .dataframe tbody tr th:only-of-type {\n",
       "        vertical-align: middle;\n",
       "    }\n",
       "\n",
       "    .dataframe tbody tr th {\n",
       "        vertical-align: top;\n",
       "    }\n",
       "\n",
       "    .dataframe thead th {\n",
       "        text-align: right;\n",
       "    }\n",
       "</style>\n",
       "<table border=\"1\" class=\"dataframe\">\n",
       "  <thead>\n",
       "    <tr style=\"text-align: right;\">\n",
       "      <th></th>\n",
       "      <th>cluster_pred</th>\n",
       "      <th>Dimension 1</th>\n",
       "      <th>Dimension 2</th>\n",
       "      <th>depression</th>\n",
       "    </tr>\n",
       "  </thead>\n",
       "  <tbody>\n",
       "    <tr>\n",
       "      <th>0</th>\n",
       "      <td>1</td>\n",
       "      <td>-5.3905</td>\n",
       "      <td>2.1788</td>\n",
       "      <td>1</td>\n",
       "    </tr>\n",
       "    <tr>\n",
       "      <th>1</th>\n",
       "      <td>1</td>\n",
       "      <td>-7.4160</td>\n",
       "      <td>0.8332</td>\n",
       "      <td>1</td>\n",
       "    </tr>\n",
       "    <tr>\n",
       "      <th>2</th>\n",
       "      <td>0</td>\n",
       "      <td>2.5968</td>\n",
       "      <td>1.8735</td>\n",
       "      <td>1</td>\n",
       "    </tr>\n",
       "    <tr>\n",
       "      <th>3</th>\n",
       "      <td>1</td>\n",
       "      <td>-5.4375</td>\n",
       "      <td>-0.4894</td>\n",
       "      <td>1</td>\n",
       "    </tr>\n",
       "    <tr>\n",
       "      <th>4</th>\n",
       "      <td>2</td>\n",
       "      <td>10.5841</td>\n",
       "      <td>-0.4604</td>\n",
       "      <td>1</td>\n",
       "    </tr>\n",
       "    <tr>\n",
       "      <th>...</th>\n",
       "      <td>...</td>\n",
       "      <td>...</td>\n",
       "      <td>...</td>\n",
       "      <td>...</td>\n",
       "    </tr>\n",
       "    <tr>\n",
       "      <th>99</th>\n",
       "      <td>1</td>\n",
       "      <td>-5.4226</td>\n",
       "      <td>0.4212</td>\n",
       "      <td>0</td>\n",
       "    </tr>\n",
       "    <tr>\n",
       "      <th>100</th>\n",
       "      <td>3</td>\n",
       "      <td>-0.4172</td>\n",
       "      <td>-0.1673</td>\n",
       "      <td>0</td>\n",
       "    </tr>\n",
       "    <tr>\n",
       "      <th>101</th>\n",
       "      <td>3</td>\n",
       "      <td>-1.4061</td>\n",
       "      <td>-0.1269</td>\n",
       "      <td>1</td>\n",
       "    </tr>\n",
       "    <tr>\n",
       "      <th>102</th>\n",
       "      <td>3</td>\n",
       "      <td>-0.3899</td>\n",
       "      <td>-1.0775</td>\n",
       "      <td>1</td>\n",
       "    </tr>\n",
       "    <tr>\n",
       "      <th>103</th>\n",
       "      <td>3</td>\n",
       "      <td>-3.4317</td>\n",
       "      <td>-0.0825</td>\n",
       "      <td>1</td>\n",
       "    </tr>\n",
       "  </tbody>\n",
       "</table>\n",
       "<p>104 rows × 4 columns</p>\n",
       "</div>"
      ],
      "text/plain": [
       "     cluster_pred  Dimension 1  Dimension 2  depression\n",
       "0               1      -5.3905       2.1788           1\n",
       "1               1      -7.4160       0.8332           1\n",
       "2               0       2.5968       1.8735           1\n",
       "3               1      -5.4375      -0.4894           1\n",
       "4               2      10.5841      -0.4604           1\n",
       "..            ...          ...          ...         ...\n",
       "99              1      -5.4226       0.4212           0\n",
       "100             3      -0.4172      -0.1673           0\n",
       "101             3      -1.4061      -0.1269           1\n",
       "102             3      -0.3899      -1.0775           1\n",
       "103             3      -3.4317      -0.0825           1\n",
       "\n",
       "[104 rows x 4 columns]"
      ]
     },
     "execution_count": 90,
     "metadata": {},
     "output_type": "execute_result"
    }
   ],
   "source": [
    "to_plot"
   ]
  },
  {
   "cell_type": "code",
   "execution_count": 91,
   "id": "54f25412",
   "metadata": {},
   "outputs": [
    {
     "data": {
      "image/png": "[encoded data removed]",
      "text/plain": [
       "<Figure size 1500x800 with 1 Axes>"
      ]
     },
     "metadata": {},
     "output_type": "display_data"
    }
   ],
   "source": [
    "plt.figure(figsize=(15,8))\n",
    "ax=plt.subplot()\n",
    "\n",
    "colors=['red','green','blue','orange','yellow','purple']\n",
    "n_clusters = 4\n",
    "centers = centers_2comp\n",
    "for n_clusters in range(n_clusters):\n",
    "        \n",
    "    # colors = cm.nipy_spectral((to_plot['Cluster_pred']== n_clusters).astype(float) / n_clusters)\n",
    "        #colors=['red','green','blue','orange','yellow','purple']\n",
    "    \n",
    "\n",
    "    # not depression\n",
    "    cluster_mask = to_plot['cluster_pred'] == n_clusters\n",
    "    depression_mask  = to_plot['depression'] == 1\n",
    "    ax.scatter(to_plot[cluster_mask*depression_mask][\"Dimension 1\"],to_plot[cluster_mask*depression_mask][\"Dimension 2\"],\n",
    "        marker='.', \n",
    "        s=80, lw=0, alpha=0.7,\n",
    "        c=colors[n_clusters], \n",
    "        edgecolor='black', \n",
    "        label='Cluster %d - depression'%n_clusters)\n",
    "\n",
    "    ax.scatter(to_plot[cluster_mask*(~depression_mask)][\"Dimension 1\"],to_plot[cluster_mask*(~depression_mask)][\"Dimension 2\"],\n",
    "        marker='v', \n",
    "        s=80, lw=0, alpha=0.7,\n",
    "        c=colors[n_clusters], \n",
    "        edgecolor='black', \n",
    "        label='Cluster %d - no depression'%n_clusters)\n",
    "            \n",
    "    # Draw white circles at cluster centers\n",
    "        \n",
    "\n",
    "    for i, c in enumerate(centers):\n",
    "           \n",
    "        ax.scatter(c[0], c[1], marker='o',\n",
    "                        c=\"white\", alpha=1, s=200, edgecolor='k')\n",
    "        ax.scatter(c[0], c[1], marker='$%d$' % i, alpha=1,\n",
    "                            s=80, edgecolor='k')\n",
    "\n",
    "ax.set_title(\"The visualization of the clustered data.\")\n",
    "ax.set_xlabel(\"Dimension 1\")\n",
    "ax.set_ylabel(\"Dimension 2\")\n",
    "\n",
    "plt.legend()    \n",
    "plt.show()"
   ]
  },
  {
   "cell_type": "code",
   "execution_count": 92,
   "id": "d10c6e32",
   "metadata": {},
   "outputs": [
    {
     "name": "stdout",
     "output_type": "stream",
     "text": [
      "[0.91789227 0.0314208  0.02348326 0.01696308 0.01024059]\n"
     ]
    },
    {
     "data": {
      "text/plain": [
       "[<matplotlib.lines.Line2D at 0x73f1eea0e7a0>]"
      ]
     },
     "execution_count": 92,
     "metadata": {},
     "output_type": "execute_result"
    },
    {
     "data": {
      "image/png": "[encoded data removed]",
      "text/plain": [
       "<Figure size 640x480 with 1 Axes>"
      ]
     },
     "metadata": {},
     "output_type": "display_data"
    }
   ],
   "source": [
    "param_names = [\"src_edge_0_trained\", \"src_content_0_trained\", \"edge_0_trained\", \"bias_0_trained\", \"n_not_experienced\"]\n",
    "\n",
    "pca = PCA(n_components=len(param_names), svd_solver='full')\n",
    "pca.fit(data[param_names])\n",
    "print(pca.explained_variance_ratio_)\n",
    "plt.plot(np.arange(1,len(param_names)+1),pca.explained_variance_ratio_)"
   ]
  },
  {
   "cell_type": "code",
   "execution_count": 93,
   "id": "f6dc0139",
   "metadata": {},
   "outputs": [
    {
     "name": "stdout",
     "output_type": "stream",
     "text": [
      "[0.91789227 0.0314208  0.02348326 0.01696308 0.01024059]\n",
      "== results.summary() ==\n",
      "\n",
      "                             OLS Regression Results                            \n",
      "==============================================================================\n",
      "Dep. Variable:         depressionCont   R-squared:                       0.383\n",
      "Model:                            OLS   Adj. R-squared:                  0.117\n",
      "Method:                 Least Squares   F-statistic:                     1.440\n",
      "Date:                Sun, 06 Jul 2025   Prob (F-statistic):              0.104\n",
      "Time:                        18:16:08   Log-Likelihood:                -385.27\n",
      "No. Observations:                 104   AIC:                             834.5\n",
      "Df Residuals:                      72   BIC:                             919.2\n",
      "Df Model:                          31                                         \n",
      "Covariance Type:            nonrobust                                         \n",
      "=================================================================================================\n",
      "                                    coef    std err          t      P>|t|      [0.025      0.975]\n",
      "-------------------------------------------------------------------------------------------------\n",
      "Intercept                        14.3973      1.490      9.663      0.000      11.427      17.367\n",
      "dim_0                             0.7276      0.258      2.824      0.006       0.214       1.241\n",
      "dim_1                             2.3364      1.576      1.483      0.142      -0.805       5.477\n",
      "dim_0:dim_1                      -0.1220      0.337     -0.361      0.719      -0.795       0.551\n",
      "dim_2                            -4.7564      2.586     -1.840      0.070      -9.911       0.398\n",
      "dim_0:dim_2                      -0.6284      0.595     -1.057      0.294      -1.814       0.557\n",
      "dim_1:dim_2                      -2.4014      2.536     -0.947      0.347      -7.458       2.655\n",
      "dim_0:dim_1:dim_2                -0.8903      0.831     -1.071      0.288      -2.547       0.767\n",
      "dim_3                            -2.2651      2.036     -1.112      0.270      -6.324       1.794\n",
      "dim_0:dim_3                       0.4264      0.439      0.971      0.335      -0.449       1.301\n",
      "dim_1:dim_3                       1.6694      3.671      0.455      0.651      -5.649       8.988\n",
      "dim_0:dim_1:dim_3                 0.8868      0.813      1.091      0.279      -0.734       2.507\n",
      "dim_2:dim_3                      -3.4047      3.804     -0.895      0.374     -10.987       4.178\n",
      "dim_0:dim_2:dim_3                 0.4386      0.942      0.466      0.643      -1.439       2.316\n",
      "dim_1:dim_2:dim_3                13.1911      4.512      2.924      0.005       4.197      22.185\n",
      "dim_0:dim_1:dim_2:dim_3           2.7562      1.465      1.882      0.064      -0.163       5.676\n",
      "dim_4                            -2.8402      2.871     -0.989      0.326      -8.564       2.884\n",
      "dim_0:dim_4                       0.0242      0.564      0.043      0.966      -1.100       1.148\n",
      "dim_1:dim_4                       0.8093      4.938      0.164      0.870      -9.035      10.653\n",
      "dim_0:dim_1:dim_4                -1.7695      1.189     -1.488      0.141      -4.140       0.601\n",
      "dim_2:dim_4                       3.6679      5.909      0.621      0.537      -8.112      15.447\n",
      "dim_0:dim_2:dim_4                 0.9472      1.362      0.695      0.489      -1.768       3.663\n",
      "dim_1:dim_2:dim_4                 6.2221      8.708      0.715      0.477     -11.137      23.581\n",
      "dim_0:dim_1:dim_2:dim_4          -2.6037      2.460     -1.059      0.293      -7.507       2.299\n",
      "dim_3:dim_4                       1.7848      4.192      0.426      0.672      -6.571      10.141\n",
      "dim_0:dim_3:dim_4                 0.7036      0.716      0.983      0.329      -0.723       2.130\n",
      "dim_1:dim_3:dim_4                 2.8243      9.313      0.303      0.763     -15.741      21.390\n",
      "dim_0:dim_1:dim_3:dim_4          -1.9726      1.879     -1.050      0.297      -5.719       1.773\n",
      "dim_2:dim_3:dim_4                 6.0562     10.347      0.585      0.560     -14.571      26.683\n",
      "dim_0:dim_2:dim_3:dim_4          -0.5311      1.953     -0.272      0.786      -4.424       3.362\n",
      "dim_1:dim_2:dim_3:dim_4         -10.1677     20.280     -0.501      0.618     -50.595      30.259\n",
      "dim_0:dim_1:dim_2:dim_3:dim_4    -6.5751      4.770     -1.378      0.172     -16.084       2.934\n",
      "==============================================================================\n",
      "Omnibus:                        5.497   Durbin-Watson:                   1.826\n",
      "Prob(Omnibus):                  0.064   Jarque-Bera (JB):                2.861\n",
      "Skew:                           0.145   Prob(JB):                        0.239\n",
      "Kurtosis:                       2.241   Cond. No.                         154.\n",
      "==============================================================================\n",
      "\n",
      "Notes:\n",
      "[1] Standard Errors assume that the covariance matrix of the errors is correctly specified. \n",
      "\n",
      " == end summary ==\n"
     ]
    }
   ],
   "source": [
    "pca = PCA(n_components=5, svd_solver='full')\n",
    "pca.fit(data[param_names])\n",
    "print(pca.explained_variance_ratio_)\n",
    "new_X = pca.transform(data[param_names])\n",
    "new_X = pd.DataFrame(new_X,columns=[f\"dim_{i}\" for i in range(new_X.shape[-1])])\n",
    "new_data = new_X.copy()\n",
    "new_data[\"depressionCont\"] = data[\"depressionCont\"].copy()\n",
    "new_data[\"n_not_experienced\"] = data[\"n_not_experienced\"].copy()\n",
    "\n",
    "results = smf.ols(\"depressionCont ~ dim_0 * dim_1 * dim_2 * dim_3 * dim_4\", data=new_data).fit()\n",
    "print(\"== results.summary() ==\\n\\n\",results.summary(),\"\\n\\n == end summary ==\")"
   ]
  },
  {
   "cell_type": "markdown",
   "id": "73478f66",
   "metadata": {},
   "source": [
    "\"2025-06-23_23-21__GAT_liking_sim_amp_3NN_3ExpNN_no_val\" r2 = 0.199 with depressionCont ~ n_not_experienced * dim_0 * dim_1 * dim_2 * dim_3\n",
    "\n",
    "a bit of improvement but no dimension reduction... Maybe because PCA decorrelate the variables."
   ]
  },
  {
   "cell_type": "markdown",
   "id": "c7870726",
   "metadata": {},
   "source": [
    "## Model Visualization (PDP, ICE...)"
   ]
  },
  {
   "cell_type": "code",
   "execution_count": 376,
   "id": "c767b511",
   "metadata": {},
   "outputs": [
    {
     "name": "stdout",
     "output_type": "stream",
     "text": [
      "(104, 21)\n",
      "0.14037648337372255\n",
      "[ 0.          0.41617043  0.          0.5124665   0.         -0.10259468\n",
      "  0.          0.          0.          0.         -0.          0.16906243\n",
      " -0.29314935 -0.22122625 -0.01140047 -0.61908333  0.4400096   0.28740403\n",
      "  0.         -0.00284221 -0.15581345] [9.67060497]\n",
      "[ 0.03667381 -0.18174805  0.09663455 -0.65380489 -0.25263522]\n"
     ]
    }
   ],
   "source": [
    "import sklearn.linear_model as linear_model \n",
    "from sklearn.metrics import r2_score,mean_absolute_error\n",
    "from sklearn.preprocessing import PolynomialFeatures\n",
    "from sklearn.model_selection import cross_val_score\n",
    "from sklearn.inspection import PartialDependenceDisplay\n",
    "\n",
    "from sklearn.model_selection import train_test_split\n",
    "\n",
    "X = data[[\"train_MAE\",\"n_not_experienced\",\"edge_0_trained\",\"bias_0_trained\",\"src_content_0_trained\", \"src_edge_0_trained\"]]\n",
    "\n",
    "y = data[[\"depressionCont\"]]\n",
    "\n",
    "poly = PolynomialFeatures(2,include_bias=False,interaction_only=True)\n",
    "aug_X = poly.fit_transform(X)\n",
    "print(aug_X.shape)\n",
    "#print(poly.get_feature_names_out(poly.feature_names_in_))\n",
    "\n",
    "reg = linear_model.ElasticNet().fit(aug_X, y)\n",
    "print(reg.score(aug_X, y))\n",
    "print(reg.coef_, reg.intercept_)\n",
    "\n",
    "model = linear_model.ElasticNet()\n",
    "print(cross_val_score(model, aug_X, y, cv=5,scoring=\"r2\")) #neg_mean_absolute_error"
   ]
  },
  {
   "cell_type": "code",
   "execution_count": 390,
   "id": "9d241bc7",
   "metadata": {},
   "outputs": [
    {
     "name": "stdout",
     "output_type": "stream",
     "text": [
      "(83, 21) (83, 1)\n",
      "(21, 21) (21, 1)\n",
      "0.30600304677892176\n",
      "-0.72654754704617\n"
     ]
    },
    {
     "name": "stderr",
     "output_type": "stream",
     "text": [
      "/home/julien-rsbrg/venv/venv_semantic_to_liking/lib/python3.10/site-packages/sklearn/base.py:493: UserWarning:\n",
      "\n",
      "X does not have valid feature names, but LinearRegression was fitted with feature names\n",
      "\n",
      "/home/julien-rsbrg/venv/venv_semantic_to_liking/lib/python3.10/site-packages/sklearn/base.py:493: UserWarning:\n",
      "\n",
      "X does not have valid feature names, but LinearRegression was fitted with feature names\n",
      "\n",
      "/home/julien-rsbrg/venv/venv_semantic_to_liking/lib/python3.10/site-packages/sklearn/base.py:493: UserWarning:\n",
      "\n",
      "X does not have valid feature names, but LinearRegression was fitted with feature names\n",
      "\n"
     ]
    },
    {
     "data": {
      "image/png": "[encoded data removed]",
      "text/plain": [
       "<Figure size 640x480 with 1 Axes>"
      ]
     },
     "metadata": {},
     "output_type": "display_data"
    },
    {
     "name": "stderr",
     "output_type": "stream",
     "text": [
      "/home/julien-rsbrg/venv/venv_semantic_to_liking/lib/python3.10/site-packages/sklearn/base.py:493: UserWarning:\n",
      "\n",
      "X does not have valid feature names, but LinearRegression was fitted with feature names\n",
      "\n"
     ]
    },
    {
     "data": {
      "image/png": "[encoded data removed]",
      "text/plain": [
       "<Figure size 640x480 with 1 Axes>"
      ]
     },
     "metadata": {},
     "output_type": "display_data"
    }
   ],
   "source": [
    "X_train, X_test, y_train, y_test = train_test_split(\n",
    "    aug_X, y, test_size=0.2)\n",
    "\n",
    "print(X_train.shape, y_train.shape)\n",
    "print(X_test.shape, y_test.shape)\n",
    "\n",
    "model = linear_model.LinearRegression().fit(\n",
    "    pd.DataFrame(X_train,columns=poly.get_feature_names_out(input_features=poly.feature_names_in_)), \n",
    "    y_train)\n",
    "print(model.score(X_train, y_train))\n",
    "print(model.score(X_test, y_test))\n",
    "\n",
    "plt.scatter(y_train,model.predict(X_train))\n",
    "plt.show()\n",
    "\n",
    "plt.scatter(y_test,model.predict(X_test))\n",
    "plt.show()"
   ]
  },
  {
   "cell_type": "code",
   "execution_count": 380,
   "id": "ddf6e469",
   "metadata": {},
   "outputs": [
    {
     "name": "stdout",
     "output_type": "stream",
     "text": [
      "Computing partial dependence plots and individual conditional expectation...\n"
     ]
    },
    {
     "data": {
      "image/png": "[encoded data removed]",
      "text/plain": [
       "<Figure size 2000x500 with 3 Axes>"
      ]
     },
     "metadata": {},
     "output_type": "display_data"
    }
   ],
   "source": [
    "print(\"Computing partial dependence plots and individual conditional expectation...\")\n",
    "_, ax = plt.subplots(ncols=3, figsize=(20, 5), sharey=True, constrained_layout=True)\n",
    "\n",
    "features_info = {\n",
    "    \"features\": [\"train_MAE\",\"src_content_0_trained\",(\"src_content_0_trained\",\"bias_0_trained\")],\n",
    "    \"kind\": \"average\",\n",
    "    \"centered\": True,\n",
    "}\n",
    "\n",
    "common_params = {\n",
    "    \"subsample\": 50,\n",
    "    \"n_jobs\": 6,\n",
    "    \"grid_resolution\": 20,\n",
    "    \"random_state\": 0,\n",
    "}\n",
    "\n",
    "\n",
    "display = PartialDependenceDisplay.from_estimator(\n",
    "    model,\n",
    "    pd.DataFrame(X_train,columns=poly.get_feature_names_out(input_features=poly.feature_names_in_)),\n",
    "    **features_info,\n",
    "    ax=ax,\n",
    "    **common_params,\n",
    ")\n",
    "_ = display.figure_.suptitle(\"ICE and PDP representations\", fontsize=16)"
   ]
  },
  {
   "cell_type": "code",
   "execution_count": 381,
   "id": "c19417a8",
   "metadata": {},
   "outputs": [
    {
     "name": "stdout",
     "output_type": "stream",
     "text": [
      "Computing partial dependence plots and individual conditional expectation...\n"
     ]
    },
    {
     "data": {
      "image/png": "[encoded data removed]",
      "text/plain": [
       "<Figure size 2000x500 with 2 Axes>"
      ]
     },
     "metadata": {},
     "output_type": "display_data"
    }
   ],
   "source": [
    "print(\"Computing partial dependence plots and individual conditional expectation...\")\n",
    "_, ax = plt.subplots(ncols=2, figsize=(20, 5), sharey=True, constrained_layout=True)\n",
    "\n",
    "features_info = {\n",
    "    \"features\": [(\"src_content_0_trained\",\"bias_0_trained\"),(\"bias_0_trained\",\"src_edge_0_trained\")],\n",
    "    \"kind\": \"average\",\n",
    "    \"centered\": True,\n",
    "}\n",
    "\n",
    "display = PartialDependenceDisplay.from_estimator(\n",
    "    model,\n",
    "    pd.DataFrame(X_train,columns=poly.get_feature_names_out(input_features=poly.feature_names_in_)),\n",
    "    **features_info,\n",
    "    ax=ax,\n",
    "    **common_params,\n",
    ")\n",
    "_ = display.figure_.suptitle(\"ICE and PDP representations\", fontsize=16)"
   ]
  },
  {
   "cell_type": "code",
   "execution_count": 382,
   "id": "2d7fe9ea",
   "metadata": {},
   "outputs": [
    {
     "name": "stdout",
     "output_type": "stream",
     "text": [
      "Computing partial dependence plots and individual conditional expectation...\n"
     ]
    },
    {
     "data": {
      "image/png": "[encoded data removed]",
      "text/plain": [
       "<Figure size 2000x500 with 2 Axes>"
      ]
     },
     "metadata": {},
     "output_type": "display_data"
    }
   ],
   "source": [
    "print(\"Computing partial dependence plots and individual conditional expectation...\")\n",
    "_, ax = plt.subplots(ncols=2, figsize=(20, 5), sharey=True, constrained_layout=True)\n",
    "\n",
    "features_info = {\n",
    "    \"features\": [\"bias_0_trained\",\"src_edge_0_trained\"],\n",
    "    \"kind\": \"average\",\n",
    "    \"centered\": True,\n",
    "}\n",
    "\n",
    "display = PartialDependenceDisplay.from_estimator(\n",
    "    model,\n",
    "    pd.DataFrame(X_train,columns=poly.get_feature_names_out(input_features=poly.feature_names_in_)),\n",
    "    **features_info,\n",
    "    ax=ax,\n",
    "    **common_params,\n",
    ")\n",
    "_ = display.figure_.suptitle(\"ICE and PDP representations\", fontsize=16)"
   ]
  },
  {
   "cell_type": "code",
   "execution_count": null,
   "id": "a6dc17f1",
   "metadata": {},
   "outputs": [],
   "source": []
  },
  {
   "cell_type": "markdown",
   "id": "e2f0bf19",
   "metadata": {},
   "source": [
    "## Spectral clustering"
   ]
  },
  {
   "cell_type": "code",
   "execution_count": 95,
   "id": "74dd051e",
   "metadata": {},
   "outputs": [
    {
     "name": "stdout",
     "output_type": "stream",
     "text": [
      "[1 1 1 0 0 0]\n",
      "SpectralClustering(assign_labels='discretize', n_clusters=2, random_state=0)\n"
     ]
    }
   ],
   "source": [
    "from sklearn.cluster import SpectralClustering\n",
    "import numpy as np\n",
    "X = np.array([[1, 1], [2, 1], [1, 0],\n",
    "              [4, 7], [3, 5], [3, 6]])\n",
    "clustering = SpectralClustering(n_clusters=2,\n",
    "        assign_labels='discretize',\n",
    "        random_state=0).fit(X)\n",
    "print(clustering.labels_)\n",
    "print(clustering)"
   ]
  },
  {
   "cell_type": "code",
   "execution_count": 96,
   "id": "221b51b9",
   "metadata": {},
   "outputs": [
    {
     "name": "stdout",
     "output_type": "stream",
     "text": [
      "[0 0 0 0 1 1 0 0 0 0 0 0 0 0 0 0 0 0 0 0 0 0 0 0 1 0 0 0 0 0 0 0 0 0 0 0 0\n",
      " 0 0 0 0 0 0 0 0 0 0 0 0 0 0 0 0 0 0 0 1 0 0 1 0 0 0 0 0 0 0 0 0 0 1 0 0 0\n",
      " 1 0 0 0 0 0 0 1 0 0 0 0 0 0 0 0 0 1 1 0 0 0 0 0 0 0 0 0 0 0]\n"
     ]
    }
   ],
   "source": [
    "X = data[[\"n_not_experienced\",\"src_content_0_trained\",\"src_edge_0_trained\",\"edge_0_trained\",\"bias_0_trained\"]]\n",
    "\n",
    "clustering = SpectralClustering(n_clusters=2,\n",
    "        assign_labels='discretize',\n",
    "        random_state=0).fit(X)\n",
    "print(clustering.labels_)"
   ]
  },
  {
   "cell_type": "code",
   "execution_count": 97,
   "id": "c3bfa79a",
   "metadata": {},
   "outputs": [
    {
     "data": {
      "text/plain": [
       "0.03570792294110119"
      ]
     },
     "execution_count": 97,
     "metadata": {},
     "output_type": "execute_result"
    }
   ],
   "source": [
    "from sklearn import metrics\n",
    "\n",
    "metrics.adjusted_rand_score(clustering.labels_,data[\"depression\"].values)"
   ]
  },
  {
   "cell_type": "code",
   "execution_count": 98,
   "id": "cacfe81e",
   "metadata": {},
   "outputs": [
    {
     "data": {
      "text/plain": [
       "0      1\n",
       "1      1\n",
       "2      1\n",
       "3      1\n",
       "4      1\n",
       "      ..\n",
       "99     0\n",
       "100    0\n",
       "101    1\n",
       "102    1\n",
       "103    1\n",
       "Name: depression, Length: 104, dtype: int64"
      ]
     },
     "execution_count": 98,
     "metadata": {},
     "output_type": "execute_result"
    }
   ],
   "source": [
    "data[\"depression\"]"
   ]
  },
  {
   "cell_type": "markdown",
   "id": "f2bcc6e7",
   "metadata": {},
   "source": [
    "## other"
   ]
  },
  {
   "cell_type": "code",
   "execution_count": 99,
   "id": "7d007230",
   "metadata": {},
   "outputs": [
    {
     "data": {
      "application/vnd.plotly.v1+json": {
       "config": {
        "plotlyServerURL": "https://plot.ly"
       },
       "data": [
        {
         "link": {
          "hovercolor": [
           "midnightblue",
           "lightskyblue",
           "gold",
           "mediumturquoise",
           "lightgreen",
           "cyan"
          ],
          "source": [
           0,
           1,
           0,
           2,
           3,
           3
          ],
          "target": [
           2,
           3,
           3,
           4,
           4,
           5
          ],
          "value": [
           8,
           4,
           2,
           8,
           4,
           3
          ]
         },
         "node": {
          "color": "blue",
          "label": [
           "A1",
           "A2",
           "B1",
           "B2",
           "C1",
           "C2"
          ],
          "line": {
           "color": "black",
           "width": 0.5
          },
          "pad": 15,
          "thickness": 20
         },
         "type": "sankey"
        }
       ],
       "layout": {
        "font": {
         "size": 10
        },
        "template": {
         "data": {
          "bar": [
           {
            "error_x": {
             "color": "#2a3f5f"
            },
            "error_y": {
             "color": "#2a3f5f"
            },
            "marker": {
             "line": {
              "color": "#E5ECF6",
              "width": 0.5
             },
             "pattern": {
              "fillmode": "overlay",
              "size": 10,
              "solidity": 0.2
             }
            },
            "type": "bar"
           }
          ],
          "barpolar": [
           {
            "marker": {
             "line": {
              "color": "#E5ECF6",
              "width": 0.5
             },
             "pattern": {
              "fillmode": "overlay",
              "size": 10,
              "solidity": 0.2
             }
            },
            "type": "barpolar"
           }
          ],
          "carpet": [
           {
            "aaxis": {
             "endlinecolor": "#2a3f5f",
             "gridcolor": "white",
             "linecolor": "white",
             "minorgridcolor": "white",
             "startlinecolor": "#2a3f5f"
            },
            "baxis": {
             "endlinecolor": "#2a3f5f",
             "gridcolor": "white",
             "linecolor": "white",
             "minorgridcolor": "white",
             "startlinecolor": "#2a3f5f"
            },
            "type": "carpet"
           }
          ],
          "choropleth": [
           {
            "colorbar": {
             "outlinewidth": 0,
             "ticks": ""
            },
            "type": "choropleth"
           }
          ],
          "contour": [
           {
            "colorbar": {
             "outlinewidth": 0,
             "ticks": ""
            },
            "colorscale": [
             [
              0,
              "#0d0887"
             ],
             [
              0.1111111111111111,
              "#46039f"
             ],
             [
              0.2222222222222222,
              "#7201a8"
             ],
             [
              0.3333333333333333,
              "#9c179e"
             ],
             [
              0.4444444444444444,
              "#bd3786"
             ],
             [
              0.5555555555555556,
              "#d8576b"
             ],
             [
              0.6666666666666666,
              "#ed7953"
             ],
             [
              0.7777777777777778,
              "#fb9f3a"
             ],
             [
              0.8888888888888888,
              "#fdca26"
             ],
             [
              1,
              "#f0f921"
             ]
            ],
            "type": "contour"
           }
          ],
          "contourcarpet": [
           {
            "colorbar": {
             "outlinewidth": 0,
             "ticks": ""
            },
            "type": "contourcarpet"
           }
          ],
          "heatmap": [
           {
            "colorbar": {
             "outlinewidth": 0,
             "ticks": ""
            },
            "colorscale": [
             [
              0,
              "#0d0887"
             ],
             [
              0.1111111111111111,
              "#46039f"
             ],
             [
              0.2222222222222222,
              "#7201a8"
             ],
             [
              0.3333333333333333,
              "#9c179e"
             ],
             [
              0.4444444444444444,
              "#bd3786"
             ],
             [
              0.5555555555555556,
              "#d8576b"
             ],
             [
              0.6666666666666666,
              "#ed7953"
             ],
             [
              0.7777777777777778,
              "#fb9f3a"
             ],
             [
              0.8888888888888888,
              "#fdca26"
             ],
             [
              1,
              "#f0f921"
             ]
            ],
            "type": "heatmap"
           }
          ],
          "heatmapgl": [
           {
            "colorbar": {
             "outlinewidth": 0,
             "ticks": ""
            },
            "colorscale": [
             [
              0,
              "#0d0887"
             ],
             [
              0.1111111111111111,
              "#46039f"
             ],
             [
              0.2222222222222222,
              "#7201a8"
             ],
             [
              0.3333333333333333,
              "#9c179e"
             ],
             [
              0.4444444444444444,
              "#bd3786"
             ],
             [
              0.5555555555555556,
              "#d8576b"
             ],
             [
              0.6666666666666666,
              "#ed7953"
             ],
             [
              0.7777777777777778,
              "#fb9f3a"
             ],
             [
              0.8888888888888888,
              "#fdca26"
             ],
             [
              1,
              "#f0f921"
             ]
            ],
            "type": "heatmapgl"
           }
          ],
          "histogram": [
           {
            "marker": {
             "pattern": {
              "fillmode": "overlay",
              "size": 10,
              "solidity": 0.2
             }
            },
            "type": "histogram"
           }
          ],
          "histogram2d": [
           {
            "colorbar": {
             "outlinewidth": 0,
             "ticks": ""
            },
            "colorscale": [
             [
              0,
              "#0d0887"
             ],
             [
              0.1111111111111111,
              "#46039f"
             ],
             [
              0.2222222222222222,
              "#7201a8"
             ],
             [
              0.3333333333333333,
              "#9c179e"
             ],
             [
              0.4444444444444444,
              "#bd3786"
             ],
             [
              0.5555555555555556,
              "#d8576b"
             ],
             [
              0.6666666666666666,
              "#ed7953"
             ],
             [
              0.7777777777777778,
              "#fb9f3a"
             ],
             [
              0.8888888888888888,
              "#fdca26"
             ],
             [
              1,
              "#f0f921"
             ]
            ],
            "type": "histogram2d"
           }
          ],
          "histogram2dcontour": [
           {
            "colorbar": {
             "outlinewidth": 0,
             "ticks": ""
            },
            "colorscale": [
             [
              0,
              "#0d0887"
             ],
             [
              0.1111111111111111,
              "#46039f"
             ],
             [
              0.2222222222222222,
              "#7201a8"
             ],
             [
              0.3333333333333333,
              "#9c179e"
             ],
             [
              0.4444444444444444,
              "#bd3786"
             ],
             [
              0.5555555555555556,
              "#d8576b"
             ],
             [
              0.6666666666666666,
              "#ed7953"
             ],
             [
              0.7777777777777778,
              "#fb9f3a"
             ],
             [
              0.8888888888888888,
              "#fdca26"
             ],
             [
              1,
              "#f0f921"
             ]
            ],
            "type": "histogram2dcontour"
           }
          ],
          "mesh3d": [
           {
            "colorbar": {
             "outlinewidth": 0,
             "ticks": ""
            },
            "type": "mesh3d"
           }
          ],
          "parcoords": [
           {
            "line": {
             "colorbar": {
              "outlinewidth": 0,
              "ticks": ""
             }
            },
            "type": "parcoords"
           }
          ],
          "pie": [
           {
            "automargin": true,
            "type": "pie"
           }
          ],
          "scatter": [
           {
            "fillpattern": {
             "fillmode": "overlay",
             "size": 10,
             "solidity": 0.2
            },
            "type": "scatter"
           }
          ],
          "scatter3d": [
           {
            "line": {
             "colorbar": {
              "outlinewidth": 0,
              "ticks": ""
             }
            },
            "marker": {
             "colorbar": {
              "outlinewidth": 0,
              "ticks": ""
             }
            },
            "type": "scatter3d"
           }
          ],
          "scattercarpet": [
           {
            "marker": {
             "colorbar": {
              "outlinewidth": 0,
              "ticks": ""
             }
            },
            "type": "scattercarpet"
           }
          ],
          "scattergeo": [
           {
            "marker": {
             "colorbar": {
              "outlinewidth": 0,
              "ticks": ""
             }
            },
            "type": "scattergeo"
           }
          ],
          "scattergl": [
           {
            "marker": {
             "colorbar": {
              "outlinewidth": 0,
              "ticks": ""
             }
            },
            "type": "scattergl"
           }
          ],
          "scattermapbox": [
           {
            "marker": {
             "colorbar": {
              "outlinewidth": 0,
              "ticks": ""
             }
            },
            "type": "scattermapbox"
           }
          ],
          "scatterpolar": [
           {
            "marker": {
             "colorbar": {
              "outlinewidth": 0,
              "ticks": ""
             }
            },
            "type": "scatterpolar"
           }
          ],
          "scatterpolargl": [
           {
            "marker": {
             "colorbar": {
              "outlinewidth": 0,
              "ticks": ""
             }
            },
            "type": "scatterpolargl"
           }
          ],
          "scatterternary": [
           {
            "marker": {
             "colorbar": {
              "outlinewidth": 0,
              "ticks": ""
             }
            },
            "type": "scatterternary"
           }
          ],
          "surface": [
           {
            "colorbar": {
             "outlinewidth": 0,
             "ticks": ""
            },
            "colorscale": [
             [
              0,
              "#0d0887"
             ],
             [
              0.1111111111111111,
              "#46039f"
             ],
             [
              0.2222222222222222,
              "#7201a8"
             ],
             [
              0.3333333333333333,
              "#9c179e"
             ],
             [
              0.4444444444444444,
              "#bd3786"
             ],
             [
              0.5555555555555556,
              "#d8576b"
             ],
             [
              0.6666666666666666,
              "#ed7953"
             ],
             [
              0.7777777777777778,
              "#fb9f3a"
             ],
             [
              0.8888888888888888,
              "#fdca26"
             ],
             [
              1,
              "#f0f921"
             ]
            ],
            "type": "surface"
           }
          ],
          "table": [
           {
            "cells": {
             "fill": {
              "color": "#EBF0F8"
             },
             "line": {
              "color": "white"
             }
            },
            "header": {
             "fill": {
              "color": "#C8D4E3"
             },
             "line": {
              "color": "white"
             }
            },
            "type": "table"
           }
          ]
         },
         "layout": {
          "annotationdefaults": {
           "arrowcolor": "#2a3f5f",
           "arrowhead": 0,
           "arrowwidth": 1
          },
          "autotypenumbers": "strict",
          "coloraxis": {
           "colorbar": {
            "outlinewidth": 0,
            "ticks": ""
           }
          },
          "colorscale": {
           "diverging": [
            [
             0,
             "#8e0152"
            ],
            [
             0.1,
             "#c51b7d"
            ],
            [
             0.2,
             "#de77ae"
            ],
            [
             0.3,
             "#f1b6da"
            ],
            [
             0.4,
             "#fde0ef"
            ],
            [
             0.5,
             "#f7f7f7"
            ],
            [
             0.6,
             "#e6f5d0"
            ],
            [
             0.7,
             "#b8e186"
            ],
            [
             0.8,
             "#7fbc41"
            ],
            [
             0.9,
             "#4d9221"
            ],
            [
             1,
             "#276419"
            ]
           ],
           "sequential": [
            [
             0,
             "#0d0887"
            ],
            [
             0.1111111111111111,
             "#46039f"
            ],
            [
             0.2222222222222222,
             "#7201a8"
            ],
            [
             0.3333333333333333,
             "#9c179e"
            ],
            [
             0.4444444444444444,
             "#bd3786"
            ],
            [
             0.5555555555555556,
             "#d8576b"
            ],
            [
             0.6666666666666666,
             "#ed7953"
            ],
            [
             0.7777777777777778,
             "#fb9f3a"
            ],
            [
             0.8888888888888888,
             "#fdca26"
            ],
            [
             1,
             "#f0f921"
            ]
           ],
           "sequentialminus": [
            [
             0,
             "#0d0887"
            ],
            [
             0.1111111111111111,
             "#46039f"
            ],
            [
             0.2222222222222222,
             "#7201a8"
            ],
            [
             0.3333333333333333,
             "#9c179e"
            ],
            [
             0.4444444444444444,
             "#bd3786"
            ],
            [
             0.5555555555555556,
             "#d8576b"
            ],
            [
             0.6666666666666666,
             "#ed7953"
            ],
            [
             0.7777777777777778,
             "#fb9f3a"
            ],
            [
             0.8888888888888888,
             "#fdca26"
            ],
            [
             1,
             "#f0f921"
            ]
           ]
          },
          "colorway": [
           "#636efa",
           "#EF553B",
           "#00cc96",
           "#ab63fa",
           "#FFA15A",
           "#19d3f3",
           "#FF6692",
           "#B6E880",
           "#FF97FF",
           "#FECB52"
          ],
          "font": {
           "color": "#2a3f5f"
          },
          "geo": {
           "bgcolor": "white",
           "lakecolor": "white",
           "landcolor": "#E5ECF6",
           "showlakes": true,
           "showland": true,
           "subunitcolor": "white"
          },
          "hoverlabel": {
           "align": "left"
          },
          "hovermode": "closest",
          "mapbox": {
           "style": "light"
          },
          "paper_bgcolor": "white",
          "plot_bgcolor": "#E5ECF6",
          "polar": {
           "angularaxis": {
            "gridcolor": "white",
            "linecolor": "white",
            "ticks": ""
           },
           "bgcolor": "#E5ECF6",
           "radialaxis": {
            "gridcolor": "white",
            "linecolor": "white",
            "ticks": ""
           }
          },
          "scene": {
           "xaxis": {
            "backgroundcolor": "#E5ECF6",
            "gridcolor": "white",
            "gridwidth": 2,
            "linecolor": "white",
            "showbackground": true,
            "ticks": "",
            "zerolinecolor": "white"
           },
           "yaxis": {
            "backgroundcolor": "#E5ECF6",
            "gridcolor": "white",
            "gridwidth": 2,
            "linecolor": "white",
            "showbackground": true,
            "ticks": "",
            "zerolinecolor": "white"
           },
           "zaxis": {
            "backgroundcolor": "#E5ECF6",
            "gridcolor": "white",
            "gridwidth": 2,
            "linecolor": "white",
            "showbackground": true,
            "ticks": "",
            "zerolinecolor": "white"
           }
          },
          "shapedefaults": {
           "line": {
            "color": "#2a3f5f"
           }
          },
          "ternary": {
           "aaxis": {
            "gridcolor": "white",
            "linecolor": "white",
            "ticks": ""
           },
           "baxis": {
            "gridcolor": "white",
            "linecolor": "white",
            "ticks": ""
           },
           "bgcolor": "#E5ECF6",
           "caxis": {
            "gridcolor": "white",
            "linecolor": "white",
            "ticks": ""
           }
          },
          "title": {
           "x": 0.05
          },
          "xaxis": {
           "automargin": true,
           "gridcolor": "white",
           "linecolor": "white",
           "ticks": "",
           "title": {
            "standoff": 15
           },
           "zerolinecolor": "white",
           "zerolinewidth": 2
          },
          "yaxis": {
           "automargin": true,
           "gridcolor": "white",
           "linecolor": "white",
           "ticks": "",
           "title": {
            "standoff": 15
           },
           "zerolinecolor": "white",
           "zerolinewidth": 2
          }
         }
        },
        "title": {
         "text": "Basic Sankey Diagram"
        }
       }
      }
     },
     "metadata": {},
     "output_type": "display_data"
    }
   ],
   "source": [
    "import plotly.graph_objects as go\n",
    "\n",
    "fig = go.Figure(data=[go.Sankey(\n",
    "    node = dict(\n",
    "      pad = 15,\n",
    "      thickness = 20,\n",
    "      line = dict(color = \"black\", width = 0.5),\n",
    "      label = [\"A1\", \"A2\", \"B1\", \"B2\", \"C1\", \"C2\"],\n",
    "      color = \"blue\"\n",
    "    ),\n",
    "    link = dict(\n",
    "      source = [0, 1, 0, 2, 3, 3],\n",
    "      target = [2, 3, 3, 4, 4, 5],\n",
    "      value = [8, 4, 2, 8, 4, 3],\n",
    "      hovercolor=[\"midnightblue\", \"lightskyblue\", \"gold\", \"mediumturquoise\", \"lightgreen\", \"cyan\"],\n",
    "  ))])\n",
    "\n",
    "fig.update_layout(title_text=\"Basic Sankey Diagram\", font_size=10)\n",
    "fig.show()"
   ]
  },
  {
   "cell_type": "markdown",
   "id": "13372ed7",
   "metadata": {},
   "source": [
    "# t-tests"
   ]
  },
  {
   "cell_type": "code",
   "execution_count": 100,
   "id": "a4fa14c5",
   "metadata": {},
   "outputs": [],
   "source": [
    "import scipy.stats\n",
    "\n",
    "depression_mask = data[\"depression\"] == 1"
   ]
  },
  {
   "cell_type": "markdown",
   "id": "3c355ef2",
   "metadata": {},
   "source": [
    "depressed individuals are liking less unexperienced activities by default \n",
    "(ie, $\\beta_0$ depressed < $\\beta_0$ not depressed)"
   ]
  },
  {
   "cell_type": "code",
   "execution_count": 101,
   "id": "af37d592",
   "metadata": {},
   "outputs": [
    {
     "data": {
      "text/plain": [
       "TtestResult(statistic=-0.5627210568892693, pvalue=0.287470182426123, df=95.72715365124164)"
      ]
     },
     "execution_count": 101,
     "metadata": {},
     "output_type": "execute_result"
    }
   ],
   "source": [
    "scipy.stats.ttest_ind(data[depression_mask][\"bias_0_trained\"], data[~depression_mask][\"bias_0_trained\"], equal_var=False, alternative=\"less\")"
   ]
  },
  {
   "cell_type": "markdown",
   "id": "cc9fb21c",
   "metadata": {},
   "source": [
    "depressed individuals have a narrower in depth generalization \n",
    "(ie, $\\beta_l$ depressed < $\\beta_l$ not depressed)  "
   ]
  },
  {
   "cell_type": "code",
   "execution_count": 102,
   "id": "e3ea994d",
   "metadata": {},
   "outputs": [
    {
     "data": {
      "text/plain": [
       "TtestResult(statistic=0.041297537663568945, pvalue=0.5164290861191385, df=99.04927602521605)"
      ]
     },
     "execution_count": 102,
     "metadata": {},
     "output_type": "execute_result"
    }
   ],
   "source": [
    "scipy.stats.ttest_ind(data[depression_mask][\"src_content_0_trained\"], data[~depression_mask][\"src_content_0_trained\"], equal_var=False, alternative=\"less\")"
   ]
  },
  {
   "cell_type": "markdown",
   "id": "95f34fc0",
   "metadata": {},
   "source": [
    "depressed individuals have a focused attention to unliked activities \n",
    "(ie, $\\beta_el$ depressed < 0) (after normalizing the liking and centering around 50) which is not "
   ]
  },
  {
   "cell_type": "code",
   "execution_count": 103,
   "id": "902af8a9",
   "metadata": {},
   "outputs": [
    {
     "data": {
      "text/plain": [
       "TtestResult(statistic=-0.732793018019748, pvalue=0.2337012695736042, df=46.0)"
      ]
     },
     "execution_count": 103,
     "metadata": {},
     "output_type": "execute_result"
    }
   ],
   "source": [
    "_data = data.copy()\n",
    "_data[\"null_src_edge_0_trained\"] = 0.0\n",
    "\n",
    "scipy.stats.ttest_ind(data[depression_mask][\"src_edge_0_trained\"], _data[depression_mask][\"null_src_edge_0_trained\"], equal_var=False, alternative=\"less\")"
   ]
  },
  {
   "cell_type": "code",
   "execution_count": 104,
   "id": "35874e0c",
   "metadata": {},
   "outputs": [
    {
     "data": {
      "text/plain": [
       "TtestResult(statistic=-0.05985941239121982, pvalue=0.9524807169046431, df=56.0)"
      ]
     },
     "execution_count": 104,
     "metadata": {},
     "output_type": "execute_result"
    }
   ],
   "source": [
    "_data = data.copy()\n",
    "_data[\"null_src_edge_0_trained\"] = 0.0\n",
    "scipy.stats.ttest_ind(data[~depression_mask][\"src_edge_0_trained\"], _data[~depression_mask][\"null_src_edge_0_trained\"], equal_var=False, alternative=\"two-sided\")"
   ]
  },
  {
   "cell_type": "code",
   "execution_count": 105,
   "id": "af3fccc4",
   "metadata": {},
   "outputs": [
    {
     "data": {
      "text/plain": [
       "TtestResult(statistic=-0.732793018019748, pvalue=0.4674025391472084, df=46.0)"
      ]
     },
     "execution_count": 105,
     "metadata": {},
     "output_type": "execute_result"
    }
   ],
   "source": [
    "# exploratory: but more likely to not be null that not depressed individuals\n",
    "scipy.stats.ttest_ind(data[depression_mask][\"src_edge_0_trained\"], _data[depression_mask][\"null_src_edge_0_trained\"], equal_var=False, alternative=\"two-sided\")"
   ]
  },
  {
   "cell_type": "code",
   "execution_count": 106,
   "id": "48fdeb24",
   "metadata": {},
   "outputs": [
    {
     "data": {
      "text/plain": [
       "TtestResult(statistic=-0.5117268057815736, pvalue=0.3050035302789734, df=96.84893162541552)"
      ]
     },
     "execution_count": 106,
     "metadata": {},
     "output_type": "execute_result"
    }
   ],
   "source": [
    "# exploratory: but more likely to not be less than not depressed individuals\n",
    "scipy.stats.ttest_ind(data[depression_mask][\"src_edge_0_trained\"], data[~depression_mask][\"src_edge_0_trained\"], equal_var=False, alternative=\"less\")"
   ]
  },
  {
   "cell_type": "markdown",
   "id": "781aa6ec",
   "metadata": {},
   "source": [
    "depressed individuals have a focused attention to similar activities compared to not depressed individuals "
   ]
  },
  {
   "cell_type": "code",
   "execution_count": 107,
   "id": "bbd98535",
   "metadata": {},
   "outputs": [
    {
     "data": {
      "text/plain": [
       "TtestResult(statistic=0.38393386743258007, pvalue=0.649068933834116, df=97.65565646471906)"
      ]
     },
     "execution_count": 107,
     "metadata": {},
     "output_type": "execute_result"
    }
   ],
   "source": [
    "scipy.stats.ttest_ind(data[depression_mask][\"edge_0_trained\"], data[~depression_mask][\"edge_0_trained\"], equal_var=False, alternative=\"less\")"
   ]
  },
  {
   "cell_type": "markdown",
   "id": "82ae8214",
   "metadata": {},
   "source": [
    "# Next steps"
   ]
  },
  {
   "cell_type": "markdown",
   "id": "1369b64b",
   "metadata": {},
   "source": [
    "Hyp:\n",
    "\n",
    "0 - underestimation: low bias x depression\n",
    "\n",
    "1 - narrow generalization in depth (vertical) (neg src_content x depression)\n",
    "\n",
    "2 - narrow generalization across (horizontal) (use of high edge_0_trained x depression = stick to similar, and high src_edge_0_trained -x depression = attention to negative stimuli)\n",
    "\n",
    "## \"2025-06-23_23-21__GAT_liking_sim_amp_3NN_3ExpNN_no_val\" \n",
    "\n",
    "Some preliminary results for src_content_0_trained (hyp 1) and bias_0_trained (hyp 0). Both negative, which foster India's first hypothesis.\n",
    "\n",
    "There is no use for edge_0_trained and src_edge_0_trained... This contradict hypothesis 2... It may not work for edge_0_trained because similarity is already low predictor of liking AND the graph structure is already constrained by similarity. Increasing the number of connections in the graph may change that pattern for both parameters.\n",
    "\n",
    "- (TODO): Do without leap and only 1st degree \n",
    "\n",
    "- (TODO): Increase number of connections not exp to exp\n",
    "\n",
    "It may not work for src_edge_0_trained because the other parameters are already doing the work... See without it.\n",
    "\n",
    "- TODO: n_not_experienced is used as moderator... Do a full mediation x moderation analysis to check the underlying structure\n",
    "\n",
    "depression => +n_not_experienced => +bias vs depression, (n_not_experienced) => +bias\n",
    "\n",
    "CAREFUL: even for those parameters, should check whether I can retrieve them on a same participant_graph from new initializations .\n",
    "\n",
    "- TODO: There are a lot of correlations between parameters. This is unwanted because it shows overidentification (two params that counteract / thwart each other). TODO: factor design to see which parameters are more essential.\n",
    "\n",
    "PCA didn't contradict the use of those 4 though.\n",
    "\n",
    "\n",
    "train_avg_MAE correlates with train_avg_MAE \"2025-06-07_15-31__GAT_LR-1.0_bias-True_att-liking-True_amp-liking-True_diss-liking-False_liking2d-False\" - (pearson 0.849 p<1e-3; spearman 0.856 p<1e-3)\n",
    "\n",
    "On average train_avg_MAE is improved of 0.051 compared to \"2025-06-07_15-31__GAT_LR-1.0_bias-True_att-liking-True_amp-liking-True_diss-liking-False_liking2d-False\"\n",
    "\n",
    "\n",
    "- TODO: check BIC (well same number of params)\n",
    "\n",
    "- TODO: train_avg_MAE as moderator + the fact that it increases the prediction of depressionCont may insist that for some participants that model is not good at all and those participants should be removed from the analysis.\n",
    "\n",
    "- TODO: check per participant which is the best model + detect outliers (come together because if baseline work, it's that they don't do anything and should be removed...) This will also clean the regression analysis.\n",
    "\n",
    "\n",
    "## Next model"
   ]
  },
  {
   "cell_type": "markdown",
   "id": "4c7ee243",
   "metadata": {},
   "source": []
  }
 ],
 "metadata": {
  "kernelspec": {
   "display_name": "venv_semantic_to_liking",
   "language": "python",
   "name": "python3"
  },
  "language_info": {
   "codemirror_mode": {
    "name": "ipython",
    "version": 3
   },
   "file_extension": ".py",
   "mimetype": "text/x-python",
   "name": "python",
   "nbconvert_exporter": "python",
   "pygments_lexer": "ipython3",
   "version": "3.10.12"
  }
 },
 "nbformat": 4,
 "nbformat_minor": 5
}
