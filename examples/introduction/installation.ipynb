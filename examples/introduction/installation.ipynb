{
 "cells": [
  {
   "cell_type": "code",
   "execution_count": 6,
   "metadata": {},
   "outputs": [
    {
     "name": "stdout",
     "output_type": "stream",
     "text": [
      "{'2.5.0+cu124'}\n"
     ]
    },
    {
     "data": {
      "text/plain": [
       "'\\n! pip install -q torch-scatter -f https://data.pyg.org/whl/torch-{torch.__version__}.html\\n! pip install -q torch-sparse -f https://data.pyg.org/whl/torch-{torch.__version__}.html\\n! pip install -q git+https://github.com/pyg-team/pytorch_geometric.git\\n'"
      ]
     },
     "execution_count": 6,
     "metadata": {},
     "output_type": "execute_result"
    }
   ],
   "source": [
    "import torch\n",
    "print({torch.__version__})\n",
    "\n",
    "\"\"\"\n",
    "! pip install -q torch-scatter -f https://data.pyg.org/whl/torch-{torch.__version__}.html\n",
    "! pip install -q torch-sparse -f https://data.pyg.org/whl/torch-{torch.__version__}.html\n",
    "! pip install -q git+https://github.com/pyg-team/pytorch_geometric.git\n",
    "\"\"\""
   ]
  }
 ],
 "metadata": {
  "kernelspec": {
   "display_name": "venv_semantic_to_liking",
   "language": "python",
   "name": "python3"
  },
  "language_info": {
   "codemirror_mode": {
    "name": "ipython",
    "version": 3
   },
   "file_extension": ".py",
   "mimetype": "text/x-python",
   "name": "python",
   "nbconvert_exporter": "python",
   "pygments_lexer": "ipython3",
   "version": "3.10.12"
  }
 },
 "nbformat": 4,
 "nbformat_minor": 2
}
