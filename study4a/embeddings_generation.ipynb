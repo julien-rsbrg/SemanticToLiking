{
 "cells": [
  {
   "cell_type": "code",
   "execution_count": null,
   "id": "b29243fc",
   "metadata": {},
   "outputs": [],
   "source": [
    "from sentence_transformers import SentenceTransformer\n",
    "\n",
    "model = SentenceTransformer('all-MiniLM-L6-v2')\n",
    "\n",
    "\"\"\"\n",
    "def create_embeddings(papers):\n",
    "    sentences = [\n",
    "        f\"{p['Summary']} {p['Methods']} {p['Results']}\" for p in papers.values()\n",
    "    ]\n",
    "    return np.array([model.encode(sent) for sent in sentences])\n",
    "\"\"\"\n",
    "\n",
    "def create_embeddings(text):\n",
    "    return model.encode(text)"
   ]
  },
  {
   "cell_type": "code",
   "execution_count": null,
   "id": "f6fbffd2",
   "metadata": {},
   "outputs": [
    {
     "data": {
      "text/plain": [
       "('senenceBERT_mpnet_similarity',\n",
       " 'senenceBERT_miniLM_similarity',\n",
       " 'sense2vec_similarity',\n",
       " 'gptLarge_similarity')"
      ]
     },
     "execution_count": 1,
     "metadata": {},
     "output_type": "execute_result"
    }
   ],
   "source": [
    "'senenceBERT_mpnet_similarity', 'senenceBERT_miniLM_similarity'"
   ]
  },
  {
   "cell_type": "markdown",
   "id": "2471e116",
   "metadata": {},
   "source": [
    "https://huggingface.co/sentence-transformers/all-mpnet-base-v2\n",
    "\n",
    "http://sbert.net/docs/sentence_transformer/pretrained_models.html#scientific-similarity-models"
   ]
  },
  {
   "cell_type": "code",
   "execution_count": null,
   "id": "84f22d99",
   "metadata": {},
   "outputs": [],
   "source": [
    "from src."
   ]
  }
 ],
 "metadata": {
  "kernelspec": {
   "display_name": "venv_semantic_to_liking",
   "language": "python",
   "name": "python3"
  },
  "language_info": {
   "codemirror_mode": {
    "name": "ipython",
    "version": 3
   },
   "file_extension": ".py",
   "mimetype": "text/x-python",
   "name": "python",
   "nbconvert_exporter": "python",
   "pygments_lexer": "ipython3",
   "version": "3.10.12"
  }
 },
 "nbformat": 4,
 "nbformat_minor": 5
}
