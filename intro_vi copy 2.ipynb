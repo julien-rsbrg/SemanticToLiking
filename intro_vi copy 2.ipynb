{
 "cells": [
  {
   "cell_type": "code",
   "execution_count": 1,
   "metadata": {},
   "outputs": [],
   "source": [
    "import numpy as np\n",
    "import torch\n",
    "from torch.autograd import Variable\n",
    "import matplotlib.pyplot as plt\n",
    "%matplotlib inline\n",
    "plt.style.use('ggplot')"
   ]
  },
  {
   "cell_type": "code",
   "execution_count": 93,
   "metadata": {},
   "outputs": [
    {
     "name": "stdout",
     "output_type": "stream",
     "text": [
      "(200, 1) (200, 2) (200, 2)\n",
      "[10 12] [[-20   5]]\n",
      "2\n"
     ]
    }
   ],
   "source": [
    "N = 200\n",
    "\n",
    "X = np.random.uniform(low=-50, high=50, size=(N, 2))\n",
    "G = np.random.randint(low=0,high=2,size=(N,1))\n",
    "alpha = np.array([10,12])\n",
    "beta = np.array([[-20,5]])\n",
    "eps = np.random.randn(N,2)\n",
    "MU = alpha + G@beta + eps\n",
    "\n",
    "T = (MU*X)@np.ones((2,1)) + 0*np.random.normal(size=(N, 1), scale=1)\n",
    "print(T.shape, X.shape, MU.shape)\n",
    "print(alpha,beta)\n",
    "print(len(np.unique(G)))"
   ]
  },
  {
   "cell_type": "code",
   "execution_count": 130,
   "metadata": {},
   "outputs": [
    {
     "data": {
      "text/plain": [
       "array([[  0,   0],\n",
       "       [-20,   5],\n",
       "       [  0,   0],\n",
       "       [  0,   0],\n",
       "       [-20,   5],\n",
       "       [  0,   0],\n",
       "       [-20,   5],\n",
       "       [-20,   5],\n",
       "       [  0,   0],\n",
       "       [  0,   0],\n",
       "       [  0,   0],\n",
       "       [-20,   5],\n",
       "       [  0,   0],\n",
       "       [-20,   5],\n",
       "       [-20,   5],\n",
       "       [-20,   5],\n",
       "       [  0,   0],\n",
       "       [-20,   5],\n",
       "       [  0,   0],\n",
       "       [  0,   0],\n",
       "       [  0,   0],\n",
       "       [-20,   5],\n",
       "       [-20,   5],\n",
       "       [-20,   5],\n",
       "       [-20,   5],\n",
       "       [-20,   5],\n",
       "       [-20,   5],\n",
       "       [  0,   0],\n",
       "       [-20,   5],\n",
       "       [-20,   5],\n",
       "       [-20,   5],\n",
       "       [-20,   5],\n",
       "       [-20,   5],\n",
       "       [-20,   5],\n",
       "       [  0,   0],\n",
       "       [-20,   5],\n",
       "       [  0,   0],\n",
       "       [  0,   0],\n",
       "       [  0,   0],\n",
       "       [-20,   5],\n",
       "       [-20,   5],\n",
       "       [  0,   0],\n",
       "       [-20,   5],\n",
       "       [-20,   5],\n",
       "       [  0,   0],\n",
       "       [  0,   0],\n",
       "       [-20,   5],\n",
       "       [  0,   0],\n",
       "       [  0,   0],\n",
       "       [-20,   5],\n",
       "       [  0,   0],\n",
       "       [  0,   0],\n",
       "       [-20,   5],\n",
       "       [-20,   5],\n",
       "       [-20,   5],\n",
       "       [-20,   5],\n",
       "       [-20,   5],\n",
       "       [-20,   5],\n",
       "       [-20,   5],\n",
       "       [  0,   0],\n",
       "       [-20,   5],\n",
       "       [-20,   5],\n",
       "       [-20,   5],\n",
       "       [-20,   5],\n",
       "       [-20,   5],\n",
       "       [-20,   5],\n",
       "       [-20,   5],\n",
       "       [-20,   5],\n",
       "       [-20,   5],\n",
       "       [-20,   5],\n",
       "       [  0,   0],\n",
       "       [-20,   5],\n",
       "       [  0,   0],\n",
       "       [-20,   5],\n",
       "       [-20,   5],\n",
       "       [-20,   5],\n",
       "       [-20,   5],\n",
       "       [  0,   0],\n",
       "       [  0,   0],\n",
       "       [  0,   0],\n",
       "       [  0,   0],\n",
       "       [  0,   0],\n",
       "       [  0,   0],\n",
       "       [-20,   5],\n",
       "       [  0,   0],\n",
       "       [-20,   5],\n",
       "       [-20,   5],\n",
       "       [-20,   5],\n",
       "       [  0,   0],\n",
       "       [-20,   5],\n",
       "       [  0,   0],\n",
       "       [  0,   0],\n",
       "       [-20,   5],\n",
       "       [-20,   5],\n",
       "       [  0,   0],\n",
       "       [  0,   0],\n",
       "       [  0,   0],\n",
       "       [-20,   5],\n",
       "       [  0,   0],\n",
       "       [-20,   5],\n",
       "       [  0,   0],\n",
       "       [-20,   5],\n",
       "       [-20,   5],\n",
       "       [-20,   5],\n",
       "       [  0,   0],\n",
       "       [  0,   0],\n",
       "       [  0,   0],\n",
       "       [  0,   0],\n",
       "       [  0,   0],\n",
       "       [-20,   5],\n",
       "       [  0,   0],\n",
       "       [-20,   5],\n",
       "       [-20,   5],\n",
       "       [-20,   5],\n",
       "       [-20,   5],\n",
       "       [-20,   5],\n",
       "       [  0,   0],\n",
       "       [  0,   0],\n",
       "       [-20,   5],\n",
       "       [  0,   0],\n",
       "       [-20,   5],\n",
       "       [  0,   0],\n",
       "       [-20,   5],\n",
       "       [  0,   0],\n",
       "       [  0,   0],\n",
       "       [  0,   0],\n",
       "       [  0,   0],\n",
       "       [  0,   0],\n",
       "       [-20,   5],\n",
       "       [  0,   0],\n",
       "       [-20,   5],\n",
       "       [-20,   5],\n",
       "       [  0,   0],\n",
       "       [-20,   5],\n",
       "       [  0,   0],\n",
       "       [-20,   5],\n",
       "       [  0,   0],\n",
       "       [  0,   0],\n",
       "       [  0,   0],\n",
       "       [  0,   0],\n",
       "       [-20,   5],\n",
       "       [  0,   0],\n",
       "       [  0,   0],\n",
       "       [-20,   5],\n",
       "       [-20,   5],\n",
       "       [  0,   0],\n",
       "       [-20,   5],\n",
       "       [-20,   5],\n",
       "       [  0,   0],\n",
       "       [-20,   5],\n",
       "       [  0,   0],\n",
       "       [-20,   5],\n",
       "       [  0,   0],\n",
       "       [-20,   5],\n",
       "       [-20,   5],\n",
       "       [-20,   5],\n",
       "       [-20,   5],\n",
       "       [  0,   0],\n",
       "       [-20,   5],\n",
       "       [  0,   0],\n",
       "       [  0,   0],\n",
       "       [  0,   0],\n",
       "       [-20,   5],\n",
       "       [  0,   0],\n",
       "       [-20,   5],\n",
       "       [  0,   0],\n",
       "       [  0,   0],\n",
       "       [-20,   5],\n",
       "       [  0,   0],\n",
       "       [-20,   5],\n",
       "       [-20,   5],\n",
       "       [-20,   5],\n",
       "       [-20,   5],\n",
       "       [-20,   5],\n",
       "       [-20,   5],\n",
       "       [  0,   0],\n",
       "       [  0,   0],\n",
       "       [-20,   5],\n",
       "       [-20,   5],\n",
       "       [  0,   0],\n",
       "       [-20,   5],\n",
       "       [  0,   0],\n",
       "       [  0,   0],\n",
       "       [  0,   0],\n",
       "       [-20,   5],\n",
       "       [-20,   5],\n",
       "       [  0,   0],\n",
       "       [  0,   0],\n",
       "       [-20,   5],\n",
       "       [  0,   0],\n",
       "       [  0,   0],\n",
       "       [-20,   5],\n",
       "       [-20,   5],\n",
       "       [  0,   0],\n",
       "       [-20,   5],\n",
       "       [-20,   5],\n",
       "       [  0,   0],\n",
       "       [  0,   0],\n",
       "       [  0,   0],\n",
       "       [  0,   0]])"
      ]
     },
     "execution_count": 130,
     "metadata": {},
     "output_type": "execute_result"
    }
   ],
   "source": [
    "G@beta"
   ]
  },
  {
   "cell_type": "code",
   "execution_count": 87,
   "metadata": {},
   "outputs": [
    {
     "name": "stdout",
     "output_type": "stream",
     "text": [
      "-0.3782185694497008\n",
      "-0.8824334834892069\n"
     ]
    },
    {
     "data": {
      "text/plain": [
       "<matplotlib.collections.PathCollection at 0x739db79f0fd0>"
      ]
     },
     "execution_count": 87,
     "metadata": {},
     "output_type": "execute_result"
    },
    {
     "data": {
      "image/png": "[encoded data removed]",
      "text/plain": [
       "<Figure size 640x480 with 1 Axes>"
      ]
     },
     "metadata": {},
     "output_type": "display_data"
    }
   ],
   "source": [
    "import scipy.stats\n",
    "\n",
    "print(MU[:,0].mean())\n",
    "result = scipy.stats.linregress(X[:,0], T[:,0])\n",
    "print(result.slope)\n",
    "plt.scatter(X[G[:,0]==0,0],T[G[:,0]==0])\n",
    "plt.scatter(X[G[:,0]==1,0],T[G[:,0]==1])"
   ]
  },
  {
   "cell_type": "code",
   "execution_count": 88,
   "metadata": {},
   "outputs": [
    {
     "name": "stdout",
     "output_type": "stream",
     "text": [
      "14.651749828650757\n",
      "14.671514201397304\n"
     ]
    },
    {
     "data": {
      "text/plain": [
       "<matplotlib.collections.PathCollection at 0x739db6547ee0>"
      ]
     },
     "execution_count": 88,
     "metadata": {},
     "output_type": "execute_result"
    },
    {
     "data": {
      "image/png": "[encoded data removed]",
      "text/plain": [
       "<Figure size 640x480 with 1 Axes>"
      ]
     },
     "metadata": {},
     "output_type": "display_data"
    }
   ],
   "source": [
    "print(MU[:,1].mean())\n",
    "result = scipy.stats.linregress(X[:,1], T[:,0])\n",
    "print(result.slope)\n",
    "plt.scatter(X[G[:,0]==0,1],T[G[:,0]==0])\n",
    "plt.scatter(X[G[:,0]==1,1],T[G[:,0]==1])"
   ]
  },
  {
   "cell_type": "code",
   "execution_count": 89,
   "metadata": {},
   "outputs": [],
   "source": [
    "def log_norm(x, mu, std):\n",
    "    \"\"\"Compute the log pdf of x,\n",
    "    under a normal distribution with mean mu and standard deviation std.\"\"\"\n",
    "    \n",
    "    return -0.5 * torch.log(2*np.pi*std**2) -(0.5 * (1/(std**2))* (x-mu)**2)"
   ]
  },
  {
   "cell_type": "code",
   "execution_count": 117,
   "metadata": {},
   "outputs": [],
   "source": [
    "class VI2LevelModule(torch.nn.Module):\n",
    "    def __init__(self,\n",
    "                 in_features,\n",
    "                 out_features,\n",
    "                 n_groups):\n",
    "        super(VI2LevelModule, self).__init__()\n",
    "        self.n_latent = 100 # Number of latent samples\n",
    "        self.softplus = torch.nn.Softplus()\n",
    "        self.in_features = in_features\n",
    "        self.out_features = out_features\n",
    "        self.n_groups = n_groups\n",
    "        \n",
    "        #The parameters we adjust during training.\n",
    "        self.group_to_params = []\n",
    "\n",
    "        self.mu_m = torch.nn.Parameter(torch.randn(in_features,out_features), requires_grad=True)\n",
    "        self.mu_s = torch.nn.Parameter(torch.randn(in_features,out_features), requires_grad=True)\n",
    "\n",
    "        self.tau = torch.nn.Parameter(torch.randn(in_features,out_features), requires_grad=True)\n",
    "\n",
    "        self.sigma = torch.nn.Parameter(torch.randn(in_features,out_features), requires_grad=True)\n",
    "\n",
    "        for _ in range(self.n_groups):\n",
    "            mu_j = torch.nn.Parameter(torch.randn(in_features,out_features), requires_grad=True)\n",
    "            self.group_to_params.append({\"mu\":mu_j})\n",
    "            \n",
    "        \n",
    "        #create holders for prior mean and std, and likelihood std.\n",
    "        self.prior_mu_m = Variable(torch.randn(in_features,out_features), requires_grad=False)\n",
    "        self.prior_mu_s = Variable(torch.randn(in_features,out_features), requires_grad=False)\n",
    "\n",
    "        self.likelihood_s = Variable(torch.FloatTensor((1)), requires_grad=False)\n",
    "        \n",
    "        #Set the prior and likelihood moments.\n",
    "        self.prior_mu_m.data.fill_(11.0)\n",
    "        self.prior_mu_s.data.fill_(2)\n",
    "\n",
    "        self.likelihood_s.data.fill_(5.5)\n",
    "     \n",
    "        \n",
    "    def generate_rand(self):\n",
    "        return np.random.normal(size=(self.n_latent,self.in_features,self.out_features))\n",
    "    \n",
    "    def reparam(self):\n",
    "        sampled_group_to_params = []\n",
    "        \n",
    "        eps_mu = self.generate_rand()\n",
    "        eps_mu = Variable(torch.FloatTensor(eps_mu))\n",
    "        sampled_mu = (eps_mu*self.softplus(self.mu_s)).add(self.mu_m) # TODO learn mu, mu_s\n",
    "\n",
    "        for j in range(self.n_groups):\n",
    "            eps_mu_j = self.generate_rand()\n",
    "            eps_mu_j = Variable(torch.FloatTensor(eps_mu_j))\n",
    "            sampled_mu_j = (eps_mu_j*self.softplus(self.tau)).add(self.group_to_params[j][\"mu\"])\n",
    "\n",
    "            eps_theta_j = self.generate_rand()\n",
    "            eps_theta_j = Variable(torch.FloatTensor(eps_theta_j))\n",
    "            sampled_theta_j = (eps_theta_j*self.softplus(self.sigma)).add(sampled_mu_j)\n",
    "\n",
    "            sampled_group_to_params.append({\"mu\":sampled_mu_j,\"theta\":sampled_theta_j})\n",
    "\n",
    "        return  sampled_mu, sampled_group_to_params\n",
    "    \n",
    "    def compute_elbo(self, x, t, groups_mask):\n",
    "        sampled_mu, sampled_group_to_params = self.reparam()\n",
    "\n",
    "        elbo = 0\n",
    "        # level 1\n",
    "        for j in range(self.n_groups):\n",
    "            q_likelihood = log_norm(sampled_group_to_params[j][\"theta\"], sampled_group_to_params[j][\"mu\"], self.softplus(self.sigma))\n",
    "            q_likelihood = torch.mean(q_likelihood)\n",
    "\n",
    "            prior = log_norm(sampled_group_to_params[j][\"mu\"], sampled_mu, self.softplus(self.tau))\n",
    "            prior = torch.mean(prior)\n",
    "\n",
    "            preds = torch.einsum(\"ij,kjl->kil\",x[groups_mask == j],sampled_group_to_params[j][\"theta\"])\n",
    "            likelihood = torch.mean(torch.sum(log_norm(t[groups_mask == j], preds, self.likelihood_s), 0))\n",
    "            \n",
    "            kld_mc = q_likelihood - prior\n",
    "            elbo += likelihood - kld_mc\n",
    "\n",
    "        # level 2\n",
    "        q_likelihood = log_norm(sampled_mu, self.mu_m, self.softplus(self.mu_s))\n",
    "        q_likelihood = torch.mean(q_likelihood)\n",
    "\n",
    "        prior = log_norm(sampled_mu, self.prior_mu_m, self.softplus(self.prior_mu_s))\n",
    "        prior = torch.mean(prior)\n",
    "        \n",
    "        kld_mc = q_likelihood - prior\n",
    "        elbo += 0 - kld_mc # no likelihood\n",
    "\n",
    "        return elbo"
   ]
  },
  {
   "cell_type": "code",
   "execution_count": 114,
   "metadata": {},
   "outputs": [],
   "source": [
    "x = torch.randn(10,2)\n",
    "z = torch.randn(5,2,1)\n",
    "res = torch.einsum(\"ij,kjl->kil\",x,z)\n",
    "\n",
    "for k in range(z.size(0)):\n",
    "    for i in range(x.size(0)):\n",
    "        res_man = x[i] @ z[k]\n",
    "        assert torch.allclose(res[k,i],res_man)\n",
    "\n"
   ]
  },
  {
   "cell_type": "code",
   "execution_count": 118,
   "metadata": {},
   "outputs": [
    {
     "name": "stdout",
     "output_type": "stream",
     "text": [
      "2\n",
      "[array([[-0.07036452],\n",
      "       [ 0.9685048 ]], dtype=float32), array([[-0.07085185],\n",
      "       [ 0.34330902]], dtype=float32)]\n",
      "[[-0.47332436]\n",
      " [-1.1185145 ]]\n",
      "[[-1.0535669 ]\n",
      " [ 0.09815219]]\n",
      "[[0.05312414]\n",
      " [0.02885023]]\n",
      "[[0.07866812]\n",
      " [0.16101171]]\n",
      "[array([[-0.07036452],\n",
      "       [ 0.9685048 ]], dtype=float32), array([[-0.07085185],\n",
      "       [ 0.34330902]], dtype=float32)]\n",
      "[[-0.07864755]\n",
      " [ 0.65130043]]\n",
      "[[-2.702107]\n",
      " [-3.296366]]\n",
      "[[0.0001773 ]\n",
      " [0.00129887]]\n",
      "[[0.00511573]\n",
      " [0.0032602 ]]\n",
      "[array([[-0.07036452],\n",
      "       [ 0.9685048 ]], dtype=float32), array([[-0.07085185],\n",
      "       [ 0.34330902]], dtype=float32)]\n",
      "[[-0.07168484]\n",
      " [ 0.683173  ]]\n",
      "[[-4.8062572]\n",
      " [-3.0114326]]\n",
      "[[3.7946247e-05]\n",
      " [1.0414491e-04]]\n",
      "[[0.00014977]\n",
      " [0.00432505]]\n",
      "[array([[-0.07036452],\n",
      "       [ 0.9685048 ]], dtype=float32), array([[-0.07085185],\n",
      "       [ 0.34330902]], dtype=float32)]\n",
      "[[-0.06461807]\n",
      " [ 0.64709806]]\n",
      "[[-4.941287 ]\n",
      " [-3.3405163]]\n",
      "[[1.8680021e-04]\n",
      " [3.7634880e-05]]\n",
      "[[7.7393648e-05]\n",
      " [2.0179374e-03]]\n",
      "[array([[-0.07036452],\n",
      "       [ 0.9685048 ]], dtype=float32), array([[-0.07085185],\n",
      "       [ 0.34330902]], dtype=float32)]\n",
      "[[-0.06206776]\n",
      " [ 0.6618228 ]]\n",
      "[[-5.0007315]\n",
      " [-3.161898 ]]\n",
      "[[1.5233085e-05]\n",
      " [8.7469649e-05]]\n",
      "[[8.6639244e-05]\n",
      " [4.7633853e-03]]\n",
      "[array([[-0.07036452],\n",
      "       [ 0.9685048 ]], dtype=float32), array([[-0.07085185],\n",
      "       [ 0.34330902]], dtype=float32)]\n",
      "[[-0.07065707]\n",
      " [ 0.6599993 ]]\n",
      "[[-3.734341 ]\n",
      " [-3.0451343]]\n",
      "[[2.7923143e-05]\n",
      " [8.1188060e-05]]\n",
      "[[0.00080677]\n",
      " [0.00302807]]\n",
      "[array([[-0.07036452],\n",
      "       [ 0.9685048 ]], dtype=float32), array([[-0.07085185],\n",
      "       [ 0.34330902]], dtype=float32)]\n",
      "[[-0.06334993]\n",
      " [ 0.66878283]]\n",
      "[[-4.4887824]\n",
      " [-2.897242 ]]\n",
      "[[1.1584574e-05]\n",
      " [8.4514541e-05]]\n",
      "[[0.00028082]\n",
      " [0.00545957]]\n",
      "[array([[-0.07036452],\n",
      "       [ 0.9685048 ]], dtype=float32), array([[-0.07085185],\n",
      "       [ 0.34330902]], dtype=float32)]\n",
      "[[-0.07960773]\n",
      " [ 0.6549545 ]]\n",
      "[[-3.7562225]\n",
      " [-3.1119518]]\n",
      "[[2.9782435e-05]\n",
      " [3.5677986e-05]]\n",
      "[[0.00101749]\n",
      " [0.00245503]]\n",
      "[array([[-0.07036452],\n",
      "       [ 0.9685048 ]], dtype=float32), array([[-0.07085185],\n",
      "       [ 0.34330902]], dtype=float32)]\n",
      "[[-0.06503631]\n",
      " [ 0.6695498 ]]\n",
      "[[-5.177066 ]\n",
      " [-2.8413453]]\n",
      "[[1.0310418e-04]\n",
      " [5.3285079e-05]]\n",
      "[[5.4950233e-05]\n",
      " [5.2247783e-03]]\n",
      "[array([[-0.07036452],\n",
      "       [ 0.9685048 ]], dtype=float32), array([[-0.07085185],\n",
      "       [ 0.34330902]], dtype=float32)]\n",
      "[[-0.07971917]\n",
      " [ 0.66272783]]\n",
      "[[-5.1422577]\n",
      " [-3.0336661]]\n",
      "[[1.2182701e-05]\n",
      " [4.7342091e-05]]\n",
      "[[6.226984e-05]\n",
      " [4.322850e-03]]\n",
      "[array([[-0.07036452],\n",
      "       [ 0.9685048 ]], dtype=float32), array([[-0.07085185],\n",
      "       [ 0.34330902]], dtype=float32)]\n",
      "[[-0.06079302]\n",
      " [ 0.6517444 ]]\n",
      "[[-5.7589617]\n",
      " [-3.385784 ]]\n",
      "[[5.7394998e-05]\n",
      " [2.9542578e-05]]\n",
      "[[2.4544266e-05]\n",
      " [2.9268663e-03]]\n",
      "[array([[-0.07036452],\n",
      "       [ 0.9685048 ]], dtype=float32), array([[-0.07085185],\n",
      "       [ 0.34330902]], dtype=float32)]\n",
      "[[-0.07087438]\n",
      " [ 0.66479355]]\n",
      "[[-5.8996534]\n",
      " [-3.360839 ]]\n",
      "[[7.0892206e-06]\n",
      " [1.6184658e-04]]\n",
      "[[3.2741853e-05]\n",
      " [1.7672108e-03]]\n"
     ]
    }
   ],
   "source": [
    "c = VI2LevelModule(\n",
    "    in_features = 2,\n",
    "    out_features = 1,\n",
    "    n_groups = len(np.unique(G)))\n",
    "print(c.n_groups)\n",
    "\n",
    "optimizer = torch.optim.Adam(c.parameters(),lr=0.2)\n",
    "x = Variable(torch.Tensor(X), requires_grad=False) \n",
    "group_mask = Variable(torch.Tensor(G).squeeze(), requires_grad=False)\n",
    "t = Variable(torch.Tensor(T), requires_grad=False)\n",
    "\n",
    "for i in range(3000):\n",
    "    loss = -c.compute_elbo(x, t, group_mask)\n",
    "    optimizer.zero_grad()\n",
    "    loss.backward(retain_graph=True)\n",
    "    optimizer.step()\n",
    "    if i % 250 ==0:\n",
    "        print([c.group_to_params[i][\"mu\"].data.numpy() for i in range(c.n_groups)])\n",
    "        print(c.mu_m.data.numpy())\n",
    "        print(c.mu_s.data.numpy())\n",
    "        print((c.softplus(c.sigma).data**2).numpy())\n",
    "        print((c.softplus(c.tau).data**2).numpy())"
   ]
  },
  {
   "cell_type": "code",
   "execution_count": 129,
   "metadata": {},
   "outputs": [
    {
     "data": {
      "text/plain": [
       "[{'mu': Parameter containing:\n",
       "  tensor([[-0.0704],\n",
       "          [ 0.9685]], requires_grad=True)},\n",
       " {'mu': Parameter containing:\n",
       "  tensor([[-0.0709],\n",
       "          [ 0.3433]], requires_grad=True)}]"
      ]
     },
     "execution_count": 129,
     "metadata": {},
     "output_type": "execute_result"
    }
   ],
   "source": [
    "c.group_to_params"
   ]
  },
  {
   "cell_type": "code",
   "execution_count": 128,
   "metadata": {},
   "outputs": [
    {
     "data": {
      "text/plain": [
       "array([[ 10,  12],\n",
       "       [-10,  17]])"
      ]
     },
     "execution_count": 128,
     "metadata": {},
     "output_type": "execute_result"
    }
   ],
   "source": [
    "alpha + np.array([[0],[1]])@beta "
   ]
  },
  {
   "cell_type": "code",
   "execution_count": 121,
   "metadata": {},
   "outputs": [
    {
     "data": {
      "text/plain": [
       "array([[  -3327.00298625],\n",
       "       [3100652.28230561]])"
      ]
     },
     "execution_count": 121,
     "metadata": {},
     "output_type": "execute_result"
    }
   ],
   "source": [
    "X.T @ T"
   ]
  },
  {
   "cell_type": "code",
   "execution_count": 122,
   "metadata": {},
   "outputs": [
    {
     "data": {
      "text/plain": [
       "(array([[251.08814298],\n",
       "        [ 16.81230335]]),\n",
       " array([[-0.07122659],\n",
       "        [ 0.6527577 ]], dtype=float32))"
      ]
     },
     "execution_count": 122,
     "metadata": {},
     "output_type": "execute_result"
    }
   ],
   "source": [
    "analytical_posterior_mean = analytical_posterior_var@(0.9+((1/5.5**2)*X.T @ T))\n",
    "analytical_posterior_mean, c.mu_m.data.numpy()"
   ]
  },
  {
   "cell_type": "code",
   "execution_count": 77,
   "metadata": {},
   "outputs": [
    {
     "data": {
      "text/plain": [
       "(2, 1)"
      ]
     },
     "execution_count": 77,
     "metadata": {},
     "output_type": "execute_result"
    }
   ],
   "source": [
    "analytical_posterior_mean.shape"
   ]
  },
  {
   "cell_type": "code",
   "execution_count": 89,
   "metadata": {},
   "outputs": [
    {
     "data": {
      "text/plain": [
       "<matplotlib.legend.Legend at 0x78da3898d930>"
      ]
     },
     "execution_count": 89,
     "metadata": {},
     "output_type": "execute_result"
    },
    {
     "data": {
      "image/png": "[encoded data removed]",
      "text/plain": [
       "<Figure size 640x480 with 1 Axes>"
      ]
     },
     "metadata": {},
     "output_type": "display_data"
    }
   ],
   "source": [
    "from scipy.stats import norm\n",
    "param_in, param_out = 1,0\n",
    "xn = np.arange(-5.5, -4.8, 0.0001)\n",
    "true_dist = norm(loc = -5, \n",
    "                 scale =(analytical_posterior_var[param_in, param_in])**0.5)\n",
    "q_dist = norm(loc = c.qm[param_in, param_out].data.numpy(), scale = c.softplus(c.qs[param_in, param_out]).data.numpy())\n",
    "yn = true_dist.pdf(xn).ravel()\n",
    "plt.plot(xn, yn, linewidth=3, label=\"True Posterior\")\n",
    "plt.plot(xn, q_dist.pdf(xn).ravel(), '--', linewidth=3,\n",
    "         label=\"Approximation\")\n",
    "plt.legend()"
   ]
  },
  {
   "cell_type": "code",
   "execution_count": 83,
   "metadata": {},
   "outputs": [
    {
     "data": {
      "text/plain": [
       "array([nan, nan, nan, ..., nan, nan, nan])"
      ]
     },
     "execution_count": 83,
     "metadata": {},
     "output_type": "execute_result"
    }
   ],
   "source": [
    "yn"
   ]
  }
 ],
 "metadata": {
  "kernelspec": {
   "display_name": "venv_semantic_to_liking",
   "language": "python",
   "name": "python3"
  },
  "language_info": {
   "codemirror_mode": {
    "name": "ipython",
    "version": 3
   },
   "file_extension": ".py",
   "mimetype": "text/x-python",
   "name": "python",
   "nbconvert_exporter": "python",
   "pygments_lexer": "ipython3",
   "version": "3.10.12"
  }
 },
 "nbformat": 4,
 "nbformat_minor": 2
}
